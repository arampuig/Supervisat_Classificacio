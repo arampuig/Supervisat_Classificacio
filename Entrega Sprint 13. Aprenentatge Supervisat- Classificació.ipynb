{
 "cells": [
  {
   "cell_type": "markdown",
   "id": "90570cbc",
   "metadata": {},
   "source": [
    "##### Objectius:\n",
    "- Arbres de classificació\n",
    "- KNN - k-Nearest Neighbors\n",
    "- Regressió Logística\n",
    "- Support Vector Machine\n",
    "- XGboost"
   ]
  },
  {
   "cell_type": "markdown",
   "id": "d2fa6206",
   "metadata": {},
   "source": [
    "Anem a practicar i a familiaritzar-nos amb algoritmes de classificació."
   ]
  },
  {
   "cell_type": "markdown",
   "id": "37f291c0",
   "metadata": {},
   "source": [
    "### Nivell 1 \n",
    "\n",
    "\n",
    "#### - Exercici 1\n",
    "Crea almenys tres models de classificació diferents per intentar predir el millor possible l’endarreriment dels vols (ArrDelay) de DelayedFlights.csv. Considera si el vol ha arribat tard o no (ArrDelay > 0).  \n",
    "\n",
    "### Nivell 3  \n",
    "(incorporat a tota la tasca)\n",
    "\n",
    "#### - Exercici 6\n",
    "No utilitzis la variable DepDelay a l’hora de fer prediccions"
   ]
  },
  {
   "cell_type": "markdown",
   "id": "bd5563da",
   "metadata": {},
   "source": [
    "### Introducció  \n",
    "\n",
    "Farem tots els exercicis però els executarem en un ordre diferent. Si deixéssim la variable DepDelay, o fins i tot eliminant DepDelay però deixant la resta de variables altament relacionades amb ArrDelay i DepDelay, tindriem unes prediccions gairebé perfectes, 'massa bones per ser reals'. Per aquest motiu, hem decidit treballar sense DepDeplay des del principi, per tenir una sensació més pròxima a un problema real.  \n",
    "\n",
    "Començarem amb l'objectiu de predir quins vols arriben endarrerits i quins a l'hora programada ('On Time'). Un vol es considera 'On Time' si arriba menys de 15 minuts tard de l'hora progrmada (CRS). Així els dividirem en dos classes:\n",
    "\n",
    "- No Delayed (on time)  = Arrival Delay < 15 min. \n",
    "- Delayed = Arrival Delay > 15 min. \n",
    "\n",
    "Per fer-ho farem servir diferents algoritmes que compararem inicialment sense fer Hyperparameter tunning ni massa enginyeria de variables. Més endavant treballarem amb altres divisions dels endarreriments, imbalanced data tot comparant la performance dels diferents algoritmes de classificació.\n"
   ]
  },
  {
   "cell_type": "code",
   "execution_count": 1,
   "id": "16bd92d4",
   "metadata": {
    "ExecuteTime": {
     "end_time": "2021-06-08T16:06:57.291955Z",
     "start_time": "2021-06-08T16:06:50.106689Z"
    }
   },
   "outputs": [],
   "source": [
    "# Llibreries per la tasca\n",
    "\n",
    "import pandas as pd\n",
    "import numpy as np\n",
    "import matplotlib.pyplot as plt\n",
    "from seaborn import heatmap\n",
    "import math\n",
    "from sklearn import preprocessing\n",
    "from sklearn.preprocessing import StandardScaler\n",
    "from sklearn.model_selection import train_test_split\n",
    "from sklearn.preprocessing import LabelEncoder\n",
    "from sklearn.metrics import classification_report, confusion_matrix\n",
    "from sklearn import metrics\n",
    "from sklearn.metrics import f1_score\n",
    "from sklearn.metrics import recall_score\n",
    "from sklearn.metrics import plot_confusion_matrix\n",
    "from sklearn.ensemble import RandomForestClassifier\n",
    "from sklearn.tree import DecisionTreeClassifier\n",
    "from sklearn.neighbors import KNeighborsClassifier\n",
    "from sklearn.linear_model import LogisticRegression\n",
    "from sklearn import svm\n",
    "import xgboost as xgb\n",
    "from sklearn.naive_bayes import GaussianNB\n",
    "from sklearn.neural_network import MLPClassifier\n",
    "from sklearn.decomposition import PCA\n",
    "from sklearn.utils import resample\n",
    "from imblearn.over_sampling import SMOTE\n",
    "from sklearn import model_selection\n",
    "from imblearn.pipeline import Pipeline\n",
    "from sklearn.model_selection import RepeatedStratifiedKFold\n",
    "from sklearn.model_selection import GridSearchCV\n",
    "\n",
    "import warnings\n",
    "warnings.filterwarnings(\"ignore\")\n",
    "from statsmodels.stats.outliers_influence import variance_inflation_factor\n",
    "from pandas_profiling import ProfileReport\n",
    "\n",
    "pd.set_option('display.max_rows', 500)\n",
    "pd.set_option('display.max_columns', 500)\n",
    "pd.set_option('display.width', 1000)"
   ]
  },
  {
   "cell_type": "code",
   "execution_count": 2,
   "id": "d2e90d8d",
   "metadata": {
    "ExecuteTime": {
     "end_time": "2021-06-08T16:07:05.029856Z",
     "start_time": "2021-06-08T16:06:57.294947Z"
    },
    "scrolled": true
   },
   "outputs": [],
   "source": [
    "df = pd.read_csv('DelayedFlights.csv')"
   ]
  },
  {
   "cell_type": "code",
   "execution_count": 3,
   "id": "aa82e2d4",
   "metadata": {
    "ExecuteTime": {
     "end_time": "2021-06-08T16:07:05.061099Z",
     "start_time": "2021-06-08T16:07:05.029856Z"
    }
   },
   "outputs": [
    {
     "name": "stdout",
     "output_type": "stream",
     "text": [
      "<class 'pandas.core.frame.DataFrame'>\n",
      "RangeIndex: 1936758 entries, 0 to 1936757\n",
      "Data columns (total 30 columns):\n",
      " #   Column             Dtype  \n",
      "---  ------             -----  \n",
      " 0   Unnamed: 0         int64  \n",
      " 1   Year               int64  \n",
      " 2   Month              int64  \n",
      " 3   DayofMonth         int64  \n",
      " 4   DayOfWeek          int64  \n",
      " 5   DepTime            float64\n",
      " 6   CRSDepTime         int64  \n",
      " 7   ArrTime            float64\n",
      " 8   CRSArrTime         int64  \n",
      " 9   UniqueCarrier      object \n",
      " 10  FlightNum          int64  \n",
      " 11  TailNum            object \n",
      " 12  ActualElapsedTime  float64\n",
      " 13  CRSElapsedTime     float64\n",
      " 14  AirTime            float64\n",
      " 15  ArrDelay           float64\n",
      " 16  DepDelay           float64\n",
      " 17  Origin             object \n",
      " 18  Dest               object \n",
      " 19  Distance           int64  \n",
      " 20  TaxiIn             float64\n",
      " 21  TaxiOut            float64\n",
      " 22  Cancelled          int64  \n",
      " 23  CancellationCode   object \n",
      " 24  Diverted           int64  \n",
      " 25  CarrierDelay       float64\n",
      " 26  WeatherDelay       float64\n",
      " 27  NASDelay           float64\n",
      " 28  SecurityDelay      float64\n",
      " 29  LateAircraftDelay  float64\n",
      "dtypes: float64(14), int64(11), object(5)\n",
      "memory usage: 443.3+ MB\n"
     ]
    }
   ],
   "source": [
    "df.info()"
   ]
  },
  {
   "cell_type": "code",
   "execution_count": 4,
   "id": "aba65be8",
   "metadata": {
    "ExecuteTime": {
     "end_time": "2021-06-08T16:07:05.139206Z",
     "start_time": "2021-06-08T16:07:05.061099Z"
    }
   },
   "outputs": [
    {
     "data": {
      "text/html": [
       "<div>\n",
       "<style scoped>\n",
       "    .dataframe tbody tr th:only-of-type {\n",
       "        vertical-align: middle;\n",
       "    }\n",
       "\n",
       "    .dataframe tbody tr th {\n",
       "        vertical-align: top;\n",
       "    }\n",
       "\n",
       "    .dataframe thead th {\n",
       "        text-align: right;\n",
       "    }\n",
       "</style>\n",
       "<table border=\"1\" class=\"dataframe\">\n",
       "  <thead>\n",
       "    <tr style=\"text-align: right;\">\n",
       "      <th></th>\n",
       "      <th>Unnamed: 0</th>\n",
       "      <th>Year</th>\n",
       "      <th>Month</th>\n",
       "      <th>DayofMonth</th>\n",
       "      <th>DayOfWeek</th>\n",
       "      <th>DepTime</th>\n",
       "      <th>CRSDepTime</th>\n",
       "      <th>ArrTime</th>\n",
       "      <th>CRSArrTime</th>\n",
       "      <th>UniqueCarrier</th>\n",
       "      <th>FlightNum</th>\n",
       "      <th>TailNum</th>\n",
       "      <th>ActualElapsedTime</th>\n",
       "      <th>CRSElapsedTime</th>\n",
       "      <th>AirTime</th>\n",
       "      <th>ArrDelay</th>\n",
       "      <th>DepDelay</th>\n",
       "      <th>Origin</th>\n",
       "      <th>Dest</th>\n",
       "      <th>Distance</th>\n",
       "      <th>TaxiIn</th>\n",
       "      <th>TaxiOut</th>\n",
       "      <th>Cancelled</th>\n",
       "      <th>CancellationCode</th>\n",
       "      <th>Diverted</th>\n",
       "      <th>CarrierDelay</th>\n",
       "      <th>WeatherDelay</th>\n",
       "      <th>NASDelay</th>\n",
       "      <th>SecurityDelay</th>\n",
       "      <th>LateAircraftDelay</th>\n",
       "    </tr>\n",
       "  </thead>\n",
       "  <tbody>\n",
       "    <tr>\n",
       "      <th>0</th>\n",
       "      <td>0</td>\n",
       "      <td>2008</td>\n",
       "      <td>1</td>\n",
       "      <td>3</td>\n",
       "      <td>4</td>\n",
       "      <td>2003.0</td>\n",
       "      <td>1955</td>\n",
       "      <td>2211.0</td>\n",
       "      <td>2225</td>\n",
       "      <td>WN</td>\n",
       "      <td>335</td>\n",
       "      <td>N712SW</td>\n",
       "      <td>128.0</td>\n",
       "      <td>150.0</td>\n",
       "      <td>116.0</td>\n",
       "      <td>-14.0</td>\n",
       "      <td>8.0</td>\n",
       "      <td>IAD</td>\n",
       "      <td>TPA</td>\n",
       "      <td>810</td>\n",
       "      <td>4.0</td>\n",
       "      <td>8.0</td>\n",
       "      <td>0</td>\n",
       "      <td>N</td>\n",
       "      <td>0</td>\n",
       "      <td>NaN</td>\n",
       "      <td>NaN</td>\n",
       "      <td>NaN</td>\n",
       "      <td>NaN</td>\n",
       "      <td>NaN</td>\n",
       "    </tr>\n",
       "    <tr>\n",
       "      <th>1</th>\n",
       "      <td>1</td>\n",
       "      <td>2008</td>\n",
       "      <td>1</td>\n",
       "      <td>3</td>\n",
       "      <td>4</td>\n",
       "      <td>754.0</td>\n",
       "      <td>735</td>\n",
       "      <td>1002.0</td>\n",
       "      <td>1000</td>\n",
       "      <td>WN</td>\n",
       "      <td>3231</td>\n",
       "      <td>N772SW</td>\n",
       "      <td>128.0</td>\n",
       "      <td>145.0</td>\n",
       "      <td>113.0</td>\n",
       "      <td>2.0</td>\n",
       "      <td>19.0</td>\n",
       "      <td>IAD</td>\n",
       "      <td>TPA</td>\n",
       "      <td>810</td>\n",
       "      <td>5.0</td>\n",
       "      <td>10.0</td>\n",
       "      <td>0</td>\n",
       "      <td>N</td>\n",
       "      <td>0</td>\n",
       "      <td>NaN</td>\n",
       "      <td>NaN</td>\n",
       "      <td>NaN</td>\n",
       "      <td>NaN</td>\n",
       "      <td>NaN</td>\n",
       "    </tr>\n",
       "    <tr>\n",
       "      <th>2</th>\n",
       "      <td>2</td>\n",
       "      <td>2008</td>\n",
       "      <td>1</td>\n",
       "      <td>3</td>\n",
       "      <td>4</td>\n",
       "      <td>628.0</td>\n",
       "      <td>620</td>\n",
       "      <td>804.0</td>\n",
       "      <td>750</td>\n",
       "      <td>WN</td>\n",
       "      <td>448</td>\n",
       "      <td>N428WN</td>\n",
       "      <td>96.0</td>\n",
       "      <td>90.0</td>\n",
       "      <td>76.0</td>\n",
       "      <td>14.0</td>\n",
       "      <td>8.0</td>\n",
       "      <td>IND</td>\n",
       "      <td>BWI</td>\n",
       "      <td>515</td>\n",
       "      <td>3.0</td>\n",
       "      <td>17.0</td>\n",
       "      <td>0</td>\n",
       "      <td>N</td>\n",
       "      <td>0</td>\n",
       "      <td>NaN</td>\n",
       "      <td>NaN</td>\n",
       "      <td>NaN</td>\n",
       "      <td>NaN</td>\n",
       "      <td>NaN</td>\n",
       "    </tr>\n",
       "    <tr>\n",
       "      <th>3</th>\n",
       "      <td>4</td>\n",
       "      <td>2008</td>\n",
       "      <td>1</td>\n",
       "      <td>3</td>\n",
       "      <td>4</td>\n",
       "      <td>1829.0</td>\n",
       "      <td>1755</td>\n",
       "      <td>1959.0</td>\n",
       "      <td>1925</td>\n",
       "      <td>WN</td>\n",
       "      <td>3920</td>\n",
       "      <td>N464WN</td>\n",
       "      <td>90.0</td>\n",
       "      <td>90.0</td>\n",
       "      <td>77.0</td>\n",
       "      <td>34.0</td>\n",
       "      <td>34.0</td>\n",
       "      <td>IND</td>\n",
       "      <td>BWI</td>\n",
       "      <td>515</td>\n",
       "      <td>3.0</td>\n",
       "      <td>10.0</td>\n",
       "      <td>0</td>\n",
       "      <td>N</td>\n",
       "      <td>0</td>\n",
       "      <td>2.0</td>\n",
       "      <td>0.0</td>\n",
       "      <td>0.0</td>\n",
       "      <td>0.0</td>\n",
       "      <td>32.0</td>\n",
       "    </tr>\n",
       "    <tr>\n",
       "      <th>4</th>\n",
       "      <td>5</td>\n",
       "      <td>2008</td>\n",
       "      <td>1</td>\n",
       "      <td>3</td>\n",
       "      <td>4</td>\n",
       "      <td>1940.0</td>\n",
       "      <td>1915</td>\n",
       "      <td>2121.0</td>\n",
       "      <td>2110</td>\n",
       "      <td>WN</td>\n",
       "      <td>378</td>\n",
       "      <td>N726SW</td>\n",
       "      <td>101.0</td>\n",
       "      <td>115.0</td>\n",
       "      <td>87.0</td>\n",
       "      <td>11.0</td>\n",
       "      <td>25.0</td>\n",
       "      <td>IND</td>\n",
       "      <td>JAX</td>\n",
       "      <td>688</td>\n",
       "      <td>4.0</td>\n",
       "      <td>10.0</td>\n",
       "      <td>0</td>\n",
       "      <td>N</td>\n",
       "      <td>0</td>\n",
       "      <td>NaN</td>\n",
       "      <td>NaN</td>\n",
       "      <td>NaN</td>\n",
       "      <td>NaN</td>\n",
       "      <td>NaN</td>\n",
       "    </tr>\n",
       "  </tbody>\n",
       "</table>\n",
       "</div>"
      ],
      "text/plain": [
       "   Unnamed: 0  Year  Month  DayofMonth  DayOfWeek  DepTime  CRSDepTime  ArrTime  CRSArrTime UniqueCarrier  FlightNum TailNum  ActualElapsedTime  CRSElapsedTime  AirTime  ArrDelay  DepDelay Origin Dest  Distance  TaxiIn  TaxiOut  Cancelled CancellationCode  Diverted  CarrierDelay  WeatherDelay  NASDelay  SecurityDelay  LateAircraftDelay\n",
       "0           0  2008      1           3          4   2003.0        1955   2211.0        2225            WN        335  N712SW              128.0           150.0    116.0     -14.0       8.0    IAD  TPA       810     4.0      8.0          0                N         0           NaN           NaN       NaN            NaN                NaN\n",
       "1           1  2008      1           3          4    754.0         735   1002.0        1000            WN       3231  N772SW              128.0           145.0    113.0       2.0      19.0    IAD  TPA       810     5.0     10.0          0                N         0           NaN           NaN       NaN            NaN                NaN\n",
       "2           2  2008      1           3          4    628.0         620    804.0         750            WN        448  N428WN               96.0            90.0     76.0      14.0       8.0    IND  BWI       515     3.0     17.0          0                N         0           NaN           NaN       NaN            NaN                NaN\n",
       "3           4  2008      1           3          4   1829.0        1755   1959.0        1925            WN       3920  N464WN               90.0            90.0     77.0      34.0      34.0    IND  BWI       515     3.0     10.0          0                N         0           2.0           0.0       0.0            0.0               32.0\n",
       "4           5  2008      1           3          4   1940.0        1915   2121.0        2110            WN        378  N726SW              101.0           115.0     87.0      11.0      25.0    IND  JAX       688     4.0     10.0          0                N         0           NaN           NaN       NaN            NaN                NaN"
      ]
     },
     "execution_count": 4,
     "metadata": {},
     "output_type": "execute_result"
    }
   ],
   "source": [
    "df.head()"
   ]
  },
  {
   "cell_type": "markdown",
   "id": "454a2444",
   "metadata": {},
   "source": [
    "Fent un simple .head() del dataset podem observar la relació problemàtica entre certes variables. La variable 'ArrDelay' és el resultat de la sostracció entre l'hora real d'arribada ('ArrTime') i l'hora programada d'arribada ('CRSArrTime'). El mateix passa amb 'DepDelay', 'DepTime' i 'CRSDepTime'. \n",
    "\n",
    "- Hem de tenir en compte que al tenir les dades temporals en format int (2211 en comptes de 22:11) la resta no queda bé en tots els casos. Per què quedés bé s'hauria de fer en base 24 per les hores i 60 pels minuts, en comptes de 10 (que és el mètode per defecte de python)."
   ]
  },
  {
   "cell_type": "code",
   "execution_count": 5,
   "id": "30445340",
   "metadata": {
    "ExecuteTime": {
     "end_time": "2021-06-08T16:07:05.202135Z",
     "start_time": "2021-06-08T16:07:05.139206Z"
    }
   },
   "outputs": [
    {
     "data": {
      "text/html": [
       "<div>\n",
       "<style scoped>\n",
       "    .dataframe tbody tr th:only-of-type {\n",
       "        vertical-align: middle;\n",
       "    }\n",
       "\n",
       "    .dataframe tbody tr th {\n",
       "        vertical-align: top;\n",
       "    }\n",
       "\n",
       "    .dataframe thead th {\n",
       "        text-align: right;\n",
       "    }\n",
       "</style>\n",
       "<table border=\"1\" class=\"dataframe\">\n",
       "  <thead>\n",
       "    <tr style=\"text-align: right;\">\n",
       "      <th></th>\n",
       "      <th>CRSArrTime</th>\n",
       "      <th>ArrTime</th>\n",
       "      <th>ArrDelay</th>\n",
       "    </tr>\n",
       "  </thead>\n",
       "  <tbody>\n",
       "    <tr>\n",
       "      <th>0</th>\n",
       "      <td>2225</td>\n",
       "      <td>2211.0</td>\n",
       "      <td>-14.0</td>\n",
       "    </tr>\n",
       "    <tr>\n",
       "      <th>1</th>\n",
       "      <td>1000</td>\n",
       "      <td>1002.0</td>\n",
       "      <td>2.0</td>\n",
       "    </tr>\n",
       "    <tr>\n",
       "      <th>2</th>\n",
       "      <td>750</td>\n",
       "      <td>804.0</td>\n",
       "      <td>14.0</td>\n",
       "    </tr>\n",
       "    <tr>\n",
       "      <th>3</th>\n",
       "      <td>1925</td>\n",
       "      <td>1959.0</td>\n",
       "      <td>34.0</td>\n",
       "    </tr>\n",
       "    <tr>\n",
       "      <th>4</th>\n",
       "      <td>2110</td>\n",
       "      <td>2121.0</td>\n",
       "      <td>11.0</td>\n",
       "    </tr>\n",
       "    <tr>\n",
       "      <th>...</th>\n",
       "      <td>...</td>\n",
       "      <td>...</td>\n",
       "      <td>...</td>\n",
       "    </tr>\n",
       "    <tr>\n",
       "      <th>1936753</th>\n",
       "      <td>1552</td>\n",
       "      <td>1617.0</td>\n",
       "      <td>25.0</td>\n",
       "    </tr>\n",
       "    <tr>\n",
       "      <th>1936754</th>\n",
       "      <td>749</td>\n",
       "      <td>904.0</td>\n",
       "      <td>75.0</td>\n",
       "    </tr>\n",
       "    <tr>\n",
       "      <th>1936755</th>\n",
       "      <td>1010</td>\n",
       "      <td>1149.0</td>\n",
       "      <td>99.0</td>\n",
       "    </tr>\n",
       "    <tr>\n",
       "      <th>1936756</th>\n",
       "      <td>1437</td>\n",
       "      <td>1446.0</td>\n",
       "      <td>9.0</td>\n",
       "    </tr>\n",
       "    <tr>\n",
       "      <th>1936757</th>\n",
       "      <td>1418</td>\n",
       "      <td>1413.0</td>\n",
       "      <td>-5.0</td>\n",
       "    </tr>\n",
       "  </tbody>\n",
       "</table>\n",
       "<p>1936758 rows × 3 columns</p>\n",
       "</div>"
      ],
      "text/plain": [
       "         CRSArrTime  ArrTime  ArrDelay\n",
       "0              2225   2211.0     -14.0\n",
       "1              1000   1002.0       2.0\n",
       "2               750    804.0      14.0\n",
       "3              1925   1959.0      34.0\n",
       "4              2110   2121.0      11.0\n",
       "...             ...      ...       ...\n",
       "1936753        1552   1617.0      25.0\n",
       "1936754         749    904.0      75.0\n",
       "1936755        1010   1149.0      99.0\n",
       "1936756        1437   1446.0       9.0\n",
       "1936757        1418   1413.0      -5.0\n",
       "\n",
       "[1936758 rows x 3 columns]"
      ]
     },
     "execution_count": 5,
     "metadata": {},
     "output_type": "execute_result"
    }
   ],
   "source": [
    "df[['CRSArrTime', 'ArrTime', 'ArrDelay']]"
   ]
  },
  {
   "cell_type": "markdown",
   "id": "f0dcf3a4",
   "metadata": {},
   "source": [
    "Els valors de CRSArrTime menors que 10, com per exemple '5', vol dir que són les 00:05. Com veiem a la primera fila tenim un CRSArrTime programat per les 00.05, però l'hora d'arribada real és la 01:08 i com indica la columna ArrDelay, hi ha un enderreriment de 63 minuts respecte l'hora programada."
   ]
  },
  {
   "cell_type": "code",
   "execution_count": 6,
   "id": "8368d382",
   "metadata": {
    "ExecuteTime": {
     "end_time": "2021-06-08T16:07:05.311845Z",
     "start_time": "2021-06-08T16:07:05.205131Z"
    }
   },
   "outputs": [
    {
     "data": {
      "text/html": [
       "<div>\n",
       "<style scoped>\n",
       "    .dataframe tbody tr th:only-of-type {\n",
       "        vertical-align: middle;\n",
       "    }\n",
       "\n",
       "    .dataframe tbody tr th {\n",
       "        vertical-align: top;\n",
       "    }\n",
       "\n",
       "    .dataframe thead th {\n",
       "        text-align: right;\n",
       "    }\n",
       "</style>\n",
       "<table border=\"1\" class=\"dataframe\">\n",
       "  <thead>\n",
       "    <tr style=\"text-align: right;\">\n",
       "      <th></th>\n",
       "      <th>CRSArrTime</th>\n",
       "      <th>ArrTime</th>\n",
       "      <th>ArrDelay</th>\n",
       "    </tr>\n",
       "  </thead>\n",
       "  <tbody>\n",
       "    <tr>\n",
       "      <th>79</th>\n",
       "      <td>5</td>\n",
       "      <td>108.0</td>\n",
       "      <td>63.0</td>\n",
       "    </tr>\n",
       "    <tr>\n",
       "      <th>119</th>\n",
       "      <td>5</td>\n",
       "      <td>31.0</td>\n",
       "      <td>26.0</td>\n",
       "    </tr>\n",
       "    <tr>\n",
       "      <th>189</th>\n",
       "      <td>5</td>\n",
       "      <td>36.0</td>\n",
       "      <td>31.0</td>\n",
       "    </tr>\n",
       "    <tr>\n",
       "      <th>503</th>\n",
       "      <td>5</td>\n",
       "      <td>115.0</td>\n",
       "      <td>70.0</td>\n",
       "    </tr>\n",
       "    <tr>\n",
       "      <th>1411</th>\n",
       "      <td>5</td>\n",
       "      <td>36.0</td>\n",
       "      <td>31.0</td>\n",
       "    </tr>\n",
       "    <tr>\n",
       "      <th>...</th>\n",
       "      <td>...</td>\n",
       "      <td>...</td>\n",
       "      <td>...</td>\n",
       "    </tr>\n",
       "    <tr>\n",
       "      <th>1926800</th>\n",
       "      <td>5</td>\n",
       "      <td>22.0</td>\n",
       "      <td>17.0</td>\n",
       "    </tr>\n",
       "    <tr>\n",
       "      <th>1926863</th>\n",
       "      <td>5</td>\n",
       "      <td>24.0</td>\n",
       "      <td>19.0</td>\n",
       "    </tr>\n",
       "    <tr>\n",
       "      <th>1927273</th>\n",
       "      <td>5</td>\n",
       "      <td>29.0</td>\n",
       "      <td>24.0</td>\n",
       "    </tr>\n",
       "    <tr>\n",
       "      <th>1927321</th>\n",
       "      <td>5</td>\n",
       "      <td>53.0</td>\n",
       "      <td>48.0</td>\n",
       "    </tr>\n",
       "    <tr>\n",
       "      <th>1927690</th>\n",
       "      <td>5</td>\n",
       "      <td>59.0</td>\n",
       "      <td>54.0</td>\n",
       "    </tr>\n",
       "  </tbody>\n",
       "</table>\n",
       "<p>2003 rows × 3 columns</p>\n",
       "</div>"
      ],
      "text/plain": [
       "         CRSArrTime  ArrTime  ArrDelay\n",
       "79                5    108.0      63.0\n",
       "119               5     31.0      26.0\n",
       "189               5     36.0      31.0\n",
       "503               5    115.0      70.0\n",
       "1411              5     36.0      31.0\n",
       "...             ...      ...       ...\n",
       "1926800           5     22.0      17.0\n",
       "1926863           5     24.0      19.0\n",
       "1927273           5     29.0      24.0\n",
       "1927321           5     53.0      48.0\n",
       "1927690           5     59.0      54.0\n",
       "\n",
       "[2003 rows x 3 columns]"
      ]
     },
     "execution_count": 6,
     "metadata": {},
     "output_type": "execute_result"
    }
   ],
   "source": [
    "df[['CRSArrTime', 'ArrTime', 'ArrDelay']][df['CRSArrTime'] == 5]"
   ]
  },
  {
   "cell_type": "markdown",
   "id": "e74052ed",
   "metadata": {},
   "source": [
    "Per acabar-ho de confirmar creem la nosta pròpia variable 'ArrDelay' a partir de les variables ArrTime i CRSArrTime i la comparem a l'original:"
   ]
  },
  {
   "cell_type": "code",
   "execution_count": 7,
   "id": "78fa3452",
   "metadata": {
    "ExecuteTime": {
     "end_time": "2021-06-08T16:07:05.343757Z",
     "start_time": "2021-06-08T16:07:05.315832Z"
    }
   },
   "outputs": [],
   "source": [
    "df['ArrivalDelay'] = df['ArrTime'] - df['CRSArrTime']"
   ]
  },
  {
   "cell_type": "markdown",
   "id": "183cb0fc",
   "metadata": {},
   "source": [
    "La variable original i fabricada no coincideixen en tots els registres pel mateix tema del format de les dades temporals que hem comentat anteriorment, però agafem la idea de que són iguals."
   ]
  },
  {
   "cell_type": "code",
   "execution_count": 8,
   "id": "af827380",
   "metadata": {
    "ExecuteTime": {
     "end_time": "2021-06-08T16:07:05.391631Z",
     "start_time": "2021-06-08T16:07:05.348745Z"
    }
   },
   "outputs": [
    {
     "data": {
      "text/html": [
       "<div>\n",
       "<style scoped>\n",
       "    .dataframe tbody tr th:only-of-type {\n",
       "        vertical-align: middle;\n",
       "    }\n",
       "\n",
       "    .dataframe tbody tr th {\n",
       "        vertical-align: top;\n",
       "    }\n",
       "\n",
       "    .dataframe thead th {\n",
       "        text-align: right;\n",
       "    }\n",
       "</style>\n",
       "<table border=\"1\" class=\"dataframe\">\n",
       "  <thead>\n",
       "    <tr style=\"text-align: right;\">\n",
       "      <th></th>\n",
       "      <th>ArrDelayOriginal</th>\n",
       "      <th>ArrDelayFabricada</th>\n",
       "    </tr>\n",
       "  </thead>\n",
       "  <tbody>\n",
       "    <tr>\n",
       "      <th>0</th>\n",
       "      <td>-14.0</td>\n",
       "      <td>-14.0</td>\n",
       "    </tr>\n",
       "    <tr>\n",
       "      <th>1</th>\n",
       "      <td>2.0</td>\n",
       "      <td>2.0</td>\n",
       "    </tr>\n",
       "    <tr>\n",
       "      <th>2</th>\n",
       "      <td>14.0</td>\n",
       "      <td>54.0</td>\n",
       "    </tr>\n",
       "    <tr>\n",
       "      <th>3</th>\n",
       "      <td>34.0</td>\n",
       "      <td>34.0</td>\n",
       "    </tr>\n",
       "    <tr>\n",
       "      <th>4</th>\n",
       "      <td>11.0</td>\n",
       "      <td>11.0</td>\n",
       "    </tr>\n",
       "    <tr>\n",
       "      <th>...</th>\n",
       "      <td>...</td>\n",
       "      <td>...</td>\n",
       "    </tr>\n",
       "    <tr>\n",
       "      <th>1936753</th>\n",
       "      <td>25.0</td>\n",
       "      <td>65.0</td>\n",
       "    </tr>\n",
       "    <tr>\n",
       "      <th>1936754</th>\n",
       "      <td>75.0</td>\n",
       "      <td>155.0</td>\n",
       "    </tr>\n",
       "    <tr>\n",
       "      <th>1936755</th>\n",
       "      <td>99.0</td>\n",
       "      <td>139.0</td>\n",
       "    </tr>\n",
       "    <tr>\n",
       "      <th>1936756</th>\n",
       "      <td>9.0</td>\n",
       "      <td>9.0</td>\n",
       "    </tr>\n",
       "    <tr>\n",
       "      <th>1936757</th>\n",
       "      <td>-5.0</td>\n",
       "      <td>-5.0</td>\n",
       "    </tr>\n",
       "  </tbody>\n",
       "</table>\n",
       "<p>1936758 rows × 2 columns</p>\n",
       "</div>"
      ],
      "text/plain": [
       "         ArrDelayOriginal  ArrDelayFabricada\n",
       "0                   -14.0              -14.0\n",
       "1                     2.0                2.0\n",
       "2                    14.0               54.0\n",
       "3                    34.0               34.0\n",
       "4                    11.0               11.0\n",
       "...                   ...                ...\n",
       "1936753              25.0               65.0\n",
       "1936754              75.0              155.0\n",
       "1936755              99.0              139.0\n",
       "1936756               9.0                9.0\n",
       "1936757              -5.0               -5.0\n",
       "\n",
       "[1936758 rows x 2 columns]"
      ]
     },
     "execution_count": 8,
     "metadata": {},
     "output_type": "execute_result"
    }
   ],
   "source": [
    "df_arrd=pd.DataFrame({'ArrDelayOriginal':df['ArrDelay'], 'ArrDelayFabricada':df['ArrivalDelay']})\n",
    "df_arrd"
   ]
  },
  {
   "cell_type": "markdown",
   "id": "44c4ea71",
   "metadata": {},
   "source": [
    "#### Examen de colinealitat (corr) "
   ]
  },
  {
   "cell_type": "markdown",
   "id": "d7bf2047",
   "metadata": {},
   "source": [
    "En el primer experiment amb les dades treiem les variables categòriques per poder fer ràpidament els primers models. Més endavant les recuperarem i examinarem el seu valor en la millora respecte els models anteriors:"
   ]
  },
  {
   "cell_type": "code",
   "execution_count": 9,
   "id": "4b07537a",
   "metadata": {
    "ExecuteTime": {
     "end_time": "2021-06-08T16:07:05.806816Z",
     "start_time": "2021-06-08T16:07:05.395622Z"
    }
   },
   "outputs": [],
   "source": [
    "df_1 = df\n",
    "df_1.drop(['Unnamed: 0','Year','UniqueCarrier',\n",
    "         'CancellationCode', 'Origin', 'Dest', 'TailNum' ], axis=1, inplace=True)"
   ]
  },
  {
   "cell_type": "markdown",
   "id": "b9cdfd60",
   "metadata": {},
   "source": [
    "Imputem els null values a partir de la mediana, de la mateixa manera que hem fet amb l'exercici de regressió lineal, per ser el mètode d'imputació que menys augmentava la diferència de correlació entre variables."
   ]
  },
  {
   "cell_type": "code",
   "execution_count": 10,
   "id": "b2feadcd",
   "metadata": {
    "ExecuteTime": {
     "end_time": "2021-06-08T16:07:06.561352Z",
     "start_time": "2021-06-08T16:07:05.808810Z"
    },
    "code_folding": []
   },
   "outputs": [],
   "source": [
    "for i in df_1.columns:\n",
    "    df_1[i].fillna(df_1[i].median(), inplace = True)"
   ]
  },
  {
   "cell_type": "code",
   "execution_count": 11,
   "id": "c7fc9bdb",
   "metadata": {
    "ExecuteTime": {
     "end_time": "2021-06-08T16:07:10.438006Z",
     "start_time": "2021-06-08T16:07:06.561352Z"
    }
   },
   "outputs": [],
   "source": [
    "corr = df_1[df_1.columns[1:]].corr()['ArrDelay'][:]"
   ]
  },
  {
   "cell_type": "code",
   "execution_count": 12,
   "id": "330ed562",
   "metadata": {
    "ExecuteTime": {
     "end_time": "2021-06-08T16:07:10.453604Z",
     "start_time": "2021-06-08T16:07:10.438006Z"
    }
   },
   "outputs": [
    {
     "data": {
      "text/plain": [
       "DayofMonth           0.004068\n",
       "DayOfWeek            0.006136\n",
       "DepTime              0.126781\n",
       "CRSDepTime           0.044521\n",
       "ArrTime             -0.051065\n",
       "CRSArrTime           0.042955\n",
       "FlightNum            0.061117\n",
       "ActualElapsedTime    0.068439\n",
       "CRSElapsedTime      -0.016079\n",
       "AirTime              0.000181\n",
       "ArrDelay             1.000000\n",
       "DepDelay             0.947660\n",
       "Distance            -0.030161\n",
       "TaxiIn               0.156104\n",
       "TaxiOut              0.284920\n",
       "Cancelled           -0.005781\n",
       "Diverted            -0.020272\n",
       "CarrierDelay         0.535340\n",
       "WeatherDelay         0.277861\n",
       "NASDelay             0.437473\n",
       "SecurityDelay        0.011215\n",
       "LateAircraftDelay    0.519247\n",
       "ArrivalDelay        -0.106974\n",
       "Name: ArrDelay, dtype: float64"
      ]
     },
     "execution_count": 12,
     "metadata": {},
     "output_type": "execute_result"
    }
   ],
   "source": [
    "corr"
   ]
  },
  {
   "cell_type": "code",
   "execution_count": 13,
   "id": "3ed239b1",
   "metadata": {
    "ExecuteTime": {
     "end_time": "2021-06-08T16:07:15.315104Z",
     "start_time": "2021-06-08T16:07:10.453604Z"
    }
   },
   "outputs": [
    {
     "data": {
      "image/png": "[encoded data removed]",
      "text/plain": [
       "<Figure size 648x648 with 2 Axes>"
      ]
     },
     "metadata": {
      "needs_background": "light"
     },
     "output_type": "display_data"
    }
   ],
   "source": [
    "corr = df_1.corr() # train is a pandas dataframe \n",
    "\n",
    "plt.figure(figsize = (9, 9))\n",
    "heatmap(corr, cmap = 'coolwarm')\n",
    "plt.show()"
   ]
  },
  {
   "cell_type": "markdown",
   "id": "ae70fd15",
   "metadata": {},
   "source": [
    "####  Multicolinealitat (VIF)"
   ]
  },
  {
   "cell_type": "markdown",
   "id": "9210676b",
   "metadata": {},
   "source": [
    "Estudiem la multicolinealitat de les variables a partir del VIF, de la mateixa manera en que ho hem fet a la tasca de Regressió Lineal."
   ]
  },
  {
   "cell_type": "code",
   "execution_count": 14,
   "id": "f0f24e3d",
   "metadata": {
    "ExecuteTime": {
     "end_time": "2021-06-08T16:07:15.330724Z",
     "start_time": "2021-06-08T16:07:15.315104Z"
    }
   },
   "outputs": [],
   "source": [
    "def calc_vif(X):\n",
    "\n",
    "    # Calculating VIF\n",
    "    vif = pd.DataFrame()\n",
    "    vif[\"variables\"] = X.columns\n",
    "    vif[\"VIF\"] = [variance_inflation_factor(X.values, i) for i in range(X.shape[1])]\n",
    "\n",
    "    return(vif)"
   ]
  },
  {
   "cell_type": "code",
   "execution_count": 15,
   "id": "b9f6f00e",
   "metadata": {
    "ExecuteTime": {
     "end_time": "2021-06-08T16:09:41.200947Z",
     "start_time": "2021-06-08T16:07:15.330724Z"
    },
    "scrolled": false
   },
   "outputs": [
    {
     "data": {
      "text/html": [
       "<div>\n",
       "<style scoped>\n",
       "    .dataframe tbody tr th:only-of-type {\n",
       "        vertical-align: middle;\n",
       "    }\n",
       "\n",
       "    .dataframe tbody tr th {\n",
       "        vertical-align: top;\n",
       "    }\n",
       "\n",
       "    .dataframe thead th {\n",
       "        text-align: right;\n",
       "    }\n",
       "</style>\n",
       "<table border=\"1\" class=\"dataframe\">\n",
       "  <thead>\n",
       "    <tr style=\"text-align: right;\">\n",
       "      <th></th>\n",
       "      <th>variables</th>\n",
       "      <th>VIF</th>\n",
       "    </tr>\n",
       "  </thead>\n",
       "  <tbody>\n",
       "    <tr>\n",
       "      <th>0</th>\n",
       "      <td>Month</td>\n",
       "      <td>3.839</td>\n",
       "    </tr>\n",
       "    <tr>\n",
       "      <th>1</th>\n",
       "      <td>DayofMonth</td>\n",
       "      <td>3.945</td>\n",
       "    </tr>\n",
       "    <tr>\n",
       "      <th>2</th>\n",
       "      <td>DayOfWeek</td>\n",
       "      <td>4.549</td>\n",
       "    </tr>\n",
       "    <tr>\n",
       "      <th>3</th>\n",
       "      <td>DepTime</td>\n",
       "      <td>64.100</td>\n",
       "    </tr>\n",
       "    <tr>\n",
       "      <th>4</th>\n",
       "      <td>CRSDepTime</td>\n",
       "      <td>63.861</td>\n",
       "    </tr>\n",
       "    <tr>\n",
       "      <th>5</th>\n",
       "      <td>ArrTime</td>\n",
       "      <td>16.077</td>\n",
       "    </tr>\n",
       "    <tr>\n",
       "      <th>6</th>\n",
       "      <td>CRSArrTime</td>\n",
       "      <td>38.608</td>\n",
       "    </tr>\n",
       "    <tr>\n",
       "      <th>7</th>\n",
       "      <td>FlightNum</td>\n",
       "      <td>2.453</td>\n",
       "    </tr>\n",
       "    <tr>\n",
       "      <th>8</th>\n",
       "      <td>ActualElapsedTime</td>\n",
       "      <td>13451.804</td>\n",
       "    </tr>\n",
       "    <tr>\n",
       "      <th>9</th>\n",
       "      <td>CRSElapsedTime</td>\n",
       "      <td>504.875</td>\n",
       "    </tr>\n",
       "    <tr>\n",
       "      <th>10</th>\n",
       "      <td>AirTime</td>\n",
       "      <td>9749.587</td>\n",
       "    </tr>\n",
       "    <tr>\n",
       "      <th>11</th>\n",
       "      <td>ArrDelay</td>\n",
       "      <td>232.290</td>\n",
       "    </tr>\n",
       "    <tr>\n",
       "      <th>12</th>\n",
       "      <td>DepDelay</td>\n",
       "      <td>92.426</td>\n",
       "    </tr>\n",
       "    <tr>\n",
       "      <th>13</th>\n",
       "      <td>Distance</td>\n",
       "      <td>90.279</td>\n",
       "    </tr>\n",
       "    <tr>\n",
       "      <th>14</th>\n",
       "      <td>TaxiIn</td>\n",
       "      <td>45.929</td>\n",
       "    </tr>\n",
       "    <tr>\n",
       "      <th>15</th>\n",
       "      <td>TaxiOut</td>\n",
       "      <td>312.071</td>\n",
       "    </tr>\n",
       "    <tr>\n",
       "      <th>16</th>\n",
       "      <td>Cancelled</td>\n",
       "      <td>1.035</td>\n",
       "    </tr>\n",
       "    <tr>\n",
       "      <th>17</th>\n",
       "      <td>Diverted</td>\n",
       "      <td>1.141</td>\n",
       "    </tr>\n",
       "    <tr>\n",
       "      <th>18</th>\n",
       "      <td>CarrierDelay</td>\n",
       "      <td>53.247</td>\n",
       "    </tr>\n",
       "    <tr>\n",
       "      <th>19</th>\n",
       "      <td>WeatherDelay</td>\n",
       "      <td>11.739</td>\n",
       "    </tr>\n",
       "    <tr>\n",
       "      <th>20</th>\n",
       "      <td>NASDelay</td>\n",
       "      <td>31.605</td>\n",
       "    </tr>\n",
       "    <tr>\n",
       "      <th>21</th>\n",
       "      <td>SecurityDelay</td>\n",
       "      <td>1.104</td>\n",
       "    </tr>\n",
       "    <tr>\n",
       "      <th>22</th>\n",
       "      <td>LateAircraftDelay</td>\n",
       "      <td>57.718</td>\n",
       "    </tr>\n",
       "  </tbody>\n",
       "</table>\n",
       "</div>"
      ],
      "text/plain": [
       "            variables        VIF\n",
       "0               Month      3.839\n",
       "1          DayofMonth      3.945\n",
       "2           DayOfWeek      4.549\n",
       "3             DepTime     64.100\n",
       "4          CRSDepTime     63.861\n",
       "5             ArrTime     16.077\n",
       "6          CRSArrTime     38.608\n",
       "7           FlightNum      2.453\n",
       "8   ActualElapsedTime  13451.804\n",
       "9      CRSElapsedTime    504.875\n",
       "10            AirTime   9749.587\n",
       "11           ArrDelay    232.290\n",
       "12           DepDelay     92.426\n",
       "13           Distance     90.279\n",
       "14             TaxiIn     45.929\n",
       "15            TaxiOut    312.071\n",
       "16          Cancelled      1.035\n",
       "17           Diverted      1.141\n",
       "18       CarrierDelay     53.247\n",
       "19       WeatherDelay     11.739\n",
       "20           NASDelay     31.605\n",
       "21      SecurityDelay      1.104\n",
       "22  LateAircraftDelay     57.718"
      ]
     },
     "execution_count": 15,
     "metadata": {},
     "output_type": "execute_result"
    }
   ],
   "source": [
    "X = df_1.iloc[:,:-1]\n",
    "round(calc_vif(X),3)"
   ]
  },
  {
   "cell_type": "markdown",
   "id": "639d87d5",
   "metadata": {},
   "source": [
    "A banda de DepDelay, eliminem una de les dues variables que com hem vist la conformen, per evitar que la resposta de les prediccions estigui continguda en els features (fem el mateix per ArrDelay):  \n",
    "- 'ArrTime'\n",
    "- 'DepTime'  \n",
    "\n",
    "De la mateixa manera eliminem les variables de 'motius d'enderreriment', que sumades entre elles donen els mateixos valors que Arrival Delay, amb l'única diferència que només queden registrades a partir dels 15 minuts d'endarreriment del vol: \n",
    "- 'CarrierDelay'\n",
    "- 'WeatherDelay'\n",
    "- 'NASDelay'\n",
    "- 'SecurityDelay'\n",
    "- 'LateAircraftDelay'  \n",
    "\n",
    "Ens desfem d'AirTime, 'TaxiIn' i 'TaxiOut', que sumades donen 'ActualElapsedTime'. I també treiem 'ActualElapsedTime' i ens quedem amb 'CRSElapsedTime', perque restades donen la suma d'ArrDelay i DepDelay.\n",
    "- 'AirTime\n",
    "- 'TaxiIn'\n",
    "- 'TaxiOut'\n",
    "- 'ActualElapsedTime'\n"
   ]
  },
  {
   "cell_type": "code",
   "execution_count": 16,
   "id": "02a64897",
   "metadata": {
    "ExecuteTime": {
     "end_time": "2021-06-08T16:09:41.371890Z",
     "start_time": "2021-06-08T16:09:41.200947Z"
    }
   },
   "outputs": [],
   "source": [
    "df_1.drop(['DepDelay', 'ArrTime', 'DepTime', \n",
    "           'CarrierDelay', 'WeatherDelay','NASDelay', 'SecurityDelay', 'LateAircraftDelay', \n",
    "            'AirTime', 'TaxiIn','TaxiOut', 'ActualElapsedTime'], axis=1, inplace=True)"
   ]
  },
  {
   "cell_type": "code",
   "execution_count": 17,
   "id": "063cec7e",
   "metadata": {
    "ExecuteTime": {
     "end_time": "2021-06-08T16:10:07.114195Z",
     "start_time": "2021-06-08T16:09:41.373888Z"
    }
   },
   "outputs": [
    {
     "data": {
      "text/html": [
       "<div>\n",
       "<style scoped>\n",
       "    .dataframe tbody tr th:only-of-type {\n",
       "        vertical-align: middle;\n",
       "    }\n",
       "\n",
       "    .dataframe tbody tr th {\n",
       "        vertical-align: top;\n",
       "    }\n",
       "\n",
       "    .dataframe thead th {\n",
       "        text-align: right;\n",
       "    }\n",
       "</style>\n",
       "<table border=\"1\" class=\"dataframe\">\n",
       "  <thead>\n",
       "    <tr style=\"text-align: right;\">\n",
       "      <th></th>\n",
       "      <th>variables</th>\n",
       "      <th>VIF</th>\n",
       "    </tr>\n",
       "  </thead>\n",
       "  <tbody>\n",
       "    <tr>\n",
       "      <th>0</th>\n",
       "      <td>Month</td>\n",
       "      <td>3.806</td>\n",
       "    </tr>\n",
       "    <tr>\n",
       "      <th>1</th>\n",
       "      <td>DayofMonth</td>\n",
       "      <td>3.927</td>\n",
       "    </tr>\n",
       "    <tr>\n",
       "      <th>2</th>\n",
       "      <td>DayOfWeek</td>\n",
       "      <td>4.508</td>\n",
       "    </tr>\n",
       "    <tr>\n",
       "      <th>3</th>\n",
       "      <td>CRSDepTime</td>\n",
       "      <td>24.450</td>\n",
       "    </tr>\n",
       "    <tr>\n",
       "      <th>4</th>\n",
       "      <td>CRSArrTime</td>\n",
       "      <td>26.529</td>\n",
       "    </tr>\n",
       "    <tr>\n",
       "      <th>5</th>\n",
       "      <td>FlightNum</td>\n",
       "      <td>2.419</td>\n",
       "    </tr>\n",
       "    <tr>\n",
       "      <th>6</th>\n",
       "      <td>CRSElapsedTime</td>\n",
       "      <td>104.296</td>\n",
       "    </tr>\n",
       "    <tr>\n",
       "      <th>7</th>\n",
       "      <td>ArrDelay</td>\n",
       "      <td>1.566</td>\n",
       "    </tr>\n",
       "    <tr>\n",
       "      <th>8</th>\n",
       "      <td>Distance</td>\n",
       "      <td>69.211</td>\n",
       "    </tr>\n",
       "    <tr>\n",
       "      <th>9</th>\n",
       "      <td>Cancelled</td>\n",
       "      <td>1.001</td>\n",
       "    </tr>\n",
       "    <tr>\n",
       "      <th>10</th>\n",
       "      <td>Diverted</td>\n",
       "      <td>1.005</td>\n",
       "    </tr>\n",
       "  </tbody>\n",
       "</table>\n",
       "</div>"
      ],
      "text/plain": [
       "         variables      VIF\n",
       "0            Month    3.806\n",
       "1       DayofMonth    3.927\n",
       "2        DayOfWeek    4.508\n",
       "3       CRSDepTime   24.450\n",
       "4       CRSArrTime   26.529\n",
       "5        FlightNum    2.419\n",
       "6   CRSElapsedTime  104.296\n",
       "7         ArrDelay    1.566\n",
       "8         Distance   69.211\n",
       "9        Cancelled    1.001\n",
       "10        Diverted    1.005"
      ]
     },
     "execution_count": 17,
     "metadata": {},
     "output_type": "execute_result"
    }
   ],
   "source": [
    "X = df_1.iloc[:,:-1]\n",
    "round(calc_vif(X),3)"
   ]
  },
  {
   "cell_type": "code",
   "execution_count": 18,
   "id": "34466001",
   "metadata": {
    "ExecuteTime": {
     "end_time": "2021-06-08T16:10:10.085539Z",
     "start_time": "2021-06-08T16:10:07.117188Z"
    }
   },
   "outputs": [
    {
     "data": {
      "image/png": "[encoded data removed]",
      "text/plain": [
       "<Figure size 648x648 with 2 Axes>"
      ]
     },
     "metadata": {
      "needs_background": "light"
     },
     "output_type": "display_data"
    }
   ],
   "source": [
    "corr = round(df_1.corr(),2) # train is a pandas dataframe \n",
    "\n",
    "plt.figure(figsize = (9, 9))\n",
    "heatmap(corr, annot=True, cmap = 'coolwarm')\n",
    "plt.show()"
   ]
  },
  {
   "cell_type": "markdown",
   "id": "d76ce67a",
   "metadata": {},
   "source": [
    "#### Definició del target i les classes"
   ]
  },
  {
   "cell_type": "code",
   "execution_count": 19,
   "id": "4121000d",
   "metadata": {
    "ExecuteTime": {
     "end_time": "2021-06-08T16:10:10.342255Z",
     "start_time": "2021-06-08T16:10:10.087472Z"
    }
   },
   "outputs": [
    {
     "data": {
      "text/plain": [
       "2461.0"
      ]
     },
     "execution_count": 19,
     "metadata": {},
     "output_type": "execute_result"
    }
   ],
   "source": [
    "max(df_1['ArrDelay'])"
   ]
  },
  {
   "cell_type": "markdown",
   "id": "65d04f7f",
   "metadata": {},
   "source": [
    "Creem la variable Delayed a partir dels vols endarrerits més de quina minuts, de la variable 'ArrDelay':"
   ]
  },
  {
   "cell_type": "code",
   "execution_count": 20,
   "id": "dc9ab088",
   "metadata": {
    "ExecuteTime": {
     "end_time": "2021-06-08T16:10:10.829031Z",
     "start_time": "2021-06-08T16:10:10.344249Z"
    }
   },
   "outputs": [],
   "source": [
    "cut_bins = min(df_1['ArrDelay']), 15, max(df_1['ArrDelay'])\n",
    "df_1['Delayed'] = pd.cut(df_1['ArrDelay'], bins=cut_bins)"
   ]
  },
  {
   "cell_type": "code",
   "execution_count": 21,
   "id": "41564f9c",
   "metadata": {
    "ExecuteTime": {
     "end_time": "2021-06-08T16:10:10.879550Z",
     "start_time": "2021-06-08T16:10:10.831068Z"
    },
    "scrolled": true
   },
   "outputs": [
    {
     "data": {
      "text/plain": [
       "(15.0, 2461.0]    1223399\n",
       "(-109.0, 15.0]     713358\n",
       "Name: Delayed, dtype: int64"
      ]
     },
     "execution_count": 21,
     "metadata": {},
     "output_type": "execute_result"
    }
   ],
   "source": [
    "# Veiem la divisio del pd.cut. Tenim 2 bins\n",
    "df_1['Delayed'].value_counts()"
   ]
  },
  {
   "cell_type": "code",
   "execution_count": 22,
   "id": "8a168466",
   "metadata": {
    "ExecuteTime": {
     "end_time": "2021-06-08T16:10:10.926131Z",
     "start_time": "2021-06-08T16:10:10.879550Z"
    }
   },
   "outputs": [
    {
     "data": {
      "text/plain": [
       "(15.0, 2461.0]    0.631674\n",
       "(-109.0, 15.0]    0.368326\n",
       "Name: Delayed, dtype: float64"
      ]
     },
     "execution_count": 22,
     "metadata": {},
     "output_type": "execute_result"
    }
   ],
   "source": [
    "df_1['Delayed'].value_counts(normalize=True)"
   ]
  },
  {
   "cell_type": "markdown",
   "id": "b8e2ad85",
   "metadata": {},
   "source": [
    "El temps d'arrivada (enderreriment) queda dividit així en 2 grups o classes:  \n",
    "\n",
    "- Entre -109.001 i 15.0 min       \n",
    "- Entre 15.0 i 2461.0 min    "
   ]
  },
  {
   "cell_type": "code",
   "execution_count": 23,
   "id": "640fce43",
   "metadata": {
    "ExecuteTime": {
     "end_time": "2021-06-08T16:10:15.969007Z",
     "start_time": "2021-06-08T16:10:10.941096Z"
    },
    "scrolled": true
   },
   "outputs": [
    {
     "data": {
      "text/html": [
       "<div>\n",
       "<style scoped>\n",
       "    .dataframe tbody tr th:only-of-type {\n",
       "        vertical-align: middle;\n",
       "    }\n",
       "\n",
       "    .dataframe tbody tr th {\n",
       "        vertical-align: top;\n",
       "    }\n",
       "\n",
       "    .dataframe thead th {\n",
       "        text-align: right;\n",
       "    }\n",
       "</style>\n",
       "<table border=\"1\" class=\"dataframe\">\n",
       "  <thead>\n",
       "    <tr style=\"text-align: right;\">\n",
       "      <th></th>\n",
       "      <th>Month</th>\n",
       "      <th>DayofMonth</th>\n",
       "      <th>DayOfWeek</th>\n",
       "      <th>CRSDepTime</th>\n",
       "      <th>CRSArrTime</th>\n",
       "      <th>FlightNum</th>\n",
       "      <th>CRSElapsedTime</th>\n",
       "      <th>ArrDelay</th>\n",
       "      <th>Distance</th>\n",
       "      <th>Cancelled</th>\n",
       "      <th>Diverted</th>\n",
       "      <th>ArrivalDelay</th>\n",
       "      <th>Delayed</th>\n",
       "    </tr>\n",
       "  </thead>\n",
       "  <tbody>\n",
       "    <tr>\n",
       "      <th>0</th>\n",
       "      <td>1</td>\n",
       "      <td>3</td>\n",
       "      <td>4</td>\n",
       "      <td>1955</td>\n",
       "      <td>2225</td>\n",
       "      <td>335</td>\n",
       "      <td>150.0</td>\n",
       "      <td>-14.0</td>\n",
       "      <td>810</td>\n",
       "      <td>0</td>\n",
       "      <td>0</td>\n",
       "      <td>-14.0</td>\n",
       "      <td>0</td>\n",
       "    </tr>\n",
       "    <tr>\n",
       "      <th>1</th>\n",
       "      <td>1</td>\n",
       "      <td>3</td>\n",
       "      <td>4</td>\n",
       "      <td>735</td>\n",
       "      <td>1000</td>\n",
       "      <td>3231</td>\n",
       "      <td>145.0</td>\n",
       "      <td>2.0</td>\n",
       "      <td>810</td>\n",
       "      <td>0</td>\n",
       "      <td>0</td>\n",
       "      <td>2.0</td>\n",
       "      <td>0</td>\n",
       "    </tr>\n",
       "    <tr>\n",
       "      <th>2</th>\n",
       "      <td>1</td>\n",
       "      <td>3</td>\n",
       "      <td>4</td>\n",
       "      <td>620</td>\n",
       "      <td>750</td>\n",
       "      <td>448</td>\n",
       "      <td>90.0</td>\n",
       "      <td>14.0</td>\n",
       "      <td>515</td>\n",
       "      <td>0</td>\n",
       "      <td>0</td>\n",
       "      <td>54.0</td>\n",
       "      <td>0</td>\n",
       "    </tr>\n",
       "    <tr>\n",
       "      <th>3</th>\n",
       "      <td>1</td>\n",
       "      <td>3</td>\n",
       "      <td>4</td>\n",
       "      <td>1755</td>\n",
       "      <td>1925</td>\n",
       "      <td>3920</td>\n",
       "      <td>90.0</td>\n",
       "      <td>34.0</td>\n",
       "      <td>515</td>\n",
       "      <td>0</td>\n",
       "      <td>0</td>\n",
       "      <td>34.0</td>\n",
       "      <td>1</td>\n",
       "    </tr>\n",
       "    <tr>\n",
       "      <th>4</th>\n",
       "      <td>1</td>\n",
       "      <td>3</td>\n",
       "      <td>4</td>\n",
       "      <td>1915</td>\n",
       "      <td>2110</td>\n",
       "      <td>378</td>\n",
       "      <td>115.0</td>\n",
       "      <td>11.0</td>\n",
       "      <td>688</td>\n",
       "      <td>0</td>\n",
       "      <td>0</td>\n",
       "      <td>11.0</td>\n",
       "      <td>0</td>\n",
       "    </tr>\n",
       "  </tbody>\n",
       "</table>\n",
       "</div>"
      ],
      "text/plain": [
       "   Month  DayofMonth  DayOfWeek  CRSDepTime  CRSArrTime  FlightNum  CRSElapsedTime  ArrDelay  Distance  Cancelled  Diverted  ArrivalDelay  Delayed\n",
       "0      1           3          4        1955        2225        335           150.0     -14.0       810          0         0         -14.0        0\n",
       "1      1           3          4         735        1000       3231           145.0       2.0       810          0         0           2.0        0\n",
       "2      1           3          4         620         750        448            90.0      14.0       515          0         0          54.0        0\n",
       "3      1           3          4        1755        1925       3920            90.0      34.0       515          0         0          34.0        1\n",
       "4      1           3          4        1915        2110        378           115.0      11.0       688          0         0          11.0        0"
      ]
     },
     "execution_count": 23,
     "metadata": {},
     "output_type": "execute_result"
    }
   ],
   "source": [
    "encoder = LabelEncoder()\n",
    "df_1['Delayed'] = encoder.fit_transform(df_1['Delayed'])\n",
    "\n",
    "df_1.head()"
   ]
  },
  {
   "cell_type": "code",
   "execution_count": 24,
   "id": "61011042",
   "metadata": {
    "ExecuteTime": {
     "end_time": "2021-06-08T16:10:16.015877Z",
     "start_time": "2021-06-08T16:10:15.969007Z"
    }
   },
   "outputs": [
    {
     "data": {
      "text/plain": [
       "1    1223399\n",
       "0     713358\n",
       "2          1\n",
       "Name: Delayed, dtype: int64"
      ]
     },
     "execution_count": 24,
     "metadata": {},
     "output_type": "execute_result"
    }
   ],
   "source": [
    "df_1['Delayed'].value_counts()"
   ]
  },
  {
   "cell_type": "markdown",
   "id": "e33e0ed8",
   "metadata": {},
   "source": [
    "Eliminem aquest registre on s'ha creat una classe de més per accident"
   ]
  },
  {
   "cell_type": "code",
   "execution_count": 25,
   "id": "4b17ff07",
   "metadata": {
    "ExecuteTime": {
     "end_time": "2021-06-08T16:10:16.031495Z",
     "start_time": "2021-06-08T16:10:16.015877Z"
    }
   },
   "outputs": [],
   "source": [
    "i = df_1[df_1['Delayed'] == 2].index"
   ]
  },
  {
   "cell_type": "code",
   "execution_count": 26,
   "id": "a235e099",
   "metadata": {
    "ExecuteTime": {
     "end_time": "2021-06-08T16:10:16.300307Z",
     "start_time": "2021-06-08T16:10:16.031495Z"
    }
   },
   "outputs": [],
   "source": [
    "df_1.drop(i, inplace = True)"
   ]
  },
  {
   "cell_type": "markdown",
   "id": "995860c0",
   "metadata": {},
   "source": [
    "### Classes\n",
    "\n",
    "- 0 On Time (not delayed)  = Arrival Delay < 15 min. \n",
    "- 1 Delayed = Arrival Delay > 15 min."
   ]
  },
  {
   "cell_type": "code",
   "execution_count": 27,
   "id": "7f8c92ca",
   "metadata": {
    "ExecuteTime": {
     "end_time": "2021-06-08T16:10:16.350007Z",
     "start_time": "2021-06-08T16:10:16.300307Z"
    }
   },
   "outputs": [
    {
     "data": {
      "text/plain": [
       "0     713358\n",
       "1    1223399\n",
       "Name: Delayed, dtype: int64"
      ]
     },
     "execution_count": 27,
     "metadata": {},
     "output_type": "execute_result"
    }
   ],
   "source": [
    "df_1['Delayed'].value_counts(ascending=True)"
   ]
  },
  {
   "cell_type": "markdown",
   "id": "5d4fbc59",
   "metadata": {},
   "source": [
    "Eliminem la columna ArrDelay ara que ja hem creat les classes"
   ]
  },
  {
   "cell_type": "code",
   "execution_count": 28,
   "id": "813bea8b",
   "metadata": {
    "ExecuteTime": {
     "end_time": "2021-06-08T16:10:16.459357Z",
     "start_time": "2021-06-08T16:10:16.350007Z"
    }
   },
   "outputs": [],
   "source": [
    "df_1.drop(['ArrDelay', 'ArrivalDelay'], axis = 1, inplace = True)"
   ]
  },
  {
   "cell_type": "code",
   "execution_count": 29,
   "id": "4aa19813",
   "metadata": {
    "ExecuteTime": {
     "end_time": "2021-06-08T16:10:16.490599Z",
     "start_time": "2021-06-08T16:10:16.459357Z"
    }
   },
   "outputs": [
    {
     "data": {
      "text/html": [
       "<div>\n",
       "<style scoped>\n",
       "    .dataframe tbody tr th:only-of-type {\n",
       "        vertical-align: middle;\n",
       "    }\n",
       "\n",
       "    .dataframe tbody tr th {\n",
       "        vertical-align: top;\n",
       "    }\n",
       "\n",
       "    .dataframe thead th {\n",
       "        text-align: right;\n",
       "    }\n",
       "</style>\n",
       "<table border=\"1\" class=\"dataframe\">\n",
       "  <thead>\n",
       "    <tr style=\"text-align: right;\">\n",
       "      <th></th>\n",
       "      <th>Month</th>\n",
       "      <th>DayofMonth</th>\n",
       "      <th>DayOfWeek</th>\n",
       "      <th>CRSDepTime</th>\n",
       "      <th>CRSArrTime</th>\n",
       "      <th>FlightNum</th>\n",
       "      <th>CRSElapsedTime</th>\n",
       "      <th>Distance</th>\n",
       "      <th>Cancelled</th>\n",
       "      <th>Diverted</th>\n",
       "      <th>Delayed</th>\n",
       "    </tr>\n",
       "  </thead>\n",
       "  <tbody>\n",
       "    <tr>\n",
       "      <th>0</th>\n",
       "      <td>1</td>\n",
       "      <td>3</td>\n",
       "      <td>4</td>\n",
       "      <td>1955</td>\n",
       "      <td>2225</td>\n",
       "      <td>335</td>\n",
       "      <td>150.0</td>\n",
       "      <td>810</td>\n",
       "      <td>0</td>\n",
       "      <td>0</td>\n",
       "      <td>0</td>\n",
       "    </tr>\n",
       "    <tr>\n",
       "      <th>1</th>\n",
       "      <td>1</td>\n",
       "      <td>3</td>\n",
       "      <td>4</td>\n",
       "      <td>735</td>\n",
       "      <td>1000</td>\n",
       "      <td>3231</td>\n",
       "      <td>145.0</td>\n",
       "      <td>810</td>\n",
       "      <td>0</td>\n",
       "      <td>0</td>\n",
       "      <td>0</td>\n",
       "    </tr>\n",
       "    <tr>\n",
       "      <th>2</th>\n",
       "      <td>1</td>\n",
       "      <td>3</td>\n",
       "      <td>4</td>\n",
       "      <td>620</td>\n",
       "      <td>750</td>\n",
       "      <td>448</td>\n",
       "      <td>90.0</td>\n",
       "      <td>515</td>\n",
       "      <td>0</td>\n",
       "      <td>0</td>\n",
       "      <td>0</td>\n",
       "    </tr>\n",
       "    <tr>\n",
       "      <th>3</th>\n",
       "      <td>1</td>\n",
       "      <td>3</td>\n",
       "      <td>4</td>\n",
       "      <td>1755</td>\n",
       "      <td>1925</td>\n",
       "      <td>3920</td>\n",
       "      <td>90.0</td>\n",
       "      <td>515</td>\n",
       "      <td>0</td>\n",
       "      <td>0</td>\n",
       "      <td>1</td>\n",
       "    </tr>\n",
       "    <tr>\n",
       "      <th>4</th>\n",
       "      <td>1</td>\n",
       "      <td>3</td>\n",
       "      <td>4</td>\n",
       "      <td>1915</td>\n",
       "      <td>2110</td>\n",
       "      <td>378</td>\n",
       "      <td>115.0</td>\n",
       "      <td>688</td>\n",
       "      <td>0</td>\n",
       "      <td>0</td>\n",
       "      <td>0</td>\n",
       "    </tr>\n",
       "  </tbody>\n",
       "</table>\n",
       "</div>"
      ],
      "text/plain": [
       "   Month  DayofMonth  DayOfWeek  CRSDepTime  CRSArrTime  FlightNum  CRSElapsedTime  Distance  Cancelled  Diverted  Delayed\n",
       "0      1           3          4        1955        2225        335           150.0       810          0         0        0\n",
       "1      1           3          4         735        1000       3231           145.0       810          0         0        0\n",
       "2      1           3          4         620         750        448            90.0       515          0         0        0\n",
       "3      1           3          4        1755        1925       3920            90.0       515          0         0        1\n",
       "4      1           3          4        1915        2110        378           115.0       688          0         0        0"
      ]
     },
     "execution_count": 29,
     "metadata": {},
     "output_type": "execute_result"
    }
   ],
   "source": [
    "df_1.head()"
   ]
  },
  {
   "cell_type": "code",
   "execution_count": 30,
   "id": "d98aa920",
   "metadata": {
    "ExecuteTime": {
     "end_time": "2021-06-08T16:10:18.349898Z",
     "start_time": "2021-06-08T16:10:16.490599Z"
    }
   },
   "outputs": [
    {
     "data": {
      "image/png": "[encoded data removed]",
      "text/plain": [
       "<Figure size 432x288 with 12 Axes>"
      ]
     },
     "metadata": {
      "needs_background": "light"
     },
     "output_type": "display_data"
    }
   ],
   "source": [
    "df_1.hist()\n",
    "plt.show()"
   ]
  },
  {
   "cell_type": "markdown",
   "id": "c12778c4",
   "metadata": {},
   "source": [
    "#### Mostra i divisió en train i test"
   ]
  },
  {
   "cell_type": "code",
   "execution_count": 31,
   "id": "33a891bb",
   "metadata": {
    "ExecuteTime": {
     "end_time": "2021-06-08T16:10:18.365561Z",
     "start_time": "2021-06-08T16:10:18.349898Z"
    }
   },
   "outputs": [],
   "source": [
    "forecast_col ='Delayed'"
   ]
  },
  {
   "cell_type": "code",
   "execution_count": 32,
   "id": "a4b74c51",
   "metadata": {
    "ExecuteTime": {
     "end_time": "2021-06-08T16:10:18.441369Z",
     "start_time": "2021-06-08T16:10:18.365561Z"
    }
   },
   "outputs": [
    {
     "data": {
      "text/plain": [
       "1    0.631674\n",
       "0    0.368326\n",
       "Name: Delayed, dtype: float64"
      ]
     },
     "execution_count": 32,
     "metadata": {},
     "output_type": "execute_result"
    }
   ],
   "source": [
    "df_1['Delayed'].value_counts(normalize=True)"
   ]
  },
  {
   "cell_type": "markdown",
   "id": "f7ae7be9",
   "metadata": {},
   "source": [
    "Agafem una mostra estratificada de només 20000 observacions pel cost computacional que suposa pels diferents algoritmes. Com que hi ha moltes més de 10000 observacions de cada classe, ens queda una mostra balancejada."
   ]
  },
  {
   "cell_type": "code",
   "execution_count": 33,
   "id": "97609d43",
   "metadata": {
    "ExecuteTime": {
     "end_time": "2021-06-08T16:10:18.771941Z",
     "start_time": "2021-06-08T16:10:18.441369Z"
    }
   },
   "outputs": [],
   "source": [
    "df_sample= df_1.groupby('Delayed', group_keys=False).apply(lambda x: x.sample(10000, random_state = 0))"
   ]
  },
  {
   "cell_type": "code",
   "execution_count": 34,
   "id": "2d40cefb",
   "metadata": {
    "ExecuteTime": {
     "end_time": "2021-06-08T16:10:18.803897Z",
     "start_time": "2021-06-08T16:10:18.776934Z"
    }
   },
   "outputs": [
    {
     "data": {
      "text/plain": [
       "0    10000\n",
       "1    10000\n",
       "Name: Delayed, dtype: int64"
      ]
     },
     "execution_count": 34,
     "metadata": {},
     "output_type": "execute_result"
    }
   ],
   "source": [
    "# Ens assegurem que la mostra respongui de manera corresponent a la proporció entre les classes:\n",
    "\n",
    "df_sample['Delayed'].value_counts()"
   ]
  },
  {
   "cell_type": "code",
   "execution_count": 35,
   "id": "932748d0",
   "metadata": {
    "ExecuteTime": {
     "end_time": "2021-06-08T16:10:18.867725Z",
     "start_time": "2021-06-08T16:10:18.806854Z"
    }
   },
   "outputs": [],
   "source": [
    "X = np.array(df_sample.drop([forecast_col], 1))\n",
    "y = np.array(df_sample[forecast_col])\n",
    "X = StandardScaler().fit_transform(X)\n",
    "X_train, X_test, y_train, y_test = train_test_split(X, y, test_size = 0.2, stratify = y)"
   ]
  },
  {
   "cell_type": "markdown",
   "id": "90ed179f",
   "metadata": {},
   "source": [
    "Random Forest"
   ]
  },
  {
   "cell_type": "code",
   "execution_count": 36,
   "id": "bce5f7cb",
   "metadata": {
    "ExecuteTime": {
     "end_time": "2021-06-08T16:10:18.883648Z",
     "start_time": "2021-06-08T16:10:18.869686Z"
    }
   },
   "outputs": [],
   "source": [
    "rf = RandomForestClassifier()"
   ]
  },
  {
   "cell_type": "code",
   "execution_count": 37,
   "id": "83e0ff32",
   "metadata": {
    "ExecuteTime": {
     "end_time": "2021-06-08T16:10:22.595290Z",
     "start_time": "2021-06-08T16:10:18.886640Z"
    }
   },
   "outputs": [
    {
     "data": {
      "text/plain": [
       "RandomForestClassifier()"
      ]
     },
     "execution_count": 37,
     "metadata": {},
     "output_type": "execute_result"
    }
   ],
   "source": [
    "rf.fit(X_train, y_train)"
   ]
  },
  {
   "cell_type": "code",
   "execution_count": 38,
   "id": "6ece1669",
   "metadata": {
    "ExecuteTime": {
     "end_time": "2021-06-08T16:10:22.738229Z",
     "start_time": "2021-06-08T16:10:22.598280Z"
    }
   },
   "outputs": [],
   "source": [
    "rf_pred = rf.predict(X_test)"
   ]
  },
  {
   "cell_type": "code",
   "execution_count": 39,
   "id": "cdd5e777",
   "metadata": {
    "ExecuteTime": {
     "end_time": "2021-06-08T16:10:22.773011Z",
     "start_time": "2021-06-08T16:10:22.743225Z"
    }
   },
   "outputs": [
    {
     "data": {
      "text/html": [
       "<div>\n",
       "<style scoped>\n",
       "    .dataframe tbody tr th:only-of-type {\n",
       "        vertical-align: middle;\n",
       "    }\n",
       "\n",
       "    .dataframe tbody tr th {\n",
       "        vertical-align: top;\n",
       "    }\n",
       "\n",
       "    .dataframe thead th {\n",
       "        text-align: right;\n",
       "    }\n",
       "</style>\n",
       "<table border=\"1\" class=\"dataframe\">\n",
       "  <thead>\n",
       "    <tr style=\"text-align: right;\">\n",
       "      <th></th>\n",
       "      <th>Actual</th>\n",
       "      <th>Predicted</th>\n",
       "    </tr>\n",
       "  </thead>\n",
       "  <tbody>\n",
       "    <tr>\n",
       "      <th>0</th>\n",
       "      <td>1</td>\n",
       "      <td>0</td>\n",
       "    </tr>\n",
       "    <tr>\n",
       "      <th>1</th>\n",
       "      <td>1</td>\n",
       "      <td>1</td>\n",
       "    </tr>\n",
       "    <tr>\n",
       "      <th>2</th>\n",
       "      <td>0</td>\n",
       "      <td>0</td>\n",
       "    </tr>\n",
       "    <tr>\n",
       "      <th>3</th>\n",
       "      <td>0</td>\n",
       "      <td>1</td>\n",
       "    </tr>\n",
       "    <tr>\n",
       "      <th>4</th>\n",
       "      <td>0</td>\n",
       "      <td>1</td>\n",
       "    </tr>\n",
       "    <tr>\n",
       "      <th>...</th>\n",
       "      <td>...</td>\n",
       "      <td>...</td>\n",
       "    </tr>\n",
       "    <tr>\n",
       "      <th>3995</th>\n",
       "      <td>0</td>\n",
       "      <td>1</td>\n",
       "    </tr>\n",
       "    <tr>\n",
       "      <th>3996</th>\n",
       "      <td>0</td>\n",
       "      <td>0</td>\n",
       "    </tr>\n",
       "    <tr>\n",
       "      <th>3997</th>\n",
       "      <td>0</td>\n",
       "      <td>0</td>\n",
       "    </tr>\n",
       "    <tr>\n",
       "      <th>3998</th>\n",
       "      <td>0</td>\n",
       "      <td>0</td>\n",
       "    </tr>\n",
       "    <tr>\n",
       "      <th>3999</th>\n",
       "      <td>1</td>\n",
       "      <td>0</td>\n",
       "    </tr>\n",
       "  </tbody>\n",
       "</table>\n",
       "<p>4000 rows × 2 columns</p>\n",
       "</div>"
      ],
      "text/plain": [
       "      Actual  Predicted\n",
       "0          1          0\n",
       "1          1          1\n",
       "2          0          0\n",
       "3          0          1\n",
       "4          0          1\n",
       "...      ...        ...\n",
       "3995       0          1\n",
       "3996       0          0\n",
       "3997       0          0\n",
       "3998       0          0\n",
       "3999       1          0\n",
       "\n",
       "[4000 rows x 2 columns]"
      ]
     },
     "execution_count": 39,
     "metadata": {},
     "output_type": "execute_result"
    }
   ],
   "source": [
    "df_rf=pd.DataFrame({'Actual':y_test, 'Predicted':rf_pred})\n",
    "df_rf"
   ]
  },
  {
   "cell_type": "code",
   "execution_count": 40,
   "id": "8bf5ec43",
   "metadata": {
    "ExecuteTime": {
     "end_time": "2021-06-08T16:10:22.804924Z",
     "start_time": "2021-06-08T16:10:22.775005Z"
    }
   },
   "outputs": [
    {
     "name": "stdout",
     "output_type": "stream",
     "text": [
      "0.561\n"
     ]
    }
   ],
   "source": [
    "score_rf = metrics.accuracy_score(y_test, rf_pred)\n",
    "print(score_rf)"
   ]
  },
  {
   "cell_type": "markdown",
   "id": "b407fbff",
   "metadata": {},
   "source": [
    "Classification Tree "
   ]
  },
  {
   "cell_type": "code",
   "execution_count": 41,
   "id": "c16fcf3a",
   "metadata": {
    "ExecuteTime": {
     "end_time": "2021-06-08T16:10:22.825091Z",
     "start_time": "2021-06-08T16:10:22.807918Z"
    }
   },
   "outputs": [],
   "source": [
    "ct = DecisionTreeClassifier()"
   ]
  },
  {
   "cell_type": "code",
   "execution_count": 42,
   "id": "feef85a6",
   "metadata": {
    "ExecuteTime": {
     "end_time": "2021-06-08T16:10:23.014625Z",
     "start_time": "2021-06-08T16:10:22.825091Z"
    }
   },
   "outputs": [],
   "source": [
    "ct = ct.fit(X_train,y_train)"
   ]
  },
  {
   "cell_type": "code",
   "execution_count": 43,
   "id": "06010ea5",
   "metadata": {
    "ExecuteTime": {
     "end_time": "2021-06-08T16:10:23.029593Z",
     "start_time": "2021-06-08T16:10:23.017625Z"
    }
   },
   "outputs": [],
   "source": [
    "ct_pred = ct.predict(X_test)"
   ]
  },
  {
   "cell_type": "code",
   "execution_count": 44,
   "id": "458b558f",
   "metadata": {
    "ExecuteTime": {
     "end_time": "2021-06-08T16:10:23.077644Z",
     "start_time": "2021-06-08T16:10:23.031587Z"
    }
   },
   "outputs": [
    {
     "data": {
      "text/html": [
       "<div>\n",
       "<style scoped>\n",
       "    .dataframe tbody tr th:only-of-type {\n",
       "        vertical-align: middle;\n",
       "    }\n",
       "\n",
       "    .dataframe tbody tr th {\n",
       "        vertical-align: top;\n",
       "    }\n",
       "\n",
       "    .dataframe thead th {\n",
       "        text-align: right;\n",
       "    }\n",
       "</style>\n",
       "<table border=\"1\" class=\"dataframe\">\n",
       "  <thead>\n",
       "    <tr style=\"text-align: right;\">\n",
       "      <th></th>\n",
       "      <th>Actual</th>\n",
       "      <th>Predicted</th>\n",
       "    </tr>\n",
       "  </thead>\n",
       "  <tbody>\n",
       "    <tr>\n",
       "      <th>0</th>\n",
       "      <td>1</td>\n",
       "      <td>1</td>\n",
       "    </tr>\n",
       "    <tr>\n",
       "      <th>1</th>\n",
       "      <td>1</td>\n",
       "      <td>0</td>\n",
       "    </tr>\n",
       "    <tr>\n",
       "      <th>2</th>\n",
       "      <td>0</td>\n",
       "      <td>0</td>\n",
       "    </tr>\n",
       "    <tr>\n",
       "      <th>3</th>\n",
       "      <td>0</td>\n",
       "      <td>0</td>\n",
       "    </tr>\n",
       "    <tr>\n",
       "      <th>4</th>\n",
       "      <td>0</td>\n",
       "      <td>1</td>\n",
       "    </tr>\n",
       "    <tr>\n",
       "      <th>...</th>\n",
       "      <td>...</td>\n",
       "      <td>...</td>\n",
       "    </tr>\n",
       "    <tr>\n",
       "      <th>3995</th>\n",
       "      <td>0</td>\n",
       "      <td>1</td>\n",
       "    </tr>\n",
       "    <tr>\n",
       "      <th>3996</th>\n",
       "      <td>0</td>\n",
       "      <td>1</td>\n",
       "    </tr>\n",
       "    <tr>\n",
       "      <th>3997</th>\n",
       "      <td>0</td>\n",
       "      <td>0</td>\n",
       "    </tr>\n",
       "    <tr>\n",
       "      <th>3998</th>\n",
       "      <td>0</td>\n",
       "      <td>1</td>\n",
       "    </tr>\n",
       "    <tr>\n",
       "      <th>3999</th>\n",
       "      <td>1</td>\n",
       "      <td>1</td>\n",
       "    </tr>\n",
       "  </tbody>\n",
       "</table>\n",
       "<p>4000 rows × 2 columns</p>\n",
       "</div>"
      ],
      "text/plain": [
       "      Actual  Predicted\n",
       "0          1          1\n",
       "1          1          0\n",
       "2          0          0\n",
       "3          0          0\n",
       "4          0          1\n",
       "...      ...        ...\n",
       "3995       0          1\n",
       "3996       0          1\n",
       "3997       0          0\n",
       "3998       0          1\n",
       "3999       1          1\n",
       "\n",
       "[4000 rows x 2 columns]"
      ]
     },
     "execution_count": 44,
     "metadata": {},
     "output_type": "execute_result"
    }
   ],
   "source": [
    "df_ct=pd.DataFrame({'Actual':y_test, 'Predicted':ct_pred})\n",
    "df_ct"
   ]
  },
  {
   "cell_type": "code",
   "execution_count": 45,
   "id": "ee61d395",
   "metadata": {
    "ExecuteTime": {
     "end_time": "2021-06-08T16:10:23.093565Z",
     "start_time": "2021-06-08T16:10:23.081598Z"
    }
   },
   "outputs": [
    {
     "name": "stdout",
     "output_type": "stream",
     "text": [
      "0.53325\n"
     ]
    }
   ],
   "source": [
    "score_ct = metrics.accuracy_score(y_test, ct_pred)\n",
    "print(score_ct)"
   ]
  },
  {
   "cell_type": "markdown",
   "id": "486d79fb",
   "metadata": {},
   "source": [
    " XGBoost "
   ]
  },
  {
   "cell_type": "code",
   "execution_count": 46,
   "id": "db9767e4",
   "metadata": {
    "ExecuteTime": {
     "end_time": "2021-06-08T16:10:23.109521Z",
     "start_time": "2021-06-08T16:10:23.096558Z"
    }
   },
   "outputs": [],
   "source": [
    "xgb_clf = xgb.XGBClassifier()"
   ]
  },
  {
   "cell_type": "code",
   "execution_count": 47,
   "id": "79439238",
   "metadata": {
    "ExecuteTime": {
     "end_time": "2021-06-08T16:10:24.358828Z",
     "start_time": "2021-06-08T16:10:23.112516Z"
    }
   },
   "outputs": [
    {
     "name": "stdout",
     "output_type": "stream",
     "text": [
      "[18:10:23] WARNING: C:/Users/Administrator/workspace/xgboost-win64_release_1.4.0/src/learner.cc:1095: Starting in XGBoost 1.3.0, the default evaluation metric used with the objective 'binary:logistic' was changed from 'error' to 'logloss'. Explicitly set eval_metric if you'd like to restore the old behavior.\n"
     ]
    },
    {
     "data": {
      "text/plain": [
       "XGBClassifier(base_score=0.5, booster='gbtree', colsample_bylevel=1,\n",
       "              colsample_bynode=1, colsample_bytree=1, gamma=0, gpu_id=-1,\n",
       "              importance_type='gain', interaction_constraints='',\n",
       "              learning_rate=0.300000012, max_delta_step=0, max_depth=6,\n",
       "              min_child_weight=1, missing=nan, monotone_constraints='()',\n",
       "              n_estimators=100, n_jobs=4, num_parallel_tree=1, random_state=0,\n",
       "              reg_alpha=0, reg_lambda=1, scale_pos_weight=1, subsample=1,\n",
       "              tree_method='exact', validate_parameters=1, verbosity=None)"
      ]
     },
     "execution_count": 47,
     "metadata": {},
     "output_type": "execute_result"
    }
   ],
   "source": [
    "xgb_clf.fit(X_train,y_train)"
   ]
  },
  {
   "cell_type": "code",
   "execution_count": 48,
   "id": "6df73263",
   "metadata": {
    "ExecuteTime": {
     "end_time": "2021-06-08T16:10:24.388742Z",
     "start_time": "2021-06-08T16:10:24.360824Z"
    }
   },
   "outputs": [],
   "source": [
    "xgb_pred = xgb_clf.predict(X_test)"
   ]
  },
  {
   "cell_type": "code",
   "execution_count": 49,
   "id": "104e4107",
   "metadata": {
    "ExecuteTime": {
     "end_time": "2021-06-08T16:10:24.419556Z",
     "start_time": "2021-06-08T16:10:24.388742Z"
    }
   },
   "outputs": [
    {
     "data": {
      "text/html": [
       "<div>\n",
       "<style scoped>\n",
       "    .dataframe tbody tr th:only-of-type {\n",
       "        vertical-align: middle;\n",
       "    }\n",
       "\n",
       "    .dataframe tbody tr th {\n",
       "        vertical-align: top;\n",
       "    }\n",
       "\n",
       "    .dataframe thead th {\n",
       "        text-align: right;\n",
       "    }\n",
       "</style>\n",
       "<table border=\"1\" class=\"dataframe\">\n",
       "  <thead>\n",
       "    <tr style=\"text-align: right;\">\n",
       "      <th></th>\n",
       "      <th>Actual</th>\n",
       "      <th>Predicted</th>\n",
       "    </tr>\n",
       "  </thead>\n",
       "  <tbody>\n",
       "    <tr>\n",
       "      <th>0</th>\n",
       "      <td>1</td>\n",
       "      <td>0</td>\n",
       "    </tr>\n",
       "    <tr>\n",
       "      <th>1</th>\n",
       "      <td>1</td>\n",
       "      <td>0</td>\n",
       "    </tr>\n",
       "    <tr>\n",
       "      <th>2</th>\n",
       "      <td>0</td>\n",
       "      <td>0</td>\n",
       "    </tr>\n",
       "    <tr>\n",
       "      <th>3</th>\n",
       "      <td>0</td>\n",
       "      <td>1</td>\n",
       "    </tr>\n",
       "    <tr>\n",
       "      <th>4</th>\n",
       "      <td>0</td>\n",
       "      <td>1</td>\n",
       "    </tr>\n",
       "    <tr>\n",
       "      <th>...</th>\n",
       "      <td>...</td>\n",
       "      <td>...</td>\n",
       "    </tr>\n",
       "    <tr>\n",
       "      <th>3995</th>\n",
       "      <td>0</td>\n",
       "      <td>1</td>\n",
       "    </tr>\n",
       "    <tr>\n",
       "      <th>3996</th>\n",
       "      <td>0</td>\n",
       "      <td>1</td>\n",
       "    </tr>\n",
       "    <tr>\n",
       "      <th>3997</th>\n",
       "      <td>0</td>\n",
       "      <td>0</td>\n",
       "    </tr>\n",
       "    <tr>\n",
       "      <th>3998</th>\n",
       "      <td>0</td>\n",
       "      <td>0</td>\n",
       "    </tr>\n",
       "    <tr>\n",
       "      <th>3999</th>\n",
       "      <td>1</td>\n",
       "      <td>0</td>\n",
       "    </tr>\n",
       "  </tbody>\n",
       "</table>\n",
       "<p>4000 rows × 2 columns</p>\n",
       "</div>"
      ],
      "text/plain": [
       "      Actual  Predicted\n",
       "0          1          0\n",
       "1          1          0\n",
       "2          0          0\n",
       "3          0          1\n",
       "4          0          1\n",
       "...      ...        ...\n",
       "3995       0          1\n",
       "3996       0          1\n",
       "3997       0          0\n",
       "3998       0          0\n",
       "3999       1          0\n",
       "\n",
       "[4000 rows x 2 columns]"
      ]
     },
     "execution_count": 49,
     "metadata": {},
     "output_type": "execute_result"
    }
   ],
   "source": [
    "df_xgb=pd.DataFrame({'Actual':y_test, 'Predicted':xgb_pred})\n",
    "df_xgb"
   ]
  },
  {
   "cell_type": "code",
   "execution_count": 50,
   "id": "cbcfb026",
   "metadata": {
    "ExecuteTime": {
     "end_time": "2021-06-08T16:10:24.435513Z",
     "start_time": "2021-06-08T16:10:24.422549Z"
    }
   },
   "outputs": [
    {
     "name": "stdout",
     "output_type": "stream",
     "text": [
      "Accuracy: 0.5575\n"
     ]
    }
   ],
   "source": [
    "print(\"Accuracy:\",metrics.accuracy_score(y_test, xgb_pred))"
   ]
  },
  {
   "cell_type": "markdown",
   "id": "f94c3b2e",
   "metadata": {},
   "source": [
    "K-Nearest Neighbours"
   ]
  },
  {
   "cell_type": "code",
   "execution_count": 51,
   "id": "b1d4b4c0",
   "metadata": {
    "ExecuteTime": {
     "end_time": "2021-06-08T16:10:24.451471Z",
     "start_time": "2021-06-08T16:10:24.438509Z"
    }
   },
   "outputs": [],
   "source": [
    "knn = KNeighborsClassifier()"
   ]
  },
  {
   "cell_type": "code",
   "execution_count": 52,
   "id": "b0ad3344",
   "metadata": {
    "ExecuteTime": {
     "end_time": "2021-06-08T16:10:24.848067Z",
     "start_time": "2021-06-08T16:10:24.454464Z"
    }
   },
   "outputs": [
    {
     "data": {
      "text/plain": [
       "KNeighborsClassifier()"
      ]
     },
     "execution_count": 52,
     "metadata": {},
     "output_type": "execute_result"
    }
   ],
   "source": [
    "knn.fit(X_train, y_train)"
   ]
  },
  {
   "cell_type": "code",
   "execution_count": 53,
   "id": "55c45b85",
   "metadata": {
    "ExecuteTime": {
     "end_time": "2021-06-08T16:10:26.095052Z",
     "start_time": "2021-06-08T16:10:24.850025Z"
    }
   },
   "outputs": [],
   "source": [
    "knn_pred = knn.predict(X_test)"
   ]
  },
  {
   "cell_type": "code",
   "execution_count": 54,
   "id": "301ec680",
   "metadata": {
    "ExecuteTime": {
     "end_time": "2021-06-08T16:10:26.142925Z",
     "start_time": "2021-06-08T16:10:26.100040Z"
    }
   },
   "outputs": [
    {
     "data": {
      "text/html": [
       "<div>\n",
       "<style scoped>\n",
       "    .dataframe tbody tr th:only-of-type {\n",
       "        vertical-align: middle;\n",
       "    }\n",
       "\n",
       "    .dataframe tbody tr th {\n",
       "        vertical-align: top;\n",
       "    }\n",
       "\n",
       "    .dataframe thead th {\n",
       "        text-align: right;\n",
       "    }\n",
       "</style>\n",
       "<table border=\"1\" class=\"dataframe\">\n",
       "  <thead>\n",
       "    <tr style=\"text-align: right;\">\n",
       "      <th></th>\n",
       "      <th>Actual</th>\n",
       "      <th>Predicted</th>\n",
       "    </tr>\n",
       "  </thead>\n",
       "  <tbody>\n",
       "    <tr>\n",
       "      <th>0</th>\n",
       "      <td>1</td>\n",
       "      <td>0</td>\n",
       "    </tr>\n",
       "    <tr>\n",
       "      <th>1</th>\n",
       "      <td>1</td>\n",
       "      <td>1</td>\n",
       "    </tr>\n",
       "    <tr>\n",
       "      <th>2</th>\n",
       "      <td>0</td>\n",
       "      <td>0</td>\n",
       "    </tr>\n",
       "    <tr>\n",
       "      <th>3</th>\n",
       "      <td>0</td>\n",
       "      <td>1</td>\n",
       "    </tr>\n",
       "    <tr>\n",
       "      <th>4</th>\n",
       "      <td>0</td>\n",
       "      <td>1</td>\n",
       "    </tr>\n",
       "    <tr>\n",
       "      <th>...</th>\n",
       "      <td>...</td>\n",
       "      <td>...</td>\n",
       "    </tr>\n",
       "    <tr>\n",
       "      <th>3995</th>\n",
       "      <td>0</td>\n",
       "      <td>0</td>\n",
       "    </tr>\n",
       "    <tr>\n",
       "      <th>3996</th>\n",
       "      <td>0</td>\n",
       "      <td>0</td>\n",
       "    </tr>\n",
       "    <tr>\n",
       "      <th>3997</th>\n",
       "      <td>0</td>\n",
       "      <td>1</td>\n",
       "    </tr>\n",
       "    <tr>\n",
       "      <th>3998</th>\n",
       "      <td>0</td>\n",
       "      <td>1</td>\n",
       "    </tr>\n",
       "    <tr>\n",
       "      <th>3999</th>\n",
       "      <td>1</td>\n",
       "      <td>1</td>\n",
       "    </tr>\n",
       "  </tbody>\n",
       "</table>\n",
       "<p>4000 rows × 2 columns</p>\n",
       "</div>"
      ],
      "text/plain": [
       "      Actual  Predicted\n",
       "0          1          0\n",
       "1          1          1\n",
       "2          0          0\n",
       "3          0          1\n",
       "4          0          1\n",
       "...      ...        ...\n",
       "3995       0          0\n",
       "3996       0          0\n",
       "3997       0          1\n",
       "3998       0          1\n",
       "3999       1          1\n",
       "\n",
       "[4000 rows x 2 columns]"
      ]
     },
     "execution_count": 54,
     "metadata": {},
     "output_type": "execute_result"
    }
   ],
   "source": [
    "df_knn=pd.DataFrame({'Actual':y_test, 'Predicted':knn_pred})\n",
    "df_knn"
   ]
  },
  {
   "cell_type": "code",
   "execution_count": 55,
   "id": "782b37cb",
   "metadata": {
    "ExecuteTime": {
     "end_time": "2021-06-08T16:10:26.158882Z",
     "start_time": "2021-06-08T16:10:26.145917Z"
    }
   },
   "outputs": [
    {
     "name": "stdout",
     "output_type": "stream",
     "text": [
      "0.531\n"
     ]
    }
   ],
   "source": [
    "score_knn = metrics.accuracy_score(y_test, knn_pred)\n",
    "print(score_knn)"
   ]
  },
  {
   "cell_type": "markdown",
   "id": "49cdd130",
   "metadata": {},
   "source": [
    "Logistic Regression "
   ]
  },
  {
   "cell_type": "code",
   "execution_count": 56,
   "id": "b8caba5b",
   "metadata": {
    "ExecuteTime": {
     "end_time": "2021-06-08T16:10:26.174641Z",
     "start_time": "2021-06-08T16:10:26.161875Z"
    }
   },
   "outputs": [],
   "source": [
    "logisticRegr = LogisticRegression()"
   ]
  },
  {
   "cell_type": "code",
   "execution_count": 57,
   "id": "d51ba09f",
   "metadata": {
    "ExecuteTime": {
     "end_time": "2021-06-08T16:10:26.269397Z",
     "start_time": "2021-06-08T16:10:26.177634Z"
    }
   },
   "outputs": [
    {
     "data": {
      "text/plain": [
       "LogisticRegression()"
      ]
     },
     "execution_count": 57,
     "metadata": {},
     "output_type": "execute_result"
    }
   ],
   "source": [
    "logisticRegr.fit(X_train, y_train)"
   ]
  },
  {
   "cell_type": "code",
   "execution_count": 58,
   "id": "172bfe90",
   "metadata": {
    "ExecuteTime": {
     "end_time": "2021-06-08T16:10:26.285343Z",
     "start_time": "2021-06-08T16:10:26.273377Z"
    }
   },
   "outputs": [],
   "source": [
    "lr_pred = logisticRegr.predict(X_test)"
   ]
  },
  {
   "cell_type": "code",
   "execution_count": 59,
   "id": "c8ace611",
   "metadata": {
    "ExecuteTime": {
     "end_time": "2021-06-08T16:10:26.328932Z",
     "start_time": "2021-06-08T16:10:26.288336Z"
    }
   },
   "outputs": [
    {
     "data": {
      "text/html": [
       "<div>\n",
       "<style scoped>\n",
       "    .dataframe tbody tr th:only-of-type {\n",
       "        vertical-align: middle;\n",
       "    }\n",
       "\n",
       "    .dataframe tbody tr th {\n",
       "        vertical-align: top;\n",
       "    }\n",
       "\n",
       "    .dataframe thead th {\n",
       "        text-align: right;\n",
       "    }\n",
       "</style>\n",
       "<table border=\"1\" class=\"dataframe\">\n",
       "  <thead>\n",
       "    <tr style=\"text-align: right;\">\n",
       "      <th></th>\n",
       "      <th>Actual</th>\n",
       "      <th>Predicted</th>\n",
       "    </tr>\n",
       "  </thead>\n",
       "  <tbody>\n",
       "    <tr>\n",
       "      <th>0</th>\n",
       "      <td>1</td>\n",
       "      <td>1</td>\n",
       "    </tr>\n",
       "    <tr>\n",
       "      <th>1</th>\n",
       "      <td>1</td>\n",
       "      <td>1</td>\n",
       "    </tr>\n",
       "    <tr>\n",
       "      <th>2</th>\n",
       "      <td>0</td>\n",
       "      <td>0</td>\n",
       "    </tr>\n",
       "    <tr>\n",
       "      <th>3</th>\n",
       "      <td>0</td>\n",
       "      <td>0</td>\n",
       "    </tr>\n",
       "    <tr>\n",
       "      <th>4</th>\n",
       "      <td>0</td>\n",
       "      <td>1</td>\n",
       "    </tr>\n",
       "    <tr>\n",
       "      <th>...</th>\n",
       "      <td>...</td>\n",
       "      <td>...</td>\n",
       "    </tr>\n",
       "    <tr>\n",
       "      <th>3995</th>\n",
       "      <td>0</td>\n",
       "      <td>1</td>\n",
       "    </tr>\n",
       "    <tr>\n",
       "      <th>3996</th>\n",
       "      <td>0</td>\n",
       "      <td>1</td>\n",
       "    </tr>\n",
       "    <tr>\n",
       "      <th>3997</th>\n",
       "      <td>0</td>\n",
       "      <td>0</td>\n",
       "    </tr>\n",
       "    <tr>\n",
       "      <th>3998</th>\n",
       "      <td>0</td>\n",
       "      <td>1</td>\n",
       "    </tr>\n",
       "    <tr>\n",
       "      <th>3999</th>\n",
       "      <td>1</td>\n",
       "      <td>0</td>\n",
       "    </tr>\n",
       "  </tbody>\n",
       "</table>\n",
       "<p>4000 rows × 2 columns</p>\n",
       "</div>"
      ],
      "text/plain": [
       "      Actual  Predicted\n",
       "0          1          1\n",
       "1          1          1\n",
       "2          0          0\n",
       "3          0          0\n",
       "4          0          1\n",
       "...      ...        ...\n",
       "3995       0          1\n",
       "3996       0          1\n",
       "3997       0          0\n",
       "3998       0          1\n",
       "3999       1          0\n",
       "\n",
       "[4000 rows x 2 columns]"
      ]
     },
     "execution_count": 59,
     "metadata": {},
     "output_type": "execute_result"
    }
   ],
   "source": [
    "df_lr=pd.DataFrame({'Actual':y_test, 'Predicted':lr_pred})\n",
    "df_lr"
   ]
  },
  {
   "cell_type": "code",
   "execution_count": 60,
   "id": "73747aa9",
   "metadata": {
    "ExecuteTime": {
     "end_time": "2021-06-08T16:10:26.344554Z",
     "start_time": "2021-06-08T16:10:26.328932Z"
    }
   },
   "outputs": [
    {
     "name": "stdout",
     "output_type": "stream",
     "text": [
      "0.55575\n"
     ]
    }
   ],
   "source": [
    "score_lr = metrics.accuracy_score(y_test, lr_pred)\n",
    "print(score_lr)"
   ]
  },
  {
   "cell_type": "markdown",
   "id": "5ae45fa6",
   "metadata": {},
   "source": [
    "Support Vector Machine (SVM) "
   ]
  },
  {
   "cell_type": "code",
   "execution_count": 61,
   "id": "9082380c",
   "metadata": {
    "ExecuteTime": {
     "end_time": "2021-06-08T16:10:26.360564Z",
     "start_time": "2021-06-08T16:10:26.348595Z"
    }
   },
   "outputs": [],
   "source": [
    "svm_clf= svm.SVC(kernel='linear')"
   ]
  },
  {
   "cell_type": "code",
   "execution_count": 62,
   "id": "32a84300",
   "metadata": {
    "ExecuteTime": {
     "end_time": "2021-06-08T16:10:42.243130Z",
     "start_time": "2021-06-08T16:10:26.363556Z"
    }
   },
   "outputs": [
    {
     "data": {
      "text/plain": [
       "SVC(kernel='linear')"
      ]
     },
     "execution_count": 62,
     "metadata": {},
     "output_type": "execute_result"
    }
   ],
   "source": [
    "svm_clf.fit(X_train, y_train)"
   ]
  },
  {
   "cell_type": "code",
   "execution_count": 63,
   "id": "d3646c79",
   "metadata": {
    "ExecuteTime": {
     "end_time": "2021-06-08T16:10:44.262728Z",
     "start_time": "2021-06-08T16:10:42.245124Z"
    }
   },
   "outputs": [],
   "source": [
    "svm_pred = svm_clf.predict(X_test)"
   ]
  },
  {
   "cell_type": "code",
   "execution_count": 64,
   "id": "70701993",
   "metadata": {
    "ExecuteTime": {
     "end_time": "2021-06-08T16:10:44.294642Z",
     "start_time": "2021-06-08T16:10:44.264722Z"
    },
    "scrolled": true
   },
   "outputs": [
    {
     "data": {
      "text/html": [
       "<div>\n",
       "<style scoped>\n",
       "    .dataframe tbody tr th:only-of-type {\n",
       "        vertical-align: middle;\n",
       "    }\n",
       "\n",
       "    .dataframe tbody tr th {\n",
       "        vertical-align: top;\n",
       "    }\n",
       "\n",
       "    .dataframe thead th {\n",
       "        text-align: right;\n",
       "    }\n",
       "</style>\n",
       "<table border=\"1\" class=\"dataframe\">\n",
       "  <thead>\n",
       "    <tr style=\"text-align: right;\">\n",
       "      <th></th>\n",
       "      <th>Actual</th>\n",
       "      <th>Predicted</th>\n",
       "    </tr>\n",
       "  </thead>\n",
       "  <tbody>\n",
       "    <tr>\n",
       "      <th>0</th>\n",
       "      <td>1</td>\n",
       "      <td>1</td>\n",
       "    </tr>\n",
       "    <tr>\n",
       "      <th>1</th>\n",
       "      <td>1</td>\n",
       "      <td>1</td>\n",
       "    </tr>\n",
       "    <tr>\n",
       "      <th>2</th>\n",
       "      <td>0</td>\n",
       "      <td>0</td>\n",
       "    </tr>\n",
       "    <tr>\n",
       "      <th>3</th>\n",
       "      <td>0</td>\n",
       "      <td>0</td>\n",
       "    </tr>\n",
       "    <tr>\n",
       "      <th>4</th>\n",
       "      <td>0</td>\n",
       "      <td>1</td>\n",
       "    </tr>\n",
       "    <tr>\n",
       "      <th>...</th>\n",
       "      <td>...</td>\n",
       "      <td>...</td>\n",
       "    </tr>\n",
       "    <tr>\n",
       "      <th>3995</th>\n",
       "      <td>0</td>\n",
       "      <td>1</td>\n",
       "    </tr>\n",
       "    <tr>\n",
       "      <th>3996</th>\n",
       "      <td>0</td>\n",
       "      <td>1</td>\n",
       "    </tr>\n",
       "    <tr>\n",
       "      <th>3997</th>\n",
       "      <td>0</td>\n",
       "      <td>0</td>\n",
       "    </tr>\n",
       "    <tr>\n",
       "      <th>3998</th>\n",
       "      <td>0</td>\n",
       "      <td>1</td>\n",
       "    </tr>\n",
       "    <tr>\n",
       "      <th>3999</th>\n",
       "      <td>1</td>\n",
       "      <td>0</td>\n",
       "    </tr>\n",
       "  </tbody>\n",
       "</table>\n",
       "<p>4000 rows × 2 columns</p>\n",
       "</div>"
      ],
      "text/plain": [
       "      Actual  Predicted\n",
       "0          1          1\n",
       "1          1          1\n",
       "2          0          0\n",
       "3          0          0\n",
       "4          0          1\n",
       "...      ...        ...\n",
       "3995       0          1\n",
       "3996       0          1\n",
       "3997       0          0\n",
       "3998       0          1\n",
       "3999       1          0\n",
       "\n",
       "[4000 rows x 2 columns]"
      ]
     },
     "execution_count": 64,
     "metadata": {},
     "output_type": "execute_result"
    }
   ],
   "source": [
    "df_svm=pd.DataFrame({'Actual':y_test, 'Predicted':svm_pred})\n",
    "df_svm"
   ]
  },
  {
   "cell_type": "code",
   "execution_count": 65,
   "id": "de245368",
   "metadata": {
    "ExecuteTime": {
     "end_time": "2021-06-08T16:10:44.310601Z",
     "start_time": "2021-06-08T16:10:44.296639Z"
    },
    "scrolled": true
   },
   "outputs": [
    {
     "name": "stdout",
     "output_type": "stream",
     "text": [
      "Accuracy: 0.555\n"
     ]
    }
   ],
   "source": [
    "print(\"Accuracy:\",metrics.accuracy_score(y_test, svm_pred))"
   ]
  },
  {
   "cell_type": "markdown",
   "id": "00645734",
   "metadata": {},
   "source": [
    "#### Extra: comparació algoritmes automatitzada i visualització"
   ]
  },
  {
   "cell_type": "code",
   "execution_count": 66,
   "id": "8627bed8",
   "metadata": {
    "ExecuteTime": {
     "end_time": "2021-06-08T16:10:44.327553Z",
     "start_time": "2021-06-08T16:10:44.313593Z"
    }
   },
   "outputs": [],
   "source": [
    "# Automatitzar:\n",
    "\n",
    "models = [('RForest', RandomForestClassifier()), \n",
    "          ('DecTree', DecisionTreeClassifier()),\n",
    "          ('XGBoost', xgb.XGBClassifier(verbosity = 0)),\n",
    "          ('KNN', KNeighborsClassifier()),\n",
    "          ('LogisticReg', LogisticRegression()),\n",
    "          ('GaussianNB', GaussianNB()) #Afegim el Gaussian Naive-Bayes i treiem el SVM.\n",
    "         ]\n",
    "\n",
    "scoring = 'accuracy'\n",
    "# scoring = ['accuracy','precision_macro', 'recall_macro', 'f1_macro']"
   ]
  },
  {
   "cell_type": "code",
   "execution_count": 67,
   "id": "7ddcf5ff",
   "metadata": {
    "ExecuteTime": {
     "end_time": "2021-06-08T16:11:41.742801Z",
     "start_time": "2021-06-08T16:10:44.330547Z"
    }
   },
   "outputs": [
    {
     "name": "stdout",
     "output_type": "stream",
     "text": [
      "RForest: 0.549875 (0.013529)\n",
      "DecTree: 0.524312 (0.012548)\n",
      "XGBoost: 0.552875 (0.011009)\n",
      "KNN: 0.527375 (0.011190)\n",
      "LogisticReg: 0.542063 (0.016071)\n",
      "GaussianNB: 0.503688 (0.012458)\n"
     ]
    }
   ],
   "source": [
    "results = []\n",
    "names = []\n",
    "\n",
    "for name, model in models:\n",
    "    kfold = model_selection.KFold(n_splits=10, random_state=2, shuffle = True)\n",
    "    cv_results = model_selection.cross_val_score(model, X_train, y_train, cv=kfold, scoring=scoring)\n",
    "    results.append(cv_results)\n",
    "    names.append(name)\n",
    "    msg = \"%s: %f (%f)\" % (name, cv_results.mean(), cv_results.std())\n",
    "    print(msg)\n",
    "\n",
    "    "
   ]
  },
  {
   "cell_type": "code",
   "execution_count": 68,
   "id": "7fa4a44b",
   "metadata": {
    "ExecuteTime": {
     "end_time": "2021-06-08T16:11:42.090868Z",
     "start_time": "2021-06-08T16:11:41.766737Z"
    }
   },
   "outputs": [
    {
     "data": {
      "image/png": "[encoded data removed]",
      "text/plain": [
       "<Figure size 432x288 with 1 Axes>"
      ]
     },
     "metadata": {
      "needs_background": "light"
     },
     "output_type": "display_data"
    }
   ],
   "source": [
    "fig = plt.figure()\n",
    "fig.suptitle('Algorithm Comparison')\n",
    "ax = fig.add_subplot(111)\n",
    "plt.boxplot(results)\n",
    "ax.set_xticklabels(names)\n",
    "plt.show()"
   ]
  },
  {
   "cell_type": "markdown",
   "id": "b65e7fc6",
   "metadata": {},
   "source": [
    "### - Exercici 2\n",
    "Compara els models de classificació utilitzant la precisió (accuracy), una matriu de confiança i d’altres mètriques més avançades."
   ]
  },
  {
   "cell_type": "code",
   "execution_count": 69,
   "id": "e4c8e3cc",
   "metadata": {
    "ExecuteTime": {
     "end_time": "2021-06-08T16:11:42.137745Z",
     "start_time": "2021-06-08T16:11:42.109820Z"
    }
   },
   "outputs": [
    {
     "name": "stdout",
     "output_type": "stream",
     "text": [
      "La null accuracy és igual a: 0.5\n"
     ]
    }
   ],
   "source": [
    "print('La null accuracy és igual a:',max(y_test.mean(), 1 - y_test.mean()))"
   ]
  },
  {
   "cell_type": "markdown",
   "id": "4bbbee91",
   "metadata": {},
   "source": [
    "Això significa que un 'dumb model' predirà correctament la resposta un 50% de les vegades."
   ]
  },
  {
   "cell_type": "markdown",
   "id": "56e8b773",
   "metadata": {},
   "source": [
    "Random Forest"
   ]
  },
  {
   "cell_type": "code",
   "execution_count": 70,
   "id": "c2e85cb0",
   "metadata": {
    "ExecuteTime": {
     "end_time": "2021-06-08T16:11:42.168669Z",
     "start_time": "2021-06-08T16:11:42.140739Z"
    }
   },
   "outputs": [
    {
     "name": "stdout",
     "output_type": "stream",
     "text": [
      "[[1136  864]\n",
      " [ 892 1108]]\n"
     ]
    }
   ],
   "source": [
    "confusion = metrics.confusion_matrix(y_test, rf_pred)\n",
    "print(confusion)"
   ]
  },
  {
   "cell_type": "code",
   "execution_count": 71,
   "id": "224309f8",
   "metadata": {
    "ExecuteTime": {
     "end_time": "2021-06-08T16:11:42.608288Z",
     "start_time": "2021-06-08T16:11:42.171655Z"
    }
   },
   "outputs": [
    {
     "data": {
      "image/png": "[encoded data removed]",
      "text/plain": [
       "<Figure size 432x288 with 2 Axes>"
      ]
     },
     "metadata": {
      "needs_background": "light"
     },
     "output_type": "display_data"
    }
   ],
   "source": [
    "plot_confusion_matrix(rf, X_test, y_test)  \n",
    "plt.show()  "
   ]
  },
  {
   "cell_type": "markdown",
   "id": "5a21a39e",
   "metadata": {},
   "source": [
    "- 0 = On Time\n",
    "- 1 = Delayed  \n",
    "\n",
    "Veiem una gran quantitat de  falsos negatius (FN), l'algoritme prediu que els vols arribaran tard quan arriben puntuals (864); i falsos positius (FP), 892 (els més baixos) on els vols arriben tard i es diu que arribaran a l'hora. La suma de FP i FN en aquest test és de 2000."
   ]
  },
  {
   "cell_type": "code",
   "execution_count": 72,
   "id": "101388cf",
   "metadata": {
    "ExecuteTime": {
     "end_time": "2021-06-08T16:11:42.640202Z",
     "start_time": "2021-06-08T16:11:42.610281Z"
    }
   },
   "outputs": [
    {
     "name": "stdout",
     "output_type": "stream",
     "text": [
      "              precision    recall  f1-score   support\n",
      "\n",
      "           0       0.56      0.57      0.56      2000\n",
      "           1       0.56      0.55      0.56      2000\n",
      "\n",
      "    accuracy                           0.56      4000\n",
      "   macro avg       0.56      0.56      0.56      4000\n",
      "weighted avg       0.56      0.56      0.56      4000\n",
      "\n"
     ]
    }
   ],
   "source": [
    "print(classification_report(y_test, rf_pred ))"
   ]
  },
  {
   "cell_type": "code",
   "execution_count": 73,
   "id": "145fb983",
   "metadata": {
    "ExecuteTime": {
     "end_time": "2021-06-08T16:11:42.656158Z",
     "start_time": "2021-06-08T16:11:42.642196Z"
    }
   },
   "outputs": [
    {
     "name": "stdout",
     "output_type": "stream",
     "text": [
      "L'accuraccy del random forest =  0.561\n"
     ]
    }
   ],
   "source": [
    "print(\"L'accuraccy del random forest = \", score_rf)"
   ]
  },
  {
   "cell_type": "code",
   "execution_count": 74,
   "id": "b36e7e1b",
   "metadata": {
    "ExecuteTime": {
     "end_time": "2021-06-08T16:11:42.672115Z",
     "start_time": "2021-06-08T16:11:42.659151Z"
    }
   },
   "outputs": [
    {
     "name": "stdout",
     "output_type": "stream",
     "text": [
      "L'f1 score del randfom forest =  0.561\n"
     ]
    }
   ],
   "source": [
    "print(\"L'f1 score del randfom forest = \",round(f1_score(y_test, rf_pred, average = 'weighted'),3))"
   ]
  },
  {
   "cell_type": "code",
   "execution_count": 75,
   "id": "7e9e649a",
   "metadata": {
    "ExecuteTime": {
     "end_time": "2021-06-08T16:11:42.688109Z",
     "start_time": "2021-06-08T16:11:42.674111Z"
    }
   },
   "outputs": [
    {
     "name": "stdout",
     "output_type": "stream",
     "text": [
      "El recall score del randfom forest =  0.561\n"
     ]
    }
   ],
   "source": [
    "print(\"El recall score del randfom forest = \",round(recall_score(y_test, rf_pred, average = 'weighted'),3))"
   ]
  },
  {
   "cell_type": "code",
   "execution_count": 76,
   "id": "1fa9d6af",
   "metadata": {
    "ExecuteTime": {
     "end_time": "2021-06-08T16:11:42.704030Z",
     "start_time": "2021-06-08T16:11:42.691068Z"
    }
   },
   "outputs": [
    {
     "name": "stdout",
     "output_type": "stream",
     "text": [
      "La precision_score score del randfom forest =  0.561\n"
     ]
    }
   ],
   "source": [
    "print(\"La precision_score score del randfom forest = \",round(metrics.precision_score(y_test, rf_pred, average = 'weighted'),3))"
   ]
  },
  {
   "cell_type": "markdown",
   "id": "dac1dbc0",
   "metadata": {},
   "source": [
    "Classification Tree"
   ]
  },
  {
   "cell_type": "code",
   "execution_count": 77,
   "id": "57517b82",
   "metadata": {
    "ExecuteTime": {
     "end_time": "2021-06-08T16:11:42.719989Z",
     "start_time": "2021-06-08T16:11:42.706026Z"
    }
   },
   "outputs": [
    {
     "name": "stdout",
     "output_type": "stream",
     "text": [
      "[[1090  910]\n",
      " [ 957 1043]]\n"
     ]
    }
   ],
   "source": [
    "print(confusion_matrix(y_test, ct_pred ))"
   ]
  },
  {
   "cell_type": "code",
   "execution_count": 78,
   "id": "da2e3d22",
   "metadata": {
    "ExecuteTime": {
     "end_time": "2021-06-08T16:11:42.977222Z",
     "start_time": "2021-06-08T16:11:42.722980Z"
    }
   },
   "outputs": [
    {
     "data": {
      "image/png": "[encoded data removed]",
      "text/plain": [
       "<Figure size 432x288 with 2 Axes>"
      ]
     },
     "metadata": {
      "needs_background": "light"
     },
     "output_type": "display_data"
    }
   ],
   "source": [
    "plot_confusion_matrix(ct, X_test, y_test)  \n",
    "plt.show()  "
   ]
  },
  {
   "cell_type": "markdown",
   "id": "734b370d",
   "metadata": {},
   "source": [
    "En el Decision Tree els FN i FP augmenten (910) i (957) respectivament."
   ]
  },
  {
   "cell_type": "code",
   "execution_count": 79,
   "id": "d7317879",
   "metadata": {
    "ExecuteTime": {
     "end_time": "2021-06-08T16:11:43.009136Z",
     "start_time": "2021-06-08T16:11:42.983215Z"
    }
   },
   "outputs": [
    {
     "name": "stdout",
     "output_type": "stream",
     "text": [
      "              precision    recall  f1-score   support\n",
      "\n",
      "           0       0.53      0.55      0.54      2000\n",
      "           1       0.53      0.52      0.53      2000\n",
      "\n",
      "    accuracy                           0.53      4000\n",
      "   macro avg       0.53      0.53      0.53      4000\n",
      "weighted avg       0.53      0.53      0.53      4000\n",
      "\n"
     ]
    }
   ],
   "source": [
    "print(classification_report(y_test, ct_pred ))"
   ]
  },
  {
   "cell_type": "code",
   "execution_count": 80,
   "id": "2aae921b",
   "metadata": {
    "ExecuteTime": {
     "end_time": "2021-06-08T16:11:43.025093Z",
     "start_time": "2021-06-08T16:11:43.012131Z"
    }
   },
   "outputs": [
    {
     "name": "stdout",
     "output_type": "stream",
     "text": [
      "L'accuraccy del classification tree =  0.53325\n"
     ]
    }
   ],
   "source": [
    "print(\"L'accuraccy del classification tree = \", score_ct)"
   ]
  },
  {
   "cell_type": "code",
   "execution_count": 81,
   "id": "3d3cacf8",
   "metadata": {
    "ExecuteTime": {
     "end_time": "2021-06-08T16:11:43.041087Z",
     "start_time": "2021-06-08T16:11:43.027090Z"
    }
   },
   "outputs": [
    {
     "name": "stdout",
     "output_type": "stream",
     "text": [
      "L'f1 score del classification tree =  0.533\n"
     ]
    }
   ],
   "source": [
    "print(\"L'f1 score del classification tree = \",round(f1_score(y_test, ct_pred, average = 'weighted'),3))"
   ]
  },
  {
   "cell_type": "code",
   "execution_count": 82,
   "id": "a935539e",
   "metadata": {
    "ExecuteTime": {
     "end_time": "2021-06-08T16:11:43.057020Z",
     "start_time": "2021-06-08T16:11:43.043046Z"
    }
   },
   "outputs": [
    {
     "name": "stdout",
     "output_type": "stream",
     "text": [
      "El recall score del classification tree =  0.533\n"
     ]
    }
   ],
   "source": [
    "print(\"El recall score del classification tree = \",round(recall_score(y_test, ct_pred, average = 'weighted'),3))"
   ]
  },
  {
   "cell_type": "markdown",
   "id": "2aab7726",
   "metadata": {},
   "source": [
    "XGBoost"
   ]
  },
  {
   "cell_type": "code",
   "execution_count": 83,
   "id": "0cbc1d9c",
   "metadata": {
    "ExecuteTime": {
     "end_time": "2021-06-08T16:11:43.087926Z",
     "start_time": "2021-06-08T16:11:43.060002Z"
    }
   },
   "outputs": [
    {
     "name": "stdout",
     "output_type": "stream",
     "text": [
      "[[1125  875]\n",
      " [ 895 1105]]\n"
     ]
    }
   ],
   "source": [
    "print(confusion_matrix(y_test, xgb_pred ))"
   ]
  },
  {
   "cell_type": "code",
   "execution_count": 84,
   "id": "8c0f7733",
   "metadata": {
    "ExecuteTime": {
     "end_time": "2021-06-08T16:11:43.357241Z",
     "start_time": "2021-06-08T16:11:43.089920Z"
    }
   },
   "outputs": [
    {
     "data": {
      "image/png": "[encoded data removed]",
      "text/plain": [
       "<Figure size 432x288 with 2 Axes>"
      ]
     },
     "metadata": {
      "needs_background": "light"
     },
     "output_type": "display_data"
    }
   ],
   "source": [
    "plot_confusion_matrix(xgb_clf, X_test, y_test)  \n",
    "plt.show()  "
   ]
  },
  {
   "cell_type": "markdown",
   "id": "a9085740",
   "metadata": {},
   "source": [
    "L'XGBoost té millors resultats tan de FN com FP, 875 i 895 respectivament."
   ]
  },
  {
   "cell_type": "code",
   "execution_count": 85,
   "id": "d2d178b3",
   "metadata": {
    "ExecuteTime": {
     "end_time": "2021-06-08T16:11:43.389119Z",
     "start_time": "2021-06-08T16:11:43.360198Z"
    }
   },
   "outputs": [
    {
     "name": "stdout",
     "output_type": "stream",
     "text": [
      "              precision    recall  f1-score   support\n",
      "\n",
      "           0       0.56      0.56      0.56      2000\n",
      "           1       0.56      0.55      0.56      2000\n",
      "\n",
      "    accuracy                           0.56      4000\n",
      "   macro avg       0.56      0.56      0.56      4000\n",
      "weighted avg       0.56      0.56      0.56      4000\n",
      "\n"
     ]
    }
   ],
   "source": [
    "print(classification_report(y_test, xgb_pred ))"
   ]
  },
  {
   "cell_type": "code",
   "execution_count": 86,
   "id": "3228fdb1",
   "metadata": {
    "ExecuteTime": {
     "end_time": "2021-06-08T16:11:43.405077Z",
     "start_time": "2021-06-08T16:11:43.391114Z"
    }
   },
   "outputs": [
    {
     "name": "stdout",
     "output_type": "stream",
     "text": [
      "L'accuracy de XGBoost: 0.5575\n"
     ]
    }
   ],
   "source": [
    "print(\"L'accuracy de XGBoost:\",metrics.accuracy_score(y_test, xgb_pred))"
   ]
  },
  {
   "cell_type": "code",
   "execution_count": 87,
   "id": "203b72ff",
   "metadata": {
    "ExecuteTime": {
     "end_time": "2021-06-08T16:11:43.421036Z",
     "start_time": "2021-06-08T16:11:43.407072Z"
    }
   },
   "outputs": [
    {
     "name": "stdout",
     "output_type": "stream",
     "text": [
      "L'f1 score del XGBoost =  0.557\n"
     ]
    }
   ],
   "source": [
    "print(\"L'f1 score del XGBoost = \",round(f1_score(y_test, xgb_pred, average = 'weighted'),3))"
   ]
  },
  {
   "cell_type": "code",
   "execution_count": 88,
   "id": "ee84decd",
   "metadata": {
    "ExecuteTime": {
     "end_time": "2021-06-08T16:11:43.436993Z",
     "start_time": "2021-06-08T16:11:43.423029Z"
    }
   },
   "outputs": [
    {
     "name": "stdout",
     "output_type": "stream",
     "text": [
      "El recall score del XGBoost =  0.558\n"
     ]
    }
   ],
   "source": [
    "print(\"El recall score del XGBoost = \",round(recall_score(y_test, xgb_pred, average = 'weighted'),3))"
   ]
  },
  {
   "cell_type": "markdown",
   "id": "a89e168e",
   "metadata": {},
   "source": [
    "K-Nearest Neighbours"
   ]
  },
  {
   "cell_type": "code",
   "execution_count": 89,
   "id": "a14ff9e9",
   "metadata": {
    "ExecuteTime": {
     "end_time": "2021-06-08T16:11:43.452948Z",
     "start_time": "2021-06-08T16:11:43.438987Z"
    }
   },
   "outputs": [
    {
     "name": "stdout",
     "output_type": "stream",
     "text": [
      "[[1053  947]\n",
      " [ 929 1071]]\n"
     ]
    }
   ],
   "source": [
    "print(confusion_matrix(y_test, knn_pred))"
   ]
  },
  {
   "cell_type": "code",
   "execution_count": 90,
   "id": "316c3496",
   "metadata": {
    "ExecuteTime": {
     "end_time": "2021-06-08T16:11:44.733184Z",
     "start_time": "2021-06-08T16:11:43.456938Z"
    }
   },
   "outputs": [
    {
     "data": {
      "image/png": "[encoded data removed]",
      "text/plain": [
       "<Figure size 432x288 with 2 Axes>"
      ]
     },
     "metadata": {
      "needs_background": "light"
     },
     "output_type": "display_data"
    }
   ],
   "source": [
    "plot_confusion_matrix(knn, X_test, y_test)  \n",
    "plt.show()  "
   ]
  },
  {
   "cell_type": "markdown",
   "id": "2ca10eb0",
   "metadata": {},
   "source": [
    "Pel KNN els FN = 947 i els FP = 929."
   ]
  },
  {
   "cell_type": "code",
   "execution_count": 91,
   "id": "41ff1694",
   "metadata": {
    "ExecuteTime": {
     "end_time": "2021-06-08T16:11:44.765099Z",
     "start_time": "2021-06-08T16:11:44.736175Z"
    }
   },
   "outputs": [
    {
     "name": "stdout",
     "output_type": "stream",
     "text": [
      "              precision    recall  f1-score   support\n",
      "\n",
      "           0       0.53      0.53      0.53      2000\n",
      "           1       0.53      0.54      0.53      2000\n",
      "\n",
      "    accuracy                           0.53      4000\n",
      "   macro avg       0.53      0.53      0.53      4000\n",
      "weighted avg       0.53      0.53      0.53      4000\n",
      "\n"
     ]
    }
   ],
   "source": [
    "print(classification_report(y_test, knn_pred))"
   ]
  },
  {
   "cell_type": "code",
   "execution_count": 92,
   "id": "b2ab04db",
   "metadata": {
    "ExecuteTime": {
     "end_time": "2021-06-08T16:11:44.781055Z",
     "start_time": "2021-06-08T16:11:44.768091Z"
    }
   },
   "outputs": [
    {
     "name": "stdout",
     "output_type": "stream",
     "text": [
      "L'accuraccy del K-Nearest Neighbors =  0.531\n"
     ]
    }
   ],
   "source": [
    "print(\"L'accuraccy del K-Nearest Neighbors = \",score_knn)"
   ]
  },
  {
   "cell_type": "code",
   "execution_count": 93,
   "id": "7d8bfb60",
   "metadata": {
    "ExecuteTime": {
     "end_time": "2021-06-08T16:11:44.797011Z",
     "start_time": "2021-06-08T16:11:44.784047Z"
    }
   },
   "outputs": [
    {
     "name": "stdout",
     "output_type": "stream",
     "text": [
      "L'f1 score del K-Nearest Neighbors =  0.531\n"
     ]
    }
   ],
   "source": [
    "print(\"L'f1 score del K-Nearest Neighbors = \",round(f1_score(y_test, knn_pred, average = 'weighted'),3))"
   ]
  },
  {
   "cell_type": "code",
   "execution_count": 94,
   "id": "1a03bd1e",
   "metadata": {
    "ExecuteTime": {
     "end_time": "2021-06-08T16:11:44.812970Z",
     "start_time": "2021-06-08T16:11:44.801031Z"
    }
   },
   "outputs": [
    {
     "name": "stdout",
     "output_type": "stream",
     "text": [
      "El recall score del K-Nearest Neighbors =  0.531\n"
     ]
    }
   ],
   "source": [
    "print(\"El recall score del K-Nearest Neighbors = \",round(recall_score(y_test, knn_pred, average = 'weighted'),3))"
   ]
  },
  {
   "cell_type": "markdown",
   "id": "3cc1e1c1",
   "metadata": {},
   "source": [
    "Logistic Regression"
   ]
  },
  {
   "cell_type": "code",
   "execution_count": 95,
   "id": "e8664133",
   "metadata": {
    "ExecuteTime": {
     "end_time": "2021-06-08T16:11:44.828926Z",
     "start_time": "2021-06-08T16:11:44.815962Z"
    },
    "scrolled": true
   },
   "outputs": [
    {
     "name": "stdout",
     "output_type": "stream",
     "text": [
      "[[1116  884]\n",
      " [ 893 1107]]\n"
     ]
    }
   ],
   "source": [
    "print(confusion_matrix(y_test, lr_pred))"
   ]
  },
  {
   "cell_type": "code",
   "execution_count": 96,
   "id": "c253ce7a",
   "metadata": {
    "ExecuteTime": {
     "end_time": "2021-06-08T16:11:45.115170Z",
     "start_time": "2021-06-08T16:11:44.833914Z"
    }
   },
   "outputs": [
    {
     "data": {
      "image/png": "[encoded data removed]",
      "text/plain": [
       "<Figure size 432x288 with 2 Axes>"
      ]
     },
     "metadata": {
      "needs_background": "light"
     },
     "output_type": "display_data"
    }
   ],
   "source": [
    "plot_confusion_matrix(logisticRegr, X_test, y_test)  \n",
    "plt.show()  "
   ]
  },
  {
   "cell_type": "markdown",
   "id": "c60717d5",
   "metadata": {},
   "source": [
    "Pel Logistic Regression els FN = 884 i els FP = 893."
   ]
  },
  {
   "cell_type": "code",
   "execution_count": 97,
   "id": "e858b447",
   "metadata": {
    "ExecuteTime": {
     "end_time": "2021-06-08T16:11:45.147075Z",
     "start_time": "2021-06-08T16:11:45.117155Z"
    }
   },
   "outputs": [
    {
     "name": "stdout",
     "output_type": "stream",
     "text": [
      "              precision    recall  f1-score   support\n",
      "\n",
      "           0       0.56      0.56      0.56      2000\n",
      "           1       0.56      0.55      0.55      2000\n",
      "\n",
      "    accuracy                           0.56      4000\n",
      "   macro avg       0.56      0.56      0.56      4000\n",
      "weighted avg       0.56      0.56      0.56      4000\n",
      "\n"
     ]
    }
   ],
   "source": [
    "print(classification_report(y_test, lr_pred))"
   ]
  },
  {
   "cell_type": "code",
   "execution_count": 98,
   "id": "5fbad632",
   "metadata": {
    "ExecuteTime": {
     "end_time": "2021-06-08T16:11:45.163033Z",
     "start_time": "2021-06-08T16:11:45.149069Z"
    }
   },
   "outputs": [
    {
     "name": "stdout",
     "output_type": "stream",
     "text": [
      "L'accuraccy de Logistic Regression =  0.55575\n"
     ]
    }
   ],
   "source": [
    "print(\"L'accuraccy de Logistic Regression = \",score_lr)"
   ]
  },
  {
   "cell_type": "code",
   "execution_count": 99,
   "id": "3988c9c1",
   "metadata": {
    "ExecuteTime": {
     "end_time": "2021-06-08T16:11:45.178992Z",
     "start_time": "2021-06-08T16:11:45.167022Z"
    }
   },
   "outputs": [
    {
     "name": "stdout",
     "output_type": "stream",
     "text": [
      "L'f1 score de Logistic Regression =  0.556\n"
     ]
    }
   ],
   "source": [
    "print(\"L'f1 score de Logistic Regression = \",round(f1_score(y_test, lr_pred, average = 'weighted'),3))"
   ]
  },
  {
   "cell_type": "code",
   "execution_count": 100,
   "id": "4045eb05",
   "metadata": {
    "ExecuteTime": {
     "end_time": "2021-06-08T16:11:45.194947Z",
     "start_time": "2021-06-08T16:11:45.181983Z"
    }
   },
   "outputs": [
    {
     "name": "stdout",
     "output_type": "stream",
     "text": [
      "El recall score de Logistic Regression =  0.556\n"
     ]
    }
   ],
   "source": [
    "print(\"El recall score de Logistic Regression = \",round(recall_score(y_test, lr_pred, average = 'weighted'),3))"
   ]
  },
  {
   "cell_type": "markdown",
   "id": "587bca84",
   "metadata": {},
   "source": [
    "Support Vector Machine (SVM)"
   ]
  },
  {
   "cell_type": "code",
   "execution_count": 101,
   "id": "38ad475d",
   "metadata": {
    "ExecuteTime": {
     "end_time": "2021-06-08T16:11:45.210905Z",
     "start_time": "2021-06-08T16:11:45.198938Z"
    },
    "scrolled": true
   },
   "outputs": [
    {
     "name": "stdout",
     "output_type": "stream",
     "text": [
      "[[1198  802]\n",
      " [ 978 1022]]\n"
     ]
    }
   ],
   "source": [
    "print(confusion_matrix(y_test, svm_pred))"
   ]
  },
  {
   "cell_type": "markdown",
   "id": "5085aeb6",
   "metadata": {},
   "source": [
    "Pel SVM els FN = 802 (els més baixos) i els FP = 978."
   ]
  },
  {
   "cell_type": "code",
   "execution_count": 102,
   "id": "45702a47",
   "metadata": {
    "ExecuteTime": {
     "end_time": "2021-06-08T16:11:45.242819Z",
     "start_time": "2021-06-08T16:11:45.213897Z"
    },
    "scrolled": true
   },
   "outputs": [
    {
     "name": "stdout",
     "output_type": "stream",
     "text": [
      "              precision    recall  f1-score   support\n",
      "\n",
      "           0       0.55      0.60      0.57      2000\n",
      "           1       0.56      0.51      0.53      2000\n",
      "\n",
      "    accuracy                           0.56      4000\n",
      "   macro avg       0.56      0.55      0.55      4000\n",
      "weighted avg       0.56      0.56      0.55      4000\n",
      "\n"
     ]
    }
   ],
   "source": [
    "print(classification_report(y_test, svm_pred))"
   ]
  },
  {
   "cell_type": "code",
   "execution_count": 103,
   "id": "1dfb3e2a",
   "metadata": {
    "ExecuteTime": {
     "end_time": "2021-06-08T16:11:45.258777Z",
     "start_time": "2021-06-08T16:11:45.245812Z"
    }
   },
   "outputs": [
    {
     "name": "stdout",
     "output_type": "stream",
     "text": [
      "Accuracy: 0.555\n"
     ]
    }
   ],
   "source": [
    "print(\"Accuracy:\",metrics.accuracy_score(y_test, svm_pred))"
   ]
  },
  {
   "cell_type": "code",
   "execution_count": 104,
   "id": "b0f4a76b",
   "metadata": {
    "ExecuteTime": {
     "end_time": "2021-06-08T16:11:45.290718Z",
     "start_time": "2021-06-08T16:11:45.263763Z"
    }
   },
   "outputs": [
    {
     "name": "stdout",
     "output_type": "stream",
     "text": [
      "L'f1 score del SVM =  0.554\n"
     ]
    }
   ],
   "source": [
    "print(\"L'f1 score del SVM = \",round(f1_score(y_test, svm_pred, average = 'weighted'),3))"
   ]
  },
  {
   "cell_type": "code",
   "execution_count": 105,
   "id": "07fe51f4",
   "metadata": {
    "ExecuteTime": {
     "end_time": "2021-06-08T16:11:45.336568Z",
     "start_time": "2021-06-08T16:11:45.294681Z"
    }
   },
   "outputs": [
    {
     "name": "stdout",
     "output_type": "stream",
     "text": [
      "El recall score del SVM =  0.555\n"
     ]
    }
   ],
   "source": [
    "print(\"El recall score del SVM = \",round(recall_score(y_test, svm_pred, average = 'weighted'),3))"
   ]
  },
  {
   "cell_type": "markdown",
   "id": "84458aab",
   "metadata": {},
   "source": [
    "IMPORTANT: les xifres de les mètriques podrien variar una mica en cada run i pot ser que les conclusions no estiguin exactament clavades.\n",
    "\n",
    "Conclusions:\n",
    "- De moment cap dels algoritmes emprats és clarament superior a un 'dumb model' que predís totes les observacions com a 'Delayed'. Després de fer una stratified sample la NULL ACCURACY és igual a 50% i amb prou feines hem superat aquesta mètrica, sent els models d'XGBoost, Randfom Forest i Logistic Regression els que millor han predit les classes, amb un 0.58 d'accuracy per un singular logistic regression en el k-fold cross_validation score.\n",
    "\n",
    "- En termes de f1 score (que té en compte la sensitibity/recall i precision, els falsos positius i falsos negatius) els millors models es repeteixen amb a un F1 = 0.57.  \n",
    "\n",
    "- Mirant les confusions matrix, el que té menys falsos negatius és l'SVM i falsos positius és el Random Forest, encara que proporcionalment segueixen sent molts.\n"
   ]
  },
  {
   "cell_type": "markdown",
   "id": "18468f75",
   "metadata": {},
   "source": [
    "### - Exercici 3: Hyperparameter Tunning\n",
    "Entrena’ls utilitzant els diferents paràmetres que admeten.\n"
   ]
  },
  {
   "cell_type": "markdown",
   "id": "f1080ed3",
   "metadata": {},
   "source": [
    "#### Random Forest"
   ]
  },
  {
   "cell_type": "markdown",
   "id": "11164a53",
   "metadata": {},
   "source": [
    "##### n_estimators"
   ]
  },
  {
   "cell_type": "markdown",
   "id": "1f1fc5dd",
   "metadata": {},
   "source": [
    "Canviem el paràmetre n_estimators 9 cops en el rang de 1 a 200"
   ]
  },
  {
   "cell_type": "code",
   "execution_count": 106,
   "id": "0af38aad",
   "metadata": {
    "ExecuteTime": {
     "end_time": "2021-06-08T16:12:02.905348Z",
     "start_time": "2021-06-08T16:11:45.339561Z"
    }
   },
   "outputs": [
    {
     "name": "stdout",
     "output_type": "stream",
     "text": [
      "[0.513, 0.51475, 0.53025, 0.536, 0.52975, 0.55525, 0.55, 0.5635, 0.555]\n",
      "Max accuracy is 0.5635 in the index 7 of the iteration list\n"
     ]
    }
   ],
   "source": [
    "n_estimators = [1, 2, 4, 8, 16, 32, 64, 100, 200]\n",
    "m = []\n",
    "for n_estimator in n_estimators:\n",
    "    rf = RandomForestClassifier(n_estimators = n_estimator).fit(X_train, y_train)\n",
    "    y_pred = rf.predict(X_test)\n",
    "    x = metrics.accuracy_score(y_test, y_pred)\n",
    "    m.append(x)\n",
    "    \n",
    "big = max(m)\n",
    "spot = m.index(big) \n",
    "print(m)\n",
    "print(f\"Max accuracy is {big} in the index {spot} of the iteration list\")"
   ]
  },
  {
   "cell_type": "markdown",
   "id": "9dcdbe81",
   "metadata": {},
   "source": [
    "##### max_depths"
   ]
  },
  {
   "cell_type": "markdown",
   "id": "e6c4925d",
   "metadata": {},
   "source": [
    "Canviem el paràmetre max_depths 10 cops en el rang de 1 a 50"
   ]
  },
  {
   "cell_type": "code",
   "execution_count": 107,
   "id": "b943a667",
   "metadata": {
    "ExecuteTime": {
     "end_time": "2021-06-08T16:12:33.661231Z",
     "start_time": "2021-06-08T16:12:02.910292Z"
    }
   },
   "outputs": [
    {
     "name": "stdout",
     "output_type": "stream",
     "text": [
      "[0.5425, 0.5555, 0.56075, 0.554, 0.5565, 0.5535, 0.564, 0.55625, 0.55975, 0.559]\n",
      "Max accuracy is 0.564 in the index 6 of the iteration list\n"
     ]
    }
   ],
   "source": [
    "max_depths = np.linspace(1, 50, 10, endpoint=True)\n",
    "m = []\n",
    "for max_depth in max_depths:\n",
    "    rf = RandomForestClassifier(max_depth = max_depth).fit(X_train, y_train)\n",
    "    y_pred = rf.predict(X_test)\n",
    "    x = metrics.accuracy_score(y_test, y_pred)\n",
    "    m.append(x)\n",
    "    \n",
    "big = max(m)\n",
    "spot = m.index(big)   \n",
    "print(m)\n",
    "print(f\"Max accuracy is {big} in the index {spot} of the iteration list\")"
   ]
  },
  {
   "cell_type": "markdown",
   "id": "9ff9e93f",
   "metadata": {},
   "source": [
    "##### min_samples_splits"
   ]
  },
  {
   "cell_type": "markdown",
   "id": "b13964c0",
   "metadata": {},
   "source": [
    "Canviem el paràmetre min_samples_leafs 10 cops en el rang de 0.1 a 1"
   ]
  },
  {
   "cell_type": "code",
   "execution_count": 108,
   "id": "f35cd4c3",
   "metadata": {
    "ExecuteTime": {
     "end_time": "2021-06-08T16:12:40.753075Z",
     "start_time": "2021-06-08T16:12:33.663225Z"
    }
   },
   "outputs": [
    {
     "name": "stdout",
     "output_type": "stream",
     "text": [
      "[0.54775, 0.54625, 0.54525, 0.5415, 0.54175, 0.53575, 0.5, 0.5, 0.5, 0.5]\n",
      "Max accuracy is 0.54775 in the index 0 of the iteration list\n"
     ]
    }
   ],
   "source": [
    "min_samples_splits = np.linspace(0.1, 1.0, 10, endpoint=True)\n",
    "m = []\n",
    "for min_samples_split in min_samples_splits:\n",
    "    rf = RandomForestClassifier(min_samples_split = min_samples_split).fit(X_train, y_train)\n",
    "    y_pred = rf.predict(X_test)\n",
    "    x = metrics.accuracy_score(y_test, y_pred)\n",
    "    m.append(x)\n",
    "    \n",
    "big = max(m)\n",
    "spot = m.index(big) \n",
    "print(m)\n",
    "print(f\"Max accuracy is {big} in the index {spot} of the iteration list\")"
   ]
  },
  {
   "cell_type": "markdown",
   "id": "450744c5",
   "metadata": {},
   "source": [
    "##### min_samples_leafs"
   ]
  },
  {
   "cell_type": "markdown",
   "id": "d79bbf83",
   "metadata": {},
   "source": [
    "Canviem el paràmetre min_samples_leafs 10 cops en el rang de 0.1 a 0.5 "
   ]
  },
  {
   "cell_type": "code",
   "execution_count": 109,
   "id": "173ae2c2",
   "metadata": {
    "ExecuteTime": {
     "end_time": "2021-06-08T16:12:46.516934Z",
     "start_time": "2021-06-08T16:12:40.759059Z"
    }
   },
   "outputs": [
    {
     "name": "stdout",
     "output_type": "stream",
     "text": [
      "[0.54925, 0.54475, 0.53575, 0.53925, 0.53125, 0.5, 0.5, 0.5, 0.5, 0.5]\n",
      "Max accuracy with min_samples_leaf is 0.54925 in the 0th iteration\n"
     ]
    }
   ],
   "source": [
    "min_samples_leafs = np.linspace(0.1, 0.5, 10, endpoint=True)\n",
    "m = []\n",
    "for min_samples_leaf in min_samples_leafs:\n",
    "    rf = RandomForestClassifier(min_samples_leaf = min_samples_leaf).fit(X_train, y_train)\n",
    "    y_pred = rf.predict(X_test)\n",
    "    x = metrics.accuracy_score(y_test, y_pred)\n",
    "    m.append(x)\n",
    "    \n",
    "big = max(m)\n",
    "spot = m.index(big)   \n",
    "print(m)\n",
    "print(f\"Max accuracy with min_samples_leaf is {big} in the {spot}th iteration\")"
   ]
  },
  {
   "cell_type": "markdown",
   "id": "848c8a0d",
   "metadata": {},
   "source": [
    "##### max_features"
   ]
  },
  {
   "cell_type": "markdown",
   "id": "e7a78456",
   "metadata": {},
   "source": [
    "Canviem el paràmetre n_neighbors d'1 al total de features"
   ]
  },
  {
   "cell_type": "code",
   "execution_count": 110,
   "id": "48888a5b",
   "metadata": {
    "ExecuteTime": {
     "end_time": "2021-06-08T16:13:52.828644Z",
     "start_time": "2021-06-08T16:12:46.518929Z"
    }
   },
   "outputs": [
    {
     "name": "stdout",
     "output_type": "stream",
     "text": [
      "[0.56075, 0.55625, 0.554, 0.5535, 0.5605, 0.557, 0.55075, 0.54925, 0.5515, 0.55825]\n",
      "Max accuracy with max_features is 0.56075 in the 0th iteration\n"
     ]
    }
   ],
   "source": [
    "max_features = list(range(1,df_sample.shape[1]))\n",
    "m = []\n",
    "for max_feature in max_features:\n",
    "    rf = RandomForestClassifier(max_features = max_feature).fit(X_train, y_train)\n",
    "    y_pred = rf.predict(X_test)\n",
    "    x = metrics.accuracy_score(y_test, y_pred)\n",
    "    m.append(x)\n",
    "    \n",
    "big = max(m)\n",
    "spot = m.index(big)  \n",
    "print(m)\n",
    "print(f\"Max accuracy with max_features is {big} in the {spot}th iteration\")"
   ]
  },
  {
   "cell_type": "markdown",
   "id": "6e7c467e",
   "metadata": {},
   "source": [
    "#### Decision Tree Classifier"
   ]
  },
  {
   "cell_type": "markdown",
   "id": "47e6067e",
   "metadata": {},
   "source": [
    "##### max_depths"
   ]
  },
  {
   "cell_type": "markdown",
   "id": "7f561526",
   "metadata": {},
   "source": [
    "Canviem el paràmetre max_depths 50 cops en el rang de 1 a 50"
   ]
  },
  {
   "cell_type": "code",
   "execution_count": 111,
   "id": "dccb974b",
   "metadata": {
    "ExecuteTime": {
     "end_time": "2021-06-08T16:14:00.459650Z",
     "start_time": "2021-06-08T16:13:52.831596Z"
    }
   },
   "outputs": [
    {
     "name": "stdout",
     "output_type": "stream",
     "text": [
      "[0.529, 0.5335, 0.54375, 0.555, 0.56, 0.5545, 0.55275, 0.5435, 0.54325, 0.531, 0.5295, 0.53225, 0.53625, 0.527, 0.52875, 0.532, 0.537, 0.53625, 0.52875, 0.537, 0.535, 0.5255, 0.52725, 0.526, 0.53, 0.523, 0.52325, 0.53275, 0.53025, 0.52725, 0.5355, 0.524, 0.52775, 0.5325, 0.5325, 0.52975, 0.5315, 0.53, 0.53075, 0.53125, 0.5375, 0.532, 0.52525, 0.531, 0.5345, 0.53275, 0.53125, 0.53625, 0.53075, 0.52725]\n",
      "Max accuracy is 0.56 in the index 4 of the iteration list\n"
     ]
    }
   ],
   "source": [
    "max_depths = np.linspace(1, 50, 50, endpoint=True)\n",
    "m = []\n",
    "for max_depth in max_depths:\n",
    "    ct = DecisionTreeClassifier(max_depth = max_depth).fit(X_train, y_train)\n",
    "    y_pred = ct.predict(X_test)\n",
    "    x = metrics.accuracy_score(y_test, y_pred)\n",
    "    m.append(x)\n",
    "    \n",
    "big = max(m)\n",
    "spot = m.index(big) \n",
    "print(m)\n",
    "print(f\"Max accuracy is {big} in the index {spot} of the iteration list\")"
   ]
  },
  {
   "cell_type": "markdown",
   "id": "2eed2bea",
   "metadata": {},
   "source": [
    "##### min_samples_splits"
   ]
  },
  {
   "cell_type": "markdown",
   "id": "a6c830c1",
   "metadata": {},
   "source": [
    "Canviem el paràmetre min_samples_leafs 20 cops en el rang de 0.0001 a 1"
   ]
  },
  {
   "cell_type": "code",
   "execution_count": 112,
   "id": "e3ac820b",
   "metadata": {
    "ExecuteTime": {
     "end_time": "2021-06-08T16:14:01.290065Z",
     "start_time": "2021-06-08T16:14:00.462643Z"
    }
   },
   "outputs": [
    {
     "name": "stdout",
     "output_type": "stream",
     "text": [
      "[0.53725, 0.53125, 0.5315, 0.543, 0.54625, 0.5485, 0.54525, 0.5465, 0.5465, 0.5335, 0.5335, 0.5335, 0.5335, 0.5335, 0.5335, 0.5335, 0.529, 0.529, 0.529, 0.529]\n",
      "Max accuracy is 0.5485 in the index 5 of the iteration list\n"
     ]
    }
   ],
   "source": [
    "min_samples_splits = np.linspace(0.0001, 1.0, 20, endpoint=True)\n",
    "m = []\n",
    "for min_samples_split in min_samples_splits:\n",
    "    ct = DecisionTreeClassifier(min_samples_split = min_samples_split).fit(X_train, y_train)\n",
    "    y_pred = ct.predict(X_test)\n",
    "    x = metrics.accuracy_score(y_test, y_pred)\n",
    "    m.append(x)\n",
    "    \n",
    "big = max(m)\n",
    "spot = m.index(big)\n",
    "print(m)\n",
    "print(f\"Max accuracy is {big} in the index {spot} of the iteration list\")"
   ]
  },
  {
   "cell_type": "markdown",
   "id": "421dc5a6",
   "metadata": {},
   "source": [
    "##### min_samples_leafs"
   ]
  },
  {
   "cell_type": "markdown",
   "id": "f228c8c8",
   "metadata": {},
   "source": [
    "Canviem el paràmetre min_samples_leafs 20 cops en el rang de 0.001 a 0.5 "
   ]
  },
  {
   "cell_type": "code",
   "execution_count": 113,
   "id": "d6b6cc13",
   "metadata": {
    "ExecuteTime": {
     "end_time": "2021-06-08T16:14:01.922371Z",
     "start_time": "2021-06-08T16:14:01.293056Z"
    }
   },
   "outputs": [
    {
     "name": "stdout",
     "output_type": "stream",
     "text": [
      "[0.5265, 0.54175, 0.54475, 0.5445, 0.5465, 0.5465, 0.5465, 0.54525, 0.53525, 0.53125, 0.52975, 0.529, 0.52175, 0.52175, 0.52175, 0.52175, 0.531, 0.531, 0.531, 0.5]\n",
      "Max accuracy is 0.5465 in the index 4 of the iteration list\n"
     ]
    }
   ],
   "source": [
    "min_samples_leafs = np.linspace(0.001, 0.5, 20, endpoint=True)\n",
    "m = []\n",
    "for min_samples_leaf in min_samples_leafs:\n",
    "    ct = DecisionTreeClassifier(min_samples_leaf = min_samples_leaf).fit(X_train, y_train)\n",
    "    y_pred = ct.predict(X_test)\n",
    "    x = metrics.accuracy_score(y_test, y_pred)\n",
    "    m.append(x)\n",
    "    \n",
    "big = max(m)\n",
    "spot = m.index(big)\n",
    "print(m)\n",
    "print(f\"Max accuracy is {big} in the index {spot} of the iteration list\")"
   ]
  },
  {
   "cell_type": "markdown",
   "id": "21eb1333",
   "metadata": {},
   "source": [
    "##### max_features"
   ]
  },
  {
   "cell_type": "markdown",
   "id": "fea2ed9e",
   "metadata": {},
   "source": [
    "Canviem el paràmetre max_features d'1 al total de features"
   ]
  },
  {
   "cell_type": "code",
   "execution_count": 114,
   "id": "350d8e3c",
   "metadata": {
    "ExecuteTime": {
     "end_time": "2021-06-08T16:14:03.013862Z",
     "start_time": "2021-06-08T16:14:01.925364Z"
    }
   },
   "outputs": [
    {
     "name": "stdout",
     "output_type": "stream",
     "text": [
      "[0.52825, 0.53075, 0.515, 0.53125, 0.5285, 0.518, 0.5235, 0.525, 0.5325, 0.535]\n",
      "Max accuracy is 0.535 in the index 9 of the iteration list\n"
     ]
    }
   ],
   "source": [
    "max_features = list(range(1,df_sample.shape[1]))\n",
    "m = []\n",
    "for max_feature in max_features:\n",
    "    ct = DecisionTreeClassifier(max_features = max_feature).fit(X_train, y_train)\n",
    "    y_pred = ct.predict(X_test)\n",
    "    x = metrics.accuracy_score(y_test, y_pred)\n",
    "    m.append(x)\n",
    "    \n",
    "big = max(m)\n",
    "spot = m.index(big)  \n",
    "print(m)\n",
    "print(f\"Max accuracy is {big} in the index {spot} of the iteration list\")"
   ]
  },
  {
   "cell_type": "markdown",
   "id": "f3606123",
   "metadata": {},
   "source": [
    "#### XGBoost"
   ]
  },
  {
   "cell_type": "markdown",
   "id": "f421cc0b",
   "metadata": {},
   "source": [
    "##### learning rates"
   ]
  },
  {
   "cell_type": "code",
   "execution_count": 115,
   "id": "d0bfaed1",
   "metadata": {
    "ExecuteTime": {
     "end_time": "2021-06-08T16:14:10.973831Z",
     "start_time": "2021-06-08T16:14:03.015859Z"
    }
   },
   "outputs": [
    {
     "name": "stdout",
     "output_type": "stream",
     "text": [
      "[0.51975, 0.552, 0.56225, 0.56175, 0.562, 0.559]\n",
      "Max accuracy is 0.56225 in the index 2 of the iteration list\n"
     ]
    }
   ],
   "source": [
    "learning_rates = [1, 0.5, 0.25, 0.1, 0.05, 0.01]\n",
    "m = []\n",
    "\n",
    "for learning_rate in learning_rates:\n",
    "    xgb_clf = xgb.XGBClassifier(learning_rate = learning_rate, verbosity = 0).fit(X_train, y_train)\n",
    "    y_pred = xgb_clf.predict(X_test)\n",
    "    x = metrics.accuracy_score(y_test, y_pred)\n",
    "    m.append(x)\n",
    "\n",
    "big = max(m)\n",
    "spot = m.index(big)   \n",
    "print(m)\n",
    "print(f\"Max accuracy is {big} in the index {spot} of the iteration list\")"
   ]
  },
  {
   "cell_type": "markdown",
   "id": "2c522485",
   "metadata": {},
   "source": [
    "##### n_estimators"
   ]
  },
  {
   "cell_type": "markdown",
   "id": "8a588f6a",
   "metadata": {},
   "source": [
    "Canviem el paràmetre n_estimators 9 cops en el rang de 1 a 200"
   ]
  },
  {
   "cell_type": "code",
   "execution_count": 116,
   "id": "89e5b39c",
   "metadata": {
    "ExecuteTime": {
     "end_time": "2021-06-08T16:14:16.450714Z",
     "start_time": "2021-06-08T16:14:10.975825Z"
    }
   },
   "outputs": [
    {
     "name": "stdout",
     "output_type": "stream",
     "text": [
      "[0.55125, 0.55675, 0.5495, 0.56225, 0.55925, 0.56275, 0.55825, 0.5575, 0.5515]\n",
      "Max accuracy is 0.56275 in the index 5 of the iteration list\n"
     ]
    }
   ],
   "source": [
    "n_estimators = [1, 2, 4, 8, 16, 32, 64, 100, 200]\n",
    "m = []\n",
    "\n",
    "for n_estimator in n_estimators:\n",
    "    xgb_clf = xgb.XGBClassifier(n_estimators = n_estimator, verbosity = 0).fit(X_train, y_train)\n",
    "    y_pred = xgb_clf.predict(X_test)\n",
    "    x = metrics.accuracy_score(y_test, y_pred)\n",
    "    m.append(x)\n",
    "\n",
    "big = max(m)\n",
    "spot = m.index(big)   \n",
    "print(m)\n",
    "print(f\"Max accuracy is {big} in the index {spot} of the iteration list\")"
   ]
  },
  {
   "cell_type": "markdown",
   "id": "b95e0cc4",
   "metadata": {},
   "source": [
    "##### max_depths"
   ]
  },
  {
   "cell_type": "markdown",
   "id": "888a5b8f",
   "metadata": {},
   "source": [
    "Canviem el paràmetre max_depths 11 cops en el rang de 1 a 50"
   ]
  },
  {
   "cell_type": "code",
   "execution_count": 117,
   "id": "1b28162f",
   "metadata": {
    "ExecuteTime": {
     "end_time": "2021-06-08T16:15:20.968483Z",
     "start_time": "2021-06-08T16:14:16.450714Z"
    }
   },
   "outputs": [
    {
     "name": "stdout",
     "output_type": "stream",
     "text": [
      "[0.54225, 0.55725, 0.55975, 0.55675, 0.54325, 0.555, 0.55725, 0.55025, 0.557, 0.552, 0.55275]\n",
      "Max accuracy is 0.55975 in the index 2 of the iteration list\n"
     ]
    }
   ],
   "source": [
    "max_depths = [1, 5, 10, 15, 20, 25, 30, 35, 40, 45, 50]\n",
    "m = []\n",
    "for max_depth in max_depths:\n",
    "    xgb_clf = xgb.XGBClassifier(max_depth = max_depth).fit(X_train, y_train)\n",
    "    y_pred = xgb_clf.predict(X_test)\n",
    "    x = metrics.accuracy_score(y_test, y_pred)\n",
    "    m.append(x)\n",
    "    \n",
    "big = max(m)\n",
    "spot = m.index(big)  \n",
    "print(m)\n",
    "print(f\"Max accuracy is {big} in the index {spot} of the iteration list\")"
   ]
  },
  {
   "cell_type": "markdown",
   "id": "b8901b82",
   "metadata": {},
   "source": [
    "##### min_samples_splits"
   ]
  },
  {
   "cell_type": "markdown",
   "id": "a0629a95",
   "metadata": {},
   "source": [
    "Canviem el paràmetre min_samples_leafs 10 cops en el rang de 0.01 a 1"
   ]
  },
  {
   "cell_type": "code",
   "execution_count": 118,
   "id": "4fa79f8e",
   "metadata": {
    "ExecuteTime": {
     "end_time": "2021-06-08T16:15:34.739666Z",
     "start_time": "2021-06-08T16:15:20.971476Z"
    }
   },
   "outputs": [
    {
     "name": "stdout",
     "output_type": "stream",
     "text": [
      "[0.5575, 0.5575, 0.5575, 0.5575, 0.5575, 0.5575, 0.5575, 0.5575, 0.5575, 0.5575]\n",
      "Max accuracy is 0.5575 in the index 0 of the iteration list\n"
     ]
    }
   ],
   "source": [
    "min_samples_splits = np.linspace(0.01, 1.0, 10, endpoint=True)\n",
    "m = []\n",
    "for min_samples_split in min_samples_splits:\n",
    "    xgb_clf = xgb.XGBClassifier(min_samples_split = min_samples_split, verbosity = 0).fit(X_train, y_train)\n",
    "    y_pred = xgb_clf.predict(X_test)\n",
    "    x = metrics.accuracy_score(y_test, y_pred)\n",
    "    m.append(x)\n",
    "    \n",
    "big = max(m)\n",
    "spot = m.index(big)   \n",
    "print(m)\n",
    "print(f\"Max accuracy is {big} in the index {spot} of the iteration list\")"
   ]
  },
  {
   "cell_type": "markdown",
   "id": "7fe283dd",
   "metadata": {},
   "source": [
    "##### min_samples_leafs"
   ]
  },
  {
   "cell_type": "markdown",
   "id": "52e72599",
   "metadata": {},
   "source": [
    "Canviem el paràmetre min_samples_leafs 10 cops en el rang de 0.001 a 0.5 "
   ]
  },
  {
   "cell_type": "code",
   "execution_count": 119,
   "id": "e3fdc956",
   "metadata": {
    "ExecuteTime": {
     "end_time": "2021-06-08T16:15:50.167769Z",
     "start_time": "2021-06-08T16:15:34.742648Z"
    }
   },
   "outputs": [
    {
     "name": "stdout",
     "output_type": "stream",
     "text": [
      "[0.5575, 0.5575, 0.5575, 0.5575, 0.5575, 0.5575, 0.5575, 0.5575, 0.5575, 0.5575]\n",
      "Max accuracy is 0.5575 in the index 0 of the iteration list\n"
     ]
    }
   ],
   "source": [
    "min_samples_leafs = np.linspace(0.001, 0.5, 10, endpoint=True)\n",
    "m = []\n",
    "for min_samples_leaf in min_samples_leafs:\n",
    "    xgb_clf = xgb.XGBClassifier(min_samples_leaf = min_samples_leaf).fit(X_train, y_train)\n",
    "    y_pred = xgb_clf.predict(X_test)\n",
    "    x = metrics.accuracy_score(y_test, y_pred)\n",
    "    m.append(x)\n",
    "    \n",
    "big = max(m)\n",
    "spot = m.index(big)   \n",
    "print(m)\n",
    "print(f\"Max accuracy is {big} in the index {spot} of the iteration list\")"
   ]
  },
  {
   "cell_type": "markdown",
   "id": "a26a3d5f",
   "metadata": {},
   "source": [
    "##### max_features"
   ]
  },
  {
   "cell_type": "markdown",
   "id": "dfcfcd8d",
   "metadata": {},
   "source": [
    "Canviem el paràmetre n_neighbors d'1 al total de features"
   ]
  },
  {
   "cell_type": "code",
   "execution_count": 120,
   "id": "6f3f843a",
   "metadata": {
    "ExecuteTime": {
     "end_time": "2021-06-08T16:16:03.819556Z",
     "start_time": "2021-06-08T16:15:50.170760Z"
    }
   },
   "outputs": [
    {
     "name": "stdout",
     "output_type": "stream",
     "text": [
      "[0.5575, 0.5575, 0.5575, 0.5575, 0.5575, 0.5575, 0.5575, 0.5575, 0.5575, 0.5575]\n",
      "Max accuracy is 0.5575 in the index 0 of the iteration list\n"
     ]
    }
   ],
   "source": [
    "max_features = list(range(1,df_sample.shape[1]))\n",
    "m = []\n",
    "for max_feature in max_features:\n",
    "    xgb_clf = xgb.XGBClassifier(max_features = max_feature).fit(X_train, y_train)\n",
    "    y_pred = xgb_clf.predict(X_test)\n",
    "    x = metrics.accuracy_score(y_test, y_pred)\n",
    "    m.append(x)\n",
    "    \n",
    "big = max(m)\n",
    "spot = m.index(big)  \n",
    "print(m)\n",
    "print(f\"Max accuracy is {big} in the index {spot} of the iteration list\")"
   ]
  },
  {
   "cell_type": "markdown",
   "id": "5c46d265",
   "metadata": {},
   "source": [
    "####  K-Nearest Neighbours"
   ]
  },
  {
   "cell_type": "code",
   "execution_count": 121,
   "id": "d0ebea1f",
   "metadata": {
    "ExecuteTime": {
     "end_time": "2021-06-08T16:16:04.184793Z",
     "start_time": "2021-06-08T16:16:03.822088Z"
    }
   },
   "outputs": [],
   "source": [
    "# Agafem un mostra més petita per agilitzar el parameter tunning dels següents algoritmes:\n",
    "\n",
    "df_sample= df_1.groupby('Delayed', group_keys=False).apply(lambda x: x.sample(5000, random_state = 0))\n",
    "X = np.array(df_sample.drop([forecast_col], 1))\n",
    "y = np.array(df_sample[forecast_col])\n",
    "X = StandardScaler().fit_transform(X)\n",
    "X_train, X_test, y_train, y_test = train_test_split(X, y, test_size = 0.2, stratify = y)"
   ]
  },
  {
   "cell_type": "markdown",
   "id": "afe03cc1",
   "metadata": {},
   "source": [
    "##### n_neighbors"
   ]
  },
  {
   "cell_type": "markdown",
   "id": "2214a68d",
   "metadata": {},
   "source": [
    "Canviem el paràmetre n_neighbors d'1 a 30"
   ]
  },
  {
   "cell_type": "code",
   "execution_count": 122,
   "id": "3a50ef2e",
   "metadata": {
    "ExecuteTime": {
     "end_time": "2021-06-08T16:16:18.268469Z",
     "start_time": "2021-06-08T16:16:04.186971Z"
    }
   },
   "outputs": [
    {
     "name": "stdout",
     "output_type": "stream",
     "text": [
      "[0.5125, 0.518, 0.5165, 0.5135, 0.5215, 0.5155, 0.5105, 0.507, 0.531, 0.5235, 0.525, 0.52, 0.5315, 0.5195, 0.522, 0.514, 0.5285, 0.5215, 0.529, 0.5345, 0.531, 0.53, 0.523, 0.5215, 0.5205, 0.5275, 0.5205, 0.5205, 0.518]\n",
      "Max accuracy is 0.5345 in the index 19 of the iteration list\n"
     ]
    }
   ],
   "source": [
    "neighbors = list(range(1,30))\n",
    "m = []\n",
    "\n",
    "for neighbor in neighbors:\n",
    "    knn = KNeighborsClassifier(n_neighbors=neighbor).fit(X_train, y_train)\n",
    "    y_pred = knn.predict(X_test)\n",
    "    x = metrics.accuracy_score(y_test, y_pred)\n",
    "    m.append(x)\n",
    "\n",
    "big = max(m)\n",
    "spot = m.index(big)  \n",
    "print(m)\n",
    "print(f\"Max accuracy is {big} in the index {spot} of the iteration list\")"
   ]
  },
  {
   "cell_type": "markdown",
   "id": "1c47f222",
   "metadata": {},
   "source": [
    "####  Logistic Regression"
   ]
  },
  {
   "cell_type": "markdown",
   "id": "416a77c1",
   "metadata": {},
   "source": [
    "##### Solver"
   ]
  },
  {
   "cell_type": "code",
   "execution_count": 123,
   "id": "a232d351",
   "metadata": {
    "ExecuteTime": {
     "end_time": "2021-06-08T16:16:19.092788Z",
     "start_time": "2021-06-08T16:16:18.271461Z"
    }
   },
   "outputs": [
    {
     "name": "stdout",
     "output_type": "stream",
     "text": [
      "[0.5325, 0.5325, 0.5325, 0.5385, 0.5365]\n",
      "Max accuracy is 0.5385 in the index 3 of the iteration list\n"
     ]
    }
   ],
   "source": [
    "solvers = ['newton-cg', 'lbfgs', 'liblinear', 'sag', 'saga']\n",
    "m = []\n",
    "\n",
    "for solver in solvers:\n",
    "    logisticRegr = LogisticRegression(solver = solver).fit(X_train, y_train)\n",
    "    y_pred = logisticRegr.predict(X_test)\n",
    "    x = metrics.accuracy_score(y_test, y_pred)\n",
    "    m.append(x)\n",
    "\n",
    "big = max(m)\n",
    "spot = m.index(big)  \n",
    "print(m)\n",
    "print(f\"Max accuracy is {big} in the index {spot} of the iteration list\")"
   ]
  },
  {
   "cell_type": "markdown",
   "id": "11b6fc3a",
   "metadata": {},
   "source": [
    "##### Penalty"
   ]
  },
  {
   "cell_type": "code",
   "execution_count": 124,
   "id": "48445b77",
   "metadata": {
    "ExecuteTime": {
     "end_time": "2021-06-08T16:16:19.156616Z",
     "start_time": "2021-06-08T16:16:19.095781Z"
    }
   },
   "outputs": [
    {
     "name": "stdout",
     "output_type": "stream",
     "text": [
      "[0.5325, 0.5325]\n",
      "Max accuracy is 0.5325 in the index 0 of the iteration list\n"
     ]
    }
   ],
   "source": [
    "penaltys = ['none','l2']\n",
    "m = []\n",
    "\n",
    "for penalty in penaltys:\n",
    "    logisticRegr = LogisticRegression(penalty = penalty).fit(X_train, y_train)\n",
    "    y_pred = logisticRegr.predict(X_test)\n",
    "    x = metrics.accuracy_score(y_test, y_pred)\n",
    "    m.append(x)\n",
    "\n",
    "big = max(m)\n",
    "spot = m.index(big)  \n",
    "print(m)\n",
    "print(f\"Max accuracy is {big} in the index {spot} of the iteration list\")"
   ]
  },
  {
   "cell_type": "markdown",
   "id": "606800c4",
   "metadata": {},
   "source": [
    "##### C"
   ]
  },
  {
   "cell_type": "code",
   "execution_count": 125,
   "id": "536e0a65",
   "metadata": {
    "ExecuteTime": {
     "end_time": "2021-06-08T16:16:19.314202Z",
     "start_time": "2021-06-08T16:16:19.158612Z"
    }
   },
   "outputs": [
    {
     "name": "stdout",
     "output_type": "stream",
     "text": [
      "[0.5325, 0.532, 0.5325, 0.536, 0.537]\n",
      "Max accuracy is 0.537 in the index 4 of the iteration list\n"
     ]
    }
   ],
   "source": [
    "cs = [100, 10, 1.0, 0.1, 0.01]\n",
    "m = []\n",
    "\n",
    "for c in cs:\n",
    "    logisticRegr = LogisticRegression(C = c).fit(X_train, y_train)\n",
    "    y_pred = logisticRegr.predict(X_test)\n",
    "    x = metrics.accuracy_score(y_test, y_pred)\n",
    "    m.append(x)\n",
    "\n",
    "big = max(m)\n",
    "spot = m.index(big)  \n",
    "print(m)\n",
    "print(f\"Max accuracy is {big} in the index {spot} of the iteration list\")"
   ]
  },
  {
   "cell_type": "markdown",
   "id": "83672b5a",
   "metadata": {},
   "source": [
    "##### Extra: GridSearch CV  per logistic regression"
   ]
  },
  {
   "cell_type": "code",
   "execution_count": 126,
   "id": "17525c42",
   "metadata": {
    "ExecuteTime": {
     "end_time": "2021-06-08T16:16:32.739660Z",
     "start_time": "2021-06-08T16:16:19.321179Z"
    }
   },
   "outputs": [
    {
     "name": "stdout",
     "output_type": "stream",
     "text": [
      "Best: 0.542667 using {'C': 0.1, 'penalty': 'l2', 'solver': 'lbfgs'}\n",
      "0.542333 (0.019905) with: {'C': 100, 'penalty': 'l2', 'solver': 'newton-cg'}\n",
      "0.542333 (0.019905) with: {'C': 100, 'penalty': 'l2', 'solver': 'lbfgs'}\n",
      "0.542333 (0.019905) with: {'C': 100, 'penalty': 'l2', 'solver': 'liblinear'}\n",
      "0.542375 (0.019841) with: {'C': 10, 'penalty': 'l2', 'solver': 'newton-cg'}\n",
      "0.542333 (0.019769) with: {'C': 10, 'penalty': 'l2', 'solver': 'lbfgs'}\n",
      "0.542375 (0.019841) with: {'C': 10, 'penalty': 'l2', 'solver': 'liblinear'}\n",
      "0.542250 (0.020040) with: {'C': 1.0, 'penalty': 'l2', 'solver': 'newton-cg'}\n",
      "0.542333 (0.020020) with: {'C': 1.0, 'penalty': 'l2', 'solver': 'lbfgs'}\n",
      "0.542292 (0.020024) with: {'C': 1.0, 'penalty': 'l2', 'solver': 'liblinear'}\n",
      "0.542625 (0.020113) with: {'C': 0.1, 'penalty': 'l2', 'solver': 'newton-cg'}\n",
      "0.542667 (0.020046) with: {'C': 0.1, 'penalty': 'l2', 'solver': 'lbfgs'}\n",
      "0.542625 (0.020011) with: {'C': 0.1, 'penalty': 'l2', 'solver': 'liblinear'}\n",
      "0.536542 (0.018646) with: {'C': 0.01, 'penalty': 'l2', 'solver': 'newton-cg'}\n",
      "0.536583 (0.018686) with: {'C': 0.01, 'penalty': 'l2', 'solver': 'lbfgs'}\n",
      "0.536583 (0.018537) with: {'C': 0.01, 'penalty': 'l2', 'solver': 'liblinear'}\n"
     ]
    }
   ],
   "source": [
    "model = LogisticRegression()\n",
    "solvers = ['newton-cg', 'lbfgs', 'liblinear']\n",
    "penalty = ['l2']\n",
    "c_values = [100, 10, 1.0, 0.1, 0.01]\n",
    "\n",
    "# grid search\n",
    "grid = dict(solver=solvers,penalty=penalty,C=c_values)\n",
    "cv = RepeatedStratifiedKFold(n_splits=10, n_repeats=3, random_state=1)\n",
    "grid_search = GridSearchCV(estimator=model, param_grid=grid, n_jobs=-1, cv=cv, scoring='accuracy',error_score=0)\n",
    "grid_result = grid_search.fit(X_train, y_train)\n",
    "\n",
    "# summarize results\n",
    "print(\"Best: %f using %s\" % (grid_result.best_score_, grid_result.best_params_))\n",
    "means = grid_result.cv_results_['mean_test_score']\n",
    "stds = grid_result.cv_results_['std_test_score']\n",
    "params = grid_result.cv_results_['params']\n",
    "for mean, stdev, param in zip(means, stds, params):\n",
    "    print(\"%f (%f) with: %r\" % (mean, stdev, param))"
   ]
  },
  {
   "cell_type": "markdown",
   "id": "6d654002",
   "metadata": {},
   "source": [
    "#### Support Vector Machine (SVM)"
   ]
  },
  {
   "cell_type": "markdown",
   "id": "b29c85c3",
   "metadata": {},
   "source": [
    "##### kernels"
   ]
  },
  {
   "cell_type": "code",
   "execution_count": 127,
   "id": "0797c54f",
   "metadata": {
    "ExecuteTime": {
     "end_time": "2021-06-08T16:16:50.242764Z",
     "start_time": "2021-06-08T16:16:32.742653Z"
    }
   },
   "outputs": [
    {
     "name": "stdout",
     "output_type": "stream",
     "text": [
      "Accuracy: 0.5335\n",
      "Accuracy: 0.5295\n",
      "Accuracy: 0.5225\n"
     ]
    }
   ],
   "source": [
    "kernels = ['linear', 'rbf', 'poly']\n",
    "for kernel in kernels:\n",
    "    svc = svm.SVC(kernel=kernel).fit(X_train, y_train)\n",
    "    y_pred = svc.predict(X_test)\n",
    "    print(\"Accuracy:\",metrics.accuracy_score(y_test, y_pred))"
   ]
  },
  {
   "cell_type": "markdown",
   "id": "65166d1b",
   "metadata": {},
   "source": [
    "##### gammas:"
   ]
  },
  {
   "cell_type": "code",
   "execution_count": 128,
   "id": "57b40a99",
   "metadata": {
    "ExecuteTime": {
     "end_time": "2021-06-08T16:17:18.728770Z",
     "start_time": "2021-06-08T16:16:50.245757Z"
    }
   },
   "outputs": [
    {
     "name": "stdout",
     "output_type": "stream",
     "text": [
      "Accuracy: 0.5315\n",
      "Accuracy: 0.5515\n",
      "Accuracy: 0.5175\n",
      "Accuracy: 0.504\n"
     ]
    }
   ],
   "source": [
    "gammas = [0.1, 1, 10, 100]\n",
    "\n",
    "for gamma in gammas:\n",
    "    svc = svm.SVC(kernel='rbf', gamma=gamma).fit(X_train, y_train)\n",
    "    y_pred = svc.predict(X_test)\n",
    "    print(\"Accuracy:\",metrics.accuracy_score(y_test, y_pred))"
   ]
  },
  {
   "cell_type": "markdown",
   "id": "d922f1db",
   "metadata": {},
   "source": [
    "##### C"
   ]
  },
  {
   "cell_type": "code",
   "execution_count": 129,
   "id": "755e0d49",
   "metadata": {
    "ExecuteTime": {
     "end_time": "2021-06-08T16:18:50.485422Z",
     "start_time": "2021-06-08T16:17:18.730764Z"
    }
   },
   "outputs": [
    {
     "name": "stdout",
     "output_type": "stream",
     "text": [
      "Accuracy: 0.532\n",
      "Accuracy: 0.5295\n",
      "Accuracy: 0.521\n",
      "Accuracy: 0.5415\n",
      "Accuracy: 0.5365\n"
     ]
    }
   ],
   "source": [
    "cs = [0.1, 1, 10, 100, 1000]\n",
    "\n",
    "for c in cs:\n",
    "    svc = svm.SVC(kernel='rbf', C=c).fit(X_train, y_train)\n",
    "    y_pred = svc.predict(X_test)\n",
    "    print(\"Accuracy:\",metrics.accuracy_score(y_test, y_pred))"
   ]
  },
  {
   "cell_type": "markdown",
   "id": "23e27316",
   "metadata": {},
   "source": [
    "##### Degrees"
   ]
  },
  {
   "cell_type": "code",
   "execution_count": 130,
   "id": "acecc27a",
   "metadata": {
    "ExecuteTime": {
     "end_time": "2021-06-08T16:19:28.209004Z",
     "start_time": "2021-06-08T16:18:50.487412Z"
    }
   },
   "outputs": [
    {
     "name": "stdout",
     "output_type": "stream",
     "text": [
      "Accuracy: 0.5\n",
      "Accuracy: 0.5335\n",
      "Accuracy: 0.5175\n",
      "Accuracy: 0.5225\n",
      "Accuracy: 0.5105\n",
      "Accuracy: 0.5225\n",
      "Accuracy: 0.5005\n"
     ]
    }
   ],
   "source": [
    "degrees = [0, 1, 2, 3, 4, 5, 6]\n",
    "for degree in degrees:\n",
    "    svc = svm.SVC(kernel='poly', degree=degree).fit(X_train, y_train)\n",
    "    y_pred = svc.predict(X_test)\n",
    "    print(\"Accuracy:\",metrics.accuracy_score(y_test, y_pred))"
   ]
  },
  {
   "cell_type": "markdown",
   "id": "57779fd6",
   "metadata": {},
   "source": [
    "Conclusions: Hem vist els efectes que tenen els diferents hyperparàmetres de cada algoritme dels models que havíem provat en l'acuraccy de les seves prediccions. Per veure com interaccionen els canvis de cada hyperparàmetre entre ells hauríem de fer un GridSearchCV. Hem fet una prova amb el model de Logistic Regression i hauríem de seguir en aquest sentit però de moment ho deixem per més endavant."
   ]
  },
  {
   "cell_type": "markdown",
   "id": "8dc77e39",
   "metadata": {},
   "source": [
    "### - Exercici 4: inner validation\n",
    "Compara el seu rendiment utilitzant l’aproximació traint/test o utilitzant totes les dades (validació interna).\n"
   ]
  },
  {
   "cell_type": "code",
   "execution_count": 131,
   "id": "92377d00",
   "metadata": {
    "ExecuteTime": {
     "end_time": "2021-06-08T16:19:28.826514Z",
     "start_time": "2021-06-08T16:19:28.210999Z"
    }
   },
   "outputs": [],
   "source": [
    "df_sample= df_1.groupby('Delayed', group_keys=False).apply(lambda x: x.sample(20000, random_state = 0))\n",
    "X = np.array(df_sample.drop([forecast_col], 1))\n",
    "y = np.array(df_sample[forecast_col])\n",
    "X = StandardScaler().fit_transform(X)"
   ]
  },
  {
   "cell_type": "markdown",
   "id": "dcbf09f8",
   "metadata": {},
   "source": [
    "Random Forest sense train/test (validació interna)"
   ]
  },
  {
   "cell_type": "code",
   "execution_count": 132,
   "id": "10c31d79",
   "metadata": {
    "ExecuteTime": {
     "end_time": "2021-06-08T16:19:28.842439Z",
     "start_time": "2021-06-08T16:19:28.828476Z"
    }
   },
   "outputs": [],
   "source": [
    "rf = RandomForestClassifier()"
   ]
  },
  {
   "cell_type": "code",
   "execution_count": 133,
   "id": "f97ad525",
   "metadata": {
    "ExecuteTime": {
     "end_time": "2021-06-08T16:19:39.241691Z",
     "start_time": "2021-06-08T16:19:28.845430Z"
    }
   },
   "outputs": [
    {
     "data": {
      "text/plain": [
       "RandomForestClassifier()"
      ]
     },
     "execution_count": 133,
     "metadata": {},
     "output_type": "execute_result"
    }
   ],
   "source": [
    "rf.fit(X, y)"
   ]
  },
  {
   "cell_type": "code",
   "execution_count": 134,
   "id": "b7495e0a",
   "metadata": {
    "ExecuteTime": {
     "end_time": "2021-06-08T16:19:40.773340Z",
     "start_time": "2021-06-08T16:19:39.245688Z"
    }
   },
   "outputs": [],
   "source": [
    "rf_pred = rf.predict(X)"
   ]
  },
  {
   "cell_type": "code",
   "execution_count": 135,
   "id": "3e676e6c",
   "metadata": {
    "ExecuteTime": {
     "end_time": "2021-06-08T16:19:40.789297Z",
     "start_time": "2021-06-08T16:19:40.776334Z"
    }
   },
   "outputs": [
    {
     "name": "stdout",
     "output_type": "stream",
     "text": [
      "1.0\n"
     ]
    }
   ],
   "source": [
    "score_rf = metrics.accuracy_score(y, rf_pred)\n",
    "print(score_rf)"
   ]
  },
  {
   "cell_type": "code",
   "execution_count": 136,
   "id": "c3ccedfd",
   "metadata": {
    "ExecuteTime": {
     "end_time": "2021-06-08T16:19:40.869083Z",
     "start_time": "2021-06-08T16:19:40.791293Z"
    }
   },
   "outputs": [
    {
     "name": "stdout",
     "output_type": "stream",
     "text": [
      "              precision    recall  f1-score   support\n",
      "\n",
      "           0       1.00      1.00      1.00     20000\n",
      "           1       1.00      1.00      1.00     20000\n",
      "\n",
      "    accuracy                           1.00     40000\n",
      "   macro avg       1.00      1.00      1.00     40000\n",
      "weighted avg       1.00      1.00      1.00     40000\n",
      "\n"
     ]
    }
   ],
   "source": [
    "print(classification_report(y, rf_pred ))"
   ]
  },
  {
   "cell_type": "markdown",
   "id": "091e5f72",
   "metadata": {},
   "source": [
    "Classification Tree sense train/test (validació interna)"
   ]
  },
  {
   "cell_type": "code",
   "execution_count": 137,
   "id": "22374c4b",
   "metadata": {
    "ExecuteTime": {
     "end_time": "2021-06-08T16:19:40.885041Z",
     "start_time": "2021-06-08T16:19:40.871078Z"
    }
   },
   "outputs": [],
   "source": [
    "ct = DecisionTreeClassifier()"
   ]
  },
  {
   "cell_type": "code",
   "execution_count": 138,
   "id": "f5f32bef",
   "metadata": {
    "ExecuteTime": {
     "end_time": "2021-06-08T16:19:41.409639Z",
     "start_time": "2021-06-08T16:19:40.887036Z"
    }
   },
   "outputs": [],
   "source": [
    "ct = ct.fit(X,y)"
   ]
  },
  {
   "cell_type": "code",
   "execution_count": 139,
   "id": "fc6d5947",
   "metadata": {
    "ExecuteTime": {
     "end_time": "2021-06-08T16:19:41.440558Z",
     "start_time": "2021-06-08T16:19:41.413629Z"
    }
   },
   "outputs": [],
   "source": [
    "ct_pred = ct.predict(X)"
   ]
  },
  {
   "cell_type": "code",
   "execution_count": 140,
   "id": "65a92181",
   "metadata": {
    "ExecuteTime": {
     "end_time": "2021-06-08T16:19:41.504384Z",
     "start_time": "2021-06-08T16:19:41.444545Z"
    }
   },
   "outputs": [
    {
     "name": "stdout",
     "output_type": "stream",
     "text": [
      "[[20000     0]\n",
      " [    0 20000]]\n"
     ]
    }
   ],
   "source": [
    "print(confusion_matrix(y, ct_pred ))"
   ]
  },
  {
   "cell_type": "code",
   "execution_count": 141,
   "id": "2001af54",
   "metadata": {
    "ExecuteTime": {
     "end_time": "2021-06-08T16:19:41.583174Z",
     "start_time": "2021-06-08T16:19:41.508374Z"
    }
   },
   "outputs": [
    {
     "name": "stdout",
     "output_type": "stream",
     "text": [
      "              precision    recall  f1-score   support\n",
      "\n",
      "           0       1.00      1.00      1.00     20000\n",
      "           1       1.00      1.00      1.00     20000\n",
      "\n",
      "    accuracy                           1.00     40000\n",
      "   macro avg       1.00      1.00      1.00     40000\n",
      "weighted avg       1.00      1.00      1.00     40000\n",
      "\n"
     ]
    }
   ],
   "source": [
    "print(classification_report(y, ct_pred ))"
   ]
  },
  {
   "cell_type": "code",
   "execution_count": 142,
   "id": "296e840c",
   "metadata": {
    "ExecuteTime": {
     "end_time": "2021-06-08T16:19:41.615087Z",
     "start_time": "2021-06-08T16:19:41.585170Z"
    }
   },
   "outputs": [
    {
     "name": "stdout",
     "output_type": "stream",
     "text": [
      "1.0\n"
     ]
    }
   ],
   "source": [
    "score_ct = ct.score(X, y)\n",
    "print(score_ct)"
   ]
  },
  {
   "cell_type": "markdown",
   "id": "bb17ca12",
   "metadata": {},
   "source": [
    "XGBoost sense train/test (validació interna)"
   ]
  },
  {
   "cell_type": "code",
   "execution_count": 143,
   "id": "3b001e54",
   "metadata": {
    "ExecuteTime": {
     "end_time": "2021-06-08T16:19:41.631045Z",
     "start_time": "2021-06-08T16:19:41.617084Z"
    }
   },
   "outputs": [],
   "source": [
    "xgb_clf = xgb.XGBClassifier()"
   ]
  },
  {
   "cell_type": "code",
   "execution_count": 144,
   "id": "234d4df0",
   "metadata": {
    "ExecuteTime": {
     "end_time": "2021-06-08T16:19:44.330515Z",
     "start_time": "2021-06-08T16:19:41.634039Z"
    }
   },
   "outputs": [
    {
     "data": {
      "text/plain": [
       "XGBClassifier(base_score=0.5, booster='gbtree', colsample_bylevel=1,\n",
       "              colsample_bynode=1, colsample_bytree=1, gamma=0, gpu_id=-1,\n",
       "              importance_type='gain', interaction_constraints='',\n",
       "              learning_rate=0.300000012, max_delta_step=0, max_depth=6,\n",
       "              min_child_weight=1, missing=nan, monotone_constraints='()',\n",
       "              n_estimators=100, n_jobs=4, num_parallel_tree=1, random_state=0,\n",
       "              reg_alpha=0, reg_lambda=1, scale_pos_weight=1, subsample=1,\n",
       "              tree_method='exact', validate_parameters=1, verbosity=None)"
      ]
     },
     "execution_count": 144,
     "metadata": {},
     "output_type": "execute_result"
    }
   ],
   "source": [
    "xgb_clf.fit(X,y)"
   ]
  },
  {
   "cell_type": "code",
   "execution_count": 145,
   "id": "854a59a8",
   "metadata": {
    "ExecuteTime": {
     "end_time": "2021-06-08T16:19:44.426257Z",
     "start_time": "2021-06-08T16:19:44.332509Z"
    }
   },
   "outputs": [],
   "source": [
    "xgb_pred = xgb_clf.predict(X)"
   ]
  },
  {
   "cell_type": "code",
   "execution_count": 146,
   "id": "b6219642",
   "metadata": {
    "ExecuteTime": {
     "end_time": "2021-06-08T16:19:44.442214Z",
     "start_time": "2021-06-08T16:19:44.429250Z"
    }
   },
   "outputs": [
    {
     "name": "stdout",
     "output_type": "stream",
     "text": [
      "Accuracy: 0.717975\n"
     ]
    }
   ],
   "source": [
    "print(\"Accuracy:\",metrics.accuracy_score(y, xgb_pred))"
   ]
  },
  {
   "cell_type": "code",
   "execution_count": 147,
   "id": "d88d8d4b",
   "metadata": {
    "ExecuteTime": {
     "end_time": "2021-06-08T16:19:44.522001Z",
     "start_time": "2021-06-08T16:19:44.445208Z"
    }
   },
   "outputs": [
    {
     "name": "stdout",
     "output_type": "stream",
     "text": [
      "[[14733  5267]\n",
      " [ 6014 13986]]\n"
     ]
    }
   ],
   "source": [
    "print(confusion_matrix(y, xgb_pred ))"
   ]
  },
  {
   "cell_type": "markdown",
   "id": "174e147e",
   "metadata": {},
   "source": [
    "K-Nearest Neighbours sense train/test (validació interna)"
   ]
  },
  {
   "cell_type": "code",
   "execution_count": 148,
   "id": "583d6bb3",
   "metadata": {
    "ExecuteTime": {
     "end_time": "2021-06-08T16:19:44.537961Z",
     "start_time": "2021-06-08T16:19:44.523998Z"
    }
   },
   "outputs": [],
   "source": [
    "knn = KNeighborsClassifier(n_neighbors=5)"
   ]
  },
  {
   "cell_type": "code",
   "execution_count": 149,
   "id": "9eed3111",
   "metadata": {
    "ExecuteTime": {
     "end_time": "2021-06-08T16:19:47.601896Z",
     "start_time": "2021-06-08T16:19:44.539954Z"
    }
   },
   "outputs": [
    {
     "data": {
      "text/plain": [
       "KNeighborsClassifier()"
      ]
     },
     "execution_count": 149,
     "metadata": {},
     "output_type": "execute_result"
    }
   ],
   "source": [
    "knn.fit(X, y)"
   ]
  },
  {
   "cell_type": "code",
   "execution_count": 150,
   "id": "03671896",
   "metadata": {
    "ExecuteTime": {
     "end_time": "2021-06-08T16:19:59.831153Z",
     "start_time": "2021-06-08T16:19:47.603892Z"
    }
   },
   "outputs": [],
   "source": [
    "knn_pred = knn.predict(X)"
   ]
  },
  {
   "cell_type": "code",
   "execution_count": 151,
   "id": "49209706",
   "metadata": {
    "ExecuteTime": {
     "end_time": "2021-06-08T16:20:14.624342Z",
     "start_time": "2021-06-08T16:19:59.834147Z"
    }
   },
   "outputs": [
    {
     "name": "stdout",
     "output_type": "stream",
     "text": [
      "0.7103\n"
     ]
    }
   ],
   "source": [
    "score_knn = knn.score(X, y)\n",
    "print(score_knn)"
   ]
  },
  {
   "cell_type": "markdown",
   "id": "7f0170ce",
   "metadata": {},
   "source": [
    "Logistic Regression sense train/test (validació interna)"
   ]
  },
  {
   "cell_type": "code",
   "execution_count": 152,
   "id": "92ba40e8",
   "metadata": {
    "ExecuteTime": {
     "end_time": "2021-06-08T16:20:14.640334Z",
     "start_time": "2021-06-08T16:20:14.626338Z"
    }
   },
   "outputs": [],
   "source": [
    "logisticRegr = LogisticRegression()"
   ]
  },
  {
   "cell_type": "code",
   "execution_count": 153,
   "id": "1b1342a3",
   "metadata": {
    "ExecuteTime": {
     "end_time": "2021-06-08T16:20:14.814833Z",
     "start_time": "2021-06-08T16:20:14.642293Z"
    }
   },
   "outputs": [
    {
     "data": {
      "text/plain": [
       "LogisticRegression()"
      ]
     },
     "execution_count": 153,
     "metadata": {},
     "output_type": "execute_result"
    }
   ],
   "source": [
    "logisticRegr.fit(X, y)"
   ]
  },
  {
   "cell_type": "code",
   "execution_count": 154,
   "id": "a56e5e19",
   "metadata": {
    "ExecuteTime": {
     "end_time": "2021-06-08T16:20:14.830788Z",
     "start_time": "2021-06-08T16:20:14.820816Z"
    }
   },
   "outputs": [],
   "source": [
    "lr_pred = logisticRegr.predict(X)"
   ]
  },
  {
   "cell_type": "code",
   "execution_count": 155,
   "id": "56a30d73",
   "metadata": {
    "ExecuteTime": {
     "end_time": "2021-06-08T16:20:14.846747Z",
     "start_time": "2021-06-08T16:20:14.833782Z"
    }
   },
   "outputs": [
    {
     "name": "stdout",
     "output_type": "stream",
     "text": [
      "0.547325\n"
     ]
    }
   ],
   "source": [
    "score = logisticRegr.score(X, y)\n",
    "print(score)"
   ]
  },
  {
   "cell_type": "code",
   "execution_count": 156,
   "id": "913afd3f",
   "metadata": {
    "ExecuteTime": {
     "end_time": "2021-06-08T16:20:14.910577Z",
     "start_time": "2021-06-08T16:20:14.848741Z"
    }
   },
   "outputs": [
    {
     "name": "stdout",
     "output_type": "stream",
     "text": [
      "[[10768  9232]\n",
      " [ 8875 11125]]\n"
     ]
    }
   ],
   "source": [
    "cm = metrics.confusion_matrix(y, lr_pred)\n",
    "print(cm)"
   ]
  },
  {
   "cell_type": "markdown",
   "id": "4d8b013b",
   "metadata": {},
   "source": [
    "Support Vector Machine (SVM) sense train/test (validació interna)"
   ]
  },
  {
   "cell_type": "code",
   "execution_count": 157,
   "id": "a76b53c2",
   "metadata": {
    "ExecuteTime": {
     "end_time": "2021-06-08T16:20:14.925536Z",
     "start_time": "2021-06-08T16:20:14.913570Z"
    }
   },
   "outputs": [],
   "source": [
    "svm_clf= svm.SVC(kernel='linear') "
   ]
  },
  {
   "cell_type": "code",
   "execution_count": 158,
   "id": "054c97a8",
   "metadata": {
    "ExecuteTime": {
     "end_time": "2021-06-08T16:21:39.896615Z",
     "start_time": "2021-06-08T16:20:14.928531Z"
    }
   },
   "outputs": [
    {
     "data": {
      "text/plain": [
       "SVC(kernel='linear')"
      ]
     },
     "execution_count": 158,
     "metadata": {},
     "output_type": "execute_result"
    }
   ],
   "source": [
    "svm_clf.fit(X, y)"
   ]
  },
  {
   "cell_type": "code",
   "execution_count": 159,
   "id": "3c3332b8",
   "metadata": {
    "ExecuteTime": {
     "end_time": "2021-06-08T16:22:26.120782Z",
     "start_time": "2021-06-08T16:21:39.899604Z"
    }
   },
   "outputs": [],
   "source": [
    "svm_pred = svm_clf.predict(X)"
   ]
  },
  {
   "cell_type": "code",
   "execution_count": 160,
   "id": "682b5382",
   "metadata": {
    "ExecuteTime": {
     "end_time": "2021-06-08T16:22:26.136738Z",
     "start_time": "2021-06-08T16:22:26.123776Z"
    }
   },
   "outputs": [
    {
     "name": "stdout",
     "output_type": "stream",
     "text": [
      "Accuracy: 0.54605\n"
     ]
    }
   ],
   "source": [
    "print(\"Accuracy:\",metrics.accuracy_score(y, svm_pred))"
   ]
  },
  {
   "cell_type": "code",
   "execution_count": 161,
   "id": "2d613948",
   "metadata": {
    "ExecuteTime": {
     "end_time": "2021-06-08T16:22:26.200570Z",
     "start_time": "2021-06-08T16:22:26.139732Z"
    }
   },
   "outputs": [
    {
     "name": "stdout",
     "output_type": "stream",
     "text": [
      "[[10722  9278]\n",
      " [ 8880 11120]]\n"
     ]
    }
   ],
   "source": [
    "print(confusion_matrix(y, svm_pred ))"
   ]
  },
  {
   "cell_type": "markdown",
   "id": "89c315e2",
   "metadata": {},
   "source": [
    "Conclusions: és interessant veure, mitjançant la validació interna, sense train i test, com actuen els models que hem escollit des del principi. Mentre que RandomForest i ClassificationTree tenen una accuracy d'1,  l'XGBoost i KNN ronden el 0.7 i els models de LogisticRegression i SVM, el 0.55.\n",
    "\n",
    "- Al primer exercici hem realitzat una cross_val_score amb k-fold en cas que fos això el que demanava l'exercici i hem fet una comparació de l'accuracy dels diferents models, que es pot comparar amb els resultats del train test a l'exercici 2."
   ]
  },
  {
   "cell_type": "markdown",
   "id": "34d3a019",
   "metadata": {},
   "source": [
    "## Nivell 2\n",
    "\n",
    "\n",
    "### - Exercici 5\n",
    "Realitza algun procés d’enginyeria de variables per millorar-ne la predicció"
   ]
  },
  {
   "cell_type": "markdown",
   "id": "5918b4ec",
   "metadata": {},
   "source": [
    "Al llarg de la tasca ja hem dut a terme algun procés d'enginyeria de variables, com el LabelEncoder per passar a binari les classes categòriques a predir; l'estanderització de les dades en tots els exercicis i la selecció de features al principi tenint en compte la correlació amb el target i la multiconlinealitat. Creiem que no té massa sentit intentar crear nous features quan ens hem esforçat en limitar les variables per tal que el problema fos el més similar al d'una situació real.\n",
    "\n",
    "Primer recuperarem les variables categòriques que havíem eliminat al principi per veure quin pes tenen en la millora dels models inicials. Després provarem de canviar la manera com dividim els enderreriments perquè quedi imabalanced i practicar les estratègies d'upsampling, downsampling i SMOTE. Al final també provarem algun procés d'enginyeria de variable més clàssic, fent un PCA per l'algoritme de KNN i provarem de dividir els enderreriments en 4 classes en comptes de 2."
   ]
  },
  {
   "cell_type": "markdown",
   "id": "bf13794d",
   "metadata": {},
   "source": [
    "#### Recuperació de les variables categòriques"
   ]
  },
  {
   "cell_type": "code",
   "execution_count": 162,
   "id": "989f54ba",
   "metadata": {
    "ExecuteTime": {
     "end_time": "2021-06-08T16:22:33.863980Z",
     "start_time": "2021-06-08T16:22:26.206561Z"
    }
   },
   "outputs": [
    {
     "data": {
      "text/html": [
       "<div>\n",
       "<style scoped>\n",
       "    .dataframe tbody tr th:only-of-type {\n",
       "        vertical-align: middle;\n",
       "    }\n",
       "\n",
       "    .dataframe tbody tr th {\n",
       "        vertical-align: top;\n",
       "    }\n",
       "\n",
       "    .dataframe thead th {\n",
       "        text-align: right;\n",
       "    }\n",
       "</style>\n",
       "<table border=\"1\" class=\"dataframe\">\n",
       "  <thead>\n",
       "    <tr style=\"text-align: right;\">\n",
       "      <th></th>\n",
       "      <th>Unnamed: 0</th>\n",
       "      <th>Year</th>\n",
       "      <th>Month</th>\n",
       "      <th>DayofMonth</th>\n",
       "      <th>DayOfWeek</th>\n",
       "      <th>DepTime</th>\n",
       "      <th>CRSDepTime</th>\n",
       "      <th>ArrTime</th>\n",
       "      <th>CRSArrTime</th>\n",
       "      <th>UniqueCarrier</th>\n",
       "      <th>FlightNum</th>\n",
       "      <th>TailNum</th>\n",
       "      <th>ActualElapsedTime</th>\n",
       "      <th>CRSElapsedTime</th>\n",
       "      <th>AirTime</th>\n",
       "      <th>ArrDelay</th>\n",
       "      <th>DepDelay</th>\n",
       "      <th>Origin</th>\n",
       "      <th>Dest</th>\n",
       "      <th>Distance</th>\n",
       "      <th>TaxiIn</th>\n",
       "      <th>TaxiOut</th>\n",
       "      <th>Cancelled</th>\n",
       "      <th>CancellationCode</th>\n",
       "      <th>Diverted</th>\n",
       "      <th>CarrierDelay</th>\n",
       "      <th>WeatherDelay</th>\n",
       "      <th>NASDelay</th>\n",
       "      <th>SecurityDelay</th>\n",
       "      <th>LateAircraftDelay</th>\n",
       "    </tr>\n",
       "  </thead>\n",
       "  <tbody>\n",
       "    <tr>\n",
       "      <th>0</th>\n",
       "      <td>0</td>\n",
       "      <td>2008</td>\n",
       "      <td>1</td>\n",
       "      <td>3</td>\n",
       "      <td>4</td>\n",
       "      <td>2003.0</td>\n",
       "      <td>1955</td>\n",
       "      <td>2211.0</td>\n",
       "      <td>2225</td>\n",
       "      <td>WN</td>\n",
       "      <td>335</td>\n",
       "      <td>N712SW</td>\n",
       "      <td>128.0</td>\n",
       "      <td>150.0</td>\n",
       "      <td>116.0</td>\n",
       "      <td>-14.0</td>\n",
       "      <td>8.0</td>\n",
       "      <td>IAD</td>\n",
       "      <td>TPA</td>\n",
       "      <td>810</td>\n",
       "      <td>4.0</td>\n",
       "      <td>8.0</td>\n",
       "      <td>0</td>\n",
       "      <td>N</td>\n",
       "      <td>0</td>\n",
       "      <td>NaN</td>\n",
       "      <td>NaN</td>\n",
       "      <td>NaN</td>\n",
       "      <td>NaN</td>\n",
       "      <td>NaN</td>\n",
       "    </tr>\n",
       "    <tr>\n",
       "      <th>1</th>\n",
       "      <td>1</td>\n",
       "      <td>2008</td>\n",
       "      <td>1</td>\n",
       "      <td>3</td>\n",
       "      <td>4</td>\n",
       "      <td>754.0</td>\n",
       "      <td>735</td>\n",
       "      <td>1002.0</td>\n",
       "      <td>1000</td>\n",
       "      <td>WN</td>\n",
       "      <td>3231</td>\n",
       "      <td>N772SW</td>\n",
       "      <td>128.0</td>\n",
       "      <td>145.0</td>\n",
       "      <td>113.0</td>\n",
       "      <td>2.0</td>\n",
       "      <td>19.0</td>\n",
       "      <td>IAD</td>\n",
       "      <td>TPA</td>\n",
       "      <td>810</td>\n",
       "      <td>5.0</td>\n",
       "      <td>10.0</td>\n",
       "      <td>0</td>\n",
       "      <td>N</td>\n",
       "      <td>0</td>\n",
       "      <td>NaN</td>\n",
       "      <td>NaN</td>\n",
       "      <td>NaN</td>\n",
       "      <td>NaN</td>\n",
       "      <td>NaN</td>\n",
       "    </tr>\n",
       "    <tr>\n",
       "      <th>2</th>\n",
       "      <td>2</td>\n",
       "      <td>2008</td>\n",
       "      <td>1</td>\n",
       "      <td>3</td>\n",
       "      <td>4</td>\n",
       "      <td>628.0</td>\n",
       "      <td>620</td>\n",
       "      <td>804.0</td>\n",
       "      <td>750</td>\n",
       "      <td>WN</td>\n",
       "      <td>448</td>\n",
       "      <td>N428WN</td>\n",
       "      <td>96.0</td>\n",
       "      <td>90.0</td>\n",
       "      <td>76.0</td>\n",
       "      <td>14.0</td>\n",
       "      <td>8.0</td>\n",
       "      <td>IND</td>\n",
       "      <td>BWI</td>\n",
       "      <td>515</td>\n",
       "      <td>3.0</td>\n",
       "      <td>17.0</td>\n",
       "      <td>0</td>\n",
       "      <td>N</td>\n",
       "      <td>0</td>\n",
       "      <td>NaN</td>\n",
       "      <td>NaN</td>\n",
       "      <td>NaN</td>\n",
       "      <td>NaN</td>\n",
       "      <td>NaN</td>\n",
       "    </tr>\n",
       "    <tr>\n",
       "      <th>3</th>\n",
       "      <td>4</td>\n",
       "      <td>2008</td>\n",
       "      <td>1</td>\n",
       "      <td>3</td>\n",
       "      <td>4</td>\n",
       "      <td>1829.0</td>\n",
       "      <td>1755</td>\n",
       "      <td>1959.0</td>\n",
       "      <td>1925</td>\n",
       "      <td>WN</td>\n",
       "      <td>3920</td>\n",
       "      <td>N464WN</td>\n",
       "      <td>90.0</td>\n",
       "      <td>90.0</td>\n",
       "      <td>77.0</td>\n",
       "      <td>34.0</td>\n",
       "      <td>34.0</td>\n",
       "      <td>IND</td>\n",
       "      <td>BWI</td>\n",
       "      <td>515</td>\n",
       "      <td>3.0</td>\n",
       "      <td>10.0</td>\n",
       "      <td>0</td>\n",
       "      <td>N</td>\n",
       "      <td>0</td>\n",
       "      <td>2.0</td>\n",
       "      <td>0.0</td>\n",
       "      <td>0.0</td>\n",
       "      <td>0.0</td>\n",
       "      <td>32.0</td>\n",
       "    </tr>\n",
       "    <tr>\n",
       "      <th>4</th>\n",
       "      <td>5</td>\n",
       "      <td>2008</td>\n",
       "      <td>1</td>\n",
       "      <td>3</td>\n",
       "      <td>4</td>\n",
       "      <td>1940.0</td>\n",
       "      <td>1915</td>\n",
       "      <td>2121.0</td>\n",
       "      <td>2110</td>\n",
       "      <td>WN</td>\n",
       "      <td>378</td>\n",
       "      <td>N726SW</td>\n",
       "      <td>101.0</td>\n",
       "      <td>115.0</td>\n",
       "      <td>87.0</td>\n",
       "      <td>11.0</td>\n",
       "      <td>25.0</td>\n",
       "      <td>IND</td>\n",
       "      <td>JAX</td>\n",
       "      <td>688</td>\n",
       "      <td>4.0</td>\n",
       "      <td>10.0</td>\n",
       "      <td>0</td>\n",
       "      <td>N</td>\n",
       "      <td>0</td>\n",
       "      <td>NaN</td>\n",
       "      <td>NaN</td>\n",
       "      <td>NaN</td>\n",
       "      <td>NaN</td>\n",
       "      <td>NaN</td>\n",
       "    </tr>\n",
       "    <tr>\n",
       "      <th>...</th>\n",
       "      <td>...</td>\n",
       "      <td>...</td>\n",
       "      <td>...</td>\n",
       "      <td>...</td>\n",
       "      <td>...</td>\n",
       "      <td>...</td>\n",
       "      <td>...</td>\n",
       "      <td>...</td>\n",
       "      <td>...</td>\n",
       "      <td>...</td>\n",
       "      <td>...</td>\n",
       "      <td>...</td>\n",
       "      <td>...</td>\n",
       "      <td>...</td>\n",
       "      <td>...</td>\n",
       "      <td>...</td>\n",
       "      <td>...</td>\n",
       "      <td>...</td>\n",
       "      <td>...</td>\n",
       "      <td>...</td>\n",
       "      <td>...</td>\n",
       "      <td>...</td>\n",
       "      <td>...</td>\n",
       "      <td>...</td>\n",
       "      <td>...</td>\n",
       "      <td>...</td>\n",
       "      <td>...</td>\n",
       "      <td>...</td>\n",
       "      <td>...</td>\n",
       "      <td>...</td>\n",
       "    </tr>\n",
       "    <tr>\n",
       "      <th>1936753</th>\n",
       "      <td>7009710</td>\n",
       "      <td>2008</td>\n",
       "      <td>12</td>\n",
       "      <td>13</td>\n",
       "      <td>6</td>\n",
       "      <td>1250.0</td>\n",
       "      <td>1220</td>\n",
       "      <td>1617.0</td>\n",
       "      <td>1552</td>\n",
       "      <td>DL</td>\n",
       "      <td>1621</td>\n",
       "      <td>N938DL</td>\n",
       "      <td>147.0</td>\n",
       "      <td>152.0</td>\n",
       "      <td>120.0</td>\n",
       "      <td>25.0</td>\n",
       "      <td>30.0</td>\n",
       "      <td>MSP</td>\n",
       "      <td>ATL</td>\n",
       "      <td>906</td>\n",
       "      <td>9.0</td>\n",
       "      <td>18.0</td>\n",
       "      <td>0</td>\n",
       "      <td>N</td>\n",
       "      <td>0</td>\n",
       "      <td>3.0</td>\n",
       "      <td>0.0</td>\n",
       "      <td>0.0</td>\n",
       "      <td>0.0</td>\n",
       "      <td>22.0</td>\n",
       "    </tr>\n",
       "    <tr>\n",
       "      <th>1936754</th>\n",
       "      <td>7009717</td>\n",
       "      <td>2008</td>\n",
       "      <td>12</td>\n",
       "      <td>13</td>\n",
       "      <td>6</td>\n",
       "      <td>657.0</td>\n",
       "      <td>600</td>\n",
       "      <td>904.0</td>\n",
       "      <td>749</td>\n",
       "      <td>DL</td>\n",
       "      <td>1631</td>\n",
       "      <td>N3743H</td>\n",
       "      <td>127.0</td>\n",
       "      <td>109.0</td>\n",
       "      <td>78.0</td>\n",
       "      <td>75.0</td>\n",
       "      <td>57.0</td>\n",
       "      <td>RIC</td>\n",
       "      <td>ATL</td>\n",
       "      <td>481</td>\n",
       "      <td>15.0</td>\n",
       "      <td>34.0</td>\n",
       "      <td>0</td>\n",
       "      <td>N</td>\n",
       "      <td>0</td>\n",
       "      <td>0.0</td>\n",
       "      <td>57.0</td>\n",
       "      <td>18.0</td>\n",
       "      <td>0.0</td>\n",
       "      <td>0.0</td>\n",
       "    </tr>\n",
       "    <tr>\n",
       "      <th>1936755</th>\n",
       "      <td>7009718</td>\n",
       "      <td>2008</td>\n",
       "      <td>12</td>\n",
       "      <td>13</td>\n",
       "      <td>6</td>\n",
       "      <td>1007.0</td>\n",
       "      <td>847</td>\n",
       "      <td>1149.0</td>\n",
       "      <td>1010</td>\n",
       "      <td>DL</td>\n",
       "      <td>1631</td>\n",
       "      <td>N909DA</td>\n",
       "      <td>162.0</td>\n",
       "      <td>143.0</td>\n",
       "      <td>122.0</td>\n",
       "      <td>99.0</td>\n",
       "      <td>80.0</td>\n",
       "      <td>ATL</td>\n",
       "      <td>IAH</td>\n",
       "      <td>689</td>\n",
       "      <td>8.0</td>\n",
       "      <td>32.0</td>\n",
       "      <td>0</td>\n",
       "      <td>N</td>\n",
       "      <td>0</td>\n",
       "      <td>1.0</td>\n",
       "      <td>0.0</td>\n",
       "      <td>19.0</td>\n",
       "      <td>0.0</td>\n",
       "      <td>79.0</td>\n",
       "    </tr>\n",
       "    <tr>\n",
       "      <th>1936756</th>\n",
       "      <td>7009726</td>\n",
       "      <td>2008</td>\n",
       "      <td>12</td>\n",
       "      <td>13</td>\n",
       "      <td>6</td>\n",
       "      <td>1251.0</td>\n",
       "      <td>1240</td>\n",
       "      <td>1446.0</td>\n",
       "      <td>1437</td>\n",
       "      <td>DL</td>\n",
       "      <td>1639</td>\n",
       "      <td>N646DL</td>\n",
       "      <td>115.0</td>\n",
       "      <td>117.0</td>\n",
       "      <td>89.0</td>\n",
       "      <td>9.0</td>\n",
       "      <td>11.0</td>\n",
       "      <td>IAD</td>\n",
       "      <td>ATL</td>\n",
       "      <td>533</td>\n",
       "      <td>13.0</td>\n",
       "      <td>13.0</td>\n",
       "      <td>0</td>\n",
       "      <td>N</td>\n",
       "      <td>0</td>\n",
       "      <td>NaN</td>\n",
       "      <td>NaN</td>\n",
       "      <td>NaN</td>\n",
       "      <td>NaN</td>\n",
       "      <td>NaN</td>\n",
       "    </tr>\n",
       "    <tr>\n",
       "      <th>1936757</th>\n",
       "      <td>7009727</td>\n",
       "      <td>2008</td>\n",
       "      <td>12</td>\n",
       "      <td>13</td>\n",
       "      <td>6</td>\n",
       "      <td>1110.0</td>\n",
       "      <td>1103</td>\n",
       "      <td>1413.0</td>\n",
       "      <td>1418</td>\n",
       "      <td>DL</td>\n",
       "      <td>1641</td>\n",
       "      <td>N908DL</td>\n",
       "      <td>123.0</td>\n",
       "      <td>135.0</td>\n",
       "      <td>104.0</td>\n",
       "      <td>-5.0</td>\n",
       "      <td>7.0</td>\n",
       "      <td>SAT</td>\n",
       "      <td>ATL</td>\n",
       "      <td>874</td>\n",
       "      <td>8.0</td>\n",
       "      <td>11.0</td>\n",
       "      <td>0</td>\n",
       "      <td>N</td>\n",
       "      <td>0</td>\n",
       "      <td>NaN</td>\n",
       "      <td>NaN</td>\n",
       "      <td>NaN</td>\n",
       "      <td>NaN</td>\n",
       "      <td>NaN</td>\n",
       "    </tr>\n",
       "  </tbody>\n",
       "</table>\n",
       "<p>1936758 rows × 30 columns</p>\n",
       "</div>"
      ],
      "text/plain": [
       "         Unnamed: 0  Year  Month  DayofMonth  DayOfWeek  DepTime  CRSDepTime  ArrTime  CRSArrTime UniqueCarrier  FlightNum TailNum  ActualElapsedTime  CRSElapsedTime  AirTime  ArrDelay  DepDelay Origin Dest  Distance  TaxiIn  TaxiOut  Cancelled CancellationCode  Diverted  CarrierDelay  WeatherDelay  NASDelay  SecurityDelay  LateAircraftDelay\n",
       "0                 0  2008      1           3          4   2003.0        1955   2211.0        2225            WN        335  N712SW              128.0           150.0    116.0     -14.0       8.0    IAD  TPA       810     4.0      8.0          0                N         0           NaN           NaN       NaN            NaN                NaN\n",
       "1                 1  2008      1           3          4    754.0         735   1002.0        1000            WN       3231  N772SW              128.0           145.0    113.0       2.0      19.0    IAD  TPA       810     5.0     10.0          0                N         0           NaN           NaN       NaN            NaN                NaN\n",
       "2                 2  2008      1           3          4    628.0         620    804.0         750            WN        448  N428WN               96.0            90.0     76.0      14.0       8.0    IND  BWI       515     3.0     17.0          0                N         0           NaN           NaN       NaN            NaN                NaN\n",
       "3                 4  2008      1           3          4   1829.0        1755   1959.0        1925            WN       3920  N464WN               90.0            90.0     77.0      34.0      34.0    IND  BWI       515     3.0     10.0          0                N         0           2.0           0.0       0.0            0.0               32.0\n",
       "4                 5  2008      1           3          4   1940.0        1915   2121.0        2110            WN        378  N726SW              101.0           115.0     87.0      11.0      25.0    IND  JAX       688     4.0     10.0          0                N         0           NaN           NaN       NaN            NaN                NaN\n",
       "...             ...   ...    ...         ...        ...      ...         ...      ...         ...           ...        ...     ...                ...             ...      ...       ...       ...    ...  ...       ...     ...      ...        ...              ...       ...           ...           ...       ...            ...                ...\n",
       "1936753     7009710  2008     12          13          6   1250.0        1220   1617.0        1552            DL       1621  N938DL              147.0           152.0    120.0      25.0      30.0    MSP  ATL       906     9.0     18.0          0                N         0           3.0           0.0       0.0            0.0               22.0\n",
       "1936754     7009717  2008     12          13          6    657.0         600    904.0         749            DL       1631  N3743H              127.0           109.0     78.0      75.0      57.0    RIC  ATL       481    15.0     34.0          0                N         0           0.0          57.0      18.0            0.0                0.0\n",
       "1936755     7009718  2008     12          13          6   1007.0         847   1149.0        1010            DL       1631  N909DA              162.0           143.0    122.0      99.0      80.0    ATL  IAH       689     8.0     32.0          0                N         0           1.0           0.0      19.0            0.0               79.0\n",
       "1936756     7009726  2008     12          13          6   1251.0        1240   1446.0        1437            DL       1639  N646DL              115.0           117.0     89.0       9.0      11.0    IAD  ATL       533    13.0     13.0          0                N         0           NaN           NaN       NaN            NaN                NaN\n",
       "1936757     7009727  2008     12          13          6   1110.0        1103   1413.0        1418            DL       1641  N908DL              123.0           135.0    104.0      -5.0       7.0    SAT  ATL       874     8.0     11.0          0                N         0           NaN           NaN       NaN            NaN                NaN\n",
       "\n",
       "[1936758 rows x 30 columns]"
      ]
     },
     "execution_count": 162,
     "metadata": {},
     "output_type": "execute_result"
    }
   ],
   "source": [
    "df = pd.read_csv('DelayedFlights.csv')\n",
    "df"
   ]
  },
  {
   "cell_type": "code",
   "execution_count": 163,
   "id": "3b4ac5d3",
   "metadata": {
    "ExecuteTime": {
     "end_time": "2021-06-08T16:22:33.926775Z",
     "start_time": "2021-06-08T16:22:33.866937Z"
    }
   },
   "outputs": [
    {
     "data": {
      "text/html": [
       "<div>\n",
       "<style scoped>\n",
       "    .dataframe tbody tr th:only-of-type {\n",
       "        vertical-align: middle;\n",
       "    }\n",
       "\n",
       "    .dataframe tbody tr th {\n",
       "        vertical-align: top;\n",
       "    }\n",
       "\n",
       "    .dataframe thead th {\n",
       "        text-align: right;\n",
       "    }\n",
       "</style>\n",
       "<table border=\"1\" class=\"dataframe\">\n",
       "  <thead>\n",
       "    <tr style=\"text-align: right;\">\n",
       "      <th></th>\n",
       "      <th>Unnamed: 0</th>\n",
       "      <th>Year</th>\n",
       "      <th>Month</th>\n",
       "      <th>DayofMonth</th>\n",
       "      <th>DayOfWeek</th>\n",
       "      <th>DepTime</th>\n",
       "      <th>CRSDepTime</th>\n",
       "      <th>ArrTime</th>\n",
       "      <th>CRSArrTime</th>\n",
       "      <th>UniqueCarrier</th>\n",
       "      <th>FlightNum</th>\n",
       "      <th>TailNum</th>\n",
       "      <th>ActualElapsedTime</th>\n",
       "      <th>CRSElapsedTime</th>\n",
       "      <th>AirTime</th>\n",
       "      <th>ArrDelay</th>\n",
       "      <th>DepDelay</th>\n",
       "      <th>Origin</th>\n",
       "      <th>Dest</th>\n",
       "      <th>Distance</th>\n",
       "      <th>TaxiIn</th>\n",
       "      <th>TaxiOut</th>\n",
       "      <th>Cancelled</th>\n",
       "      <th>CancellationCode</th>\n",
       "      <th>Diverted</th>\n",
       "      <th>CarrierDelay</th>\n",
       "      <th>WeatherDelay</th>\n",
       "      <th>NASDelay</th>\n",
       "      <th>SecurityDelay</th>\n",
       "      <th>LateAircraftDelay</th>\n",
       "    </tr>\n",
       "  </thead>\n",
       "  <tbody>\n",
       "    <tr>\n",
       "      <th>0</th>\n",
       "      <td>0</td>\n",
       "      <td>2008</td>\n",
       "      <td>1</td>\n",
       "      <td>3</td>\n",
       "      <td>4</td>\n",
       "      <td>2003.0</td>\n",
       "      <td>1955</td>\n",
       "      <td>2211.0</td>\n",
       "      <td>2225</td>\n",
       "      <td>WN</td>\n",
       "      <td>335</td>\n",
       "      <td>N712SW</td>\n",
       "      <td>128.0</td>\n",
       "      <td>150.0</td>\n",
       "      <td>116.0</td>\n",
       "      <td>-14.0</td>\n",
       "      <td>8.0</td>\n",
       "      <td>IAD</td>\n",
       "      <td>TPA</td>\n",
       "      <td>810</td>\n",
       "      <td>4.0</td>\n",
       "      <td>8.0</td>\n",
       "      <td>0</td>\n",
       "      <td>N</td>\n",
       "      <td>0</td>\n",
       "      <td>NaN</td>\n",
       "      <td>NaN</td>\n",
       "      <td>NaN</td>\n",
       "      <td>NaN</td>\n",
       "      <td>NaN</td>\n",
       "    </tr>\n",
       "    <tr>\n",
       "      <th>1</th>\n",
       "      <td>1</td>\n",
       "      <td>2008</td>\n",
       "      <td>1</td>\n",
       "      <td>3</td>\n",
       "      <td>4</td>\n",
       "      <td>754.0</td>\n",
       "      <td>735</td>\n",
       "      <td>1002.0</td>\n",
       "      <td>1000</td>\n",
       "      <td>WN</td>\n",
       "      <td>3231</td>\n",
       "      <td>N772SW</td>\n",
       "      <td>128.0</td>\n",
       "      <td>145.0</td>\n",
       "      <td>113.0</td>\n",
       "      <td>2.0</td>\n",
       "      <td>19.0</td>\n",
       "      <td>IAD</td>\n",
       "      <td>TPA</td>\n",
       "      <td>810</td>\n",
       "      <td>5.0</td>\n",
       "      <td>10.0</td>\n",
       "      <td>0</td>\n",
       "      <td>N</td>\n",
       "      <td>0</td>\n",
       "      <td>NaN</td>\n",
       "      <td>NaN</td>\n",
       "      <td>NaN</td>\n",
       "      <td>NaN</td>\n",
       "      <td>NaN</td>\n",
       "    </tr>\n",
       "    <tr>\n",
       "      <th>2</th>\n",
       "      <td>2</td>\n",
       "      <td>2008</td>\n",
       "      <td>1</td>\n",
       "      <td>3</td>\n",
       "      <td>4</td>\n",
       "      <td>628.0</td>\n",
       "      <td>620</td>\n",
       "      <td>804.0</td>\n",
       "      <td>750</td>\n",
       "      <td>WN</td>\n",
       "      <td>448</td>\n",
       "      <td>N428WN</td>\n",
       "      <td>96.0</td>\n",
       "      <td>90.0</td>\n",
       "      <td>76.0</td>\n",
       "      <td>14.0</td>\n",
       "      <td>8.0</td>\n",
       "      <td>IND</td>\n",
       "      <td>BWI</td>\n",
       "      <td>515</td>\n",
       "      <td>3.0</td>\n",
       "      <td>17.0</td>\n",
       "      <td>0</td>\n",
       "      <td>N</td>\n",
       "      <td>0</td>\n",
       "      <td>NaN</td>\n",
       "      <td>NaN</td>\n",
       "      <td>NaN</td>\n",
       "      <td>NaN</td>\n",
       "      <td>NaN</td>\n",
       "    </tr>\n",
       "    <tr>\n",
       "      <th>3</th>\n",
       "      <td>4</td>\n",
       "      <td>2008</td>\n",
       "      <td>1</td>\n",
       "      <td>3</td>\n",
       "      <td>4</td>\n",
       "      <td>1829.0</td>\n",
       "      <td>1755</td>\n",
       "      <td>1959.0</td>\n",
       "      <td>1925</td>\n",
       "      <td>WN</td>\n",
       "      <td>3920</td>\n",
       "      <td>N464WN</td>\n",
       "      <td>90.0</td>\n",
       "      <td>90.0</td>\n",
       "      <td>77.0</td>\n",
       "      <td>34.0</td>\n",
       "      <td>34.0</td>\n",
       "      <td>IND</td>\n",
       "      <td>BWI</td>\n",
       "      <td>515</td>\n",
       "      <td>3.0</td>\n",
       "      <td>10.0</td>\n",
       "      <td>0</td>\n",
       "      <td>N</td>\n",
       "      <td>0</td>\n",
       "      <td>2.0</td>\n",
       "      <td>0.0</td>\n",
       "      <td>0.0</td>\n",
       "      <td>0.0</td>\n",
       "      <td>32.0</td>\n",
       "    </tr>\n",
       "    <tr>\n",
       "      <th>4</th>\n",
       "      <td>5</td>\n",
       "      <td>2008</td>\n",
       "      <td>1</td>\n",
       "      <td>3</td>\n",
       "      <td>4</td>\n",
       "      <td>1940.0</td>\n",
       "      <td>1915</td>\n",
       "      <td>2121.0</td>\n",
       "      <td>2110</td>\n",
       "      <td>WN</td>\n",
       "      <td>378</td>\n",
       "      <td>N726SW</td>\n",
       "      <td>101.0</td>\n",
       "      <td>115.0</td>\n",
       "      <td>87.0</td>\n",
       "      <td>11.0</td>\n",
       "      <td>25.0</td>\n",
       "      <td>IND</td>\n",
       "      <td>JAX</td>\n",
       "      <td>688</td>\n",
       "      <td>4.0</td>\n",
       "      <td>10.0</td>\n",
       "      <td>0</td>\n",
       "      <td>N</td>\n",
       "      <td>0</td>\n",
       "      <td>NaN</td>\n",
       "      <td>NaN</td>\n",
       "      <td>NaN</td>\n",
       "      <td>NaN</td>\n",
       "      <td>NaN</td>\n",
       "    </tr>\n",
       "  </tbody>\n",
       "</table>\n",
       "</div>"
      ],
      "text/plain": [
       "   Unnamed: 0  Year  Month  DayofMonth  DayOfWeek  DepTime  CRSDepTime  ArrTime  CRSArrTime UniqueCarrier  FlightNum TailNum  ActualElapsedTime  CRSElapsedTime  AirTime  ArrDelay  DepDelay Origin Dest  Distance  TaxiIn  TaxiOut  Cancelled CancellationCode  Diverted  CarrierDelay  WeatherDelay  NASDelay  SecurityDelay  LateAircraftDelay\n",
       "0           0  2008      1           3          4   2003.0        1955   2211.0        2225            WN        335  N712SW              128.0           150.0    116.0     -14.0       8.0    IAD  TPA       810     4.0      8.0          0                N         0           NaN           NaN       NaN            NaN                NaN\n",
       "1           1  2008      1           3          4    754.0         735   1002.0        1000            WN       3231  N772SW              128.0           145.0    113.0       2.0      19.0    IAD  TPA       810     5.0     10.0          0                N         0           NaN           NaN       NaN            NaN                NaN\n",
       "2           2  2008      1           3          4    628.0         620    804.0         750            WN        448  N428WN               96.0            90.0     76.0      14.0       8.0    IND  BWI       515     3.0     17.0          0                N         0           NaN           NaN       NaN            NaN                NaN\n",
       "3           4  2008      1           3          4   1829.0        1755   1959.0        1925            WN       3920  N464WN               90.0            90.0     77.0      34.0      34.0    IND  BWI       515     3.0     10.0          0                N         0           2.0           0.0       0.0            0.0               32.0\n",
       "4           5  2008      1           3          4   1940.0        1915   2121.0        2110            WN        378  N726SW              101.0           115.0     87.0      11.0      25.0    IND  JAX       688     4.0     10.0          0                N         0           NaN           NaN       NaN            NaN                NaN"
      ]
     },
     "execution_count": 163,
     "metadata": {},
     "output_type": "execute_result"
    }
   ],
   "source": [
    "df.head(5)"
   ]
  },
  {
   "cell_type": "code",
   "execution_count": 164,
   "id": "ce2e8c81",
   "metadata": {
    "ExecuteTime": {
     "end_time": "2021-06-08T16:22:34.259884Z",
     "start_time": "2021-06-08T16:22:33.929769Z"
    }
   },
   "outputs": [],
   "source": [
    "df_1 = df\n",
    "df_1.drop('Unnamed: 0', axis=1, inplace = True)"
   ]
  },
  {
   "cell_type": "code",
   "execution_count": 165,
   "id": "8794e84c",
   "metadata": {
    "ExecuteTime": {
     "end_time": "2021-06-08T16:22:34.323716Z",
     "start_time": "2021-06-08T16:22:34.261881Z"
    }
   },
   "outputs": [
    {
     "data": {
      "text/html": [
       "<div>\n",
       "<style scoped>\n",
       "    .dataframe tbody tr th:only-of-type {\n",
       "        vertical-align: middle;\n",
       "    }\n",
       "\n",
       "    .dataframe tbody tr th {\n",
       "        vertical-align: top;\n",
       "    }\n",
       "\n",
       "    .dataframe thead th {\n",
       "        text-align: right;\n",
       "    }\n",
       "</style>\n",
       "<table border=\"1\" class=\"dataframe\">\n",
       "  <thead>\n",
       "    <tr style=\"text-align: right;\">\n",
       "      <th></th>\n",
       "      <th>Year</th>\n",
       "      <th>Month</th>\n",
       "      <th>DayofMonth</th>\n",
       "      <th>DayOfWeek</th>\n",
       "      <th>DepTime</th>\n",
       "      <th>CRSDepTime</th>\n",
       "      <th>ArrTime</th>\n",
       "      <th>CRSArrTime</th>\n",
       "      <th>UniqueCarrier</th>\n",
       "      <th>FlightNum</th>\n",
       "      <th>TailNum</th>\n",
       "      <th>ActualElapsedTime</th>\n",
       "      <th>CRSElapsedTime</th>\n",
       "      <th>AirTime</th>\n",
       "      <th>ArrDelay</th>\n",
       "      <th>DepDelay</th>\n",
       "      <th>Origin</th>\n",
       "      <th>Dest</th>\n",
       "      <th>Distance</th>\n",
       "      <th>TaxiIn</th>\n",
       "      <th>TaxiOut</th>\n",
       "      <th>Cancelled</th>\n",
       "      <th>CancellationCode</th>\n",
       "      <th>Diverted</th>\n",
       "      <th>CarrierDelay</th>\n",
       "      <th>WeatherDelay</th>\n",
       "      <th>NASDelay</th>\n",
       "      <th>SecurityDelay</th>\n",
       "      <th>LateAircraftDelay</th>\n",
       "    </tr>\n",
       "  </thead>\n",
       "  <tbody>\n",
       "    <tr>\n",
       "      <th>0</th>\n",
       "      <td>2008</td>\n",
       "      <td>1</td>\n",
       "      <td>3</td>\n",
       "      <td>4</td>\n",
       "      <td>2003.0</td>\n",
       "      <td>1955</td>\n",
       "      <td>2211.0</td>\n",
       "      <td>2225</td>\n",
       "      <td>WN</td>\n",
       "      <td>335</td>\n",
       "      <td>N712SW</td>\n",
       "      <td>128.0</td>\n",
       "      <td>150.0</td>\n",
       "      <td>116.0</td>\n",
       "      <td>-14.0</td>\n",
       "      <td>8.0</td>\n",
       "      <td>IAD</td>\n",
       "      <td>TPA</td>\n",
       "      <td>810</td>\n",
       "      <td>4.0</td>\n",
       "      <td>8.0</td>\n",
       "      <td>0</td>\n",
       "      <td>N</td>\n",
       "      <td>0</td>\n",
       "      <td>NaN</td>\n",
       "      <td>NaN</td>\n",
       "      <td>NaN</td>\n",
       "      <td>NaN</td>\n",
       "      <td>NaN</td>\n",
       "    </tr>\n",
       "    <tr>\n",
       "      <th>1</th>\n",
       "      <td>2008</td>\n",
       "      <td>1</td>\n",
       "      <td>3</td>\n",
       "      <td>4</td>\n",
       "      <td>754.0</td>\n",
       "      <td>735</td>\n",
       "      <td>1002.0</td>\n",
       "      <td>1000</td>\n",
       "      <td>WN</td>\n",
       "      <td>3231</td>\n",
       "      <td>N772SW</td>\n",
       "      <td>128.0</td>\n",
       "      <td>145.0</td>\n",
       "      <td>113.0</td>\n",
       "      <td>2.0</td>\n",
       "      <td>19.0</td>\n",
       "      <td>IAD</td>\n",
       "      <td>TPA</td>\n",
       "      <td>810</td>\n",
       "      <td>5.0</td>\n",
       "      <td>10.0</td>\n",
       "      <td>0</td>\n",
       "      <td>N</td>\n",
       "      <td>0</td>\n",
       "      <td>NaN</td>\n",
       "      <td>NaN</td>\n",
       "      <td>NaN</td>\n",
       "      <td>NaN</td>\n",
       "      <td>NaN</td>\n",
       "    </tr>\n",
       "    <tr>\n",
       "      <th>2</th>\n",
       "      <td>2008</td>\n",
       "      <td>1</td>\n",
       "      <td>3</td>\n",
       "      <td>4</td>\n",
       "      <td>628.0</td>\n",
       "      <td>620</td>\n",
       "      <td>804.0</td>\n",
       "      <td>750</td>\n",
       "      <td>WN</td>\n",
       "      <td>448</td>\n",
       "      <td>N428WN</td>\n",
       "      <td>96.0</td>\n",
       "      <td>90.0</td>\n",
       "      <td>76.0</td>\n",
       "      <td>14.0</td>\n",
       "      <td>8.0</td>\n",
       "      <td>IND</td>\n",
       "      <td>BWI</td>\n",
       "      <td>515</td>\n",
       "      <td>3.0</td>\n",
       "      <td>17.0</td>\n",
       "      <td>0</td>\n",
       "      <td>N</td>\n",
       "      <td>0</td>\n",
       "      <td>NaN</td>\n",
       "      <td>NaN</td>\n",
       "      <td>NaN</td>\n",
       "      <td>NaN</td>\n",
       "      <td>NaN</td>\n",
       "    </tr>\n",
       "    <tr>\n",
       "      <th>3</th>\n",
       "      <td>2008</td>\n",
       "      <td>1</td>\n",
       "      <td>3</td>\n",
       "      <td>4</td>\n",
       "      <td>1829.0</td>\n",
       "      <td>1755</td>\n",
       "      <td>1959.0</td>\n",
       "      <td>1925</td>\n",
       "      <td>WN</td>\n",
       "      <td>3920</td>\n",
       "      <td>N464WN</td>\n",
       "      <td>90.0</td>\n",
       "      <td>90.0</td>\n",
       "      <td>77.0</td>\n",
       "      <td>34.0</td>\n",
       "      <td>34.0</td>\n",
       "      <td>IND</td>\n",
       "      <td>BWI</td>\n",
       "      <td>515</td>\n",
       "      <td>3.0</td>\n",
       "      <td>10.0</td>\n",
       "      <td>0</td>\n",
       "      <td>N</td>\n",
       "      <td>0</td>\n",
       "      <td>2.0</td>\n",
       "      <td>0.0</td>\n",
       "      <td>0.0</td>\n",
       "      <td>0.0</td>\n",
       "      <td>32.0</td>\n",
       "    </tr>\n",
       "    <tr>\n",
       "      <th>4</th>\n",
       "      <td>2008</td>\n",
       "      <td>1</td>\n",
       "      <td>3</td>\n",
       "      <td>4</td>\n",
       "      <td>1940.0</td>\n",
       "      <td>1915</td>\n",
       "      <td>2121.0</td>\n",
       "      <td>2110</td>\n",
       "      <td>WN</td>\n",
       "      <td>378</td>\n",
       "      <td>N726SW</td>\n",
       "      <td>101.0</td>\n",
       "      <td>115.0</td>\n",
       "      <td>87.0</td>\n",
       "      <td>11.0</td>\n",
       "      <td>25.0</td>\n",
       "      <td>IND</td>\n",
       "      <td>JAX</td>\n",
       "      <td>688</td>\n",
       "      <td>4.0</td>\n",
       "      <td>10.0</td>\n",
       "      <td>0</td>\n",
       "      <td>N</td>\n",
       "      <td>0</td>\n",
       "      <td>NaN</td>\n",
       "      <td>NaN</td>\n",
       "      <td>NaN</td>\n",
       "      <td>NaN</td>\n",
       "      <td>NaN</td>\n",
       "    </tr>\n",
       "    <tr>\n",
       "      <th>...</th>\n",
       "      <td>...</td>\n",
       "      <td>...</td>\n",
       "      <td>...</td>\n",
       "      <td>...</td>\n",
       "      <td>...</td>\n",
       "      <td>...</td>\n",
       "      <td>...</td>\n",
       "      <td>...</td>\n",
       "      <td>...</td>\n",
       "      <td>...</td>\n",
       "      <td>...</td>\n",
       "      <td>...</td>\n",
       "      <td>...</td>\n",
       "      <td>...</td>\n",
       "      <td>...</td>\n",
       "      <td>...</td>\n",
       "      <td>...</td>\n",
       "      <td>...</td>\n",
       "      <td>...</td>\n",
       "      <td>...</td>\n",
       "      <td>...</td>\n",
       "      <td>...</td>\n",
       "      <td>...</td>\n",
       "      <td>...</td>\n",
       "      <td>...</td>\n",
       "      <td>...</td>\n",
       "      <td>...</td>\n",
       "      <td>...</td>\n",
       "      <td>...</td>\n",
       "    </tr>\n",
       "    <tr>\n",
       "      <th>1936753</th>\n",
       "      <td>2008</td>\n",
       "      <td>12</td>\n",
       "      <td>13</td>\n",
       "      <td>6</td>\n",
       "      <td>1250.0</td>\n",
       "      <td>1220</td>\n",
       "      <td>1617.0</td>\n",
       "      <td>1552</td>\n",
       "      <td>DL</td>\n",
       "      <td>1621</td>\n",
       "      <td>N938DL</td>\n",
       "      <td>147.0</td>\n",
       "      <td>152.0</td>\n",
       "      <td>120.0</td>\n",
       "      <td>25.0</td>\n",
       "      <td>30.0</td>\n",
       "      <td>MSP</td>\n",
       "      <td>ATL</td>\n",
       "      <td>906</td>\n",
       "      <td>9.0</td>\n",
       "      <td>18.0</td>\n",
       "      <td>0</td>\n",
       "      <td>N</td>\n",
       "      <td>0</td>\n",
       "      <td>3.0</td>\n",
       "      <td>0.0</td>\n",
       "      <td>0.0</td>\n",
       "      <td>0.0</td>\n",
       "      <td>22.0</td>\n",
       "    </tr>\n",
       "    <tr>\n",
       "      <th>1936754</th>\n",
       "      <td>2008</td>\n",
       "      <td>12</td>\n",
       "      <td>13</td>\n",
       "      <td>6</td>\n",
       "      <td>657.0</td>\n",
       "      <td>600</td>\n",
       "      <td>904.0</td>\n",
       "      <td>749</td>\n",
       "      <td>DL</td>\n",
       "      <td>1631</td>\n",
       "      <td>N3743H</td>\n",
       "      <td>127.0</td>\n",
       "      <td>109.0</td>\n",
       "      <td>78.0</td>\n",
       "      <td>75.0</td>\n",
       "      <td>57.0</td>\n",
       "      <td>RIC</td>\n",
       "      <td>ATL</td>\n",
       "      <td>481</td>\n",
       "      <td>15.0</td>\n",
       "      <td>34.0</td>\n",
       "      <td>0</td>\n",
       "      <td>N</td>\n",
       "      <td>0</td>\n",
       "      <td>0.0</td>\n",
       "      <td>57.0</td>\n",
       "      <td>18.0</td>\n",
       "      <td>0.0</td>\n",
       "      <td>0.0</td>\n",
       "    </tr>\n",
       "    <tr>\n",
       "      <th>1936755</th>\n",
       "      <td>2008</td>\n",
       "      <td>12</td>\n",
       "      <td>13</td>\n",
       "      <td>6</td>\n",
       "      <td>1007.0</td>\n",
       "      <td>847</td>\n",
       "      <td>1149.0</td>\n",
       "      <td>1010</td>\n",
       "      <td>DL</td>\n",
       "      <td>1631</td>\n",
       "      <td>N909DA</td>\n",
       "      <td>162.0</td>\n",
       "      <td>143.0</td>\n",
       "      <td>122.0</td>\n",
       "      <td>99.0</td>\n",
       "      <td>80.0</td>\n",
       "      <td>ATL</td>\n",
       "      <td>IAH</td>\n",
       "      <td>689</td>\n",
       "      <td>8.0</td>\n",
       "      <td>32.0</td>\n",
       "      <td>0</td>\n",
       "      <td>N</td>\n",
       "      <td>0</td>\n",
       "      <td>1.0</td>\n",
       "      <td>0.0</td>\n",
       "      <td>19.0</td>\n",
       "      <td>0.0</td>\n",
       "      <td>79.0</td>\n",
       "    </tr>\n",
       "    <tr>\n",
       "      <th>1936756</th>\n",
       "      <td>2008</td>\n",
       "      <td>12</td>\n",
       "      <td>13</td>\n",
       "      <td>6</td>\n",
       "      <td>1251.0</td>\n",
       "      <td>1240</td>\n",
       "      <td>1446.0</td>\n",
       "      <td>1437</td>\n",
       "      <td>DL</td>\n",
       "      <td>1639</td>\n",
       "      <td>N646DL</td>\n",
       "      <td>115.0</td>\n",
       "      <td>117.0</td>\n",
       "      <td>89.0</td>\n",
       "      <td>9.0</td>\n",
       "      <td>11.0</td>\n",
       "      <td>IAD</td>\n",
       "      <td>ATL</td>\n",
       "      <td>533</td>\n",
       "      <td>13.0</td>\n",
       "      <td>13.0</td>\n",
       "      <td>0</td>\n",
       "      <td>N</td>\n",
       "      <td>0</td>\n",
       "      <td>NaN</td>\n",
       "      <td>NaN</td>\n",
       "      <td>NaN</td>\n",
       "      <td>NaN</td>\n",
       "      <td>NaN</td>\n",
       "    </tr>\n",
       "    <tr>\n",
       "      <th>1936757</th>\n",
       "      <td>2008</td>\n",
       "      <td>12</td>\n",
       "      <td>13</td>\n",
       "      <td>6</td>\n",
       "      <td>1110.0</td>\n",
       "      <td>1103</td>\n",
       "      <td>1413.0</td>\n",
       "      <td>1418</td>\n",
       "      <td>DL</td>\n",
       "      <td>1641</td>\n",
       "      <td>N908DL</td>\n",
       "      <td>123.0</td>\n",
       "      <td>135.0</td>\n",
       "      <td>104.0</td>\n",
       "      <td>-5.0</td>\n",
       "      <td>7.0</td>\n",
       "      <td>SAT</td>\n",
       "      <td>ATL</td>\n",
       "      <td>874</td>\n",
       "      <td>8.0</td>\n",
       "      <td>11.0</td>\n",
       "      <td>0</td>\n",
       "      <td>N</td>\n",
       "      <td>0</td>\n",
       "      <td>NaN</td>\n",
       "      <td>NaN</td>\n",
       "      <td>NaN</td>\n",
       "      <td>NaN</td>\n",
       "      <td>NaN</td>\n",
       "    </tr>\n",
       "  </tbody>\n",
       "</table>\n",
       "<p>1936758 rows × 29 columns</p>\n",
       "</div>"
      ],
      "text/plain": [
       "         Year  Month  DayofMonth  DayOfWeek  DepTime  CRSDepTime  ArrTime  CRSArrTime UniqueCarrier  FlightNum TailNum  ActualElapsedTime  CRSElapsedTime  AirTime  ArrDelay  DepDelay Origin Dest  Distance  TaxiIn  TaxiOut  Cancelled CancellationCode  Diverted  CarrierDelay  WeatherDelay  NASDelay  SecurityDelay  LateAircraftDelay\n",
       "0        2008      1           3          4   2003.0        1955   2211.0        2225            WN        335  N712SW              128.0           150.0    116.0     -14.0       8.0    IAD  TPA       810     4.0      8.0          0                N         0           NaN           NaN       NaN            NaN                NaN\n",
       "1        2008      1           3          4    754.0         735   1002.0        1000            WN       3231  N772SW              128.0           145.0    113.0       2.0      19.0    IAD  TPA       810     5.0     10.0          0                N         0           NaN           NaN       NaN            NaN                NaN\n",
       "2        2008      1           3          4    628.0         620    804.0         750            WN        448  N428WN               96.0            90.0     76.0      14.0       8.0    IND  BWI       515     3.0     17.0          0                N         0           NaN           NaN       NaN            NaN                NaN\n",
       "3        2008      1           3          4   1829.0        1755   1959.0        1925            WN       3920  N464WN               90.0            90.0     77.0      34.0      34.0    IND  BWI       515     3.0     10.0          0                N         0           2.0           0.0       0.0            0.0               32.0\n",
       "4        2008      1           3          4   1940.0        1915   2121.0        2110            WN        378  N726SW              101.0           115.0     87.0      11.0      25.0    IND  JAX       688     4.0     10.0          0                N         0           NaN           NaN       NaN            NaN                NaN\n",
       "...       ...    ...         ...        ...      ...         ...      ...         ...           ...        ...     ...                ...             ...      ...       ...       ...    ...  ...       ...     ...      ...        ...              ...       ...           ...           ...       ...            ...                ...\n",
       "1936753  2008     12          13          6   1250.0        1220   1617.0        1552            DL       1621  N938DL              147.0           152.0    120.0      25.0      30.0    MSP  ATL       906     9.0     18.0          0                N         0           3.0           0.0       0.0            0.0               22.0\n",
       "1936754  2008     12          13          6    657.0         600    904.0         749            DL       1631  N3743H              127.0           109.0     78.0      75.0      57.0    RIC  ATL       481    15.0     34.0          0                N         0           0.0          57.0      18.0            0.0                0.0\n",
       "1936755  2008     12          13          6   1007.0         847   1149.0        1010            DL       1631  N909DA              162.0           143.0    122.0      99.0      80.0    ATL  IAH       689     8.0     32.0          0                N         0           1.0           0.0      19.0            0.0               79.0\n",
       "1936756  2008     12          13          6   1251.0        1240   1446.0        1437            DL       1639  N646DL              115.0           117.0     89.0       9.0      11.0    IAD  ATL       533    13.0     13.0          0                N         0           NaN           NaN       NaN            NaN                NaN\n",
       "1936757  2008     12          13          6   1110.0        1103   1413.0        1418            DL       1641  N908DL              123.0           135.0    104.0      -5.0       7.0    SAT  ATL       874     8.0     11.0          0                N         0           NaN           NaN       NaN            NaN                NaN\n",
       "\n",
       "[1936758 rows x 29 columns]"
      ]
     },
     "execution_count": 165,
     "metadata": {},
     "output_type": "execute_result"
    }
   ],
   "source": [
    "df_1"
   ]
  },
  {
   "cell_type": "markdown",
   "id": "2ff4d8cf",
   "metadata": {},
   "source": [
    "Farem servir LabelEncoder per les variables categòriques que haviem eliminat al principi. Si féssim One Hot Encoding acabariem amb més de 600 columnes, cosa que volem evitar."
   ]
  },
  {
   "cell_type": "code",
   "execution_count": 166,
   "id": "93ed0949",
   "metadata": {
    "ExecuteTime": {
     "end_time": "2021-06-08T16:22:34.607956Z",
     "start_time": "2021-06-08T16:22:34.327708Z"
    },
    "collapsed": true
   },
   "outputs": [
    {
     "data": {
      "text/plain": [
       "ATL    131613\n",
       "ORD    125979\n",
       "DFW     95414\n",
       "DEN     74323\n",
       "LAX     58772\n",
       "IAH     56847\n",
       "PHX     55720\n",
       "LAS     53710\n",
       "EWR     52925\n",
       "DTW     43923\n",
       "SFO     43801\n",
       "MCO     36139\n",
       "CLT     35055\n",
       "JFK     34706\n",
       "MSP     32436\n",
       "LGA     31185\n",
       "SEA     31060\n",
       "BWI     30710\n",
       "PHL     30316\n",
       "MDW     29222\n",
       "SLC     28675\n",
       "BOS     28196\n",
       "SAN     24828\n",
       "CVG     23881\n",
       "MIA     23273\n",
       "IAD     22125\n",
       "TPA     20199\n",
       "HOU     19639\n",
       "FLL     19363\n",
       "DAL     18710\n",
       "MEM     18121\n",
       "DCA     17725\n",
       "STL     17328\n",
       "OAK     17031\n",
       "BNA     16496\n",
       "CLE     16398\n",
       "MCI     16022\n",
       "RDU     15383\n",
       "PDX     13791\n",
       "SMF     13644\n",
       "SJC     13082\n",
       "MKE     11876\n",
       "AUS     11843\n",
       "SNA     11554\n",
       "SAT     10902\n",
       "PIT     10799\n",
       "ABQ     10674\n",
       "MSY     10498\n",
       "IND      9710\n",
       "HNL      8666\n",
       "ONT      8646\n",
       "CMH      8394\n",
       "JAX      7933\n",
       "PBI      7684\n",
       "BUR      7259\n",
       "BUF      6777\n",
       "RSW      6602\n",
       "BDL      6496\n",
       "OMA      6423\n",
       "RNO      6146\n",
       "OKC      6114\n",
       "BHM      6068\n",
       "SJU      5918\n",
       "SDF      5786\n",
       "PVD      5694\n",
       "TUL      5600\n",
       "TUS      5531\n",
       "ANC      5140\n",
       "ELP      4828\n",
       "RIC      4784\n",
       "MHT      4686\n",
       "LIT      4441\n",
       "ORF      4031\n",
       "DSM      3900\n",
       "BOI      3727\n",
       "CHS      3680\n",
       "ROC      3624\n",
       "XNA      3577\n",
       "GRR      3576\n",
       "GEG      3527\n",
       "LGB      3523\n",
       "SAV      3519\n",
       "COS      3480\n",
       "TYS      3305\n",
       "DAY      3293\n",
       "ICT      3283\n",
       "MSN      3278\n",
       "SYR      3237\n",
       "ALB      3133\n",
       "GSO      3086\n",
       "OGG      2957\n",
       "FAT      2900\n",
       "JAN      2865\n",
       "HPN      2802\n",
       "CAE      2801\n",
       "PSP      2745\n",
       "ISP      2698\n",
       "SBA      2571\n",
       "GSP      2491\n",
       "SGF      2386\n",
       "BTR      2376\n",
       "HSV      2280\n",
       "CID      2274\n",
       "LBB      2210\n",
       "CAK      2195\n",
       "MLI      2174\n",
       "PNS      2153\n",
       "LEX      2076\n",
       "KOA      1870\n",
       "GRB      1817\n",
       "MRY      1799\n",
       "AMA      1798\n",
       "PWM      1789\n",
       "GPT      1771\n",
       "FNT      1770\n",
       "MAF      1758\n",
       "MDT      1735\n",
       "BTV      1725\n",
       "SRQ      1631\n",
       "LIH      1629\n",
       "SHV      1617\n",
       "ASE      1588\n",
       "SBN      1536\n",
       "JNU      1520\n",
       "VPS      1506\n",
       "FWA      1464\n",
       "PHF      1442\n",
       "MOB      1339\n",
       "ATW      1296\n",
       "HRL      1278\n",
       "TLH      1278\n",
       "FSD      1271\n",
       "MFR      1212\n",
       "BMI      1212\n",
       "PIA      1173\n",
       "SBP      1163\n",
       "EVV      1159\n",
       "ACV      1134\n",
       "ITO      1080\n",
       "CRP      1072\n",
       "MYR      1030\n",
       "AVL      1028\n",
       "FAI      1026\n",
       "EUG      1002\n",
       "LFT      1000\n",
       "TVC       997\n",
       "GJT       966\n",
       "ABE       949\n",
       "SWF       940\n",
       "ROA       933\n",
       "GRK       910\n",
       "JAC       905\n",
       "FAR       898\n",
       "BZN       889\n",
       "RST       866\n",
       "EGE       861\n",
       "STT       852\n",
       "CHA       818\n",
       "ILM       817\n",
       "LAN       799\n",
       "PFN       796\n",
       "CRW       792\n",
       "DAB       790\n",
       "AZO       777\n",
       "RDM       772\n",
       "MGM       759\n",
       "BGR       743\n",
       "KTN       733\n",
       "MOD       732\n",
       "YUM       687\n",
       "LNK       677\n",
       "RAP       649\n",
       "BFL       641\n",
       "BIL       634\n",
       "CWA       625\n",
       "MFE       605\n",
       "FAY       604\n",
       "CMI       596\n",
       "AVP       594\n",
       "DRO       578\n",
       "HDN       563\n",
       "MTJ       562\n",
       "AGS       559\n",
       "MBS       542\n",
       "RDD       516\n",
       "MLB       508\n",
       "MSO       497\n",
       "AEX       494\n",
       "IDA       487\n",
       "FSM       482\n",
       "BIS       479\n",
       "LSE       452\n",
       "LRD       447\n",
       "MLU       443\n",
       "CIC       436\n",
       "CEC       430\n",
       "SGU       422\n",
       "CPR       416\n",
       "CLD       409\n",
       "ABI       392\n",
       "CSG       385\n",
       "EYW       384\n",
       "SIT       373\n",
       "GNV       369\n",
       "LAW       369\n",
       "DHN       365\n",
       "SPI       357\n",
       "FCA       353\n",
       "ACT       350\n",
       "TOL       349\n",
       "BET       346\n",
       "TRI       346\n",
       "BRW       340\n",
       "BQN       329\n",
       "OTZ       328\n",
       "OME       316\n",
       "DLH       311\n",
       "SUN       309\n",
       "DBQ       303\n",
       "PSC       294\n",
       "ABY       292\n",
       "HLN       291\n",
       "GCC       286\n",
       "SPS       280\n",
       "SMX       269\n",
       "OAJ       267\n",
       "GTF       267\n",
       "SJT       257\n",
       "GUC       257\n",
       "PSG       256\n",
       "VLD       256\n",
       "TWF       253\n",
       "BRO       249\n",
       "SCC       247\n",
       "TYR       239\n",
       "ERI       235\n",
       "CLL       232\n",
       "FLG       231\n",
       "ROW       227\n",
       "TXK       214\n",
       "CDV       213\n",
       "OTH       209\n",
       "GTR       207\n",
       "RKS       204\n",
       "ADQ       204\n",
       "MQT       203\n",
       "YAK       202\n",
       "ACK       196\n",
       "PMD       196\n",
       "WRG       195\n",
       "GFK       193\n",
       "EKO       192\n",
       "ELM       190\n",
       "HHH       183\n",
       "CHO       179\n",
       "BQK       179\n",
       "GGG       177\n",
       "STX       175\n",
       "EWN       162\n",
       "LMT       160\n",
       "LCH       160\n",
       "MEI       150\n",
       "IPL       147\n",
       "OXR       145\n",
       "FLO       144\n",
       "MCN       143\n",
       "MOT       133\n",
       "PIH       112\n",
       "BGM       103\n",
       "COD        99\n",
       "PSE        94\n",
       "IYK        93\n",
       "MKG        89\n",
       "LWS        88\n",
       "SLE        85\n",
       "SCE        82\n",
       "LYH        81\n",
       "AKN        72\n",
       "DLG        65\n",
       "CDC        64\n",
       "BTM        58\n",
       "YKM        55\n",
       "ADK        53\n",
       "TEX        52\n",
       "LWB        48\n",
       "GST        40\n",
       "CMX        34\n",
       "RFD        33\n",
       "RHI        33\n",
       "ALO        31\n",
       "ACY        29\n",
       "ITH        29\n",
       "BPT        27\n",
       "SUX        22\n",
       "PLN        21\n",
       "WYS        10\n",
       "HTS        10\n",
       "BJI         4\n",
       "BLI         4\n",
       "PIR         3\n",
       "PUB         2\n",
       "INL         1\n",
       "TUP         1\n",
       "Name: Origin, dtype: int64"
      ]
     },
     "execution_count": 166,
     "metadata": {},
     "output_type": "execute_result"
    }
   ],
   "source": [
    "df_1['Origin'].value_counts(ascending=False)"
   ]
  },
  {
   "cell_type": "code",
   "execution_count": 167,
   "id": "5d382a0c",
   "metadata": {
    "ExecuteTime": {
     "end_time": "2021-06-08T16:22:35.352965Z",
     "start_time": "2021-06-08T16:22:34.609950Z"
    }
   },
   "outputs": [
    {
     "data": {
      "text/html": [
       "<div>\n",
       "<style scoped>\n",
       "    .dataframe tbody tr th:only-of-type {\n",
       "        vertical-align: middle;\n",
       "    }\n",
       "\n",
       "    .dataframe tbody tr th {\n",
       "        vertical-align: top;\n",
       "    }\n",
       "\n",
       "    .dataframe thead th {\n",
       "        text-align: right;\n",
       "    }\n",
       "</style>\n",
       "<table border=\"1\" class=\"dataframe\">\n",
       "  <thead>\n",
       "    <tr style=\"text-align: right;\">\n",
       "      <th></th>\n",
       "      <th>Year</th>\n",
       "      <th>Month</th>\n",
       "      <th>DayofMonth</th>\n",
       "      <th>DayOfWeek</th>\n",
       "      <th>DepTime</th>\n",
       "      <th>CRSDepTime</th>\n",
       "      <th>ArrTime</th>\n",
       "      <th>CRSArrTime</th>\n",
       "      <th>UniqueCarrier</th>\n",
       "      <th>FlightNum</th>\n",
       "      <th>TailNum</th>\n",
       "      <th>ActualElapsedTime</th>\n",
       "      <th>CRSElapsedTime</th>\n",
       "      <th>AirTime</th>\n",
       "      <th>ArrDelay</th>\n",
       "      <th>DepDelay</th>\n",
       "      <th>Origin</th>\n",
       "      <th>Dest</th>\n",
       "      <th>Distance</th>\n",
       "      <th>TaxiIn</th>\n",
       "      <th>TaxiOut</th>\n",
       "      <th>Cancelled</th>\n",
       "      <th>CancellationCode</th>\n",
       "      <th>Diverted</th>\n",
       "      <th>CarrierDelay</th>\n",
       "      <th>WeatherDelay</th>\n",
       "      <th>NASDelay</th>\n",
       "      <th>SecurityDelay</th>\n",
       "      <th>LateAircraftDelay</th>\n",
       "    </tr>\n",
       "  </thead>\n",
       "  <tbody>\n",
       "    <tr>\n",
       "      <th>0</th>\n",
       "      <td>2008</td>\n",
       "      <td>1</td>\n",
       "      <td>3</td>\n",
       "      <td>4</td>\n",
       "      <td>2003.0</td>\n",
       "      <td>1955</td>\n",
       "      <td>2211.0</td>\n",
       "      <td>2225</td>\n",
       "      <td>WN</td>\n",
       "      <td>335</td>\n",
       "      <td>N712SW</td>\n",
       "      <td>128.0</td>\n",
       "      <td>150.0</td>\n",
       "      <td>116.0</td>\n",
       "      <td>-14.0</td>\n",
       "      <td>8.0</td>\n",
       "      <td>135</td>\n",
       "      <td>TPA</td>\n",
       "      <td>810</td>\n",
       "      <td>4.0</td>\n",
       "      <td>8.0</td>\n",
       "      <td>0</td>\n",
       "      <td>N</td>\n",
       "      <td>0</td>\n",
       "      <td>NaN</td>\n",
       "      <td>NaN</td>\n",
       "      <td>NaN</td>\n",
       "      <td>NaN</td>\n",
       "      <td>NaN</td>\n",
       "    </tr>\n",
       "    <tr>\n",
       "      <th>1</th>\n",
       "      <td>2008</td>\n",
       "      <td>1</td>\n",
       "      <td>3</td>\n",
       "      <td>4</td>\n",
       "      <td>754.0</td>\n",
       "      <td>735</td>\n",
       "      <td>1002.0</td>\n",
       "      <td>1000</td>\n",
       "      <td>WN</td>\n",
       "      <td>3231</td>\n",
       "      <td>N772SW</td>\n",
       "      <td>128.0</td>\n",
       "      <td>145.0</td>\n",
       "      <td>113.0</td>\n",
       "      <td>2.0</td>\n",
       "      <td>19.0</td>\n",
       "      <td>135</td>\n",
       "      <td>TPA</td>\n",
       "      <td>810</td>\n",
       "      <td>5.0</td>\n",
       "      <td>10.0</td>\n",
       "      <td>0</td>\n",
       "      <td>N</td>\n",
       "      <td>0</td>\n",
       "      <td>NaN</td>\n",
       "      <td>NaN</td>\n",
       "      <td>NaN</td>\n",
       "      <td>NaN</td>\n",
       "      <td>NaN</td>\n",
       "    </tr>\n",
       "    <tr>\n",
       "      <th>2</th>\n",
       "      <td>2008</td>\n",
       "      <td>1</td>\n",
       "      <td>3</td>\n",
       "      <td>4</td>\n",
       "      <td>628.0</td>\n",
       "      <td>620</td>\n",
       "      <td>804.0</td>\n",
       "      <td>750</td>\n",
       "      <td>WN</td>\n",
       "      <td>448</td>\n",
       "      <td>N428WN</td>\n",
       "      <td>96.0</td>\n",
       "      <td>90.0</td>\n",
       "      <td>76.0</td>\n",
       "      <td>14.0</td>\n",
       "      <td>8.0</td>\n",
       "      <td>140</td>\n",
       "      <td>BWI</td>\n",
       "      <td>515</td>\n",
       "      <td>3.0</td>\n",
       "      <td>17.0</td>\n",
       "      <td>0</td>\n",
       "      <td>N</td>\n",
       "      <td>0</td>\n",
       "      <td>NaN</td>\n",
       "      <td>NaN</td>\n",
       "      <td>NaN</td>\n",
       "      <td>NaN</td>\n",
       "      <td>NaN</td>\n",
       "    </tr>\n",
       "    <tr>\n",
       "      <th>3</th>\n",
       "      <td>2008</td>\n",
       "      <td>1</td>\n",
       "      <td>3</td>\n",
       "      <td>4</td>\n",
       "      <td>1829.0</td>\n",
       "      <td>1755</td>\n",
       "      <td>1959.0</td>\n",
       "      <td>1925</td>\n",
       "      <td>WN</td>\n",
       "      <td>3920</td>\n",
       "      <td>N464WN</td>\n",
       "      <td>90.0</td>\n",
       "      <td>90.0</td>\n",
       "      <td>77.0</td>\n",
       "      <td>34.0</td>\n",
       "      <td>34.0</td>\n",
       "      <td>140</td>\n",
       "      <td>BWI</td>\n",
       "      <td>515</td>\n",
       "      <td>3.0</td>\n",
       "      <td>10.0</td>\n",
       "      <td>0</td>\n",
       "      <td>N</td>\n",
       "      <td>0</td>\n",
       "      <td>2.0</td>\n",
       "      <td>0.0</td>\n",
       "      <td>0.0</td>\n",
       "      <td>0.0</td>\n",
       "      <td>32.0</td>\n",
       "    </tr>\n",
       "    <tr>\n",
       "      <th>4</th>\n",
       "      <td>2008</td>\n",
       "      <td>1</td>\n",
       "      <td>3</td>\n",
       "      <td>4</td>\n",
       "      <td>1940.0</td>\n",
       "      <td>1915</td>\n",
       "      <td>2121.0</td>\n",
       "      <td>2110</td>\n",
       "      <td>WN</td>\n",
       "      <td>378</td>\n",
       "      <td>N726SW</td>\n",
       "      <td>101.0</td>\n",
       "      <td>115.0</td>\n",
       "      <td>87.0</td>\n",
       "      <td>11.0</td>\n",
       "      <td>25.0</td>\n",
       "      <td>140</td>\n",
       "      <td>JAX</td>\n",
       "      <td>688</td>\n",
       "      <td>4.0</td>\n",
       "      <td>10.0</td>\n",
       "      <td>0</td>\n",
       "      <td>N</td>\n",
       "      <td>0</td>\n",
       "      <td>NaN</td>\n",
       "      <td>NaN</td>\n",
       "      <td>NaN</td>\n",
       "      <td>NaN</td>\n",
       "      <td>NaN</td>\n",
       "    </tr>\n",
       "  </tbody>\n",
       "</table>\n",
       "</div>"
      ],
      "text/plain": [
       "   Year  Month  DayofMonth  DayOfWeek  DepTime  CRSDepTime  ArrTime  CRSArrTime UniqueCarrier  FlightNum TailNum  ActualElapsedTime  CRSElapsedTime  AirTime  ArrDelay  DepDelay  Origin Dest  Distance  TaxiIn  TaxiOut  Cancelled CancellationCode  Diverted  CarrierDelay  WeatherDelay  NASDelay  SecurityDelay  LateAircraftDelay\n",
       "0  2008      1           3          4   2003.0        1955   2211.0        2225            WN        335  N712SW              128.0           150.0    116.0     -14.0       8.0     135  TPA       810     4.0      8.0          0                N         0           NaN           NaN       NaN            NaN                NaN\n",
       "1  2008      1           3          4    754.0         735   1002.0        1000            WN       3231  N772SW              128.0           145.0    113.0       2.0      19.0     135  TPA       810     5.0     10.0          0                N         0           NaN           NaN       NaN            NaN                NaN\n",
       "2  2008      1           3          4    628.0         620    804.0         750            WN        448  N428WN               96.0            90.0     76.0      14.0       8.0     140  BWI       515     3.0     17.0          0                N         0           NaN           NaN       NaN            NaN                NaN\n",
       "3  2008      1           3          4   1829.0        1755   1959.0        1925            WN       3920  N464WN               90.0            90.0     77.0      34.0      34.0     140  BWI       515     3.0     10.0          0                N         0           2.0           0.0       0.0            0.0               32.0\n",
       "4  2008      1           3          4   1940.0        1915   2121.0        2110            WN        378  N726SW              101.0           115.0     87.0      11.0      25.0     140  JAX       688     4.0     10.0          0                N         0           NaN           NaN       NaN            NaN                NaN"
      ]
     },
     "execution_count": 167,
     "metadata": {},
     "output_type": "execute_result"
    }
   ],
   "source": [
    "encoder = LabelEncoder()\n",
    "\n",
    "df_1['Origin']= encoder.fit_transform(df_1['Origin'])\n",
    "\n",
    "df_1.head()"
   ]
  },
  {
   "cell_type": "code",
   "execution_count": 168,
   "id": "bdc34c90",
   "metadata": {
    "ExecuteTime": {
     "end_time": "2021-06-08T16:22:35.416791Z",
     "start_time": "2021-06-08T16:22:35.355955Z"
    },
    "collapsed": true
   },
   "outputs": [
    {
     "data": {
      "text/plain": [
       "18     131613\n",
       "210    125979\n",
       "81      95414\n",
       "80      74323\n",
       "157     58772\n",
       "136     56847\n",
       "220     55720\n",
       "155     53710\n",
       "96      52925\n",
       "87      43923\n",
       "259     43801\n",
       "177     36139\n",
       "63      35055\n",
       "150     34706\n",
       "199     32436\n",
       "162     31185\n",
       "258     31060\n",
       "48      30710\n",
       "219     30316\n",
       "179     29222\n",
       "267     28675\n",
       "37      28196\n",
       "249     24828\n",
       "73      23881\n",
       "186     23273\n",
       "135     22125\n",
       "285     20199\n",
       "130     19639\n",
       "104     19363\n",
       "76      18710\n",
       "181     18121\n",
       "79      17725\n",
       "275     17328\n",
       "204     17031\n",
       "35      16496\n",
       "61      16398\n",
       "175     16022\n",
       "238     15383\n",
       "216     13791\n",
       "269     13644\n",
       "264     13082\n",
       "187     11876\n",
       "20      11843\n",
       "271     11554\n",
       "250     10902\n",
       "224     10799\n",
       "2       10674\n",
       "200     10498\n",
       "140      9710\n",
       "129      8666\n",
       "209      8646\n",
       "64       8394\n",
       "149      7933\n",
       "215      7684\n",
       "47       7259\n",
       "46       6777\n",
       "248      6602\n",
       "24       6496\n",
       "207      6423\n",
       "243      6146\n",
       "206      6114\n",
       "29       6068\n",
       "266      5918\n",
       "257      5786\n",
       "233      5694\n",
       "287      5600\n",
       "289      5531\n",
       "16       5140\n",
       "91       4828\n",
       "241      4784\n",
       "185      4686\n",
       "165      4441\n",
       "211      4031\n",
       "86       3900\n",
       "36       3727\n",
       "57       3680\n",
       "245      3624\n",
       "299      3577\n",
       "119      3576\n",
       "111      3527\n",
       "163      3523\n",
       "251      3519\n",
       "68       3480\n",
       "294      3305\n",
       "77       3293\n",
       "137      3283\n",
       "197      3278\n",
       "281      3237\n",
       "13       3133\n",
       "120      3086\n",
       "205      2957\n",
       "100      2900\n",
       "148      2865\n",
       "131      2802\n",
       "50       2801\n",
       "231      2745\n",
       "143      2698\n",
       "252      2571\n",
       "121      2491\n",
       "260      2386\n",
       "44       2376\n",
       "133      2280\n",
       "59       2274\n",
       "158      2210\n",
       "51       2195\n",
       "190      2174\n",
       "227      2153\n",
       "160      2076\n",
       "152      1870\n",
       "117      1817\n",
       "196      1799\n",
       "15       1798\n",
       "234      1789\n",
       "116      1771\n",
       "106      1770\n",
       "173      1758\n",
       "178      1735\n",
       "45       1725\n",
       "274      1631\n",
       "164      1629\n",
       "262      1617\n",
       "17       1588\n",
       "253      1536\n",
       "151      1520\n",
       "296      1506\n",
       "109      1464\n",
       "218      1442\n",
       "192      1339\n",
       "19       1296\n",
       "283      1278\n",
       "132      1278\n",
       "107      1271\n",
       "183      1212\n",
       "34       1212\n",
       "221      1173\n",
       "254      1163\n",
       "94       1159\n",
       "6        1134\n",
       "145      1080\n",
       "70       1072\n",
       "202      1030\n",
       "21       1028\n",
       "98       1026\n",
       "93       1002\n",
       "161      1000\n",
       "290       997\n",
       "114       966\n",
       "0         949\n",
       "280       940\n",
       "244       933\n",
       "118       910\n",
       "147       905\n",
       "99        898\n",
       "49        889\n",
       "247       866\n",
       "88        861\n",
       "276       852\n",
       "55        818\n",
       "139       817\n",
       "154       799\n",
       "217       796\n",
       "71        792\n",
       "75        790\n",
       "23        777\n",
       "237       772\n",
       "184       759\n",
       "28        743\n",
       "153       733\n",
       "193       732\n",
       "302       687\n",
       "167       677\n",
       "235       649\n",
       "26        641\n",
       "30        634\n",
       "74        625\n",
       "182       605\n",
       "101       604\n",
       "65        596\n",
       "22        594\n",
       "85        578\n",
       "126       563\n",
       "201       562\n",
       "11        559\n",
       "174       542\n",
       "236       516\n",
       "189       508\n",
       "198       497\n",
       "10        494\n",
       "138       487\n",
       "108       482\n",
       "31        479\n",
       "169       452\n",
       "168       447\n",
       "191       443\n",
       "58        436\n",
       "54        430\n",
       "261       422\n",
       "69        416\n",
       "60        409\n",
       "1         392\n",
       "72        385\n",
       "97        384\n",
       "263       373\n",
       "156       369\n",
       "115       369\n",
       "82        365\n",
       "272       357\n",
       "102       353\n",
       "5         350\n",
       "284       349\n",
       "25        346\n",
       "286       346\n",
       "42        340\n",
       "40        329\n",
       "213       328\n",
       "208       316\n",
       "84        311\n",
       "278       309\n",
       "78        303\n",
       "228       294\n",
       "3         292\n",
       "128       291\n",
       "110       286\n",
       "273       280\n",
       "270       269\n",
       "203       267\n",
       "123       267\n",
       "125       257\n",
       "265       257\n",
       "295       256\n",
       "230       256\n",
       "291       253\n",
       "41        249\n",
       "255       247\n",
       "293       239\n",
       "92        235\n",
       "62        232\n",
       "103       231\n",
       "246       227\n",
       "292       214\n",
       "53        213\n",
       "212       209\n",
       "124       207\n",
       "9         204\n",
       "242       204\n",
       "195       203\n",
       "300       202\n",
       "4         196\n",
       "226       196\n",
       "297       195\n",
       "112       193\n",
       "89        192\n",
       "90        190\n",
       "127       183\n",
       "56        179\n",
       "39        179\n",
       "113       177\n",
       "277       175\n",
       "95        162\n",
       "159       160\n",
       "166       160\n",
       "180       150\n",
       "142       147\n",
       "214       145\n",
       "105       144\n",
       "176       143\n",
       "194       133\n",
       "222       112\n",
       "27        103\n",
       "67         99\n",
       "229        94\n",
       "146        93\n",
       "188        89\n",
       "171        88\n",
       "268        85\n",
       "256        82\n",
       "172        81\n",
       "12         72\n",
       "83         65\n",
       "52         64\n",
       "43         58\n",
       "301        55\n",
       "8          53\n",
       "282        52\n",
       "170        48\n",
       "122        40\n",
       "66         34\n",
       "239        33\n",
       "240        33\n",
       "14         31\n",
       "144        29\n",
       "7          29\n",
       "38         27\n",
       "279        22\n",
       "225        21\n",
       "298        10\n",
       "134        10\n",
       "33          4\n",
       "32          4\n",
       "223         3\n",
       "232         2\n",
       "141         1\n",
       "288         1\n",
       "Name: Origin, dtype: int64"
      ]
     },
     "execution_count": 168,
     "metadata": {},
     "output_type": "execute_result"
    }
   ],
   "source": [
    "df_1['Origin'].value_counts(ascending=False)"
   ]
  },
  {
   "cell_type": "code",
   "execution_count": 169,
   "id": "1044fcae",
   "metadata": {
    "ExecuteTime": {
     "end_time": "2021-06-08T16:22:35.687069Z",
     "start_time": "2021-06-08T16:22:35.418786Z"
    },
    "collapsed": true
   },
   "outputs": [
    {
     "data": {
      "text/plain": [
       "ORD    108984\n",
       "ATL    106898\n",
       "DFW     70657\n",
       "DEN     63003\n",
       "LAX     59969\n",
       "EWR     55861\n",
       "LAS     48858\n",
       "PHX     47836\n",
       "SFO     46876\n",
       "IAH     43905\n",
       "LGA     38137\n",
       "MCO     36405\n",
       "JFK     35506\n",
       "DTW     34777\n",
       "BOS     31961\n",
       "SEA     31548\n",
       "PHL     30795\n",
       "BWI     29610\n",
       "SLC     29217\n",
       "MSP     28137\n",
       "CLT     26898\n",
       "SAN     26621\n",
       "MDW     25318\n",
       "IAD     22748\n",
       "TPA     22665\n",
       "FLL     20323\n",
       "CVG     20056\n",
       "DCA     19735\n",
       "MIA     19706\n",
       "STL     18582\n",
       "OAK     18302\n",
       "MCI     18205\n",
       "CLE     17991\n",
       "HOU     17712\n",
       "RDU     17378\n",
       "BNA     17338\n",
       "PDX     16300\n",
       "SMF     16007\n",
       "MEM     15626\n",
       "SJC     15577\n",
       "AUS     15538\n",
       "DAL     15179\n",
       "SAT     14533\n",
       "PIT     12487\n",
       "ABQ     12183\n",
       "SNA     12101\n",
       "IND     11769\n",
       "MSY     11706\n",
       "MKE     10930\n",
       "CMH     10780\n",
       "ONT     10231\n",
       "HNL     10095\n",
       "JAX      9586\n",
       "BDL      8905\n",
       "OMA      8472\n",
       "PBI      8463\n",
       "OKC      8241\n",
       "BUR      8185\n",
       "BUF      7973\n",
       "TUL      7777\n",
       "TUS      7499\n",
       "SJU      7464\n",
       "BHM      7425\n",
       "RSW      7316\n",
       "RNO      7282\n",
       "PVD      7212\n",
       "SDF      6966\n",
       "ELP      6587\n",
       "ANC      6291\n",
       "MHT      6010\n",
       "RIC      5892\n",
       "LIT      5785\n",
       "ORF      5577\n",
       "DSM      4932\n",
       "BOI      4839\n",
       "GRR      4837\n",
       "ROC      4571\n",
       "DAY      4569\n",
       "GEG      4516\n",
       "ALB      4320\n",
       "COS      4315\n",
       "XNA      4144\n",
       "SAV      4124\n",
       "CHS      4117\n",
       "MSN      4049\n",
       "JAN      4026\n",
       "SYR      4016\n",
       "GSO      4010\n",
       "ICT      3994\n",
       "TYS      3884\n",
       "GSP      3410\n",
       "CAE      3392\n",
       "FAT      3351\n",
       "HPN      3335\n",
       "ISP      3292\n",
       "OGG      3291\n",
       "LGB      3057\n",
       "SGF      3038\n",
       "LEX      2936\n",
       "LBB      2920\n",
       "HSV      2896\n",
       "PSP      2890\n",
       "CAK      2785\n",
       "PNS      2711\n",
       "SBA      2688\n",
       "CID      2676\n",
       "FNT      2581\n",
       "AMA      2545\n",
       "BTR      2525\n",
       "MAF      2520\n",
       "MLI      2446\n",
       "MDT      2420\n",
       "SHV      2395\n",
       "GPT      2372\n",
       "PWM      2273\n",
       "GRB      2264\n",
       "KOA      2149\n",
       "LIH      2132\n",
       "VPS      2112\n",
       "BTV      2103\n",
       "PHF      1858\n",
       "SRQ      1857\n",
       "MRY      1784\n",
       "FWA      1770\n",
       "CRP      1678\n",
       "ATW      1653\n",
       "MOB      1650\n",
       "FSD      1626\n",
       "BMI      1574\n",
       "PIA      1564\n",
       "HRL      1547\n",
       "MYR      1488\n",
       "ASE      1484\n",
       "TLH      1457\n",
       "EVV      1443\n",
       "SBN      1442\n",
       "LFT      1405\n",
       "FAI      1361\n",
       "MFR      1351\n",
       "EUG      1338\n",
       "GRK      1336\n",
       "CHA      1324\n",
       "ABE      1322\n",
       "SBP      1311\n",
       "SWF      1306\n",
       "JNU      1305\n",
       "TVC      1248\n",
       "AVL      1174\n",
       "BZN      1170\n",
       "JAC      1156\n",
       "FAR      1141\n",
       "MFE      1130\n",
       "ITO      1103\n",
       "ACV      1102\n",
       "BFL      1072\n",
       "PFN      1048\n",
       "EGE      1041\n",
       "RST      1036\n",
       "CMI      1022\n",
       "GJT      1010\n",
       "STT      1003\n",
       "LAN       999\n",
       "ROA       978\n",
       "AZO       953\n",
       "MGM       950\n",
       "DAB       934\n",
       "BIL       927\n",
       "CRW       909\n",
       "ILM       882\n",
       "BGR       848\n",
       "ABI       838\n",
       "RAP       828\n",
       "LNK       821\n",
       "CWA       808\n",
       "MBS       797\n",
       "FSM       751\n",
       "AVP       750\n",
       "KTN       729\n",
       "AGS       728\n",
       "FAY       716\n",
       "RDM       703\n",
       "MLU       700\n",
       "AEX       684\n",
       "MOD       683\n",
       "LRD       666\n",
       "YUM       652\n",
       "HDN       651\n",
       "MTJ       642\n",
       "MLB       641\n",
       "LAW       638\n",
       "MSO       622\n",
       "DRO       619\n",
       "RDD       601\n",
       "IDA       590\n",
       "TRI       582\n",
       "GNV       578\n",
       "LSE       566\n",
       "ACT       546\n",
       "SGU       545\n",
       "CIC       537\n",
       "BQN       525\n",
       "BIS       515\n",
       "FCA       502\n",
       "SIT       493\n",
       "TOL       473\n",
       "PSC       473\n",
       "CPR       472\n",
       "SPS       466\n",
       "CSG       441\n",
       "DLH       440\n",
       "SJT       434\n",
       "MQT       432\n",
       "DHN       428\n",
       "SUN       425\n",
       "TYR       420\n",
       "EYW       413\n",
       "BRO       397\n",
       "SPI       394\n",
       "CLL       390\n",
       "GTF       384\n",
       "CLD       369\n",
       "DBQ       368\n",
       "CEC       364\n",
       "TXK       352\n",
       "ROW       344\n",
       "OAJ       341\n",
       "HLN       336\n",
       "ABY       319\n",
       "GFK       309\n",
       "OME       305\n",
       "ERI       293\n",
       "VLD       290\n",
       "SMX       288\n",
       "OTZ       287\n",
       "BRW       283\n",
       "PSG       283\n",
       "GGG       283\n",
       "HHH       273\n",
       "TWF       270\n",
       "CDV       267\n",
       "PSE       263\n",
       "CHO       261\n",
       "LCH       259\n",
       "GTR       258\n",
       "GUC       256\n",
       "YAK       256\n",
       "ELM       253\n",
       "WRG       252\n",
       "BET       247\n",
       "FLG       241\n",
       "MOT       237\n",
       "PIH       236\n",
       "BQK       232\n",
       "OTH       229\n",
       "GCC       220\n",
       "PMD       215\n",
       "EWN       213\n",
       "OXR       209\n",
       "COD       191\n",
       "EKO       188\n",
       "IPL       181\n",
       "MCN       181\n",
       "LMT       178\n",
       "FLO       175\n",
       "SCC       175\n",
       "MEI       166\n",
       "LYH       161\n",
       "SCE       155\n",
       "ACK       155\n",
       "BGM       153\n",
       "STX       152\n",
       "RKS       141\n",
       "IYK       124\n",
       "ADQ       105\n",
       "MKG        99\n",
       "BTM        86\n",
       "CDC        82\n",
       "LWS        68\n",
       "BPT        65\n",
       "RFD        64\n",
       "ALO        55\n",
       "SLE        54\n",
       "PLN        51\n",
       "CMX        49\n",
       "YKM        47\n",
       "GST        46\n",
       "RHI        45\n",
       "AKN        43\n",
       "DLG        43\n",
       "ACY        38\n",
       "LWB        35\n",
       "HTS        33\n",
       "TEX        32\n",
       "ADK        31\n",
       "WYS        31\n",
       "SUX        28\n",
       "ITH        16\n",
       "BLI        13\n",
       "BJI        12\n",
       "INL         9\n",
       "PIR         3\n",
       "OGD         1\n",
       "CYS         1\n",
       "TUP         1\n",
       "Name: Dest, dtype: int64"
      ]
     },
     "execution_count": 169,
     "metadata": {},
     "output_type": "execute_result"
    }
   ],
   "source": [
    "df_1['Dest'].value_counts(ascending=False)"
   ]
  },
  {
   "cell_type": "code",
   "execution_count": 170,
   "id": "d56a51d6",
   "metadata": {
    "ExecuteTime": {
     "end_time": "2021-06-08T16:22:36.398695Z",
     "start_time": "2021-06-08T16:22:35.689063Z"
    }
   },
   "outputs": [
    {
     "data": {
      "text/html": [
       "<div>\n",
       "<style scoped>\n",
       "    .dataframe tbody tr th:only-of-type {\n",
       "        vertical-align: middle;\n",
       "    }\n",
       "\n",
       "    .dataframe tbody tr th {\n",
       "        vertical-align: top;\n",
       "    }\n",
       "\n",
       "    .dataframe thead th {\n",
       "        text-align: right;\n",
       "    }\n",
       "</style>\n",
       "<table border=\"1\" class=\"dataframe\">\n",
       "  <thead>\n",
       "    <tr style=\"text-align: right;\">\n",
       "      <th></th>\n",
       "      <th>Year</th>\n",
       "      <th>Month</th>\n",
       "      <th>DayofMonth</th>\n",
       "      <th>DayOfWeek</th>\n",
       "      <th>DepTime</th>\n",
       "      <th>CRSDepTime</th>\n",
       "      <th>ArrTime</th>\n",
       "      <th>CRSArrTime</th>\n",
       "      <th>UniqueCarrier</th>\n",
       "      <th>FlightNum</th>\n",
       "      <th>TailNum</th>\n",
       "      <th>ActualElapsedTime</th>\n",
       "      <th>CRSElapsedTime</th>\n",
       "      <th>AirTime</th>\n",
       "      <th>ArrDelay</th>\n",
       "      <th>DepDelay</th>\n",
       "      <th>Origin</th>\n",
       "      <th>Dest</th>\n",
       "      <th>Distance</th>\n",
       "      <th>TaxiIn</th>\n",
       "      <th>TaxiOut</th>\n",
       "      <th>Cancelled</th>\n",
       "      <th>CancellationCode</th>\n",
       "      <th>Diverted</th>\n",
       "      <th>CarrierDelay</th>\n",
       "      <th>WeatherDelay</th>\n",
       "      <th>NASDelay</th>\n",
       "      <th>SecurityDelay</th>\n",
       "      <th>LateAircraftDelay</th>\n",
       "    </tr>\n",
       "  </thead>\n",
       "  <tbody>\n",
       "    <tr>\n",
       "      <th>0</th>\n",
       "      <td>2008</td>\n",
       "      <td>1</td>\n",
       "      <td>3</td>\n",
       "      <td>4</td>\n",
       "      <td>2003.0</td>\n",
       "      <td>1955</td>\n",
       "      <td>2211.0</td>\n",
       "      <td>2225</td>\n",
       "      <td>WN</td>\n",
       "      <td>335</td>\n",
       "      <td>N712SW</td>\n",
       "      <td>128.0</td>\n",
       "      <td>150.0</td>\n",
       "      <td>116.0</td>\n",
       "      <td>-14.0</td>\n",
       "      <td>8.0</td>\n",
       "      <td>135</td>\n",
       "      <td>286</td>\n",
       "      <td>810</td>\n",
       "      <td>4.0</td>\n",
       "      <td>8.0</td>\n",
       "      <td>0</td>\n",
       "      <td>N</td>\n",
       "      <td>0</td>\n",
       "      <td>NaN</td>\n",
       "      <td>NaN</td>\n",
       "      <td>NaN</td>\n",
       "      <td>NaN</td>\n",
       "      <td>NaN</td>\n",
       "    </tr>\n",
       "    <tr>\n",
       "      <th>1</th>\n",
       "      <td>2008</td>\n",
       "      <td>1</td>\n",
       "      <td>3</td>\n",
       "      <td>4</td>\n",
       "      <td>754.0</td>\n",
       "      <td>735</td>\n",
       "      <td>1002.0</td>\n",
       "      <td>1000</td>\n",
       "      <td>WN</td>\n",
       "      <td>3231</td>\n",
       "      <td>N772SW</td>\n",
       "      <td>128.0</td>\n",
       "      <td>145.0</td>\n",
       "      <td>113.0</td>\n",
       "      <td>2.0</td>\n",
       "      <td>19.0</td>\n",
       "      <td>135</td>\n",
       "      <td>286</td>\n",
       "      <td>810</td>\n",
       "      <td>5.0</td>\n",
       "      <td>10.0</td>\n",
       "      <td>0</td>\n",
       "      <td>N</td>\n",
       "      <td>0</td>\n",
       "      <td>NaN</td>\n",
       "      <td>NaN</td>\n",
       "      <td>NaN</td>\n",
       "      <td>NaN</td>\n",
       "      <td>NaN</td>\n",
       "    </tr>\n",
       "    <tr>\n",
       "      <th>2</th>\n",
       "      <td>2008</td>\n",
       "      <td>1</td>\n",
       "      <td>3</td>\n",
       "      <td>4</td>\n",
       "      <td>628.0</td>\n",
       "      <td>620</td>\n",
       "      <td>804.0</td>\n",
       "      <td>750</td>\n",
       "      <td>WN</td>\n",
       "      <td>448</td>\n",
       "      <td>N428WN</td>\n",
       "      <td>96.0</td>\n",
       "      <td>90.0</td>\n",
       "      <td>76.0</td>\n",
       "      <td>14.0</td>\n",
       "      <td>8.0</td>\n",
       "      <td>140</td>\n",
       "      <td>48</td>\n",
       "      <td>515</td>\n",
       "      <td>3.0</td>\n",
       "      <td>17.0</td>\n",
       "      <td>0</td>\n",
       "      <td>N</td>\n",
       "      <td>0</td>\n",
       "      <td>NaN</td>\n",
       "      <td>NaN</td>\n",
       "      <td>NaN</td>\n",
       "      <td>NaN</td>\n",
       "      <td>NaN</td>\n",
       "    </tr>\n",
       "    <tr>\n",
       "      <th>3</th>\n",
       "      <td>2008</td>\n",
       "      <td>1</td>\n",
       "      <td>3</td>\n",
       "      <td>4</td>\n",
       "      <td>1829.0</td>\n",
       "      <td>1755</td>\n",
       "      <td>1959.0</td>\n",
       "      <td>1925</td>\n",
       "      <td>WN</td>\n",
       "      <td>3920</td>\n",
       "      <td>N464WN</td>\n",
       "      <td>90.0</td>\n",
       "      <td>90.0</td>\n",
       "      <td>77.0</td>\n",
       "      <td>34.0</td>\n",
       "      <td>34.0</td>\n",
       "      <td>140</td>\n",
       "      <td>48</td>\n",
       "      <td>515</td>\n",
       "      <td>3.0</td>\n",
       "      <td>10.0</td>\n",
       "      <td>0</td>\n",
       "      <td>N</td>\n",
       "      <td>0</td>\n",
       "      <td>2.0</td>\n",
       "      <td>0.0</td>\n",
       "      <td>0.0</td>\n",
       "      <td>0.0</td>\n",
       "      <td>32.0</td>\n",
       "    </tr>\n",
       "    <tr>\n",
       "      <th>4</th>\n",
       "      <td>2008</td>\n",
       "      <td>1</td>\n",
       "      <td>3</td>\n",
       "      <td>4</td>\n",
       "      <td>1940.0</td>\n",
       "      <td>1915</td>\n",
       "      <td>2121.0</td>\n",
       "      <td>2110</td>\n",
       "      <td>WN</td>\n",
       "      <td>378</td>\n",
       "      <td>N726SW</td>\n",
       "      <td>101.0</td>\n",
       "      <td>115.0</td>\n",
       "      <td>87.0</td>\n",
       "      <td>11.0</td>\n",
       "      <td>25.0</td>\n",
       "      <td>140</td>\n",
       "      <td>150</td>\n",
       "      <td>688</td>\n",
       "      <td>4.0</td>\n",
       "      <td>10.0</td>\n",
       "      <td>0</td>\n",
       "      <td>N</td>\n",
       "      <td>0</td>\n",
       "      <td>NaN</td>\n",
       "      <td>NaN</td>\n",
       "      <td>NaN</td>\n",
       "      <td>NaN</td>\n",
       "      <td>NaN</td>\n",
       "    </tr>\n",
       "  </tbody>\n",
       "</table>\n",
       "</div>"
      ],
      "text/plain": [
       "   Year  Month  DayofMonth  DayOfWeek  DepTime  CRSDepTime  ArrTime  CRSArrTime UniqueCarrier  FlightNum TailNum  ActualElapsedTime  CRSElapsedTime  AirTime  ArrDelay  DepDelay  Origin  Dest  Distance  TaxiIn  TaxiOut  Cancelled CancellationCode  Diverted  CarrierDelay  WeatherDelay  NASDelay  SecurityDelay  LateAircraftDelay\n",
       "0  2008      1           3          4   2003.0        1955   2211.0        2225            WN        335  N712SW              128.0           150.0    116.0     -14.0       8.0     135   286       810     4.0      8.0          0                N         0           NaN           NaN       NaN            NaN                NaN\n",
       "1  2008      1           3          4    754.0         735   1002.0        1000            WN       3231  N772SW              128.0           145.0    113.0       2.0      19.0     135   286       810     5.0     10.0          0                N         0           NaN           NaN       NaN            NaN                NaN\n",
       "2  2008      1           3          4    628.0         620    804.0         750            WN        448  N428WN               96.0            90.0     76.0      14.0       8.0     140    48       515     3.0     17.0          0                N         0           NaN           NaN       NaN            NaN                NaN\n",
       "3  2008      1           3          4   1829.0        1755   1959.0        1925            WN       3920  N464WN               90.0            90.0     77.0      34.0      34.0     140    48       515     3.0     10.0          0                N         0           2.0           0.0       0.0            0.0               32.0\n",
       "4  2008      1           3          4   1940.0        1915   2121.0        2110            WN        378  N726SW              101.0           115.0     87.0      11.0      25.0     140   150       688     4.0     10.0          0                N         0           NaN           NaN       NaN            NaN                NaN"
      ]
     },
     "execution_count": 170,
     "metadata": {},
     "output_type": "execute_result"
    }
   ],
   "source": [
    "encoder = LabelEncoder()\n",
    "\n",
    "df_1['Dest']= encoder.fit_transform(df_1['Dest'])\n",
    "\n",
    "df_1.head()"
   ]
  },
  {
   "cell_type": "code",
   "execution_count": 171,
   "id": "300f24a4",
   "metadata": {
    "ExecuteTime": {
     "end_time": "2021-06-08T16:22:36.446565Z",
     "start_time": "2021-06-08T16:22:36.402684Z"
    },
    "collapsed": true
   },
   "outputs": [
    {
     "data": {
      "text/plain": [
       "212    108984\n",
       "18     106898\n",
       "82      70657\n",
       "81      63003\n",
       "158     59969\n",
       "97      55861\n",
       "156     48858\n",
       "222     47836\n",
       "260     46876\n",
       "137     43905\n",
       "163     38137\n",
       "178     36405\n",
       "151     35506\n",
       "88      34777\n",
       "37      31961\n",
       "259     31548\n",
       "221     30795\n",
       "48      29610\n",
       "268     29217\n",
       "200     28137\n",
       "63      26898\n",
       "250     26621\n",
       "180     25318\n",
       "136     22748\n",
       "286     22665\n",
       "105     20323\n",
       "73      20056\n",
       "80      19735\n",
       "187     19706\n",
       "276     18582\n",
       "205     18302\n",
       "176     18205\n",
       "61      17991\n",
       "131     17712\n",
       "239     17378\n",
       "35      17338\n",
       "218     16300\n",
       "270     16007\n",
       "182     15626\n",
       "265     15577\n",
       "20      15538\n",
       "77      15179\n",
       "251     14533\n",
       "226     12487\n",
       "2       12183\n",
       "272     12101\n",
       "141     11769\n",
       "201     11706\n",
       "188     10930\n",
       "64      10780\n",
       "211     10231\n",
       "130     10095\n",
       "150      9586\n",
       "24       8905\n",
       "209      8472\n",
       "217      8463\n",
       "208      8241\n",
       "47       8185\n",
       "46       7973\n",
       "288      7777\n",
       "290      7499\n",
       "267      7464\n",
       "29       7425\n",
       "249      7316\n",
       "244      7282\n",
       "234      7212\n",
       "258      6966\n",
       "92       6587\n",
       "16       6291\n",
       "186      6010\n",
       "242      5892\n",
       "166      5785\n",
       "213      5577\n",
       "87       4932\n",
       "36       4839\n",
       "120      4837\n",
       "246      4571\n",
       "78       4569\n",
       "112      4516\n",
       "13       4320\n",
       "68       4315\n",
       "300      4144\n",
       "252      4124\n",
       "57       4117\n",
       "198      4049\n",
       "149      4026\n",
       "282      4016\n",
       "121      4010\n",
       "138      3994\n",
       "295      3884\n",
       "122      3410\n",
       "50       3392\n",
       "101      3351\n",
       "132      3335\n",
       "144      3292\n",
       "207      3291\n",
       "164      3057\n",
       "261      3038\n",
       "161      2936\n",
       "159      2920\n",
       "134      2896\n",
       "233      2890\n",
       "51       2785\n",
       "229      2711\n",
       "253      2688\n",
       "59       2676\n",
       "107      2581\n",
       "15       2545\n",
       "44       2525\n",
       "174      2520\n",
       "191      2446\n",
       "179      2420\n",
       "263      2395\n",
       "117      2372\n",
       "235      2273\n",
       "118      2264\n",
       "153      2149\n",
       "165      2132\n",
       "297      2112\n",
       "45       2103\n",
       "220      1858\n",
       "275      1857\n",
       "197      1784\n",
       "110      1770\n",
       "70       1678\n",
       "19       1653\n",
       "193      1650\n",
       "108      1626\n",
       "34       1574\n",
       "223      1564\n",
       "133      1547\n",
       "203      1488\n",
       "17       1484\n",
       "284      1457\n",
       "95       1443\n",
       "254      1442\n",
       "162      1405\n",
       "99       1361\n",
       "184      1351\n",
       "94       1338\n",
       "119      1336\n",
       "55       1324\n",
       "0        1322\n",
       "255      1311\n",
       "281      1306\n",
       "152      1305\n",
       "291      1248\n",
       "21       1174\n",
       "49       1170\n",
       "148      1156\n",
       "100      1141\n",
       "183      1130\n",
       "146      1103\n",
       "6        1102\n",
       "26       1072\n",
       "219      1048\n",
       "89       1041\n",
       "248      1036\n",
       "65       1022\n",
       "115      1010\n",
       "277      1003\n",
       "155       999\n",
       "245       978\n",
       "23        953\n",
       "185       950\n",
       "76        934\n",
       "30        927\n",
       "71        909\n",
       "140       882\n",
       "28        848\n",
       "1         838\n",
       "236       828\n",
       "168       821\n",
       "74        808\n",
       "175       797\n",
       "109       751\n",
       "22        750\n",
       "154       729\n",
       "11        728\n",
       "102       716\n",
       "238       703\n",
       "192       700\n",
       "10        684\n",
       "194       683\n",
       "169       666\n",
       "303       652\n",
       "127       651\n",
       "202       642\n",
       "190       641\n",
       "157       638\n",
       "199       622\n",
       "86        619\n",
       "237       601\n",
       "139       590\n",
       "287       582\n",
       "116       578\n",
       "170       566\n",
       "5         546\n",
       "262       545\n",
       "58        537\n",
       "40        525\n",
       "31        515\n",
       "103       502\n",
       "264       493\n",
       "285       473\n",
       "230       473\n",
       "69        472\n",
       "274       466\n",
       "72        441\n",
       "85        440\n",
       "266       434\n",
       "196       432\n",
       "83        428\n",
       "279       425\n",
       "294       420\n",
       "98        413\n",
       "41        397\n",
       "273       394\n",
       "62        390\n",
       "124       384\n",
       "60        369\n",
       "79        368\n",
       "54        364\n",
       "293       352\n",
       "247       344\n",
       "204       341\n",
       "129       336\n",
       "3         319\n",
       "113       309\n",
       "210       305\n",
       "93        293\n",
       "296       290\n",
       "271       288\n",
       "215       287\n",
       "42        283\n",
       "232       283\n",
       "114       283\n",
       "128       273\n",
       "292       270\n",
       "53        267\n",
       "231       263\n",
       "56        261\n",
       "160       259\n",
       "125       258\n",
       "126       256\n",
       "301       256\n",
       "91        253\n",
       "298       252\n",
       "25        247\n",
       "104       241\n",
       "195       237\n",
       "224       236\n",
       "39        232\n",
       "214       229\n",
       "111       220\n",
       "228       215\n",
       "96        213\n",
       "216       209\n",
       "67        191\n",
       "90        188\n",
       "143       181\n",
       "177       181\n",
       "167       178\n",
       "106       175\n",
       "256       175\n",
       "181       166\n",
       "173       161\n",
       "4         155\n",
       "257       155\n",
       "27        153\n",
       "278       152\n",
       "243       141\n",
       "147       124\n",
       "9         105\n",
       "189        99\n",
       "43         86\n",
       "52         82\n",
       "172        68\n",
       "38         65\n",
       "240        64\n",
       "14         55\n",
       "269        54\n",
       "227        51\n",
       "66         49\n",
       "302        47\n",
       "123        46\n",
       "241        45\n",
       "84         43\n",
       "12         43\n",
       "7          38\n",
       "171        35\n",
       "135        33\n",
       "283        32\n",
       "8          31\n",
       "299        31\n",
       "280        28\n",
       "145        16\n",
       "33         13\n",
       "32         12\n",
       "142         9\n",
       "225         3\n",
       "75          1\n",
       "289         1\n",
       "206         1\n",
       "Name: Dest, dtype: int64"
      ]
     },
     "execution_count": 171,
     "metadata": {},
     "output_type": "execute_result"
    }
   ],
   "source": [
    "df_1['Dest'].value_counts(ascending=False)"
   ]
  },
  {
   "cell_type": "code",
   "execution_count": 172,
   "id": "06a7ad20",
   "metadata": {
    "ExecuteTime": {
     "end_time": "2021-06-08T16:22:36.689915Z",
     "start_time": "2021-06-08T16:22:36.448560Z"
    },
    "collapsed": true
   },
   "outputs": [
    {
     "data": {
      "text/plain": [
       "WN    377602\n",
       "AA    191865\n",
       "MQ    141920\n",
       "UA    141426\n",
       "OO    132433\n",
       "DL    114238\n",
       "XE    103663\n",
       "CO    100195\n",
       "US     98425\n",
       "EV     81877\n",
       "NW     79108\n",
       "FL     71284\n",
       "YV     67063\n",
       "B6     55315\n",
       "OH     52657\n",
       "9E     51885\n",
       "AS     39293\n",
       "F9     28269\n",
       "HA      7490\n",
       "AQ       750\n",
       "Name: UniqueCarrier, dtype: int64"
      ]
     },
     "execution_count": 172,
     "metadata": {},
     "output_type": "execute_result"
    }
   ],
   "source": [
    "df_1['UniqueCarrier'].value_counts(ascending=False)"
   ]
  },
  {
   "cell_type": "code",
   "execution_count": 173,
   "id": "67724ba0",
   "metadata": {
    "ExecuteTime": {
     "end_time": "2021-06-08T16:22:37.447888Z",
     "start_time": "2021-06-08T16:22:36.692908Z"
    }
   },
   "outputs": [
    {
     "data": {
      "text/html": [
       "<div>\n",
       "<style scoped>\n",
       "    .dataframe tbody tr th:only-of-type {\n",
       "        vertical-align: middle;\n",
       "    }\n",
       "\n",
       "    .dataframe tbody tr th {\n",
       "        vertical-align: top;\n",
       "    }\n",
       "\n",
       "    .dataframe thead th {\n",
       "        text-align: right;\n",
       "    }\n",
       "</style>\n",
       "<table border=\"1\" class=\"dataframe\">\n",
       "  <thead>\n",
       "    <tr style=\"text-align: right;\">\n",
       "      <th></th>\n",
       "      <th>Year</th>\n",
       "      <th>Month</th>\n",
       "      <th>DayofMonth</th>\n",
       "      <th>DayOfWeek</th>\n",
       "      <th>DepTime</th>\n",
       "      <th>CRSDepTime</th>\n",
       "      <th>ArrTime</th>\n",
       "      <th>CRSArrTime</th>\n",
       "      <th>UniqueCarrier</th>\n",
       "      <th>FlightNum</th>\n",
       "      <th>TailNum</th>\n",
       "      <th>ActualElapsedTime</th>\n",
       "      <th>CRSElapsedTime</th>\n",
       "      <th>AirTime</th>\n",
       "      <th>ArrDelay</th>\n",
       "      <th>DepDelay</th>\n",
       "      <th>Origin</th>\n",
       "      <th>Dest</th>\n",
       "      <th>Distance</th>\n",
       "      <th>TaxiIn</th>\n",
       "      <th>TaxiOut</th>\n",
       "      <th>Cancelled</th>\n",
       "      <th>CancellationCode</th>\n",
       "      <th>Diverted</th>\n",
       "      <th>CarrierDelay</th>\n",
       "      <th>WeatherDelay</th>\n",
       "      <th>NASDelay</th>\n",
       "      <th>SecurityDelay</th>\n",
       "      <th>LateAircraftDelay</th>\n",
       "    </tr>\n",
       "  </thead>\n",
       "  <tbody>\n",
       "    <tr>\n",
       "      <th>0</th>\n",
       "      <td>2008</td>\n",
       "      <td>1</td>\n",
       "      <td>3</td>\n",
       "      <td>4</td>\n",
       "      <td>2003.0</td>\n",
       "      <td>1955</td>\n",
       "      <td>2211.0</td>\n",
       "      <td>2225</td>\n",
       "      <td>17</td>\n",
       "      <td>335</td>\n",
       "      <td>N712SW</td>\n",
       "      <td>128.0</td>\n",
       "      <td>150.0</td>\n",
       "      <td>116.0</td>\n",
       "      <td>-14.0</td>\n",
       "      <td>8.0</td>\n",
       "      <td>135</td>\n",
       "      <td>286</td>\n",
       "      <td>810</td>\n",
       "      <td>4.0</td>\n",
       "      <td>8.0</td>\n",
       "      <td>0</td>\n",
       "      <td>N</td>\n",
       "      <td>0</td>\n",
       "      <td>NaN</td>\n",
       "      <td>NaN</td>\n",
       "      <td>NaN</td>\n",
       "      <td>NaN</td>\n",
       "      <td>NaN</td>\n",
       "    </tr>\n",
       "    <tr>\n",
       "      <th>1</th>\n",
       "      <td>2008</td>\n",
       "      <td>1</td>\n",
       "      <td>3</td>\n",
       "      <td>4</td>\n",
       "      <td>754.0</td>\n",
       "      <td>735</td>\n",
       "      <td>1002.0</td>\n",
       "      <td>1000</td>\n",
       "      <td>17</td>\n",
       "      <td>3231</td>\n",
       "      <td>N772SW</td>\n",
       "      <td>128.0</td>\n",
       "      <td>145.0</td>\n",
       "      <td>113.0</td>\n",
       "      <td>2.0</td>\n",
       "      <td>19.0</td>\n",
       "      <td>135</td>\n",
       "      <td>286</td>\n",
       "      <td>810</td>\n",
       "      <td>5.0</td>\n",
       "      <td>10.0</td>\n",
       "      <td>0</td>\n",
       "      <td>N</td>\n",
       "      <td>0</td>\n",
       "      <td>NaN</td>\n",
       "      <td>NaN</td>\n",
       "      <td>NaN</td>\n",
       "      <td>NaN</td>\n",
       "      <td>NaN</td>\n",
       "    </tr>\n",
       "    <tr>\n",
       "      <th>2</th>\n",
       "      <td>2008</td>\n",
       "      <td>1</td>\n",
       "      <td>3</td>\n",
       "      <td>4</td>\n",
       "      <td>628.0</td>\n",
       "      <td>620</td>\n",
       "      <td>804.0</td>\n",
       "      <td>750</td>\n",
       "      <td>17</td>\n",
       "      <td>448</td>\n",
       "      <td>N428WN</td>\n",
       "      <td>96.0</td>\n",
       "      <td>90.0</td>\n",
       "      <td>76.0</td>\n",
       "      <td>14.0</td>\n",
       "      <td>8.0</td>\n",
       "      <td>140</td>\n",
       "      <td>48</td>\n",
       "      <td>515</td>\n",
       "      <td>3.0</td>\n",
       "      <td>17.0</td>\n",
       "      <td>0</td>\n",
       "      <td>N</td>\n",
       "      <td>0</td>\n",
       "      <td>NaN</td>\n",
       "      <td>NaN</td>\n",
       "      <td>NaN</td>\n",
       "      <td>NaN</td>\n",
       "      <td>NaN</td>\n",
       "    </tr>\n",
       "    <tr>\n",
       "      <th>3</th>\n",
       "      <td>2008</td>\n",
       "      <td>1</td>\n",
       "      <td>3</td>\n",
       "      <td>4</td>\n",
       "      <td>1829.0</td>\n",
       "      <td>1755</td>\n",
       "      <td>1959.0</td>\n",
       "      <td>1925</td>\n",
       "      <td>17</td>\n",
       "      <td>3920</td>\n",
       "      <td>N464WN</td>\n",
       "      <td>90.0</td>\n",
       "      <td>90.0</td>\n",
       "      <td>77.0</td>\n",
       "      <td>34.0</td>\n",
       "      <td>34.0</td>\n",
       "      <td>140</td>\n",
       "      <td>48</td>\n",
       "      <td>515</td>\n",
       "      <td>3.0</td>\n",
       "      <td>10.0</td>\n",
       "      <td>0</td>\n",
       "      <td>N</td>\n",
       "      <td>0</td>\n",
       "      <td>2.0</td>\n",
       "      <td>0.0</td>\n",
       "      <td>0.0</td>\n",
       "      <td>0.0</td>\n",
       "      <td>32.0</td>\n",
       "    </tr>\n",
       "    <tr>\n",
       "      <th>4</th>\n",
       "      <td>2008</td>\n",
       "      <td>1</td>\n",
       "      <td>3</td>\n",
       "      <td>4</td>\n",
       "      <td>1940.0</td>\n",
       "      <td>1915</td>\n",
       "      <td>2121.0</td>\n",
       "      <td>2110</td>\n",
       "      <td>17</td>\n",
       "      <td>378</td>\n",
       "      <td>N726SW</td>\n",
       "      <td>101.0</td>\n",
       "      <td>115.0</td>\n",
       "      <td>87.0</td>\n",
       "      <td>11.0</td>\n",
       "      <td>25.0</td>\n",
       "      <td>140</td>\n",
       "      <td>150</td>\n",
       "      <td>688</td>\n",
       "      <td>4.0</td>\n",
       "      <td>10.0</td>\n",
       "      <td>0</td>\n",
       "      <td>N</td>\n",
       "      <td>0</td>\n",
       "      <td>NaN</td>\n",
       "      <td>NaN</td>\n",
       "      <td>NaN</td>\n",
       "      <td>NaN</td>\n",
       "      <td>NaN</td>\n",
       "    </tr>\n",
       "  </tbody>\n",
       "</table>\n",
       "</div>"
      ],
      "text/plain": [
       "   Year  Month  DayofMonth  DayOfWeek  DepTime  CRSDepTime  ArrTime  CRSArrTime  UniqueCarrier  FlightNum TailNum  ActualElapsedTime  CRSElapsedTime  AirTime  ArrDelay  DepDelay  Origin  Dest  Distance  TaxiIn  TaxiOut  Cancelled CancellationCode  Diverted  CarrierDelay  WeatherDelay  NASDelay  SecurityDelay  LateAircraftDelay\n",
       "0  2008      1           3          4   2003.0        1955   2211.0        2225             17        335  N712SW              128.0           150.0    116.0     -14.0       8.0     135   286       810     4.0      8.0          0                N         0           NaN           NaN       NaN            NaN                NaN\n",
       "1  2008      1           3          4    754.0         735   1002.0        1000             17       3231  N772SW              128.0           145.0    113.0       2.0      19.0     135   286       810     5.0     10.0          0                N         0           NaN           NaN       NaN            NaN                NaN\n",
       "2  2008      1           3          4    628.0         620    804.0         750             17        448  N428WN               96.0            90.0     76.0      14.0       8.0     140    48       515     3.0     17.0          0                N         0           NaN           NaN       NaN            NaN                NaN\n",
       "3  2008      1           3          4   1829.0        1755   1959.0        1925             17       3920  N464WN               90.0            90.0     77.0      34.0      34.0     140    48       515     3.0     10.0          0                N         0           2.0           0.0       0.0            0.0               32.0\n",
       "4  2008      1           3          4   1940.0        1915   2121.0        2110             17        378  N726SW              101.0           115.0     87.0      11.0      25.0     140   150       688     4.0     10.0          0                N         0           NaN           NaN       NaN            NaN                NaN"
      ]
     },
     "execution_count": 173,
     "metadata": {},
     "output_type": "execute_result"
    }
   ],
   "source": [
    "encoder = LabelEncoder()\n",
    "\n",
    "df_1['UniqueCarrier']= encoder.fit_transform(df_1['UniqueCarrier'])\n",
    "\n",
    "df_1.head()\n"
   ]
  },
  {
   "cell_type": "code",
   "execution_count": 174,
   "id": "15700321",
   "metadata": {
    "ExecuteTime": {
     "end_time": "2021-06-08T16:22:37.495759Z",
     "start_time": "2021-06-08T16:22:37.450882Z"
    },
    "collapsed": true
   },
   "outputs": [
    {
     "data": {
      "text/plain": [
       "17    377602\n",
       "1     191865\n",
       "11    141920\n",
       "15    141426\n",
       "14    132433\n",
       "6     114238\n",
       "18    103663\n",
       "5     100195\n",
       "16     98425\n",
       "7      81877\n",
       "12     79108\n",
       "9      71284\n",
       "19     67063\n",
       "4      55315\n",
       "13     52657\n",
       "0      51885\n",
       "3      39293\n",
       "8      28269\n",
       "10      7490\n",
       "2        750\n",
       "Name: UniqueCarrier, dtype: int64"
      ]
     },
     "execution_count": 174,
     "metadata": {},
     "output_type": "execute_result"
    }
   ],
   "source": [
    "df_1['UniqueCarrier'].value_counts(ascending=False)"
   ]
  },
  {
   "cell_type": "code",
   "execution_count": 175,
   "id": "4e8a5a47",
   "metadata": {
    "ExecuteTime": {
     "end_time": "2021-06-08T16:22:37.716169Z",
     "start_time": "2021-06-08T16:22:37.497757Z"
    }
   },
   "outputs": [
    {
     "data": {
      "text/plain": [
       "N    1936125\n",
       "B        307\n",
       "A        246\n",
       "C         80\n",
       "Name: CancellationCode, dtype: int64"
      ]
     },
     "execution_count": 175,
     "metadata": {},
     "output_type": "execute_result"
    }
   ],
   "source": [
    "df_1['CancellationCode'].value_counts(ascending=False)"
   ]
  },
  {
   "cell_type": "code",
   "execution_count": 176,
   "id": "591320c6",
   "metadata": {
    "ExecuteTime": {
     "end_time": "2021-06-08T16:22:38.346864Z",
     "start_time": "2021-06-08T16:22:37.718165Z"
    }
   },
   "outputs": [
    {
     "data": {
      "text/html": [
       "<div>\n",
       "<style scoped>\n",
       "    .dataframe tbody tr th:only-of-type {\n",
       "        vertical-align: middle;\n",
       "    }\n",
       "\n",
       "    .dataframe tbody tr th {\n",
       "        vertical-align: top;\n",
       "    }\n",
       "\n",
       "    .dataframe thead th {\n",
       "        text-align: right;\n",
       "    }\n",
       "</style>\n",
       "<table border=\"1\" class=\"dataframe\">\n",
       "  <thead>\n",
       "    <tr style=\"text-align: right;\">\n",
       "      <th></th>\n",
       "      <th>Year</th>\n",
       "      <th>Month</th>\n",
       "      <th>DayofMonth</th>\n",
       "      <th>DayOfWeek</th>\n",
       "      <th>DepTime</th>\n",
       "      <th>CRSDepTime</th>\n",
       "      <th>ArrTime</th>\n",
       "      <th>CRSArrTime</th>\n",
       "      <th>UniqueCarrier</th>\n",
       "      <th>FlightNum</th>\n",
       "      <th>TailNum</th>\n",
       "      <th>ActualElapsedTime</th>\n",
       "      <th>CRSElapsedTime</th>\n",
       "      <th>AirTime</th>\n",
       "      <th>ArrDelay</th>\n",
       "      <th>DepDelay</th>\n",
       "      <th>Origin</th>\n",
       "      <th>Dest</th>\n",
       "      <th>Distance</th>\n",
       "      <th>TaxiIn</th>\n",
       "      <th>TaxiOut</th>\n",
       "      <th>Cancelled</th>\n",
       "      <th>CancellationCode</th>\n",
       "      <th>Diverted</th>\n",
       "      <th>CarrierDelay</th>\n",
       "      <th>WeatherDelay</th>\n",
       "      <th>NASDelay</th>\n",
       "      <th>SecurityDelay</th>\n",
       "      <th>LateAircraftDelay</th>\n",
       "    </tr>\n",
       "  </thead>\n",
       "  <tbody>\n",
       "    <tr>\n",
       "      <th>0</th>\n",
       "      <td>2008</td>\n",
       "      <td>1</td>\n",
       "      <td>3</td>\n",
       "      <td>4</td>\n",
       "      <td>2003.0</td>\n",
       "      <td>1955</td>\n",
       "      <td>2211.0</td>\n",
       "      <td>2225</td>\n",
       "      <td>17</td>\n",
       "      <td>335</td>\n",
       "      <td>N712SW</td>\n",
       "      <td>128.0</td>\n",
       "      <td>150.0</td>\n",
       "      <td>116.0</td>\n",
       "      <td>-14.0</td>\n",
       "      <td>8.0</td>\n",
       "      <td>135</td>\n",
       "      <td>286</td>\n",
       "      <td>810</td>\n",
       "      <td>4.0</td>\n",
       "      <td>8.0</td>\n",
       "      <td>0</td>\n",
       "      <td>3</td>\n",
       "      <td>0</td>\n",
       "      <td>NaN</td>\n",
       "      <td>NaN</td>\n",
       "      <td>NaN</td>\n",
       "      <td>NaN</td>\n",
       "      <td>NaN</td>\n",
       "    </tr>\n",
       "    <tr>\n",
       "      <th>1</th>\n",
       "      <td>2008</td>\n",
       "      <td>1</td>\n",
       "      <td>3</td>\n",
       "      <td>4</td>\n",
       "      <td>754.0</td>\n",
       "      <td>735</td>\n",
       "      <td>1002.0</td>\n",
       "      <td>1000</td>\n",
       "      <td>17</td>\n",
       "      <td>3231</td>\n",
       "      <td>N772SW</td>\n",
       "      <td>128.0</td>\n",
       "      <td>145.0</td>\n",
       "      <td>113.0</td>\n",
       "      <td>2.0</td>\n",
       "      <td>19.0</td>\n",
       "      <td>135</td>\n",
       "      <td>286</td>\n",
       "      <td>810</td>\n",
       "      <td>5.0</td>\n",
       "      <td>10.0</td>\n",
       "      <td>0</td>\n",
       "      <td>3</td>\n",
       "      <td>0</td>\n",
       "      <td>NaN</td>\n",
       "      <td>NaN</td>\n",
       "      <td>NaN</td>\n",
       "      <td>NaN</td>\n",
       "      <td>NaN</td>\n",
       "    </tr>\n",
       "    <tr>\n",
       "      <th>2</th>\n",
       "      <td>2008</td>\n",
       "      <td>1</td>\n",
       "      <td>3</td>\n",
       "      <td>4</td>\n",
       "      <td>628.0</td>\n",
       "      <td>620</td>\n",
       "      <td>804.0</td>\n",
       "      <td>750</td>\n",
       "      <td>17</td>\n",
       "      <td>448</td>\n",
       "      <td>N428WN</td>\n",
       "      <td>96.0</td>\n",
       "      <td>90.0</td>\n",
       "      <td>76.0</td>\n",
       "      <td>14.0</td>\n",
       "      <td>8.0</td>\n",
       "      <td>140</td>\n",
       "      <td>48</td>\n",
       "      <td>515</td>\n",
       "      <td>3.0</td>\n",
       "      <td>17.0</td>\n",
       "      <td>0</td>\n",
       "      <td>3</td>\n",
       "      <td>0</td>\n",
       "      <td>NaN</td>\n",
       "      <td>NaN</td>\n",
       "      <td>NaN</td>\n",
       "      <td>NaN</td>\n",
       "      <td>NaN</td>\n",
       "    </tr>\n",
       "    <tr>\n",
       "      <th>3</th>\n",
       "      <td>2008</td>\n",
       "      <td>1</td>\n",
       "      <td>3</td>\n",
       "      <td>4</td>\n",
       "      <td>1829.0</td>\n",
       "      <td>1755</td>\n",
       "      <td>1959.0</td>\n",
       "      <td>1925</td>\n",
       "      <td>17</td>\n",
       "      <td>3920</td>\n",
       "      <td>N464WN</td>\n",
       "      <td>90.0</td>\n",
       "      <td>90.0</td>\n",
       "      <td>77.0</td>\n",
       "      <td>34.0</td>\n",
       "      <td>34.0</td>\n",
       "      <td>140</td>\n",
       "      <td>48</td>\n",
       "      <td>515</td>\n",
       "      <td>3.0</td>\n",
       "      <td>10.0</td>\n",
       "      <td>0</td>\n",
       "      <td>3</td>\n",
       "      <td>0</td>\n",
       "      <td>2.0</td>\n",
       "      <td>0.0</td>\n",
       "      <td>0.0</td>\n",
       "      <td>0.0</td>\n",
       "      <td>32.0</td>\n",
       "    </tr>\n",
       "    <tr>\n",
       "      <th>4</th>\n",
       "      <td>2008</td>\n",
       "      <td>1</td>\n",
       "      <td>3</td>\n",
       "      <td>4</td>\n",
       "      <td>1940.0</td>\n",
       "      <td>1915</td>\n",
       "      <td>2121.0</td>\n",
       "      <td>2110</td>\n",
       "      <td>17</td>\n",
       "      <td>378</td>\n",
       "      <td>N726SW</td>\n",
       "      <td>101.0</td>\n",
       "      <td>115.0</td>\n",
       "      <td>87.0</td>\n",
       "      <td>11.0</td>\n",
       "      <td>25.0</td>\n",
       "      <td>140</td>\n",
       "      <td>150</td>\n",
       "      <td>688</td>\n",
       "      <td>4.0</td>\n",
       "      <td>10.0</td>\n",
       "      <td>0</td>\n",
       "      <td>3</td>\n",
       "      <td>0</td>\n",
       "      <td>NaN</td>\n",
       "      <td>NaN</td>\n",
       "      <td>NaN</td>\n",
       "      <td>NaN</td>\n",
       "      <td>NaN</td>\n",
       "    </tr>\n",
       "  </tbody>\n",
       "</table>\n",
       "</div>"
      ],
      "text/plain": [
       "   Year  Month  DayofMonth  DayOfWeek  DepTime  CRSDepTime  ArrTime  CRSArrTime  UniqueCarrier  FlightNum TailNum  ActualElapsedTime  CRSElapsedTime  AirTime  ArrDelay  DepDelay  Origin  Dest  Distance  TaxiIn  TaxiOut  Cancelled  CancellationCode  Diverted  CarrierDelay  WeatherDelay  NASDelay  SecurityDelay  LateAircraftDelay\n",
       "0  2008      1           3          4   2003.0        1955   2211.0        2225             17        335  N712SW              128.0           150.0    116.0     -14.0       8.0     135   286       810     4.0      8.0          0                 3         0           NaN           NaN       NaN            NaN                NaN\n",
       "1  2008      1           3          4    754.0         735   1002.0        1000             17       3231  N772SW              128.0           145.0    113.0       2.0      19.0     135   286       810     5.0     10.0          0                 3         0           NaN           NaN       NaN            NaN                NaN\n",
       "2  2008      1           3          4    628.0         620    804.0         750             17        448  N428WN               96.0            90.0     76.0      14.0       8.0     140    48       515     3.0     17.0          0                 3         0           NaN           NaN       NaN            NaN                NaN\n",
       "3  2008      1           3          4   1829.0        1755   1959.0        1925             17       3920  N464WN               90.0            90.0     77.0      34.0      34.0     140    48       515     3.0     10.0          0                 3         0           2.0           0.0       0.0            0.0               32.0\n",
       "4  2008      1           3          4   1940.0        1915   2121.0        2110             17        378  N726SW              101.0           115.0     87.0      11.0      25.0     140   150       688     4.0     10.0          0                 3         0           NaN           NaN       NaN            NaN                NaN"
      ]
     },
     "execution_count": 176,
     "metadata": {},
     "output_type": "execute_result"
    }
   ],
   "source": [
    "encoder = LabelEncoder()\n",
    "\n",
    "df_1['CancellationCode']= encoder.fit_transform(df_1['CancellationCode'])\n",
    "\n",
    "df_1.head()"
   ]
  },
  {
   "cell_type": "markdown",
   "id": "ff98e8a8",
   "metadata": {},
   "source": [
    "Eliminem les mateixes variables numèriques:"
   ]
  },
  {
   "cell_type": "code",
   "execution_count": 177,
   "id": "1f14773f",
   "metadata": {
    "ExecuteTime": {
     "end_time": "2021-06-08T16:22:38.519443Z",
     "start_time": "2021-06-08T16:22:38.348860Z"
    }
   },
   "outputs": [],
   "source": [
    "df_1.drop(['TailNum','Year', 'DepDelay', 'ArrTime', 'DepTime', \n",
    "           'CarrierDelay', 'WeatherDelay','NASDelay', 'SecurityDelay', 'LateAircraftDelay', \n",
    "            'AirTime', 'TaxiIn','TaxiOut', 'ActualElapsedTime'], axis=1, inplace = True)"
   ]
  },
  {
   "cell_type": "markdown",
   "id": "d0a6b671",
   "metadata": {},
   "source": [
    "Fem la mateixa imputació de null values:"
   ]
  },
  {
   "cell_type": "code",
   "execution_count": 178,
   "id": "5f77ae67",
   "metadata": {
    "ExecuteTime": {
     "end_time": "2021-06-08T16:22:38.956232Z",
     "start_time": "2021-06-08T16:22:38.521396Z"
    }
   },
   "outputs": [],
   "source": [
    "for i in df_1.columns:\n",
    "    df_1[i].fillna(df_1[i].median(), inplace = True)"
   ]
  },
  {
   "cell_type": "markdown",
   "id": "5077a890",
   "metadata": {},
   "source": [
    "I la mateixa divisió de classes"
   ]
  },
  {
   "cell_type": "code",
   "execution_count": 179,
   "id": "8a44456d",
   "metadata": {
    "ExecuteTime": {
     "end_time": "2021-06-08T16:22:39.539674Z",
     "start_time": "2021-06-08T16:22:38.958229Z"
    }
   },
   "outputs": [],
   "source": [
    "cut_bins = min(df_1['ArrDelay']), 15, max(df_1['ArrDelay'])\n",
    "df_1['Delayed'] = pd.cut(df_1['ArrDelay'], bins=cut_bins)"
   ]
  },
  {
   "cell_type": "code",
   "execution_count": 180,
   "id": "2cd19d2e",
   "metadata": {
    "ExecuteTime": {
     "end_time": "2021-06-08T16:22:39.586548Z",
     "start_time": "2021-06-08T16:22:39.542667Z"
    },
    "scrolled": true
   },
   "outputs": [
    {
     "data": {
      "text/plain": [
       "(15.0, 2461.0]    1223399\n",
       "(-109.0, 15.0]     713358\n",
       "Name: Delayed, dtype: int64"
      ]
     },
     "execution_count": 180,
     "metadata": {},
     "output_type": "execute_result"
    }
   ],
   "source": [
    "df_1['Delayed'].value_counts()"
   ]
  },
  {
   "cell_type": "code",
   "execution_count": 181,
   "id": "b164c038",
   "metadata": {
    "ExecuteTime": {
     "end_time": "2021-06-08T16:22:39.623450Z",
     "start_time": "2021-06-08T16:22:39.588543Z"
    }
   },
   "outputs": [
    {
     "data": {
      "text/plain": [
       "(15.0, 2461.0]    0.631674\n",
       "(-109.0, 15.0]    0.368326\n",
       "Name: Delayed, dtype: float64"
      ]
     },
     "execution_count": 181,
     "metadata": {},
     "output_type": "execute_result"
    }
   ],
   "source": [
    "df_1['Delayed'].value_counts(normalize=True)"
   ]
  },
  {
   "cell_type": "code",
   "execution_count": 182,
   "id": "8207fe30",
   "metadata": {
    "ExecuteTime": {
     "end_time": "2021-06-08T16:22:45.003771Z",
     "start_time": "2021-06-08T16:22:39.627440Z"
    },
    "scrolled": true
   },
   "outputs": [
    {
     "data": {
      "text/html": [
       "<div>\n",
       "<style scoped>\n",
       "    .dataframe tbody tr th:only-of-type {\n",
       "        vertical-align: middle;\n",
       "    }\n",
       "\n",
       "    .dataframe tbody tr th {\n",
       "        vertical-align: top;\n",
       "    }\n",
       "\n",
       "    .dataframe thead th {\n",
       "        text-align: right;\n",
       "    }\n",
       "</style>\n",
       "<table border=\"1\" class=\"dataframe\">\n",
       "  <thead>\n",
       "    <tr style=\"text-align: right;\">\n",
       "      <th></th>\n",
       "      <th>Month</th>\n",
       "      <th>DayofMonth</th>\n",
       "      <th>DayOfWeek</th>\n",
       "      <th>CRSDepTime</th>\n",
       "      <th>CRSArrTime</th>\n",
       "      <th>UniqueCarrier</th>\n",
       "      <th>FlightNum</th>\n",
       "      <th>CRSElapsedTime</th>\n",
       "      <th>ArrDelay</th>\n",
       "      <th>Origin</th>\n",
       "      <th>Dest</th>\n",
       "      <th>Distance</th>\n",
       "      <th>Cancelled</th>\n",
       "      <th>CancellationCode</th>\n",
       "      <th>Diverted</th>\n",
       "      <th>Delayed</th>\n",
       "    </tr>\n",
       "  </thead>\n",
       "  <tbody>\n",
       "    <tr>\n",
       "      <th>0</th>\n",
       "      <td>1</td>\n",
       "      <td>3</td>\n",
       "      <td>4</td>\n",
       "      <td>1955</td>\n",
       "      <td>2225</td>\n",
       "      <td>17</td>\n",
       "      <td>335</td>\n",
       "      <td>150.0</td>\n",
       "      <td>-14.0</td>\n",
       "      <td>135</td>\n",
       "      <td>286</td>\n",
       "      <td>810</td>\n",
       "      <td>0</td>\n",
       "      <td>3</td>\n",
       "      <td>0</td>\n",
       "      <td>0</td>\n",
       "    </tr>\n",
       "    <tr>\n",
       "      <th>1</th>\n",
       "      <td>1</td>\n",
       "      <td>3</td>\n",
       "      <td>4</td>\n",
       "      <td>735</td>\n",
       "      <td>1000</td>\n",
       "      <td>17</td>\n",
       "      <td>3231</td>\n",
       "      <td>145.0</td>\n",
       "      <td>2.0</td>\n",
       "      <td>135</td>\n",
       "      <td>286</td>\n",
       "      <td>810</td>\n",
       "      <td>0</td>\n",
       "      <td>3</td>\n",
       "      <td>0</td>\n",
       "      <td>0</td>\n",
       "    </tr>\n",
       "    <tr>\n",
       "      <th>2</th>\n",
       "      <td>1</td>\n",
       "      <td>3</td>\n",
       "      <td>4</td>\n",
       "      <td>620</td>\n",
       "      <td>750</td>\n",
       "      <td>17</td>\n",
       "      <td>448</td>\n",
       "      <td>90.0</td>\n",
       "      <td>14.0</td>\n",
       "      <td>140</td>\n",
       "      <td>48</td>\n",
       "      <td>515</td>\n",
       "      <td>0</td>\n",
       "      <td>3</td>\n",
       "      <td>0</td>\n",
       "      <td>0</td>\n",
       "    </tr>\n",
       "    <tr>\n",
       "      <th>3</th>\n",
       "      <td>1</td>\n",
       "      <td>3</td>\n",
       "      <td>4</td>\n",
       "      <td>1755</td>\n",
       "      <td>1925</td>\n",
       "      <td>17</td>\n",
       "      <td>3920</td>\n",
       "      <td>90.0</td>\n",
       "      <td>34.0</td>\n",
       "      <td>140</td>\n",
       "      <td>48</td>\n",
       "      <td>515</td>\n",
       "      <td>0</td>\n",
       "      <td>3</td>\n",
       "      <td>0</td>\n",
       "      <td>1</td>\n",
       "    </tr>\n",
       "    <tr>\n",
       "      <th>4</th>\n",
       "      <td>1</td>\n",
       "      <td>3</td>\n",
       "      <td>4</td>\n",
       "      <td>1915</td>\n",
       "      <td>2110</td>\n",
       "      <td>17</td>\n",
       "      <td>378</td>\n",
       "      <td>115.0</td>\n",
       "      <td>11.0</td>\n",
       "      <td>140</td>\n",
       "      <td>150</td>\n",
       "      <td>688</td>\n",
       "      <td>0</td>\n",
       "      <td>3</td>\n",
       "      <td>0</td>\n",
       "      <td>0</td>\n",
       "    </tr>\n",
       "  </tbody>\n",
       "</table>\n",
       "</div>"
      ],
      "text/plain": [
       "   Month  DayofMonth  DayOfWeek  CRSDepTime  CRSArrTime  UniqueCarrier  FlightNum  CRSElapsedTime  ArrDelay  Origin  Dest  Distance  Cancelled  CancellationCode  Diverted  Delayed\n",
       "0      1           3          4        1955        2225             17        335           150.0     -14.0     135   286       810          0                 3         0        0\n",
       "1      1           3          4         735        1000             17       3231           145.0       2.0     135   286       810          0                 3         0        0\n",
       "2      1           3          4         620         750             17        448            90.0      14.0     140    48       515          0                 3         0        0\n",
       "3      1           3          4        1755        1925             17       3920            90.0      34.0     140    48       515          0                 3         0        1\n",
       "4      1           3          4        1915        2110             17        378           115.0      11.0     140   150       688          0                 3         0        0"
      ]
     },
     "execution_count": 182,
     "metadata": {},
     "output_type": "execute_result"
    }
   ],
   "source": [
    "encoder = LabelEncoder()\n",
    "df_1['Delayed'] = encoder.fit_transform(df_1['Delayed'])\n",
    "\n",
    "df_1.head()"
   ]
  },
  {
   "cell_type": "code",
   "execution_count": 183,
   "id": "5f6f9b5e",
   "metadata": {
    "ExecuteTime": {
     "end_time": "2021-06-08T16:22:45.038678Z",
     "start_time": "2021-06-08T16:22:45.006765Z"
    }
   },
   "outputs": [
    {
     "data": {
      "text/plain": [
       "1    1223399\n",
       "0     713358\n",
       "2          1\n",
       "Name: Delayed, dtype: int64"
      ]
     },
     "execution_count": 183,
     "metadata": {},
     "output_type": "execute_result"
    }
   ],
   "source": [
    "df_1['Delayed'].value_counts()"
   ]
  },
  {
   "cell_type": "code",
   "execution_count": 184,
   "id": "3ffc8233",
   "metadata": {
    "ExecuteTime": {
     "end_time": "2021-06-08T16:22:45.099514Z",
     "start_time": "2021-06-08T16:22:45.040674Z"
    }
   },
   "outputs": [],
   "source": [
    "i = df_1[df_1['Delayed'] == 2].index"
   ]
  },
  {
   "cell_type": "code",
   "execution_count": 185,
   "id": "c6fd3004",
   "metadata": {
    "ExecuteTime": {
     "end_time": "2021-06-08T16:22:45.368794Z",
     "start_time": "2021-06-08T16:22:45.101510Z"
    }
   },
   "outputs": [],
   "source": [
    "df_1.drop(i, inplace = True)"
   ]
  },
  {
   "cell_type": "code",
   "execution_count": 186,
   "id": "37177a16",
   "metadata": {
    "ExecuteTime": {
     "end_time": "2021-06-08T16:22:45.542332Z",
     "start_time": "2021-06-08T16:22:45.370790Z"
    }
   },
   "outputs": [],
   "source": [
    "df_1.drop(['ArrDelay'], axis = 1, inplace = True)"
   ]
  },
  {
   "cell_type": "markdown",
   "id": "93d20644",
   "metadata": {},
   "source": [
    "Train i test"
   ]
  },
  {
   "cell_type": "code",
   "execution_count": 187,
   "id": "34c30a6c",
   "metadata": {
    "ExecuteTime": {
     "end_time": "2021-06-08T16:22:45.558289Z",
     "start_time": "2021-06-08T16:22:45.548315Z"
    }
   },
   "outputs": [],
   "source": [
    "forecast_col ='Delayed'"
   ]
  },
  {
   "cell_type": "code",
   "execution_count": 188,
   "id": "7af2d7c5",
   "metadata": {
    "ExecuteTime": {
     "end_time": "2021-06-08T16:22:46.114806Z",
     "start_time": "2021-06-08T16:22:45.562278Z"
    }
   },
   "outputs": [],
   "source": [
    "df_sample= df_1.groupby('Delayed', group_keys=False).apply(lambda x: x.sample(10000, random_state = 0))\n",
    "X = np.array(df_sample.drop([forecast_col], 1))\n",
    "y = np.array(df_sample[forecast_col])\n",
    "X = StandardScaler().fit_transform(X)\n",
    "X_train, X_test, y_train, y_test = train_test_split(X, y, test_size = 0.2, stratify = y)"
   ]
  },
  {
   "cell_type": "code",
   "execution_count": 189,
   "id": "400a90cd",
   "metadata": {
    "ExecuteTime": {
     "end_time": "2021-06-08T16:22:46.145720Z",
     "start_time": "2021-06-08T16:22:46.121782Z"
    }
   },
   "outputs": [
    {
     "data": {
      "text/plain": [
       "0    10000\n",
       "1    10000\n",
       "Name: Delayed, dtype: int64"
      ]
     },
     "execution_count": 189,
     "metadata": {},
     "output_type": "execute_result"
    }
   ],
   "source": [
    "df_sample['Delayed'].value_counts()"
   ]
  },
  {
   "cell_type": "markdown",
   "id": "96f625f0",
   "metadata": {},
   "source": [
    "#### K-Fold i cross_val_score amb categòriques"
   ]
  },
  {
   "cell_type": "code",
   "execution_count": 190,
   "id": "1375fca8",
   "metadata": {
    "ExecuteTime": {
     "end_time": "2021-06-08T16:22:46.161676Z",
     "start_time": "2021-06-08T16:22:46.149706Z"
    }
   },
   "outputs": [],
   "source": [
    "\n",
    "\n",
    "models = [('RForest', RandomForestClassifier()), \n",
    "          ('DecTree', DecisionTreeClassifier()),\n",
    "          ('XGBoost', xgb.XGBClassifier()),\n",
    "          ('KNN', KNeighborsClassifier()),\n",
    "          ('LogisticReg', LogisticRegression())]\n",
    "scoring = 'accuracy'\n"
   ]
  },
  {
   "cell_type": "code",
   "execution_count": 191,
   "id": "eb87887c",
   "metadata": {
    "ExecuteTime": {
     "end_time": "2021-06-08T16:23:46.578346Z",
     "start_time": "2021-06-08T16:22:46.164667Z"
    }
   },
   "outputs": [
    {
     "name": "stdout",
     "output_type": "stream",
     "text": [
      "RForest: 0.569500 (0.010360)\n",
      "DecTree: 0.530875 (0.012117)\n",
      "XGBoost: 0.568625 (0.008052)\n",
      "KNN: 0.524375 (0.014737)\n",
      "LogisticReg: 0.545500 (0.008248)\n"
     ]
    }
   ],
   "source": [
    "results = []\n",
    "names = []\n",
    "\n",
    "for name, model in models:\n",
    "    kfold = model_selection.KFold(n_splits=10, random_state=2, shuffle = True)\n",
    "    cv_results = model_selection.cross_val_score(model, X_train, y_train, cv=kfold, scoring=scoring)\n",
    "    results.append(cv_results)\n",
    "    names.append(name)\n",
    "    msg = \"%s: %f (%f)\" % (name, cv_results.mean(), cv_results.std())\n",
    "    print(msg)\n",
    "\n",
    "    "
   ]
  },
  {
   "cell_type": "code",
   "execution_count": 192,
   "id": "ad8c8c84",
   "metadata": {
    "ExecuteTime": {
     "end_time": "2021-06-08T16:23:46.878543Z",
     "start_time": "2021-06-08T16:23:46.586324Z"
    }
   },
   "outputs": [
    {
     "data": {
      "image/png": "[encoded data removed]",
      "text/plain": [
       "<Figure size 432x288 with 1 Axes>"
      ]
     },
     "metadata": {
      "needs_background": "light"
     },
     "output_type": "display_data"
    }
   ],
   "source": [
    "fig = plt.figure()\n",
    "fig.suptitle('Algorithm Comparison')\n",
    "ax = fig.add_subplot(111)\n",
    "plt.boxplot(results)\n",
    "ax.set_xticklabels(names)\n",
    "plt.show()"
   ]
  },
  {
   "cell_type": "markdown",
   "id": "d45bd869",
   "metadata": {},
   "source": [
    "#### Train/Test i feature_importances_ amb categòriques"
   ]
  },
  {
   "cell_type": "markdown",
   "id": "ae3c4782",
   "metadata": {},
   "source": [
    "Random Forest"
   ]
  },
  {
   "cell_type": "code",
   "execution_count": 193,
   "id": "5809cd8b",
   "metadata": {
    "ExecuteTime": {
     "end_time": "2021-06-08T16:23:46.894500Z",
     "start_time": "2021-06-08T16:23:46.882558Z"
    }
   },
   "outputs": [],
   "source": [
    "rf = RandomForestClassifier()"
   ]
  },
  {
   "cell_type": "code",
   "execution_count": 194,
   "id": "de6c9066",
   "metadata": {
    "ExecuteTime": {
     "end_time": "2021-06-08T16:23:50.586733Z",
     "start_time": "2021-06-08T16:23:46.897492Z"
    }
   },
   "outputs": [
    {
     "data": {
      "text/plain": [
       "RandomForestClassifier()"
      ]
     },
     "execution_count": 194,
     "metadata": {},
     "output_type": "execute_result"
    }
   ],
   "source": [
    "rf.fit(X_train, y_train)"
   ]
  },
  {
   "cell_type": "code",
   "execution_count": 195,
   "id": "8a5b727e",
   "metadata": {
    "ExecuteTime": {
     "end_time": "2021-06-08T16:23:50.742314Z",
     "start_time": "2021-06-08T16:23:50.588726Z"
    }
   },
   "outputs": [],
   "source": [
    "rf_pred = rf.predict(X_test)"
   ]
  },
  {
   "cell_type": "code",
   "execution_count": 196,
   "id": "d0a2e8a7",
   "metadata": {
    "ExecuteTime": {
     "end_time": "2021-06-08T16:23:50.948774Z",
     "start_time": "2021-06-08T16:23:50.746305Z"
    }
   },
   "outputs": [
    {
     "name": "stdout",
     "output_type": "stream",
     "text": [
      "0.56625\n"
     ]
    }
   ],
   "source": [
    "score_rf = rf.score(X_test, y_test)\n",
    "print(score_rf)"
   ]
  },
  {
   "cell_type": "code",
   "execution_count": 197,
   "id": "63ffdc60",
   "metadata": {
    "ExecuteTime": {
     "end_time": "2021-06-08T16:23:50.980677Z",
     "start_time": "2021-06-08T16:23:50.954750Z"
    }
   },
   "outputs": [
    {
     "name": "stdout",
     "output_type": "stream",
     "text": [
      "              precision    recall  f1-score   support\n",
      "\n",
      "           0       0.56      0.59      0.57      2000\n",
      "           1       0.57      0.55      0.56      2000\n",
      "\n",
      "    accuracy                           0.57      4000\n",
      "   macro avg       0.57      0.57      0.57      4000\n",
      "weighted avg       0.57      0.57      0.57      4000\n",
      "\n"
     ]
    }
   ],
   "source": [
    "print(classification_report(y_test, rf_pred ))"
   ]
  },
  {
   "cell_type": "code",
   "execution_count": 198,
   "id": "4662fa7e",
   "metadata": {
    "ExecuteTime": {
     "end_time": "2021-06-08T16:23:50.996634Z",
     "start_time": "2021-06-08T16:23:50.982672Z"
    }
   },
   "outputs": [],
   "source": [
    "i_col = (df_sample.drop([forecast_col], 1))"
   ]
  },
  {
   "cell_type": "code",
   "execution_count": 199,
   "id": "683d9764",
   "metadata": {
    "ExecuteTime": {
     "end_time": "2021-06-08T16:23:51.346700Z",
     "start_time": "2021-06-08T16:23:50.998630Z"
    }
   },
   "outputs": [
    {
     "data": {
      "image/png": "[encoded data removed]",
      "text/plain": [
       "<Figure size 720x504 with 1 Axes>"
      ]
     },
     "metadata": {
      "needs_background": "light"
     },
     "output_type": "display_data"
    }
   ],
   "source": [
    "plt.figure(figsize=(10,7))\n",
    "feat_importances = pd.Series(rf.feature_importances_, index = i_col.columns)\n",
    "feat_importances.nlargest(15).plot(kind='barh');"
   ]
  },
  {
   "cell_type": "markdown",
   "id": "e6c55e09",
   "metadata": {},
   "source": [
    "Classification Tree "
   ]
  },
  {
   "cell_type": "code",
   "execution_count": 200,
   "id": "292d40ff",
   "metadata": {
    "ExecuteTime": {
     "end_time": "2021-06-08T16:23:51.362656Z",
     "start_time": "2021-06-08T16:23:51.350692Z"
    }
   },
   "outputs": [],
   "source": [
    "ct = DecisionTreeClassifier()"
   ]
  },
  {
   "cell_type": "code",
   "execution_count": 201,
   "id": "6722a17f",
   "metadata": {
    "ExecuteTime": {
     "end_time": "2021-06-08T16:23:51.570103Z",
     "start_time": "2021-06-08T16:23:51.365650Z"
    }
   },
   "outputs": [],
   "source": [
    "ct = ct.fit(X_train,y_train)"
   ]
  },
  {
   "cell_type": "code",
   "execution_count": 202,
   "id": "a5265d4f",
   "metadata": {
    "ExecuteTime": {
     "end_time": "2021-06-08T16:23:51.586058Z",
     "start_time": "2021-06-08T16:23:51.573094Z"
    }
   },
   "outputs": [],
   "source": [
    "ct_pred = ct.predict(X_test)"
   ]
  },
  {
   "cell_type": "code",
   "execution_count": 203,
   "id": "608ada20",
   "metadata": {
    "ExecuteTime": {
     "end_time": "2021-06-08T16:23:51.633934Z",
     "start_time": "2021-06-08T16:23:51.615980Z"
    }
   },
   "outputs": [
    {
     "name": "stdout",
     "output_type": "stream",
     "text": [
      "0.5315\n"
     ]
    }
   ],
   "source": [
    "score_ct = ct.score(X_test, y_test)\n",
    "print(score_ct)"
   ]
  },
  {
   "cell_type": "code",
   "execution_count": 204,
   "id": "53e297fa",
   "metadata": {
    "ExecuteTime": {
     "end_time": "2021-06-08T16:23:51.665846Z",
     "start_time": "2021-06-08T16:23:51.639916Z"
    }
   },
   "outputs": [
    {
     "name": "stdout",
     "output_type": "stream",
     "text": [
      "              precision    recall  f1-score   support\n",
      "\n",
      "           0       0.53      0.53      0.53      2000\n",
      "           1       0.53      0.53      0.53      2000\n",
      "\n",
      "    accuracy                           0.53      4000\n",
      "   macro avg       0.53      0.53      0.53      4000\n",
      "weighted avg       0.53      0.53      0.53      4000\n",
      "\n"
     ]
    }
   ],
   "source": [
    "print(classification_report(y_test, ct_pred ))"
   ]
  },
  {
   "cell_type": "code",
   "execution_count": 205,
   "id": "234cc39b",
   "metadata": {
    "ExecuteTime": {
     "end_time": "2021-06-08T16:23:51.681803Z",
     "start_time": "2021-06-08T16:23:51.670837Z"
    }
   },
   "outputs": [],
   "source": [
    "i_col = (df_sample.drop([forecast_col], 1))"
   ]
  },
  {
   "cell_type": "code",
   "execution_count": 206,
   "id": "5e4c949d",
   "metadata": {
    "ExecuteTime": {
     "end_time": "2021-06-08T16:23:51.998249Z",
     "start_time": "2021-06-08T16:23:51.686789Z"
    }
   },
   "outputs": [
    {
     "data": {
      "image/png": "[encoded data removed]",
      "text/plain": [
       "<Figure size 720x504 with 1 Axes>"
      ]
     },
     "metadata": {
      "needs_background": "light"
     },
     "output_type": "display_data"
    }
   ],
   "source": [
    "plt.figure(figsize=(10,7))\n",
    "feat_importances = pd.Series(ct.feature_importances_, index = i_col.columns)\n",
    "feat_importances.nlargest(15).plot(kind='barh');"
   ]
  },
  {
   "cell_type": "markdown",
   "id": "8cd41d39",
   "metadata": {},
   "source": [
    "#### Estratègies per Imabalance"
   ]
  },
  {
   "cell_type": "code",
   "execution_count": 273,
   "id": "a81d8f70",
   "metadata": {
    "ExecuteTime": {
     "end_time": "2021-06-08T16:34:58.489928Z",
     "start_time": "2021-06-08T16:34:51.225317Z"
    },
    "scrolled": true
   },
   "outputs": [],
   "source": [
    "df = pd.read_csv('DelayedFlights.csv')"
   ]
  },
  {
   "cell_type": "code",
   "execution_count": 274,
   "id": "7735a03a",
   "metadata": {
    "ExecuteTime": {
     "end_time": "2021-06-08T16:34:58.505885Z",
     "start_time": "2021-06-08T16:34:58.493917Z"
    }
   },
   "outputs": [],
   "source": [
    "df_1 = df"
   ]
  },
  {
   "cell_type": "code",
   "execution_count": 275,
   "id": "97dae2d8",
   "metadata": {
    "ExecuteTime": {
     "end_time": "2021-06-08T16:34:58.744246Z",
     "start_time": "2021-06-08T16:34:58.511870Z"
    }
   },
   "outputs": [],
   "source": [
    "df_1.drop(['Unnamed: 0','UniqueCarrier','CancellationCode', 'Origin', 'Dest', 'TailNum', 'Year',\n",
    "           'DepDelay', 'ArrTime', 'DepTime', \n",
    "           'CarrierDelay', 'WeatherDelay','NASDelay', 'SecurityDelay', 'LateAircraftDelay', \n",
    "            'AirTime', 'TaxiIn','TaxiOut', 'ActualElapsedTime',], axis=1, inplace=True)\n"
   ]
  },
  {
   "cell_type": "code",
   "execution_count": 276,
   "id": "546b670c",
   "metadata": {
    "ExecuteTime": {
     "end_time": "2021-06-08T16:34:59.141186Z",
     "start_time": "2021-06-08T16:34:58.747240Z"
    }
   },
   "outputs": [],
   "source": [
    "for i in df_1.columns:\n",
    "    df_1[i].fillna(df_1[i].median(), inplace = True)"
   ]
  },
  {
   "cell_type": "markdown",
   "id": "ef1e075e",
   "metadata": {},
   "source": [
    "Canviem la predicció dels vols que arribaran tard fent servir la variable 'Delayed'  com a (ArrDelay > 0) en comptes de (ArrDelay > 15) per tenir un target més desbalancejat."
   ]
  },
  {
   "cell_type": "code",
   "execution_count": 277,
   "id": "d221539c",
   "metadata": {
    "ExecuteTime": {
     "end_time": "2021-06-08T16:34:59.315719Z",
     "start_time": "2021-06-08T16:34:59.147175Z"
    }
   },
   "outputs": [],
   "source": [
    "df_1['Delayed'] = df_1['ArrDelay']>0\n",
    "bool_cols = df_1.columns[df.dtypes == 'bool']\n",
    "df_1[bool_cols] = df_1[bool_cols].replace({True: 'Yes', False: 'No'})"
   ]
  },
  {
   "cell_type": "code",
   "execution_count": 278,
   "id": "5f4b4028",
   "metadata": {
    "ExecuteTime": {
     "end_time": "2021-06-08T16:34:59.553083Z",
     "start_time": "2021-06-08T16:34:59.318713Z"
    }
   },
   "outputs": [
    {
     "data": {
      "text/plain": [
       "Yes    0.894176\n",
       "No     0.105824\n",
       "Name: Delayed, dtype: float64"
      ]
     },
     "execution_count": 278,
     "metadata": {},
     "output_type": "execute_result"
    }
   ],
   "source": [
    "df_1['Delayed'].value_counts(normalize=True)"
   ]
  },
  {
   "cell_type": "markdown",
   "id": "d2248b58",
   "metadata": {},
   "source": [
    "Veiem que hi ha un important desequilibri entre les classes (90% d'endarrerits i 10% de no endarrerits). Provarem de dur a terme alguna tècnica per lidiar amb imbalanced data:"
   ]
  },
  {
   "cell_type": "code",
   "execution_count": 279,
   "id": "e600b6e8",
   "metadata": {
    "ExecuteTime": {
     "end_time": "2021-06-08T16:35:00.140513Z",
     "start_time": "2021-06-08T16:34:59.556077Z"
    }
   },
   "outputs": [],
   "source": [
    "encoder = LabelEncoder()\n",
    "\n",
    "df_1['Delayed'] = encoder.fit_transform(df['Delayed'])"
   ]
  },
  {
   "cell_type": "code",
   "execution_count": 280,
   "id": "42828c80",
   "metadata": {
    "ExecuteTime": {
     "end_time": "2021-06-08T16:35:00.188383Z",
     "start_time": "2021-06-08T16:35:00.142507Z"
    }
   },
   "outputs": [
    {
     "data": {
      "text/plain": [
       "1    0.894176\n",
       "0    0.105824\n",
       "Name: Delayed, dtype: float64"
      ]
     },
     "execution_count": 280,
     "metadata": {},
     "output_type": "execute_result"
    }
   ],
   "source": [
    "df_1['Delayed'].value_counts(normalize = True)"
   ]
  },
  {
   "cell_type": "code",
   "execution_count": 281,
   "id": "cc0c3ae6",
   "metadata": {
    "ExecuteTime": {
     "end_time": "2021-06-08T16:35:00.680885Z",
     "start_time": "2021-06-08T16:35:00.560208Z"
    }
   },
   "outputs": [],
   "source": [
    "df_1.drop(['ArrDelay'], axis=1, inplace=True)"
   ]
  },
  {
   "cell_type": "code",
   "execution_count": 282,
   "id": "329c9c82",
   "metadata": {
    "ExecuteTime": {
     "end_time": "2021-06-08T16:35:01.887935Z",
     "start_time": "2021-06-08T16:35:01.855025Z"
    }
   },
   "outputs": [
    {
     "data": {
      "text/html": [
       "<div>\n",
       "<style scoped>\n",
       "    .dataframe tbody tr th:only-of-type {\n",
       "        vertical-align: middle;\n",
       "    }\n",
       "\n",
       "    .dataframe tbody tr th {\n",
       "        vertical-align: top;\n",
       "    }\n",
       "\n",
       "    .dataframe thead th {\n",
       "        text-align: right;\n",
       "    }\n",
       "</style>\n",
       "<table border=\"1\" class=\"dataframe\">\n",
       "  <thead>\n",
       "    <tr style=\"text-align: right;\">\n",
       "      <th></th>\n",
       "      <th>Month</th>\n",
       "      <th>DayofMonth</th>\n",
       "      <th>DayOfWeek</th>\n",
       "      <th>CRSDepTime</th>\n",
       "      <th>CRSArrTime</th>\n",
       "      <th>FlightNum</th>\n",
       "      <th>CRSElapsedTime</th>\n",
       "      <th>Distance</th>\n",
       "      <th>Cancelled</th>\n",
       "      <th>Diverted</th>\n",
       "      <th>Delayed</th>\n",
       "    </tr>\n",
       "  </thead>\n",
       "  <tbody>\n",
       "    <tr>\n",
       "      <th>0</th>\n",
       "      <td>1</td>\n",
       "      <td>3</td>\n",
       "      <td>4</td>\n",
       "      <td>1955</td>\n",
       "      <td>2225</td>\n",
       "      <td>335</td>\n",
       "      <td>150.0</td>\n",
       "      <td>810</td>\n",
       "      <td>0</td>\n",
       "      <td>0</td>\n",
       "      <td>0</td>\n",
       "    </tr>\n",
       "    <tr>\n",
       "      <th>1</th>\n",
       "      <td>1</td>\n",
       "      <td>3</td>\n",
       "      <td>4</td>\n",
       "      <td>735</td>\n",
       "      <td>1000</td>\n",
       "      <td>3231</td>\n",
       "      <td>145.0</td>\n",
       "      <td>810</td>\n",
       "      <td>0</td>\n",
       "      <td>0</td>\n",
       "      <td>1</td>\n",
       "    </tr>\n",
       "    <tr>\n",
       "      <th>2</th>\n",
       "      <td>1</td>\n",
       "      <td>3</td>\n",
       "      <td>4</td>\n",
       "      <td>620</td>\n",
       "      <td>750</td>\n",
       "      <td>448</td>\n",
       "      <td>90.0</td>\n",
       "      <td>515</td>\n",
       "      <td>0</td>\n",
       "      <td>0</td>\n",
       "      <td>1</td>\n",
       "    </tr>\n",
       "    <tr>\n",
       "      <th>3</th>\n",
       "      <td>1</td>\n",
       "      <td>3</td>\n",
       "      <td>4</td>\n",
       "      <td>1755</td>\n",
       "      <td>1925</td>\n",
       "      <td>3920</td>\n",
       "      <td>90.0</td>\n",
       "      <td>515</td>\n",
       "      <td>0</td>\n",
       "      <td>0</td>\n",
       "      <td>1</td>\n",
       "    </tr>\n",
       "    <tr>\n",
       "      <th>4</th>\n",
       "      <td>1</td>\n",
       "      <td>3</td>\n",
       "      <td>4</td>\n",
       "      <td>1915</td>\n",
       "      <td>2110</td>\n",
       "      <td>378</td>\n",
       "      <td>115.0</td>\n",
       "      <td>688</td>\n",
       "      <td>0</td>\n",
       "      <td>0</td>\n",
       "      <td>1</td>\n",
       "    </tr>\n",
       "  </tbody>\n",
       "</table>\n",
       "</div>"
      ],
      "text/plain": [
       "   Month  DayofMonth  DayOfWeek  CRSDepTime  CRSArrTime  FlightNum  CRSElapsedTime  Distance  Cancelled  Diverted  Delayed\n",
       "0      1           3          4        1955        2225        335           150.0       810          0         0        0\n",
       "1      1           3          4         735        1000       3231           145.0       810          0         0        1\n",
       "2      1           3          4         620         750        448            90.0       515          0         0        1\n",
       "3      1           3          4        1755        1925       3920            90.0       515          0         0        1\n",
       "4      1           3          4        1915        2110        378           115.0       688          0         0        1"
      ]
     },
     "execution_count": 282,
     "metadata": {},
     "output_type": "execute_result"
    }
   ],
   "source": [
    "df_1.head()"
   ]
  },
  {
   "cell_type": "code",
   "execution_count": 283,
   "id": "3b941e14",
   "metadata": {
    "ExecuteTime": {
     "end_time": "2021-06-08T16:35:03.074650Z",
     "start_time": "2021-06-08T16:35:03.063680Z"
    }
   },
   "outputs": [],
   "source": [
    "forecast_col ='Delayed'"
   ]
  },
  {
   "cell_type": "markdown",
   "id": "a6446f4c",
   "metadata": {},
   "source": [
    "#### Oversample Minority Class:"
   ]
  },
  {
   "cell_type": "code",
   "execution_count": 218,
   "id": "fd735be0",
   "metadata": {
    "ExecuteTime": {
     "end_time": "2021-06-08T16:24:01.471874Z",
     "start_time": "2021-06-08T16:24:01.457910Z"
    }
   },
   "outputs": [],
   "source": [
    "forecast_col ='Delayed'"
   ]
  },
  {
   "cell_type": "code",
   "execution_count": 219,
   "id": "d0c8e334",
   "metadata": {
    "ExecuteTime": {
     "end_time": "2021-06-08T16:24:01.519750Z",
     "start_time": "2021-06-08T16:24:01.473866Z"
    }
   },
   "outputs": [
    {
     "data": {
      "text/plain": [
       "1    0.894176\n",
       "0    0.105824\n",
       "Name: Delayed, dtype: float64"
      ]
     },
     "execution_count": 219,
     "metadata": {},
     "output_type": "execute_result"
    }
   ],
   "source": [
    "df_1['Delayed'].value_counts(normalize = True)"
   ]
  },
  {
   "cell_type": "code",
   "execution_count": 220,
   "id": "4c2b5cad",
   "metadata": {
    "ExecuteTime": {
     "end_time": "2021-06-08T16:24:01.582576Z",
     "start_time": "2021-06-08T16:24:01.526726Z"
    }
   },
   "outputs": [
    {
     "data": {
      "text/plain": [
       "1    1731802\n",
       "0     204956\n",
       "Name: Delayed, dtype: int64"
      ]
     },
     "execution_count": 220,
     "metadata": {},
     "output_type": "execute_result"
    }
   ],
   "source": [
    "df_1['Delayed'].value_counts()"
   ]
  },
  {
   "cell_type": "code",
   "execution_count": 221,
   "id": "1a5ac361",
   "metadata": {
    "ExecuteTime": {
     "end_time": "2021-06-08T16:24:02.466215Z",
     "start_time": "2021-06-08T16:24:01.585570Z"
    }
   },
   "outputs": [
    {
     "data": {
      "text/plain": [
       "0    1731802\n",
       "1    1731802\n",
       "Name: Delayed, dtype: int64"
      ]
     },
     "execution_count": 221,
     "metadata": {},
     "output_type": "execute_result"
    }
   ],
   "source": [
    "# separem la minority i majority class\n",
    "not_delayed = df_1[df_1['Delayed']==0]\n",
    "delayed = df_1[df_1['Delayed']==1]\n",
    "\n",
    "# upsample de la minoritària\n",
    "not_delayed_upsampled = resample(not_delayed,\n",
    "                          replace=True, # sample with replacement\n",
    "                          n_samples=len(delayed), # match number in majority class\n",
    "                          random_state=27) # reproducible results\n",
    "\n",
    "# combinem les dues\n",
    "upsampled = pd.concat([delayed, not_delayed_upsampled])\n",
    "\n",
    "# mirem els nous valors de les classes\n",
    "upsampled.Delayed.value_counts()"
   ]
  },
  {
   "cell_type": "markdown",
   "id": "0d8b5b7a",
   "metadata": {},
   "source": [
    "Veiem la comparació de mida entre el df abans de fer l'oversampling i després:"
   ]
  },
  {
   "cell_type": "code",
   "execution_count": 222,
   "id": "f3214db2",
   "metadata": {
    "ExecuteTime": {
     "end_time": "2021-06-08T16:24:02.489152Z",
     "start_time": "2021-06-08T16:24:02.469206Z"
    },
    "scrolled": true
   },
   "outputs": [
    {
     "data": {
      "text/plain": [
       "(1936758, 11)"
      ]
     },
     "execution_count": 222,
     "metadata": {},
     "output_type": "execute_result"
    }
   ],
   "source": [
    "df_1.shape"
   ]
  },
  {
   "cell_type": "code",
   "execution_count": 223,
   "id": "dfa7bcef",
   "metadata": {
    "ExecuteTime": {
     "end_time": "2021-06-08T16:24:02.505109Z",
     "start_time": "2021-06-08T16:24:02.492143Z"
    }
   },
   "outputs": [
    {
     "data": {
      "text/plain": [
       "(3463604, 11)"
      ]
     },
     "execution_count": 223,
     "metadata": {},
     "output_type": "execute_result"
    }
   ],
   "source": [
    "upsampled.shape"
   ]
  },
  {
   "cell_type": "markdown",
   "id": "0a5b3740",
   "metadata": {},
   "source": [
    "Agafem la mostra del nou set balancejat:"
   ]
  },
  {
   "cell_type": "code",
   "execution_count": 224,
   "id": "39571dd6",
   "metadata": {
    "ExecuteTime": {
     "end_time": "2021-06-08T16:24:03.172326Z",
     "start_time": "2021-06-08T16:24:02.509098Z"
    }
   },
   "outputs": [],
   "source": [
    "df_sample = upsampled.sample(20000, random_state = 0)\n",
    "X = np.array(df_sample.drop([forecast_col], 1))\n",
    "y = np.array(df_sample[forecast_col])\n",
    "X = StandardScaler().fit_transform(X)\n",
    "X_train, X_test, y_train, y_test = train_test_split(X, y, test_size = 0.2, stratify = y)"
   ]
  },
  {
   "cell_type": "code",
   "execution_count": 225,
   "id": "b75a7559",
   "metadata": {
    "ExecuteTime": {
     "end_time": "2021-06-08T16:24:03.204240Z",
     "start_time": "2021-06-08T16:24:03.176314Z"
    }
   },
   "outputs": [
    {
     "data": {
      "text/plain": [
       "0    10036\n",
       "1     9964\n",
       "Name: Delayed, dtype: int64"
      ]
     },
     "execution_count": 225,
     "metadata": {},
     "output_type": "execute_result"
    }
   ],
   "source": [
    "df_sample['Delayed'].value_counts()"
   ]
  },
  {
   "cell_type": "code",
   "execution_count": 226,
   "id": "6a25b1a5",
   "metadata": {
    "ExecuteTime": {
     "end_time": "2021-06-08T16:24:03.220198Z",
     "start_time": "2021-06-08T16:24:03.207233Z"
    }
   },
   "outputs": [
    {
     "name": "stdout",
     "output_type": "stream",
     "text": [
      "Null accuracy is equal to: 0.5017499999999999\n"
     ]
    }
   ],
   "source": [
    "print('Null accuracy is equal to:',max(y_test.mean(), 1 - y_test.mean()))"
   ]
  },
  {
   "cell_type": "markdown",
   "id": "20f53f5e",
   "metadata": {},
   "source": [
    "#### K-Fold i Cross_val_score amb upsampling"
   ]
  },
  {
   "cell_type": "code",
   "execution_count": 227,
   "id": "80dbfb30",
   "metadata": {
    "ExecuteTime": {
     "end_time": "2021-06-08T16:24:03.236152Z",
     "start_time": "2021-06-08T16:24:03.223189Z"
    }
   },
   "outputs": [],
   "source": [
    "\n",
    "models = [('RForest', RandomForestClassifier()), \n",
    "          ('DecTree', DecisionTreeClassifier()),\n",
    "          ('XGBoost', xgb.XGBClassifier()),\n",
    "          ('KNN', KNeighborsClassifier()),\n",
    "          ('LogisticReg', LogisticRegression())]\n",
    "scoring = 'accuracy'"
   ]
  },
  {
   "cell_type": "code",
   "execution_count": 228,
   "id": "04f6a69f",
   "metadata": {
    "ExecuteTime": {
     "end_time": "2021-06-08T16:24:55.411961Z",
     "start_time": "2021-06-08T16:24:03.238149Z"
    }
   },
   "outputs": [
    {
     "name": "stdout",
     "output_type": "stream",
     "text": [
      "RForest: 0.612375 (0.009980)\n",
      "DecTree: 0.551250 (0.009618)\n",
      "XGBoost: 0.607125 (0.009715)\n",
      "KNN: 0.572875 (0.004802)\n",
      "LogisticReg: 0.599187 (0.014502)\n"
     ]
    }
   ],
   "source": [
    "results = []\n",
    "names = []\n",
    "\n",
    "for name, model in models:\n",
    "    kfold = model_selection.KFold(n_splits=10, random_state=2, shuffle = True)\n",
    "    cv_results = model_selection.cross_val_score(model, X_train, y_train, cv=kfold, scoring=scoring)\n",
    "    results.append(cv_results)\n",
    "    names.append(name)\n",
    "    msg = \"%s: %f (%f)\" % (name, cv_results.mean(), cv_results.std())\n",
    "    print(msg)\n",
    "\n",
    "    "
   ]
  },
  {
   "cell_type": "code",
   "execution_count": 229,
   "id": "6a31fbd5",
   "metadata": {
    "ExecuteTime": {
     "end_time": "2021-06-08T16:24:55.675266Z",
     "start_time": "2021-06-08T16:24:55.414956Z"
    }
   },
   "outputs": [
    {
     "data": {
      "image/png": "[encoded data removed]",
      "text/plain": [
       "<Figure size 432x288 with 1 Axes>"
      ]
     },
     "metadata": {
      "needs_background": "light"
     },
     "output_type": "display_data"
    }
   ],
   "source": [
    "fig = plt.figure()\n",
    "fig.suptitle('Algorithm Comparison')\n",
    "ax = fig.add_subplot(111)\n",
    "plt.boxplot(results)\n",
    "ax.set_xticklabels(names)\n",
    "plt.show()"
   ]
  },
  {
   "cell_type": "markdown",
   "id": "86c72e72",
   "metadata": {},
   "source": [
    "#### Undersample Majority Class:"
   ]
  },
  {
   "cell_type": "code",
   "execution_count": 230,
   "id": "ae6fcea7",
   "metadata": {
    "ExecuteTime": {
     "end_time": "2021-06-08T16:24:55.731109Z",
     "start_time": "2021-06-08T16:24:55.681243Z"
    }
   },
   "outputs": [
    {
     "data": {
      "text/plain": [
       "1    1731802\n",
       "0     204956\n",
       "Name: Delayed, dtype: int64"
      ]
     },
     "execution_count": 230,
     "metadata": {},
     "output_type": "execute_result"
    }
   ],
   "source": [
    "df_1['Delayed'].value_counts()"
   ]
  },
  {
   "cell_type": "code",
   "execution_count": 231,
   "id": "84eb7a92",
   "metadata": {
    "ExecuteTime": {
     "end_time": "2021-06-08T16:24:56.097128Z",
     "start_time": "2021-06-08T16:24:55.734101Z"
    }
   },
   "outputs": [
    {
     "data": {
      "text/plain": [
       "0    204956\n",
       "1    204956\n",
       "Name: Delayed, dtype: int64"
      ]
     },
     "execution_count": 231,
     "metadata": {},
     "output_type": "execute_result"
    }
   ],
   "source": [
    "# separem la classe minoritària i la majoritària\n",
    "not_delayed = df_1[df_1['Delayed']==0]\n",
    "delayed = df_1[df_1['Delayed']==1]\n",
    "\n",
    "# downsample de la majoritària\n",
    "delayed_downsampled = resample(delayed,\n",
    "                          replace=True, # sample with replacement\n",
    "                          n_samples=len(not_delayed), # match number in majority class\n",
    "                          random_state=27) # reproducible results\n",
    "\n",
    "# combinem les dues\n",
    "downsampled = pd.concat([delayed_downsampled, not_delayed])\n",
    "\n",
    "# mirem els nous valors de les classes\n",
    "downsampled.Delayed.value_counts()"
   ]
  },
  {
   "cell_type": "markdown",
   "id": "79cef44e",
   "metadata": {},
   "source": [
    "Comparem les mides del df amb undersample majority class:"
   ]
  },
  {
   "cell_type": "code",
   "execution_count": 232,
   "id": "72006915",
   "metadata": {
    "ExecuteTime": {
     "end_time": "2021-06-08T16:24:56.112091Z",
     "start_time": "2021-06-08T16:24:56.100123Z"
    },
    "scrolled": true
   },
   "outputs": [
    {
     "data": {
      "text/plain": [
       "(1936758, 11)"
      ]
     },
     "execution_count": 232,
     "metadata": {},
     "output_type": "execute_result"
    }
   ],
   "source": [
    "df_1.shape"
   ]
  },
  {
   "cell_type": "code",
   "execution_count": 233,
   "id": "acedb43c",
   "metadata": {
    "ExecuteTime": {
     "end_time": "2021-06-08T16:24:56.128046Z",
     "start_time": "2021-06-08T16:24:56.115081Z"
    }
   },
   "outputs": [
    {
     "data": {
      "text/plain": [
       "(409912, 11)"
      ]
     },
     "execution_count": 233,
     "metadata": {},
     "output_type": "execute_result"
    }
   ],
   "source": [
    "downsampled.shape"
   ]
  },
  {
   "cell_type": "markdown",
   "id": "fbfa2597",
   "metadata": {},
   "source": [
    "Agafem la mostra del nou set balancejat:"
   ]
  },
  {
   "cell_type": "code",
   "execution_count": 234,
   "id": "18482252",
   "metadata": {
    "ExecuteTime": {
     "end_time": "2021-06-08T16:24:56.223789Z",
     "start_time": "2021-06-08T16:24:56.132036Z"
    }
   },
   "outputs": [],
   "source": [
    "df_sample = downsampled.sample(20000, random_state = 0)\n",
    "X = np.array(df_sample.drop([forecast_col], 1))\n",
    "y = np.array(df_sample[forecast_col])\n",
    "X = StandardScaler().fit_transform(X)\n",
    "X_train, X_test, y_train, y_test = train_test_split(X, y, test_size = 0.2, stratify = y)"
   ]
  },
  {
   "cell_type": "code",
   "execution_count": 235,
   "id": "f53991f9",
   "metadata": {
    "ExecuteTime": {
     "end_time": "2021-06-08T16:24:56.239746Z",
     "start_time": "2021-06-08T16:24:56.225785Z"
    }
   },
   "outputs": [
    {
     "name": "stdout",
     "output_type": "stream",
     "text": [
      "Null accuracy is equal to: 0.507\n"
     ]
    }
   ],
   "source": [
    "print('Null accuracy is equal to:',max(y_test.mean(), 1 - y_test.mean()))"
   ]
  },
  {
   "cell_type": "markdown",
   "id": "42481a32",
   "metadata": {},
   "source": [
    "#### K-Fold i Cross_val_score amb downsampling"
   ]
  },
  {
   "cell_type": "code",
   "execution_count": 236,
   "id": "b6c6a8d3",
   "metadata": {
    "ExecuteTime": {
     "end_time": "2021-06-08T16:24:56.255703Z",
     "start_time": "2021-06-08T16:24:56.242741Z"
    }
   },
   "outputs": [],
   "source": [
    "\n",
    "models = [('RForest', RandomForestClassifier()), \n",
    "          ('DecTree', DecisionTreeClassifier()),\n",
    "          ('XGBoost', xgb.XGBClassifier()),\n",
    "          ('KNN', KNeighborsClassifier()),\n",
    "          ('LogisticReg', LogisticRegression())]\n",
    "scoring = 'accuracy'"
   ]
  },
  {
   "cell_type": "code",
   "execution_count": 237,
   "id": "911acea0",
   "metadata": {
    "ExecuteTime": {
     "end_time": "2021-06-08T16:25:52.631662Z",
     "start_time": "2021-06-08T16:24:56.258698Z"
    }
   },
   "outputs": [
    {
     "name": "stdout",
     "output_type": "stream",
     "text": [
      "RForest: 0.607750 (0.011549)\n",
      "DecTree: 0.548625 (0.013540)\n",
      "XGBoost: 0.608063 (0.011880)\n",
      "KNN: 0.562250 (0.010775)\n",
      "LogisticReg: 0.600812 (0.012279)\n"
     ]
    }
   ],
   "source": [
    "results = []\n",
    "names = []\n",
    "\n",
    "for name, model in models:\n",
    "    kfold = model_selection.KFold(n_splits=10, random_state=2, shuffle = True)\n",
    "    cv_results = model_selection.cross_val_score(model, X_train, y_train, cv=kfold, scoring=scoring)\n",
    "    results.append(cv_results)\n",
    "    names.append(name)\n",
    "    msg = \"%s: %f (%f)\" % (name, cv_results.mean(), cv_results.std())\n",
    "    print(msg)\n",
    "\n",
    "    "
   ]
  },
  {
   "cell_type": "code",
   "execution_count": 238,
   "id": "440fc04c",
   "metadata": {
    "ExecuteTime": {
     "end_time": "2021-06-08T16:25:52.885980Z",
     "start_time": "2021-06-08T16:25:52.634653Z"
    }
   },
   "outputs": [
    {
     "data": {
      "image/png": "[encoded data removed]",
      "text/plain": [
       "<Figure size 432x288 with 1 Axes>"
      ]
     },
     "metadata": {
      "needs_background": "light"
     },
     "output_type": "display_data"
    }
   ],
   "source": [
    "fig = plt.figure()\n",
    "fig.suptitle('Algorithm Comparison')\n",
    "ax = fig.add_subplot(111)\n",
    "plt.boxplot(results)\n",
    "ax.set_xticklabels(names)\n",
    "plt.show()"
   ]
  },
  {
   "cell_type": "markdown",
   "id": "c7a1ea51",
   "metadata": {},
   "source": [
    "#### Synthetic Minority Oversampling Technique (SMOTE):"
   ]
  },
  {
   "cell_type": "code",
   "execution_count": 239,
   "id": "1a33d2e4",
   "metadata": {
    "ExecuteTime": {
     "end_time": "2021-06-08T16:25:52.917895Z",
     "start_time": "2021-06-08T16:25:52.887975Z"
    }
   },
   "outputs": [
    {
     "data": {
      "text/html": [
       "<div>\n",
       "<style scoped>\n",
       "    .dataframe tbody tr th:only-of-type {\n",
       "        vertical-align: middle;\n",
       "    }\n",
       "\n",
       "    .dataframe tbody tr th {\n",
       "        vertical-align: top;\n",
       "    }\n",
       "\n",
       "    .dataframe thead th {\n",
       "        text-align: right;\n",
       "    }\n",
       "</style>\n",
       "<table border=\"1\" class=\"dataframe\">\n",
       "  <thead>\n",
       "    <tr style=\"text-align: right;\">\n",
       "      <th></th>\n",
       "      <th>Month</th>\n",
       "      <th>DayofMonth</th>\n",
       "      <th>DayOfWeek</th>\n",
       "      <th>CRSDepTime</th>\n",
       "      <th>CRSArrTime</th>\n",
       "      <th>FlightNum</th>\n",
       "      <th>CRSElapsedTime</th>\n",
       "      <th>Distance</th>\n",
       "      <th>Cancelled</th>\n",
       "      <th>Diverted</th>\n",
       "      <th>Delayed</th>\n",
       "    </tr>\n",
       "  </thead>\n",
       "  <tbody>\n",
       "    <tr>\n",
       "      <th>0</th>\n",
       "      <td>1</td>\n",
       "      <td>3</td>\n",
       "      <td>4</td>\n",
       "      <td>1955</td>\n",
       "      <td>2225</td>\n",
       "      <td>335</td>\n",
       "      <td>150.0</td>\n",
       "      <td>810</td>\n",
       "      <td>0</td>\n",
       "      <td>0</td>\n",
       "      <td>0</td>\n",
       "    </tr>\n",
       "    <tr>\n",
       "      <th>1</th>\n",
       "      <td>1</td>\n",
       "      <td>3</td>\n",
       "      <td>4</td>\n",
       "      <td>735</td>\n",
       "      <td>1000</td>\n",
       "      <td>3231</td>\n",
       "      <td>145.0</td>\n",
       "      <td>810</td>\n",
       "      <td>0</td>\n",
       "      <td>0</td>\n",
       "      <td>1</td>\n",
       "    </tr>\n",
       "    <tr>\n",
       "      <th>2</th>\n",
       "      <td>1</td>\n",
       "      <td>3</td>\n",
       "      <td>4</td>\n",
       "      <td>620</td>\n",
       "      <td>750</td>\n",
       "      <td>448</td>\n",
       "      <td>90.0</td>\n",
       "      <td>515</td>\n",
       "      <td>0</td>\n",
       "      <td>0</td>\n",
       "      <td>1</td>\n",
       "    </tr>\n",
       "    <tr>\n",
       "      <th>3</th>\n",
       "      <td>1</td>\n",
       "      <td>3</td>\n",
       "      <td>4</td>\n",
       "      <td>1755</td>\n",
       "      <td>1925</td>\n",
       "      <td>3920</td>\n",
       "      <td>90.0</td>\n",
       "      <td>515</td>\n",
       "      <td>0</td>\n",
       "      <td>0</td>\n",
       "      <td>1</td>\n",
       "    </tr>\n",
       "    <tr>\n",
       "      <th>4</th>\n",
       "      <td>1</td>\n",
       "      <td>3</td>\n",
       "      <td>4</td>\n",
       "      <td>1915</td>\n",
       "      <td>2110</td>\n",
       "      <td>378</td>\n",
       "      <td>115.0</td>\n",
       "      <td>688</td>\n",
       "      <td>0</td>\n",
       "      <td>0</td>\n",
       "      <td>1</td>\n",
       "    </tr>\n",
       "    <tr>\n",
       "      <th>...</th>\n",
       "      <td>...</td>\n",
       "      <td>...</td>\n",
       "      <td>...</td>\n",
       "      <td>...</td>\n",
       "      <td>...</td>\n",
       "      <td>...</td>\n",
       "      <td>...</td>\n",
       "      <td>...</td>\n",
       "      <td>...</td>\n",
       "      <td>...</td>\n",
       "      <td>...</td>\n",
       "    </tr>\n",
       "    <tr>\n",
       "      <th>1936753</th>\n",
       "      <td>12</td>\n",
       "      <td>13</td>\n",
       "      <td>6</td>\n",
       "      <td>1220</td>\n",
       "      <td>1552</td>\n",
       "      <td>1621</td>\n",
       "      <td>152.0</td>\n",
       "      <td>906</td>\n",
       "      <td>0</td>\n",
       "      <td>0</td>\n",
       "      <td>1</td>\n",
       "    </tr>\n",
       "    <tr>\n",
       "      <th>1936754</th>\n",
       "      <td>12</td>\n",
       "      <td>13</td>\n",
       "      <td>6</td>\n",
       "      <td>600</td>\n",
       "      <td>749</td>\n",
       "      <td>1631</td>\n",
       "      <td>109.0</td>\n",
       "      <td>481</td>\n",
       "      <td>0</td>\n",
       "      <td>0</td>\n",
       "      <td>1</td>\n",
       "    </tr>\n",
       "    <tr>\n",
       "      <th>1936755</th>\n",
       "      <td>12</td>\n",
       "      <td>13</td>\n",
       "      <td>6</td>\n",
       "      <td>847</td>\n",
       "      <td>1010</td>\n",
       "      <td>1631</td>\n",
       "      <td>143.0</td>\n",
       "      <td>689</td>\n",
       "      <td>0</td>\n",
       "      <td>0</td>\n",
       "      <td>1</td>\n",
       "    </tr>\n",
       "    <tr>\n",
       "      <th>1936756</th>\n",
       "      <td>12</td>\n",
       "      <td>13</td>\n",
       "      <td>6</td>\n",
       "      <td>1240</td>\n",
       "      <td>1437</td>\n",
       "      <td>1639</td>\n",
       "      <td>117.0</td>\n",
       "      <td>533</td>\n",
       "      <td>0</td>\n",
       "      <td>0</td>\n",
       "      <td>1</td>\n",
       "    </tr>\n",
       "    <tr>\n",
       "      <th>1936757</th>\n",
       "      <td>12</td>\n",
       "      <td>13</td>\n",
       "      <td>6</td>\n",
       "      <td>1103</td>\n",
       "      <td>1418</td>\n",
       "      <td>1641</td>\n",
       "      <td>135.0</td>\n",
       "      <td>874</td>\n",
       "      <td>0</td>\n",
       "      <td>0</td>\n",
       "      <td>0</td>\n",
       "    </tr>\n",
       "  </tbody>\n",
       "</table>\n",
       "<p>1936758 rows × 11 columns</p>\n",
       "</div>"
      ],
      "text/plain": [
       "         Month  DayofMonth  DayOfWeek  CRSDepTime  CRSArrTime  FlightNum  CRSElapsedTime  Distance  Cancelled  Diverted  Delayed\n",
       "0            1           3          4        1955        2225        335           150.0       810          0         0        0\n",
       "1            1           3          4         735        1000       3231           145.0       810          0         0        1\n",
       "2            1           3          4         620         750        448            90.0       515          0         0        1\n",
       "3            1           3          4        1755        1925       3920            90.0       515          0         0        1\n",
       "4            1           3          4        1915        2110        378           115.0       688          0         0        1\n",
       "...        ...         ...        ...         ...         ...        ...             ...       ...        ...       ...      ...\n",
       "1936753     12          13          6        1220        1552       1621           152.0       906          0         0        1\n",
       "1936754     12          13          6         600         749       1631           109.0       481          0         0        1\n",
       "1936755     12          13          6         847        1010       1631           143.0       689          0         0        1\n",
       "1936756     12          13          6        1240        1437       1639           117.0       533          0         0        1\n",
       "1936757     12          13          6        1103        1418       1641           135.0       874          0         0        0\n",
       "\n",
       "[1936758 rows x 11 columns]"
      ]
     },
     "execution_count": 239,
     "metadata": {},
     "output_type": "execute_result"
    }
   ],
   "source": [
    "df_1"
   ]
  },
  {
   "cell_type": "code",
   "execution_count": 240,
   "id": "19985e89",
   "metadata": {
    "ExecuteTime": {
     "end_time": "2021-06-08T16:25:53.124342Z",
     "start_time": "2021-06-08T16:25:52.920887Z"
    }
   },
   "outputs": [],
   "source": [
    "df_sample= df_1.sample(20000, random_state = 0)\n",
    "X = (df_sample.drop([forecast_col], 1))\n",
    "y = (df_sample[forecast_col])\n",
    "X = StandardScaler().fit_transform(X)\n",
    "\n",
    "X_train, X_test, y_train, y_test = train_test_split(X, y, test_size = 0.2, stratify = y)"
   ]
  },
  {
   "cell_type": "code",
   "execution_count": 241,
   "id": "af1339d8",
   "metadata": {
    "ExecuteTime": {
     "end_time": "2021-06-08T16:25:53.172214Z",
     "start_time": "2021-06-08T16:25:53.126337Z"
    }
   },
   "outputs": [
    {
     "data": {
      "text/plain": [
       "1    0.894176\n",
       "0    0.105824\n",
       "Name: Delayed, dtype: float64"
      ]
     },
     "execution_count": 241,
     "metadata": {},
     "output_type": "execute_result"
    }
   ],
   "source": [
    "df_1['Delayed'].value_counts(normalize=True)"
   ]
  },
  {
   "cell_type": "code",
   "execution_count": 242,
   "id": "0a382085",
   "metadata": {
    "ExecuteTime": {
     "end_time": "2021-06-08T16:25:53.188173Z",
     "start_time": "2021-06-08T16:25:53.174208Z"
    }
   },
   "outputs": [
    {
     "data": {
      "text/plain": [
       "1    0.898\n",
       "0    0.102\n",
       "Name: Delayed, dtype: float64"
      ]
     },
     "execution_count": 242,
     "metadata": {},
     "output_type": "execute_result"
    }
   ],
   "source": [
    "df_sample['Delayed'].value_counts(normalize=True)"
   ]
  },
  {
   "cell_type": "code",
   "execution_count": 243,
   "id": "013dec2b",
   "metadata": {
    "ExecuteTime": {
     "end_time": "2021-06-08T16:25:53.204127Z",
     "start_time": "2021-06-08T16:25:53.191164Z"
    }
   },
   "outputs": [
    {
     "data": {
      "text/plain": [
       "1    0.898\n",
       "0    0.102\n",
       "Name: Delayed, dtype: float64"
      ]
     },
     "execution_count": 243,
     "metadata": {},
     "output_type": "execute_result"
    }
   ],
   "source": [
    "y_train.value_counts(normalize=True)"
   ]
  },
  {
   "cell_type": "code",
   "execution_count": 244,
   "id": "655db0d1",
   "metadata": {
    "ExecuteTime": {
     "end_time": "2021-06-08T16:25:53.267960Z",
     "start_time": "2021-06-08T16:25:53.207123Z"
    }
   },
   "outputs": [
    {
     "name": "stdout",
     "output_type": "stream",
     "text": [
      "Before 1    14368\n",
      "0     1632\n",
      "Name: Delayed, dtype: int64\n",
      "After 0    14368\n",
      "1    14368\n",
      "Name: Delayed, dtype: int64\n"
     ]
    }
   ],
   "source": [
    "counter = y_train.value_counts()\n",
    "print('Before', counter)\n",
    "\n",
    "sm = SMOTE(random_state=27)\n",
    "X_train_sm, y_train_sm = sm.fit_resample(X_train, y_train)\n",
    "\n",
    "counter = y_train_sm.value_counts()\n",
    "print('After', counter)"
   ]
  },
  {
   "cell_type": "code",
   "execution_count": 245,
   "id": "bb38d5de",
   "metadata": {
    "ExecuteTime": {
     "end_time": "2021-06-08T16:25:53.299873Z",
     "start_time": "2021-06-08T16:25:53.269952Z"
    }
   },
   "outputs": [
    {
     "data": {
      "text/plain": [
       "0    0.5\n",
       "1    0.5\n",
       "Name: Delayed, dtype: float64"
      ]
     },
     "execution_count": 245,
     "metadata": {},
     "output_type": "execute_result"
    }
   ],
   "source": [
    "y_train_sm.value_counts(normalize=True)"
   ]
  },
  {
   "cell_type": "code",
   "execution_count": 246,
   "id": "5f3cf341",
   "metadata": {
    "ExecuteTime": {
     "end_time": "2021-06-08T16:25:53.331788Z",
     "start_time": "2021-06-08T16:25:53.308849Z"
    }
   },
   "outputs": [
    {
     "name": "stdout",
     "output_type": "stream",
     "text": [
      "Null accuracy is equal to: 0.898\n"
     ]
    }
   ],
   "source": [
    "print('Null accuracy is equal to:',max(y_test.mean(), 1 - y_test.mean()))"
   ]
  },
  {
   "cell_type": "markdown",
   "id": "d0134638",
   "metadata": {},
   "source": [
    "#### K-Fold i Cross_val_score amb smote"
   ]
  },
  {
   "cell_type": "code",
   "execution_count": 247,
   "id": "efac3aac",
   "metadata": {
    "ExecuteTime": {
     "end_time": "2021-06-08T16:25:53.348754Z",
     "start_time": "2021-06-08T16:25:53.335778Z"
    }
   },
   "outputs": [],
   "source": [
    "models = [('RForest', RandomForestClassifier()), \n",
    "          ('DecTree', DecisionTreeClassifier()),\n",
    "          ('XGBoost', xgb.XGBClassifier()),\n",
    "          ('KNN', KNeighborsClassifier()),\n",
    "          ('LogisticReg', LogisticRegression())]\n",
    "scoring = 'accuracy'"
   ]
  },
  {
   "cell_type": "code",
   "execution_count": 248,
   "id": "0200f62e",
   "metadata": {
    "ExecuteTime": {
     "end_time": "2021-06-08T16:28:06.333002Z",
     "start_time": "2021-06-08T16:25:53.355725Z"
    }
   },
   "outputs": [
    {
     "name": "stdout",
     "output_type": "stream",
     "text": [
      "RForest: 0.945713 (0.001786)\n",
      "DecTree: 0.874965 (0.006617)\n",
      "XGBoost: 0.927025 (0.003387)\n",
      "KNN: 0.838530 (0.005850)\n",
      "LogisticReg: 0.596186 (0.005984)\n"
     ]
    }
   ],
   "source": [
    "results = []\n",
    "names = []\n",
    "\n",
    "for name, model in models:\n",
    "    kfold = model_selection.KFold(n_splits=10, random_state=2, shuffle = True)\n",
    "    cv_results = model_selection.cross_val_score(model, X_train_sm, y_train_sm, cv=kfold, scoring=scoring)\n",
    "    results.append(cv_results)\n",
    "    names.append(name)\n",
    "    msg = \"%s: %f (%f)\" % (name, cv_results.mean(), cv_results.std())\n",
    "    print(msg)\n",
    "\n",
    "    "
   ]
  },
  {
   "cell_type": "code",
   "execution_count": 249,
   "id": "c185b493",
   "metadata": {
    "ExecuteTime": {
     "end_time": "2021-06-08T16:28:06.696039Z",
     "start_time": "2021-06-08T16:28:06.339982Z"
    }
   },
   "outputs": [
    {
     "data": {
      "image/png": "[encoded data removed]",
      "text/plain": [
       "<Figure size 432x288 with 1 Axes>"
      ]
     },
     "metadata": {
      "needs_background": "light"
     },
     "output_type": "display_data"
    }
   ],
   "source": [
    "fig = plt.figure()\n",
    "fig.suptitle('Algorithm Comparison')\n",
    "ax = fig.add_subplot(111)\n",
    "plt.boxplot(results)\n",
    "ax.set_xticklabels(names)\n",
    "plt.show()"
   ]
  },
  {
   "cell_type": "markdown",
   "id": "a194ca70",
   "metadata": {},
   "source": [
    "L'accuracy de les prediccions amb SMOTE ha augmentat molt però només perque el test estava molt desbalancejat. La null accuracy amb aquest test és de 89,8%, per tant encara que sembli que siguin molt bons models només estan una mica per sobre d'un 'dumb model'.  \n",
    "Examinem mètriques més avançades fent servir el train d'SMOTE amb random forest:"
   ]
  },
  {
   "cell_type": "markdown",
   "id": "830d9b5e",
   "metadata": {},
   "source": [
    "Random Forest amb SMOTE"
   ]
  },
  {
   "cell_type": "code",
   "execution_count": 250,
   "id": "8ec3d0c2",
   "metadata": {
    "ExecuteTime": {
     "end_time": "2021-06-08T16:28:06.710990Z",
     "start_time": "2021-06-08T16:28:06.702019Z"
    }
   },
   "outputs": [],
   "source": [
    "rf = RandomForestClassifier()"
   ]
  },
  {
   "cell_type": "code",
   "execution_count": 251,
   "id": "df845f03",
   "metadata": {
    "ExecuteTime": {
     "end_time": "2021-06-08T16:28:16.093601Z",
     "start_time": "2021-06-08T16:28:06.713985Z"
    }
   },
   "outputs": [
    {
     "data": {
      "text/plain": [
       "RandomForestClassifier()"
      ]
     },
     "execution_count": 251,
     "metadata": {},
     "output_type": "execute_result"
    }
   ],
   "source": [
    "rf.fit(X_train_sm, y_train_sm)"
   ]
  },
  {
   "cell_type": "code",
   "execution_count": 252,
   "id": "813ce88a",
   "metadata": {
    "ExecuteTime": {
     "end_time": "2021-06-08T16:28:16.362436Z",
     "start_time": "2021-06-08T16:28:16.093601Z"
    }
   },
   "outputs": [],
   "source": [
    "rf_pred = rf.predict(X_test)"
   ]
  },
  {
   "cell_type": "code",
   "execution_count": 253,
   "id": "5f764364",
   "metadata": {
    "ExecuteTime": {
     "end_time": "2021-06-08T16:28:16.600803Z",
     "start_time": "2021-06-08T16:28:16.371412Z"
    }
   },
   "outputs": [
    {
     "name": "stdout",
     "output_type": "stream",
     "text": [
      "0.87025\n"
     ]
    }
   ],
   "source": [
    "score_rf = rf.score(X_test, y_test)\n",
    "print(score_rf)"
   ]
  },
  {
   "cell_type": "code",
   "execution_count": 254,
   "id": "f1f8c3f2",
   "metadata": {
    "ExecuteTime": {
     "end_time": "2021-06-08T16:28:16.632713Z",
     "start_time": "2021-06-08T16:28:16.603791Z"
    }
   },
   "outputs": [
    {
     "name": "stdout",
     "output_type": "stream",
     "text": [
      "              precision    recall  f1-score   support\n",
      "\n",
      "           0       0.18      0.07      0.10       408\n",
      "           1       0.90      0.96      0.93      3592\n",
      "\n",
      "    accuracy                           0.87      4000\n",
      "   macro avg       0.54      0.52      0.52      4000\n",
      "weighted avg       0.83      0.87      0.85      4000\n",
      "\n"
     ]
    }
   ],
   "source": [
    "print(classification_report(y_test, rf_pred ))"
   ]
  },
  {
   "cell_type": "code",
   "execution_count": 255,
   "id": "f1a7f783",
   "metadata": {
    "ExecuteTime": {
     "end_time": "2021-06-08T16:28:16.648670Z",
     "start_time": "2021-06-08T16:28:16.635705Z"
    }
   },
   "outputs": [
    {
     "name": "stdout",
     "output_type": "stream",
     "text": [
      "[[  30  378]\n",
      " [ 141 3451]]\n"
     ]
    }
   ],
   "source": [
    "confusion = metrics.confusion_matrix(y_test, rf_pred)\n",
    "print(confusion)"
   ]
  },
  {
   "cell_type": "markdown",
   "id": "aa68f149",
   "metadata": {},
   "source": [
    "Com veiem l'algoritme té una accuracy molt alta perquè gairebé prediu totes les instàncies com a delayed. En canvi, el macro avg. de l'F1-score és de 0.5"
   ]
  },
  {
   "cell_type": "markdown",
   "id": "8b3ef267",
   "metadata": {},
   "source": [
    "### Extres: divisió dels enderreriments en 4 classes i PCA per KNN"
   ]
  },
  {
   "cell_type": "markdown",
   "id": "41fafa9e",
   "metadata": {},
   "source": [
    "#### KNN amb PCA"
   ]
  },
  {
   "cell_type": "code",
   "execution_count": 284,
   "id": "674e4106",
   "metadata": {
    "ExecuteTime": {
     "end_time": "2021-06-08T16:35:14.081052Z",
     "start_time": "2021-06-08T16:35:13.613567Z"
    }
   },
   "outputs": [],
   "source": [
    "df_sample= df_1.groupby('Delayed', group_keys=False).apply(lambda x: x.sample(10000, random_state = 0))\n",
    "X = np.array(df_sample.drop([forecast_col], 1))\n",
    "y = np.array(df_sample[forecast_col])\n",
    "X = StandardScaler().fit_transform(X)"
   ]
  },
  {
   "cell_type": "code",
   "execution_count": 285,
   "id": "1f2f307a",
   "metadata": {
    "ExecuteTime": {
     "end_time": "2021-06-08T16:35:19.366922Z",
     "start_time": "2021-06-08T16:35:19.298109Z"
    }
   },
   "outputs": [
    {
     "name": "stdout",
     "output_type": "stream",
     "text": [
      "La variància de cada un dels components seleccionats és: [0.22114008 0.16563452 0.10658578]\n",
      "La suma de la variància de tots els components seleccionats: 0.4933603750494106\n"
     ]
    }
   ],
   "source": [
    "# Fem el PCA:\n",
    "\n",
    "pca = PCA(n_components=3)\n",
    "X = pca.fit_transform(X)\n",
    "\n",
    "print('La variància de cada un dels components seleccionats és:',pca.explained_variance_ratio_) # Treiem els variance ratio del número de components seleccionats\n",
    "print('La suma de la variància de tots els components seleccionats:',pca.explained_variance_ratio_.sum()) # Sumem el variance ratio per veure quanta informació treiem amb el número de PCA"
   ]
  },
  {
   "cell_type": "code",
   "execution_count": 286,
   "id": "e5787194",
   "metadata": {
    "ExecuteTime": {
     "end_time": "2021-06-08T16:35:26.819319Z",
     "start_time": "2021-06-08T16:35:26.805359Z"
    }
   },
   "outputs": [],
   "source": [
    "X_train, X_test, y_train, y_test = train_test_split(X, y, test_size = 0.2, stratify = y)"
   ]
  },
  {
   "cell_type": "markdown",
   "id": "b3cd2e77",
   "metadata": {},
   "source": [
    "K-Nearest Neighbours"
   ]
  },
  {
   "cell_type": "code",
   "execution_count": 287,
   "id": "a43f327c",
   "metadata": {
    "ExecuteTime": {
     "end_time": "2021-06-08T16:35:28.078692Z",
     "start_time": "2021-06-08T16:35:28.060702Z"
    }
   },
   "outputs": [],
   "source": [
    "knn = KNeighborsClassifier()"
   ]
  },
  {
   "cell_type": "code",
   "execution_count": 288,
   "id": "edbdbe23",
   "metadata": {
    "ExecuteTime": {
     "end_time": "2021-06-08T16:35:28.990094Z",
     "start_time": "2021-06-08T16:35:28.945176Z"
    }
   },
   "outputs": [
    {
     "data": {
      "text/plain": [
       "KNeighborsClassifier()"
      ]
     },
     "execution_count": 288,
     "metadata": {},
     "output_type": "execute_result"
    }
   ],
   "source": [
    "knn.fit(X_train, y_train)"
   ]
  },
  {
   "cell_type": "code",
   "execution_count": 289,
   "id": "00fe52e3",
   "metadata": {
    "ExecuteTime": {
     "end_time": "2021-06-08T16:35:30.094381Z",
     "start_time": "2021-06-08T16:35:29.937767Z"
    }
   },
   "outputs": [],
   "source": [
    "knn_pred = knn.predict(X_test)"
   ]
  },
  {
   "cell_type": "code",
   "execution_count": 290,
   "id": "2387027e",
   "metadata": {
    "ExecuteTime": {
     "end_time": "2021-06-08T16:35:31.396412Z",
     "start_time": "2021-06-08T16:35:31.237839Z"
    }
   },
   "outputs": [
    {
     "name": "stdout",
     "output_type": "stream",
     "text": [
      "0.551\n"
     ]
    }
   ],
   "source": [
    "score_knn = knn.score(X_test, y_test)\n",
    "print(score_knn)"
   ]
  },
  {
   "cell_type": "code",
   "execution_count": 291,
   "id": "9ec3d757",
   "metadata": {
    "ExecuteTime": {
     "end_time": "2021-06-08T16:35:33.386894Z",
     "start_time": "2021-06-08T16:35:33.363952Z"
    }
   },
   "outputs": [
    {
     "name": "stdout",
     "output_type": "stream",
     "text": [
      "              precision    recall  f1-score   support\n",
      "\n",
      "           0       0.55      0.55      0.55      2000\n",
      "           1       0.55      0.55      0.55      2000\n",
      "\n",
      "    accuracy                           0.55      4000\n",
      "   macro avg       0.55      0.55      0.55      4000\n",
      "weighted avg       0.55      0.55      0.55      4000\n",
      "\n"
     ]
    }
   ],
   "source": [
    "print(classification_report(y_test, knn_pred ))"
   ]
  },
  {
   "cell_type": "markdown",
   "id": "f0b14f6c",
   "metadata": {},
   "source": [
    "#### Divisió de l'enderreriment en 4 classes"
   ]
  },
  {
   "cell_type": "code",
   "execution_count": 256,
   "id": "92511635",
   "metadata": {
    "ExecuteTime": {
     "end_time": "2021-06-08T16:28:25.147014Z",
     "start_time": "2021-06-08T16:28:16.650665Z"
    },
    "scrolled": true
   },
   "outputs": [],
   "source": [
    "df = pd.read_csv('DelayedFlights.csv')"
   ]
  },
  {
   "cell_type": "code",
   "execution_count": 257,
   "id": "ea7be2d5",
   "metadata": {
    "ExecuteTime": {
     "end_time": "2021-06-08T16:28:25.162964Z",
     "start_time": "2021-06-08T16:28:25.152990Z"
    }
   },
   "outputs": [],
   "source": [
    "df_1 = df"
   ]
  },
  {
   "cell_type": "code",
   "execution_count": 258,
   "id": "602b7c54",
   "metadata": {
    "ExecuteTime": {
     "end_time": "2021-06-08T16:28:25.464163Z",
     "start_time": "2021-06-08T16:28:25.166953Z"
    }
   },
   "outputs": [],
   "source": [
    "df_1.drop(['Unnamed: 0','UniqueCarrier','CancellationCode', 'Origin', 'Dest', 'TailNum', 'Year',\n",
    "           'DepDelay', 'ArrTime', 'DepTime', \n",
    "           'CarrierDelay', 'WeatherDelay','NASDelay', 'SecurityDelay', 'LateAircraftDelay', \n",
    "            'AirTime', 'TaxiIn','TaxiOut', 'ActualElapsedTime',], axis=1, inplace=True)\n"
   ]
  },
  {
   "cell_type": "code",
   "execution_count": 259,
   "id": "d69f8803",
   "metadata": {
    "ExecuteTime": {
     "end_time": "2021-06-08T16:28:25.893010Z",
     "start_time": "2021-06-08T16:28:25.473135Z"
    }
   },
   "outputs": [],
   "source": [
    "for i in df_1.columns:\n",
    "    df_1[i].fillna(df_1[i].median(), inplace = True)"
   ]
  },
  {
   "cell_type": "markdown",
   "id": "c8643e5d",
   "metadata": {},
   "source": [
    "Dividim els enderreriments en 4 classes (qcut = 4):"
   ]
  },
  {
   "cell_type": "code",
   "execution_count": 260,
   "id": "2ed70a1e",
   "metadata": {
    "ExecuteTime": {
     "end_time": "2021-06-08T16:28:26.226119Z",
     "start_time": "2021-06-08T16:28:25.898998Z"
    }
   },
   "outputs": [],
   "source": [
    "# Dividim les dades continues en 4 'cistelles' per agrupar-les en 4 grups, segons els quartiles:\n",
    "df_1['ArrDelay'] = pd.qcut(df_1['ArrDelay'], q=4)"
   ]
  },
  {
   "cell_type": "code",
   "execution_count": 261,
   "id": "688bf487",
   "metadata": {
    "ExecuteTime": {
     "end_time": "2021-06-08T16:28:26.288953Z",
     "start_time": "2021-06-08T16:28:26.232106Z"
    },
    "scrolled": true
   },
   "outputs": [
    {
     "data": {
      "text/plain": [
       "(-109.001, 9.0]    506623\n",
       "(55.0, 2461.0]     484049\n",
       "(24.0, 55.0]       478878\n",
       "(9.0, 24.0]        467208\n",
       "Name: ArrDelay, dtype: int64"
      ]
     },
     "execution_count": 261,
     "metadata": {},
     "output_type": "execute_result"
    }
   ],
   "source": [
    "# Veiem la divisio del pd.qcut. Tenim 4 bins\n",
    "df_1['ArrDelay'].value_counts()"
   ]
  },
  {
   "cell_type": "markdown",
   "id": "88bf63f8",
   "metadata": {},
   "source": [
    "El temps d'arrivada (enderreriment) queda dividit així en 4 grups o classes:  \n",
    "\n",
    "- Entre -109.001, i 9.0 min  \n",
    "- Entre 9.0 i 24.0 min       \n",
    "- Entre 24.0 i 55.0 min         \n",
    "- Entre 55.0, i 2461.0 min    \n",
    "\n"
   ]
  },
  {
   "cell_type": "code",
   "execution_count": 262,
   "id": "0e21542e",
   "metadata": {
    "ExecuteTime": {
     "end_time": "2021-06-08T16:28:31.214832Z",
     "start_time": "2021-06-08T16:28:26.294937Z"
    },
    "scrolled": true
   },
   "outputs": [
    {
     "data": {
      "text/html": [
       "<div>\n",
       "<style scoped>\n",
       "    .dataframe tbody tr th:only-of-type {\n",
       "        vertical-align: middle;\n",
       "    }\n",
       "\n",
       "    .dataframe tbody tr th {\n",
       "        vertical-align: top;\n",
       "    }\n",
       "\n",
       "    .dataframe thead th {\n",
       "        text-align: right;\n",
       "    }\n",
       "</style>\n",
       "<table border=\"1\" class=\"dataframe\">\n",
       "  <thead>\n",
       "    <tr style=\"text-align: right;\">\n",
       "      <th></th>\n",
       "      <th>Month</th>\n",
       "      <th>DayofMonth</th>\n",
       "      <th>DayOfWeek</th>\n",
       "      <th>CRSDepTime</th>\n",
       "      <th>CRSArrTime</th>\n",
       "      <th>FlightNum</th>\n",
       "      <th>CRSElapsedTime</th>\n",
       "      <th>ArrDelay</th>\n",
       "      <th>Distance</th>\n",
       "      <th>Cancelled</th>\n",
       "      <th>Diverted</th>\n",
       "    </tr>\n",
       "  </thead>\n",
       "  <tbody>\n",
       "    <tr>\n",
       "      <th>0</th>\n",
       "      <td>1</td>\n",
       "      <td>3</td>\n",
       "      <td>4</td>\n",
       "      <td>1955</td>\n",
       "      <td>2225</td>\n",
       "      <td>335</td>\n",
       "      <td>150.0</td>\n",
       "      <td>0</td>\n",
       "      <td>810</td>\n",
       "      <td>0</td>\n",
       "      <td>0</td>\n",
       "    </tr>\n",
       "    <tr>\n",
       "      <th>1</th>\n",
       "      <td>1</td>\n",
       "      <td>3</td>\n",
       "      <td>4</td>\n",
       "      <td>735</td>\n",
       "      <td>1000</td>\n",
       "      <td>3231</td>\n",
       "      <td>145.0</td>\n",
       "      <td>0</td>\n",
       "      <td>810</td>\n",
       "      <td>0</td>\n",
       "      <td>0</td>\n",
       "    </tr>\n",
       "    <tr>\n",
       "      <th>2</th>\n",
       "      <td>1</td>\n",
       "      <td>3</td>\n",
       "      <td>4</td>\n",
       "      <td>620</td>\n",
       "      <td>750</td>\n",
       "      <td>448</td>\n",
       "      <td>90.0</td>\n",
       "      <td>1</td>\n",
       "      <td>515</td>\n",
       "      <td>0</td>\n",
       "      <td>0</td>\n",
       "    </tr>\n",
       "    <tr>\n",
       "      <th>3</th>\n",
       "      <td>1</td>\n",
       "      <td>3</td>\n",
       "      <td>4</td>\n",
       "      <td>1755</td>\n",
       "      <td>1925</td>\n",
       "      <td>3920</td>\n",
       "      <td>90.0</td>\n",
       "      <td>2</td>\n",
       "      <td>515</td>\n",
       "      <td>0</td>\n",
       "      <td>0</td>\n",
       "    </tr>\n",
       "    <tr>\n",
       "      <th>4</th>\n",
       "      <td>1</td>\n",
       "      <td>3</td>\n",
       "      <td>4</td>\n",
       "      <td>1915</td>\n",
       "      <td>2110</td>\n",
       "      <td>378</td>\n",
       "      <td>115.0</td>\n",
       "      <td>1</td>\n",
       "      <td>688</td>\n",
       "      <td>0</td>\n",
       "      <td>0</td>\n",
       "    </tr>\n",
       "  </tbody>\n",
       "</table>\n",
       "</div>"
      ],
      "text/plain": [
       "   Month  DayofMonth  DayOfWeek  CRSDepTime  CRSArrTime  FlightNum  CRSElapsedTime  ArrDelay  Distance  Cancelled  Diverted\n",
       "0      1           3          4        1955        2225        335           150.0         0       810          0         0\n",
       "1      1           3          4         735        1000       3231           145.0         0       810          0         0\n",
       "2      1           3          4         620         750        448            90.0         1       515          0         0\n",
       "3      1           3          4        1755        1925       3920            90.0         2       515          0         0\n",
       "4      1           3          4        1915        2110        378           115.0         1       688          0         0"
      ]
     },
     "execution_count": 262,
     "metadata": {},
     "output_type": "execute_result"
    }
   ],
   "source": [
    "encoder = LabelEncoder()\n",
    "\n",
    "df_1['ArrDelay'] = encoder.fit_transform(df_1['ArrDelay'])\n",
    "\n",
    "df_1.head()"
   ]
  },
  {
   "cell_type": "code",
   "execution_count": 263,
   "id": "295362ee",
   "metadata": {
    "ExecuteTime": {
     "end_time": "2021-06-08T16:28:31.262702Z",
     "start_time": "2021-06-08T16:28:31.220786Z"
    }
   },
   "outputs": [
    {
     "data": {
      "text/plain": [
       "0    506623\n",
       "3    484049\n",
       "2    478878\n",
       "1    467208\n",
       "Name: ArrDelay, dtype: int64"
      ]
     },
     "execution_count": 263,
     "metadata": {},
     "output_type": "execute_result"
    }
   ],
   "source": [
    "df_1['ArrDelay'].value_counts()"
   ]
  },
  {
   "cell_type": "code",
   "execution_count": 264,
   "id": "e4fbbf55",
   "metadata": {
    "ExecuteTime": {
     "end_time": "2021-06-08T16:28:31.278660Z",
     "start_time": "2021-06-08T16:28:31.265660Z"
    }
   },
   "outputs": [],
   "source": [
    "forecast_col ='ArrDelay'"
   ]
  },
  {
   "cell_type": "code",
   "execution_count": 268,
   "id": "2dc1bf33",
   "metadata": {
    "ExecuteTime": {
     "end_time": "2021-06-08T16:31:29.532225Z",
     "start_time": "2021-06-08T16:31:29.076418Z"
    }
   },
   "outputs": [],
   "source": [
    "# Agafem una mostra més petita pel cost computacional:\n",
    "df_sample= df_1.groupby('ArrDelay', group_keys=False).apply(lambda x: x.sample(2500, random_state = 0))\n",
    "X = (df_sample.drop([forecast_col], 1))\n",
    "y = (df_sample[forecast_col])\n",
    "X = StandardScaler().fit_transform(X)\n",
    "X_train, X_test, y_train, y_test = train_test_split(X, y, test_size = 0.2, stratify = y)"
   ]
  },
  {
   "cell_type": "markdown",
   "id": "785fa579",
   "metadata": {},
   "source": [
    "#### K-Fold i Cross_val_score amb 4 classes"
   ]
  },
  {
   "cell_type": "code",
   "execution_count": 269,
   "id": "74915ce7",
   "metadata": {
    "ExecuteTime": {
     "end_time": "2021-06-08T16:31:31.769048Z",
     "start_time": "2021-06-08T16:31:31.762065Z"
    }
   },
   "outputs": [],
   "source": [
    "models = [('RForest', RandomForestClassifier()), \n",
    "          ('DecTree', DecisionTreeClassifier()),\n",
    "          ('XGBoost', xgb.XGBClassifier()),\n",
    "          ('KNN', KNeighborsClassifier()),\n",
    "          ('LogisticReg', LogisticRegression())]\n",
    "scoring = 'accuracy'"
   ]
  },
  {
   "cell_type": "code",
   "execution_count": 270,
   "id": "6a0a82ba",
   "metadata": {
    "ExecuteTime": {
     "end_time": "2021-06-08T16:32:22.494253Z",
     "start_time": "2021-06-08T16:31:33.542843Z"
    }
   },
   "outputs": [
    {
     "name": "stdout",
     "output_type": "stream",
     "text": [
      "RForest: 0.296375 (0.009802)\n",
      "DecTree: 0.261500 (0.010515)\n",
      "XGBoost: 0.300250 (0.013883)\n",
      "KNN: 0.272500 (0.013205)\n",
      "LogisticReg: 0.309500 (0.016184)\n"
     ]
    }
   ],
   "source": [
    "results = []\n",
    "names = []\n",
    "\n",
    "for name, model in models:\n",
    "    kfold = model_selection.KFold(n_splits=10, random_state=2, shuffle = True)\n",
    "    cv_results = model_selection.cross_val_score(model, X_train, y_train, cv=kfold, scoring=scoring)\n",
    "    results.append(cv_results)\n",
    "    names.append(name)\n",
    "    msg = \"%s: %f (%f)\" % (name, cv_results.mean(), cv_results.std())\n",
    "    print(msg)\n",
    "\n",
    "    "
   ]
  },
  {
   "cell_type": "code",
   "execution_count": 271,
   "id": "ea4414c2",
   "metadata": {
    "ExecuteTime": {
     "end_time": "2021-06-08T16:32:22.805421Z",
     "start_time": "2021-06-08T16:32:22.497246Z"
    }
   },
   "outputs": [
    {
     "data": {
      "image/png": "[encoded data removed]",
      "text/plain": [
       "<Figure size 432x288 with 1 Axes>"
      ]
     },
     "metadata": {
      "needs_background": "light"
     },
     "output_type": "display_data"
    }
   ],
   "source": [
    "fig = plt.figure()\n",
    "fig.suptitle('Algorithm Comparison')\n",
    "ax = fig.add_subplot(111)\n",
    "plt.boxplot(results)\n",
    "ax.set_xticklabels(names)\n",
    "plt.show()"
   ]
  },
  {
   "cell_type": "markdown",
   "id": "fa0655ec",
   "metadata": {},
   "source": [
    "Conclusions:\n",
    "- Hem aconseguit una accuracy del 0.62 amb upsampling i random forest tenint una null accuracy igual que la inicial (0.5).\n",
    "- Aquest no és un bon dataset per fer PCA ja que la seva variabilitat és dificil de captar amb pocs components.\n",
    "- Les prediccions amb 4 graus d'endarreriment encara es fan més complicades. Amb prou feines es supera un 30% d'accuracy (XGBoost 32%). "
   ]
  },
  {
   "cell_type": "markdown",
   "id": "9eb82c02",
   "metadata": {},
   "source": [
    "### Conclusions finals\n",
    "\n",
    "Creiem que l'espai més gran de millora de tots els models es troba en la creació de features. Per les circumstàncies del problema hem decidit que no tenia massa sentit intentar trobar-ne de nous quan des d'un principi podiem tenir uns models amb una performance gairebé perfecte en cas de no eliminar certes variables. D'altra banda aquesta selecció fa insuficient la capacitat predictiva dels models, ja que amb prou feines superen les d'un 'dumb model'. \n",
    "\n",
    "Hem trobat espais de millora més reduits en relació a l'hyperparameter tunning i la inclusió de les variables categòriques fent LabelEncoder. Caldria estudiar millor quines variables poden entrar i quines no, per trobar un entremig tal que els models no tinguin marge de millora, ni que les solucions no estiguin en els features."
   ]
  }
 ],
 "metadata": {
  "kernelspec": {
   "display_name": "Python 3",
   "language": "python",
   "name": "python3"
  },
  "language_info": {
   "codemirror_mode": {
    "name": "ipython",
    "version": 3
   },
   "file_extension": ".py",
   "mimetype": "text/x-python",
   "name": "python",
   "nbconvert_exporter": "python",
   "pygments_lexer": "ipython3",
   "version": "3.8.8"
  }
 },
 "nbformat": 4,
 "nbformat_minor": 5
}
